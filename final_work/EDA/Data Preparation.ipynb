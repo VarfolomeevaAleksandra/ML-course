{
 "cells": [
  {
   "cell_type": "code",
   "execution_count": 1,
   "id": "e82037bf-5242-4bff-af43-882082cf7068",
   "metadata": {},
   "outputs": [],
   "source": [
    "import pandas as pd\n",
    "import numpy as np\n",
    "import matplotlib.pyplot as plt\n",
    "import seaborn as sns\n",
    "import re\n",
    "import regex\n",
    "\n",
    "from googletrans import Translator\n",
    "from scipy import stats\n",
    "from matplotlib.ticker import FormatStrFormatter \n"
   ]
  },
  {
   "cell_type": "markdown",
   "id": "167fff4d-b8d4-46c5-a207-51826d72fca0",
   "metadata": {},
   "source": [
    "### Описание датасетов:\n"
   ]
  },
  {
   "cell_type": "markdown",
   "id": "e5281376-ff5b-4957-a9a0-ba823f1fe7ad",
   "metadata": {},
   "source": [
    "#### GA_SESSIONS:"
   ]
  },
  {
   "cell_type": "markdown",
   "id": "3815fb8f-bd07-4ba6-b8c7-29dbc87878b8",
   "metadata": {},
   "source": [
    "- `session_id` — ID визита;\n",
    "- `client_id` — ID посетителя;\n",
    "- `visit_date` — дата визита;\n",
    "- `visit_time` — время визита;\n",
    "- `visit_number` — порядковый номер визита клиента;\n",
    "- `utm_source` — канал привлечения;\n",
    "- `utm_medium` — тип привлечения;\n",
    "- `utm_campaign` — рекламная кампания;\n",
    "- `utm_keyword` — ключевое слово;\n",
    "- `device_category` — тип устройства;\n",
    "- `device_os` — ОС устройства;\n",
    "- `device_brand` — марка устройства;\n",
    "- `device_model` — модель устройства;\n",
    "- `device_screen_resolution` — разрешение экрана;\n",
    "- `device_browser` — браузер;\n",
    "- `geo_country` — страна;\n",
    "- `geo_city` — город."
   ]
  },
  {
   "cell_type": "code",
   "execution_count": 2,
   "id": "e4a46183-99ea-4637-a5a0-c580c7569fcc",
   "metadata": {},
   "outputs": [
    {
     "name": "stderr",
     "output_type": "stream",
     "text": [
      "C:\\Users\\Alexandra\\AppData\\Local\\Temp\\ipykernel_31076\\3224650830.py:1: DtypeWarning: Columns (1) have mixed types. Specify dtype option on import or set low_memory=False.\n",
      "  df_sessions=pd.read_csv(\"data/ga_sessions.csv\")\n"
     ]
    },
    {
     "data": {
      "text/html": [
       "<div>\n",
       "<style scoped>\n",
       "    .dataframe tbody tr th:only-of-type {\n",
       "        vertical-align: middle;\n",
       "    }\n",
       "\n",
       "    .dataframe tbody tr th {\n",
       "        vertical-align: top;\n",
       "    }\n",
       "\n",
       "    .dataframe thead th {\n",
       "        text-align: right;\n",
       "    }\n",
       "</style>\n",
       "<table border=\"1\" class=\"dataframe\">\n",
       "  <thead>\n",
       "    <tr style=\"text-align: right;\">\n",
       "      <th></th>\n",
       "      <th>session_id</th>\n",
       "      <th>client_id</th>\n",
       "      <th>visit_date</th>\n",
       "      <th>visit_time</th>\n",
       "      <th>visit_number</th>\n",
       "      <th>utm_source</th>\n",
       "      <th>utm_medium</th>\n",
       "      <th>utm_campaign</th>\n",
       "      <th>utm_adcontent</th>\n",
       "      <th>utm_keyword</th>\n",
       "      <th>device_category</th>\n",
       "      <th>device_os</th>\n",
       "      <th>device_brand</th>\n",
       "      <th>device_model</th>\n",
       "      <th>device_screen_resolution</th>\n",
       "      <th>device_browser</th>\n",
       "      <th>geo_country</th>\n",
       "      <th>geo_city</th>\n",
       "    </tr>\n",
       "  </thead>\n",
       "  <tbody>\n",
       "    <tr>\n",
       "      <th>0</th>\n",
       "      <td>9055434745589932991.1637753792.1637753792</td>\n",
       "      <td>2108382700.163776</td>\n",
       "      <td>2021-11-24</td>\n",
       "      <td>14:36:32</td>\n",
       "      <td>1</td>\n",
       "      <td>ZpYIoDJMcFzVoPFsHGJL</td>\n",
       "      <td>banner</td>\n",
       "      <td>LEoPHuyFvzoNfnzGgfcd</td>\n",
       "      <td>vCIpmpaGBnIQhyYNkXqp</td>\n",
       "      <td>puhZPIYqKXeFPaUviSjo</td>\n",
       "      <td>mobile</td>\n",
       "      <td>Android</td>\n",
       "      <td>Huawei</td>\n",
       "      <td>NaN</td>\n",
       "      <td>360x720</td>\n",
       "      <td>Chrome</td>\n",
       "      <td>Russia</td>\n",
       "      <td>Zlatoust</td>\n",
       "    </tr>\n",
       "    <tr>\n",
       "      <th>1</th>\n",
       "      <td>905544597018549464.1636867290.1636867290</td>\n",
       "      <td>210838531.163687</td>\n",
       "      <td>2021-11-14</td>\n",
       "      <td>08:21:30</td>\n",
       "      <td>1</td>\n",
       "      <td>MvfHsxITijuriZxsqZqt</td>\n",
       "      <td>cpm</td>\n",
       "      <td>FTjNLDyTrXaWYgZymFkV</td>\n",
       "      <td>xhoenQgDQsgfEPYNPwKO</td>\n",
       "      <td>IGUCNvHlhfHpROGclCit</td>\n",
       "      <td>mobile</td>\n",
       "      <td>Android</td>\n",
       "      <td>Samsung</td>\n",
       "      <td>NaN</td>\n",
       "      <td>385x854</td>\n",
       "      <td>Samsung Internet</td>\n",
       "      <td>Russia</td>\n",
       "      <td>Moscow</td>\n",
       "    </tr>\n",
       "    <tr>\n",
       "      <th>2</th>\n",
       "      <td>9055446045651783499.1640648526.1640648526</td>\n",
       "      <td>2108385331.164065</td>\n",
       "      <td>2021-12-28</td>\n",
       "      <td>02:42:06</td>\n",
       "      <td>1</td>\n",
       "      <td>ZpYIoDJMcFzVoPFsHGJL</td>\n",
       "      <td>banner</td>\n",
       "      <td>LEoPHuyFvzoNfnzGgfcd</td>\n",
       "      <td>vCIpmpaGBnIQhyYNkXqp</td>\n",
       "      <td>puhZPIYqKXeFPaUviSjo</td>\n",
       "      <td>mobile</td>\n",
       "      <td>Android</td>\n",
       "      <td>Huawei</td>\n",
       "      <td>NaN</td>\n",
       "      <td>360x720</td>\n",
       "      <td>Chrome</td>\n",
       "      <td>Russia</td>\n",
       "      <td>Krasnoyarsk</td>\n",
       "    </tr>\n",
       "    <tr>\n",
       "      <th>3</th>\n",
       "      <td>9055447046360770272.1622255328.1622255328</td>\n",
       "      <td>2108385564.162225</td>\n",
       "      <td>2021-05-29</td>\n",
       "      <td>05:00:00</td>\n",
       "      <td>1</td>\n",
       "      <td>kjsLglQLzykiRbcDiGcD</td>\n",
       "      <td>cpc</td>\n",
       "      <td>NaN</td>\n",
       "      <td>NOBKLgtuvqYWkXQHeYWM</td>\n",
       "      <td>NaN</td>\n",
       "      <td>mobile</td>\n",
       "      <td>NaN</td>\n",
       "      <td>Xiaomi</td>\n",
       "      <td>NaN</td>\n",
       "      <td>393x786</td>\n",
       "      <td>Chrome</td>\n",
       "      <td>Russia</td>\n",
       "      <td>Moscow</td>\n",
       "    </tr>\n",
       "    <tr>\n",
       "      <th>4</th>\n",
       "      <td>9055447046360770272.1622255345.1622255345</td>\n",
       "      <td>2108385564.162225</td>\n",
       "      <td>2021-05-29</td>\n",
       "      <td>05:00:00</td>\n",
       "      <td>2</td>\n",
       "      <td>kjsLglQLzykiRbcDiGcD</td>\n",
       "      <td>cpc</td>\n",
       "      <td>NaN</td>\n",
       "      <td>NaN</td>\n",
       "      <td>NaN</td>\n",
       "      <td>mobile</td>\n",
       "      <td>NaN</td>\n",
       "      <td>Xiaomi</td>\n",
       "      <td>NaN</td>\n",
       "      <td>393x786</td>\n",
       "      <td>Chrome</td>\n",
       "      <td>Russia</td>\n",
       "      <td>Moscow</td>\n",
       "    </tr>\n",
       "  </tbody>\n",
       "</table>\n",
       "</div>"
      ],
      "text/plain": [
       "                                  session_id          client_id  visit_date  \\\n",
       "0  9055434745589932991.1637753792.1637753792  2108382700.163776  2021-11-24   \n",
       "1   905544597018549464.1636867290.1636867290   210838531.163687  2021-11-14   \n",
       "2  9055446045651783499.1640648526.1640648526  2108385331.164065  2021-12-28   \n",
       "3  9055447046360770272.1622255328.1622255328  2108385564.162225  2021-05-29   \n",
       "4  9055447046360770272.1622255345.1622255345  2108385564.162225  2021-05-29   \n",
       "\n",
       "  visit_time  visit_number            utm_source utm_medium  \\\n",
       "0   14:36:32             1  ZpYIoDJMcFzVoPFsHGJL     banner   \n",
       "1   08:21:30             1  MvfHsxITijuriZxsqZqt        cpm   \n",
       "2   02:42:06             1  ZpYIoDJMcFzVoPFsHGJL     banner   \n",
       "3   05:00:00             1  kjsLglQLzykiRbcDiGcD        cpc   \n",
       "4   05:00:00             2  kjsLglQLzykiRbcDiGcD        cpc   \n",
       "\n",
       "           utm_campaign         utm_adcontent           utm_keyword  \\\n",
       "0  LEoPHuyFvzoNfnzGgfcd  vCIpmpaGBnIQhyYNkXqp  puhZPIYqKXeFPaUviSjo   \n",
       "1  FTjNLDyTrXaWYgZymFkV  xhoenQgDQsgfEPYNPwKO  IGUCNvHlhfHpROGclCit   \n",
       "2  LEoPHuyFvzoNfnzGgfcd  vCIpmpaGBnIQhyYNkXqp  puhZPIYqKXeFPaUviSjo   \n",
       "3                   NaN  NOBKLgtuvqYWkXQHeYWM                   NaN   \n",
       "4                   NaN                   NaN                   NaN   \n",
       "\n",
       "  device_category device_os device_brand device_model  \\\n",
       "0          mobile   Android       Huawei          NaN   \n",
       "1          mobile   Android      Samsung          NaN   \n",
       "2          mobile   Android       Huawei          NaN   \n",
       "3          mobile       NaN       Xiaomi          NaN   \n",
       "4          mobile       NaN       Xiaomi          NaN   \n",
       "\n",
       "  device_screen_resolution    device_browser geo_country     geo_city  \n",
       "0                  360x720            Chrome      Russia     Zlatoust  \n",
       "1                  385x854  Samsung Internet      Russia       Moscow  \n",
       "2                  360x720            Chrome      Russia  Krasnoyarsk  \n",
       "3                  393x786            Chrome      Russia       Moscow  \n",
       "4                  393x786            Chrome      Russia       Moscow  "
      ]
     },
     "execution_count": 2,
     "metadata": {},
     "output_type": "execute_result"
    }
   ],
   "source": [
    "df_sessions=pd.read_csv(\"data/ga_sessions.csv\")\n",
    "df_sessions.head()"
   ]
  },
  {
   "cell_type": "markdown",
   "id": "6496b0b8-c641-42c0-a8eb-c4f259913d33",
   "metadata": {},
   "source": [
    "#### GA_HITS:"
   ]
  },
  {
   "cell_type": "markdown",
   "id": "e54ffac4-049a-4510-b5f2-36381488534f",
   "metadata": {},
   "source": [
    "- `session_id` — ID визита;\n",
    "- `hit_date` — дата события;\n",
    "- `hit_time` — время события;\n",
    "- `hit_number` — порядковый номер события в рамках сессии;\n",
    "- `hit_type` — тип события;\n",
    "- `hit_referer` — источник события;\n",
    "- `hit_page_path` — страница события;\n",
    "- `event_category` — тип действия;\n",
    "- `event_action` — действие;\n",
    "- `event_label` — тег действия;\n",
    "- `event_value` — значение результата действия."
   ]
  },
  {
   "cell_type": "code",
   "execution_count": 3,
   "id": "fb0ee9ea-e5d8-4124-826e-7956fa8584f7",
   "metadata": {},
   "outputs": [
    {
     "data": {
      "text/html": [
       "<div>\n",
       "<style scoped>\n",
       "    .dataframe tbody tr th:only-of-type {\n",
       "        vertical-align: middle;\n",
       "    }\n",
       "\n",
       "    .dataframe tbody tr th {\n",
       "        vertical-align: top;\n",
       "    }\n",
       "\n",
       "    .dataframe thead th {\n",
       "        text-align: right;\n",
       "    }\n",
       "</style>\n",
       "<table border=\"1\" class=\"dataframe\">\n",
       "  <thead>\n",
       "    <tr style=\"text-align: right;\">\n",
       "      <th></th>\n",
       "      <th>session_id</th>\n",
       "      <th>hit_date</th>\n",
       "      <th>hit_time</th>\n",
       "      <th>hit_number</th>\n",
       "      <th>hit_type</th>\n",
       "      <th>hit_referer</th>\n",
       "      <th>hit_page_path</th>\n",
       "      <th>event_category</th>\n",
       "      <th>event_action</th>\n",
       "      <th>event_label</th>\n",
       "      <th>event_value</th>\n",
       "    </tr>\n",
       "  </thead>\n",
       "  <tbody>\n",
       "    <tr>\n",
       "      <th>0</th>\n",
       "      <td>5639623078712724064.1640254056.1640254056</td>\n",
       "      <td>2021-12-23</td>\n",
       "      <td>597864.0</td>\n",
       "      <td>30</td>\n",
       "      <td>event</td>\n",
       "      <td>NaN</td>\n",
       "      <td>sberauto.com/cars?utm_source_initial=google&amp;ut...</td>\n",
       "      <td>quiz</td>\n",
       "      <td>quiz_show</td>\n",
       "      <td>NaN</td>\n",
       "      <td>NaN</td>\n",
       "    </tr>\n",
       "    <tr>\n",
       "      <th>1</th>\n",
       "      <td>7750352294969115059.1640271109.1640271109</td>\n",
       "      <td>2021-12-23</td>\n",
       "      <td>597331.0</td>\n",
       "      <td>41</td>\n",
       "      <td>event</td>\n",
       "      <td>NaN</td>\n",
       "      <td>sberauto.com/cars/fiat?city=1&amp;city=18&amp;rental_c...</td>\n",
       "      <td>quiz</td>\n",
       "      <td>quiz_show</td>\n",
       "      <td>NaN</td>\n",
       "      <td>NaN</td>\n",
       "    </tr>\n",
       "    <tr>\n",
       "      <th>2</th>\n",
       "      <td>885342191847998240.1640235807.1640235807</td>\n",
       "      <td>2021-12-23</td>\n",
       "      <td>796252.0</td>\n",
       "      <td>49</td>\n",
       "      <td>event</td>\n",
       "      <td>NaN</td>\n",
       "      <td>sberauto.com/cars/all/volkswagen/polo/e994838f...</td>\n",
       "      <td>quiz</td>\n",
       "      <td>quiz_show</td>\n",
       "      <td>NaN</td>\n",
       "      <td>NaN</td>\n",
       "    </tr>\n",
       "    <tr>\n",
       "      <th>3</th>\n",
       "      <td>142526202120934167.1640211014.1640211014</td>\n",
       "      <td>2021-12-23</td>\n",
       "      <td>934292.0</td>\n",
       "      <td>46</td>\n",
       "      <td>event</td>\n",
       "      <td>NaN</td>\n",
       "      <td>sberauto.com/cars?utm_source_initial=yandex&amp;ut...</td>\n",
       "      <td>quiz</td>\n",
       "      <td>quiz_show</td>\n",
       "      <td>NaN</td>\n",
       "      <td>NaN</td>\n",
       "    </tr>\n",
       "    <tr>\n",
       "      <th>4</th>\n",
       "      <td>3450086108837475701.1640265078.1640265078</td>\n",
       "      <td>2021-12-23</td>\n",
       "      <td>768741.0</td>\n",
       "      <td>79</td>\n",
       "      <td>event</td>\n",
       "      <td>NaN</td>\n",
       "      <td>sberauto.com/cars/all/mercedes-benz/cla-klasse...</td>\n",
       "      <td>quiz</td>\n",
       "      <td>quiz_show</td>\n",
       "      <td>NaN</td>\n",
       "      <td>NaN</td>\n",
       "    </tr>\n",
       "  </tbody>\n",
       "</table>\n",
       "</div>"
      ],
      "text/plain": [
       "                                  session_id    hit_date  hit_time  \\\n",
       "0  5639623078712724064.1640254056.1640254056  2021-12-23  597864.0   \n",
       "1  7750352294969115059.1640271109.1640271109  2021-12-23  597331.0   \n",
       "2   885342191847998240.1640235807.1640235807  2021-12-23  796252.0   \n",
       "3   142526202120934167.1640211014.1640211014  2021-12-23  934292.0   \n",
       "4  3450086108837475701.1640265078.1640265078  2021-12-23  768741.0   \n",
       "\n",
       "   hit_number hit_type hit_referer  \\\n",
       "0          30    event         NaN   \n",
       "1          41    event         NaN   \n",
       "2          49    event         NaN   \n",
       "3          46    event         NaN   \n",
       "4          79    event         NaN   \n",
       "\n",
       "                                       hit_page_path event_category  \\\n",
       "0  sberauto.com/cars?utm_source_initial=google&ut...           quiz   \n",
       "1  sberauto.com/cars/fiat?city=1&city=18&rental_c...           quiz   \n",
       "2  sberauto.com/cars/all/volkswagen/polo/e994838f...           quiz   \n",
       "3  sberauto.com/cars?utm_source_initial=yandex&ut...           quiz   \n",
       "4  sberauto.com/cars/all/mercedes-benz/cla-klasse...           quiz   \n",
       "\n",
       "  event_action event_label  event_value  \n",
       "0    quiz_show         NaN          NaN  \n",
       "1    quiz_show         NaN          NaN  \n",
       "2    quiz_show         NaN          NaN  \n",
       "3    quiz_show         NaN          NaN  \n",
       "4    quiz_show         NaN          NaN  "
      ]
     },
     "execution_count": 3,
     "metadata": {},
     "output_type": "execute_result"
    }
   ],
   "source": [
    "df_hits=pd.read_csv(\"data/ga_hits-001.csv\")\n",
    "df_hits.head()"
   ]
  },
  {
   "cell_type": "markdown",
   "id": "f81dfd15-3ef0-48d9-9cba-68a295644b4e",
   "metadata": {},
   "source": [
    "Целевая переменная"
   ]
  },
  {
   "cell_type": "code",
   "execution_count": 4,
   "id": "a60cbd9f-fe9d-443c-8921-ba49284b2613",
   "metadata": {},
   "outputs": [],
   "source": [
    "target_actions = [\n",
    "    'sub_car_claim_click',\n",
    "    'sub_car_claim_submit_click',\n",
    "    'sub_open_dialog_click',\n",
    "    'sub_custom_question_submit_click',\n",
    "    'sub_call_number_click',\n",
    "    'sub_callback_submit_click',\n",
    "    'sub_submit_success',\n",
    "    'sub_car_request_submit_click'\n",
    "]\n",
    "\n",
    "df_hits[\"event_value\"] = df_hits[\"event_action\"].isin(target_actions).astype(int)"
   ]
  },
  {
   "cell_type": "code",
   "execution_count": 5,
   "id": "cb7207b6-4ebf-49d2-b238-94023b2b5f7f",
   "metadata": {},
   "outputs": [],
   "source": [
    "target = df_hits.groupby(\"session_id\")[\"event_value\"].max().reset_index()\n",
    "df_sessions = df_sessions.merge(target, on=\"session_id\", how=\"left\").fillna({\"event_value\": 0})"
   ]
  },
  {
   "cell_type": "markdown",
   "id": "996fdc24-795c-457f-a466-3b41e1b86b11",
   "metadata": {},
   "source": [
    "Признаки из ga_hits"
   ]
  },
  {
   "cell_type": "code",
   "execution_count": 6,
   "id": "5ea76aac-6c6e-48f2-b40d-4c4e768dfac3",
   "metadata": {},
   "outputs": [],
   "source": [
    "#Марка и модель автомобиля\n",
    "df_sessions[['auto_brand', 'auto_model']] = df_hits['hit_page_path'].str.extract(r'sberauto\\.com/cars/all/(\\w+)/(\\w+)/')"
   ]
  },
  {
   "cell_type": "markdown",
   "id": "a903034b-3003-4cf8-8f87-dc7dbcfb62f4",
   "metadata": {},
   "source": [
    "# Data Preparation"
   ]
  },
  {
   "cell_type": "markdown",
   "id": "81ca7a3a-396e-4bfb-b7c2-c74df0aa3038",
   "metadata": {},
   "source": [
    "Приведение типов"
   ]
  },
  {
   "cell_type": "code",
   "execution_count": 7,
   "id": "a5888a7b-8d8b-4ea0-abcf-b353a6ab8422",
   "metadata": {},
   "outputs": [],
   "source": [
    "df_sessions[\"visit_date\"] = pd.to_datetime(\n",
    "    df_sessions[\"visit_date\"], format=\"%Y-%m-%d\"\n",
    ")\n",
    "df_sessions['visit_time'] = pd.to_datetime(\n",
    "    df_sessions['visit_time'], format=\"%H:%M:%S\"\n",
    ")"
   ]
  },
  {
   "cell_type": "code",
   "execution_count": 8,
   "id": "593dc484-02b5-4bca-bcb3-188d775879bb",
   "metadata": {},
   "outputs": [],
   "source": [
    "#Замена (not set) на NaN\n",
    "df_sessions.replace([\"(not set)\"], np.nan, inplace=True)"
   ]
  },
  {
   "cell_type": "markdown",
   "id": "2dda1bc0-ecb6-4195-a604-d9cacad1e54d",
   "metadata": {},
   "source": [
    "## Data Cleaning\n"
   ]
  },
  {
   "cell_type": "code",
   "execution_count": 9,
   "id": "698d5340-fa1d-4cd4-a175-63a1dbf83467",
   "metadata": {},
   "outputs": [
    {
     "name": "stdout",
     "output_type": "stream",
     "text": [
      "<class 'pandas.core.frame.DataFrame'>\n",
      "RangeIndex: 1860042 entries, 0 to 1860041\n",
      "Data columns (total 21 columns):\n",
      " #   Column                    Non-Null Count    Dtype         \n",
      "---  ------                    --------------    -----         \n",
      " 0   session_id                1860042 non-null  object        \n",
      " 1   client_id                 1860042 non-null  object        \n",
      " 2   visit_date                1860042 non-null  datetime64[ns]\n",
      " 3   visit_time                1860042 non-null  datetime64[ns]\n",
      " 4   visit_number              1860042 non-null  int64         \n",
      " 5   utm_source                1859945 non-null  object        \n",
      " 6   utm_medium                1859562 non-null  object        \n",
      " 7   utm_campaign              1640439 non-null  object        \n",
      " 8   utm_adcontent             1524427 non-null  object        \n",
      " 9   utm_keyword               777981 non-null   object        \n",
      " 10  device_category           1860042 non-null  object        \n",
      " 11  device_os                 789540 non-null   object        \n",
      " 12  device_brand              1475319 non-null  object        \n",
      " 13  device_model              16338 non-null    object        \n",
      " 14  device_screen_resolution  1860034 non-null  object        \n",
      " 15  device_browser            1860025 non-null  object        \n",
      " 16  geo_country               1858896 non-null  object        \n",
      " 17  geo_city                  1781870 non-null  object        \n",
      " 18  event_value               1860042 non-null  float64       \n",
      " 19  auto_brand                522672 non-null   object        \n",
      " 20  auto_model                522672 non-null   object        \n",
      "dtypes: datetime64[ns](2), float64(1), int64(1), object(17)\n",
      "memory usage: 298.0+ MB\n"
     ]
    }
   ],
   "source": [
    "df_sessions.info(show_counts=True)"
   ]
  },
  {
   "cell_type": "code",
   "execution_count": 10,
   "id": "e344483c-e847-41b6-9699-e2e15482f963",
   "metadata": {},
   "outputs": [
    {
     "data": {
      "text/html": [
       "<div>\n",
       "<style scoped>\n",
       "    .dataframe tbody tr th:only-of-type {\n",
       "        vertical-align: middle;\n",
       "    }\n",
       "\n",
       "    .dataframe tbody tr th {\n",
       "        vertical-align: top;\n",
       "    }\n",
       "\n",
       "    .dataframe thead th {\n",
       "        text-align: right;\n",
       "    }\n",
       "</style>\n",
       "<table border=\"1\" class=\"dataframe\">\n",
       "  <thead>\n",
       "    <tr style=\"text-align: right;\">\n",
       "      <th></th>\n",
       "      <th>session_id</th>\n",
       "      <th>client_id</th>\n",
       "      <th>visit_date</th>\n",
       "      <th>visit_time</th>\n",
       "      <th>visit_number</th>\n",
       "      <th>utm_source</th>\n",
       "      <th>utm_medium</th>\n",
       "      <th>utm_campaign</th>\n",
       "      <th>utm_adcontent</th>\n",
       "      <th>utm_keyword</th>\n",
       "      <th>...</th>\n",
       "      <th>device_os</th>\n",
       "      <th>device_brand</th>\n",
       "      <th>device_model</th>\n",
       "      <th>device_screen_resolution</th>\n",
       "      <th>device_browser</th>\n",
       "      <th>geo_country</th>\n",
       "      <th>geo_city</th>\n",
       "      <th>event_value</th>\n",
       "      <th>auto_brand</th>\n",
       "      <th>auto_model</th>\n",
       "    </tr>\n",
       "  </thead>\n",
       "  <tbody>\n",
       "  </tbody>\n",
       "</table>\n",
       "<p>0 rows × 21 columns</p>\n",
       "</div>"
      ],
      "text/plain": [
       "Empty DataFrame\n",
       "Columns: [session_id, client_id, visit_date, visit_time, visit_number, utm_source, utm_medium, utm_campaign, utm_adcontent, utm_keyword, device_category, device_os, device_brand, device_model, device_screen_resolution, device_browser, geo_country, geo_city, event_value, auto_brand, auto_model]\n",
       "Index: []\n",
       "\n",
       "[0 rows x 21 columns]"
      ]
     },
     "execution_count": 10,
     "metadata": {},
     "output_type": "execute_result"
    }
   ],
   "source": [
    "duplicates = df_sessions[df_sessions.duplicated()]\n",
    "duplicates"
   ]
  },
  {
   "cell_type": "code",
   "execution_count": 11,
   "id": "4cc85b8a-1253-4c42-a9d5-1f183401b2d5",
   "metadata": {},
   "outputs": [],
   "source": [
    "def print_useful_rows_info(df): \n",
    "   print('Количество полностью заполненных объектов из всей выборки:' , len(df.dropna()))\n",
    "   print('Процент полностью заполненных объектов из всей выборки:', round(len(df.dropna()) / len(df) * 100, 2))"
   ]
  },
  {
   "cell_type": "code",
   "execution_count": 12,
   "id": "710b29a1-ce83-4e22-8d92-ee8787abfac0",
   "metadata": {},
   "outputs": [
    {
     "name": "stdout",
     "output_type": "stream",
     "text": [
      "Количество полностью заполненных объектов из всей выборки: 1663\n",
      "Процент полностью заполненных объектов из всей выборки: 0.09\n"
     ]
    }
   ],
   "source": [
    "print_useful_rows_info(df_sessions)"
   ]
  },
  {
   "cell_type": "code",
   "execution_count": 13,
   "id": "ed45e477-13d0-48ab-9eaf-a73473d9c6f3",
   "metadata": {},
   "outputs": [
    {
     "name": "stdout",
     "output_type": "stream",
     "text": [
      "Процент пропущенных значений:\n"
     ]
    },
    {
     "data": {
      "text/plain": [
       "device_model                99.121633\n",
       "auto_model                  71.899989\n",
       "auto_brand                  71.899989\n",
       "utm_keyword                 58.174009\n",
       "device_os                   57.552571\n",
       "device_brand                20.683565\n",
       "utm_adcontent               18.043410\n",
       "utm_campaign                11.806346\n",
       "geo_city                     4.202701\n",
       "geo_country                  0.061612\n",
       "utm_medium                   0.025806\n",
       "utm_source                   0.005215\n",
       "device_browser               0.000914\n",
       "device_screen_resolution     0.000430\n",
       "event_value                  0.000000\n",
       "session_id                   0.000000\n",
       "client_id                    0.000000\n",
       "visit_number                 0.000000\n",
       "visit_time                   0.000000\n",
       "visit_date                   0.000000\n",
       "device_category              0.000000\n",
       "dtype: float64"
      ]
     },
     "execution_count": 13,
     "metadata": {},
     "output_type": "execute_result"
    }
   ],
   "source": [
    "missing_values = (df_sessions.isna().sum()/len(df_sessions)*100).sort_values(ascending=False)\n",
    "print('Процент пропущенных значений:')\n",
    "missing_values"
   ]
  },
  {
   "cell_type": "markdown",
   "id": "e2f2a7eb-9dd1-4dbf-9c12-2c5a5aef0b2e",
   "metadata": {},
   "source": [
    "### Заполнение пропусков"
   ]
  },
  {
   "cell_type": "markdown",
   "id": "7fb7f044-9bf5-4209-b1e7-b20cb9655539",
   "metadata": {},
   "source": [
    "Обработка пропусков device_model"
   ]
  },
  {
   "cell_type": "code",
   "execution_count": 14,
   "id": "813482ec-0b4f-42dd-ac06-cf0f02f0756b",
   "metadata": {},
   "outputs": [
    {
     "data": {
      "text/plain": [
       "104"
      ]
     },
     "execution_count": 14,
     "metadata": {},
     "output_type": "execute_result"
    }
   ],
   "source": [
    "#Количество уникальных значений\n",
    "df_sessions.device_model.nunique()"
   ]
  },
  {
   "cell_type": "code",
   "execution_count": 15,
   "id": "657f8ccd-e53f-499e-904e-8a9769cce94d",
   "metadata": {},
   "outputs": [
    {
     "data": {
      "text/plain": [
       "1843704"
      ]
     },
     "execution_count": 15,
     "metadata": {},
     "output_type": "execute_result"
    }
   ],
   "source": [
    "#Количество пропусков\n",
    "df_sessions.device_model.isna().sum()"
   ]
  },
  {
   "cell_type": "code",
   "execution_count": 16,
   "id": "18f96867-48e7-439c-af58-da9c9ebe48f2",
   "metadata": {
    "scrolled": true
   },
   "outputs": [
    {
     "data": {
      "text/html": [
       "<div>\n",
       "<style scoped>\n",
       "    .dataframe tbody tr th:only-of-type {\n",
       "        vertical-align: middle;\n",
       "    }\n",
       "\n",
       "    .dataframe tbody tr th {\n",
       "        vertical-align: top;\n",
       "    }\n",
       "\n",
       "    .dataframe thead th {\n",
       "        text-align: right;\n",
       "    }\n",
       "</style>\n",
       "<table border=\"1\" class=\"dataframe\">\n",
       "  <thead>\n",
       "    <tr style=\"text-align: right;\">\n",
       "      <th></th>\n",
       "      <th>session_id</th>\n",
       "      <th>client_id</th>\n",
       "      <th>visit_date</th>\n",
       "      <th>visit_time</th>\n",
       "      <th>visit_number</th>\n",
       "      <th>utm_source</th>\n",
       "      <th>utm_medium</th>\n",
       "      <th>utm_campaign</th>\n",
       "      <th>utm_adcontent</th>\n",
       "      <th>utm_keyword</th>\n",
       "      <th>...</th>\n",
       "      <th>device_os</th>\n",
       "      <th>device_brand</th>\n",
       "      <th>device_model</th>\n",
       "      <th>device_screen_resolution</th>\n",
       "      <th>device_browser</th>\n",
       "      <th>geo_country</th>\n",
       "      <th>geo_city</th>\n",
       "      <th>event_value</th>\n",
       "      <th>auto_brand</th>\n",
       "      <th>auto_model</th>\n",
       "    </tr>\n",
       "  </thead>\n",
       "  <tbody>\n",
       "    <tr>\n",
       "      <th>0</th>\n",
       "      <td>9055434745589932991.1637753792.1637753792</td>\n",
       "      <td>2108382700.163776</td>\n",
       "      <td>2021-11-24</td>\n",
       "      <td>1900-01-01 14:36:32</td>\n",
       "      <td>1</td>\n",
       "      <td>ZpYIoDJMcFzVoPFsHGJL</td>\n",
       "      <td>banner</td>\n",
       "      <td>LEoPHuyFvzoNfnzGgfcd</td>\n",
       "      <td>vCIpmpaGBnIQhyYNkXqp</td>\n",
       "      <td>puhZPIYqKXeFPaUviSjo</td>\n",
       "      <td>...</td>\n",
       "      <td>Android</td>\n",
       "      <td>Huawei</td>\n",
       "      <td>NaN</td>\n",
       "      <td>360x720</td>\n",
       "      <td>Chrome</td>\n",
       "      <td>Russia</td>\n",
       "      <td>Zlatoust</td>\n",
       "      <td>0.0</td>\n",
       "      <td>NaN</td>\n",
       "      <td>NaN</td>\n",
       "    </tr>\n",
       "    <tr>\n",
       "      <th>1</th>\n",
       "      <td>905544597018549464.1636867290.1636867290</td>\n",
       "      <td>210838531.163687</td>\n",
       "      <td>2021-11-14</td>\n",
       "      <td>1900-01-01 08:21:30</td>\n",
       "      <td>1</td>\n",
       "      <td>MvfHsxITijuriZxsqZqt</td>\n",
       "      <td>cpm</td>\n",
       "      <td>FTjNLDyTrXaWYgZymFkV</td>\n",
       "      <td>xhoenQgDQsgfEPYNPwKO</td>\n",
       "      <td>IGUCNvHlhfHpROGclCit</td>\n",
       "      <td>...</td>\n",
       "      <td>Android</td>\n",
       "      <td>Samsung</td>\n",
       "      <td>NaN</td>\n",
       "      <td>385x854</td>\n",
       "      <td>Samsung Internet</td>\n",
       "      <td>Russia</td>\n",
       "      <td>Moscow</td>\n",
       "      <td>0.0</td>\n",
       "      <td>NaN</td>\n",
       "      <td>NaN</td>\n",
       "    </tr>\n",
       "    <tr>\n",
       "      <th>2</th>\n",
       "      <td>9055446045651783499.1640648526.1640648526</td>\n",
       "      <td>2108385331.164065</td>\n",
       "      <td>2021-12-28</td>\n",
       "      <td>1900-01-01 02:42:06</td>\n",
       "      <td>1</td>\n",
       "      <td>ZpYIoDJMcFzVoPFsHGJL</td>\n",
       "      <td>banner</td>\n",
       "      <td>LEoPHuyFvzoNfnzGgfcd</td>\n",
       "      <td>vCIpmpaGBnIQhyYNkXqp</td>\n",
       "      <td>puhZPIYqKXeFPaUviSjo</td>\n",
       "      <td>...</td>\n",
       "      <td>Android</td>\n",
       "      <td>Huawei</td>\n",
       "      <td>NaN</td>\n",
       "      <td>360x720</td>\n",
       "      <td>Chrome</td>\n",
       "      <td>Russia</td>\n",
       "      <td>Krasnoyarsk</td>\n",
       "      <td>0.0</td>\n",
       "      <td>volkswagen</td>\n",
       "      <td>polo</td>\n",
       "    </tr>\n",
       "    <tr>\n",
       "      <th>3</th>\n",
       "      <td>9055447046360770272.1622255328.1622255328</td>\n",
       "      <td>2108385564.162225</td>\n",
       "      <td>2021-05-29</td>\n",
       "      <td>1900-01-01 05:00:00</td>\n",
       "      <td>1</td>\n",
       "      <td>kjsLglQLzykiRbcDiGcD</td>\n",
       "      <td>cpc</td>\n",
       "      <td>NaN</td>\n",
       "      <td>NOBKLgtuvqYWkXQHeYWM</td>\n",
       "      <td>NaN</td>\n",
       "      <td>...</td>\n",
       "      <td>NaN</td>\n",
       "      <td>Xiaomi</td>\n",
       "      <td>NaN</td>\n",
       "      <td>393x786</td>\n",
       "      <td>Chrome</td>\n",
       "      <td>Russia</td>\n",
       "      <td>Moscow</td>\n",
       "      <td>0.0</td>\n",
       "      <td>NaN</td>\n",
       "      <td>NaN</td>\n",
       "    </tr>\n",
       "    <tr>\n",
       "      <th>4</th>\n",
       "      <td>9055447046360770272.1622255345.1622255345</td>\n",
       "      <td>2108385564.162225</td>\n",
       "      <td>2021-05-29</td>\n",
       "      <td>1900-01-01 05:00:00</td>\n",
       "      <td>2</td>\n",
       "      <td>kjsLglQLzykiRbcDiGcD</td>\n",
       "      <td>cpc</td>\n",
       "      <td>NaN</td>\n",
       "      <td>NaN</td>\n",
       "      <td>NaN</td>\n",
       "      <td>...</td>\n",
       "      <td>NaN</td>\n",
       "      <td>Xiaomi</td>\n",
       "      <td>NaN</td>\n",
       "      <td>393x786</td>\n",
       "      <td>Chrome</td>\n",
       "      <td>Russia</td>\n",
       "      <td>Moscow</td>\n",
       "      <td>0.0</td>\n",
       "      <td>NaN</td>\n",
       "      <td>NaN</td>\n",
       "    </tr>\n",
       "    <tr>\n",
       "      <th>...</th>\n",
       "      <td>...</td>\n",
       "      <td>...</td>\n",
       "      <td>...</td>\n",
       "      <td>...</td>\n",
       "      <td>...</td>\n",
       "      <td>...</td>\n",
       "      <td>...</td>\n",
       "      <td>...</td>\n",
       "      <td>...</td>\n",
       "      <td>...</td>\n",
       "      <td>...</td>\n",
       "      <td>...</td>\n",
       "      <td>...</td>\n",
       "      <td>...</td>\n",
       "      <td>...</td>\n",
       "      <td>...</td>\n",
       "      <td>...</td>\n",
       "      <td>...</td>\n",
       "      <td>...</td>\n",
       "      <td>...</td>\n",
       "      <td>...</td>\n",
       "    </tr>\n",
       "    <tr>\n",
       "      <th>98</th>\n",
       "      <td>9055858569671852.1630434476.1630434476</td>\n",
       "      <td>2108481.163043</td>\n",
       "      <td>2021-08-31</td>\n",
       "      <td>1900-01-01 21:00:00</td>\n",
       "      <td>1</td>\n",
       "      <td>ISrKoXQCxqqYvAZICvjs</td>\n",
       "      <td>blogger_stories</td>\n",
       "      <td>BAZCuyHZnaPrMGOMrcCQ</td>\n",
       "      <td>JNHcPlZPxEMWDnRiyoBf</td>\n",
       "      <td>NaN</td>\n",
       "      <td>...</td>\n",
       "      <td>NaN</td>\n",
       "      <td>Apple</td>\n",
       "      <td>NaN</td>\n",
       "      <td>414x896</td>\n",
       "      <td>Safari (in-app)</td>\n",
       "      <td>Russia</td>\n",
       "      <td>Moscow</td>\n",
       "      <td>0.0</td>\n",
       "      <td>renault</td>\n",
       "      <td>duster</td>\n",
       "    </tr>\n",
       "    <tr>\n",
       "      <th>99</th>\n",
       "      <td>9055865509330223519.1633091999.1633091999</td>\n",
       "      <td>2108482995.163309</td>\n",
       "      <td>2021-10-01</td>\n",
       "      <td>1900-01-01 15:00:00</td>\n",
       "      <td>1</td>\n",
       "      <td>kjsLglQLzykiRbcDiGcD</td>\n",
       "      <td>cpc</td>\n",
       "      <td>nSReTmyFtbSjlPrTKoaX</td>\n",
       "      <td>NaN</td>\n",
       "      <td>NaN</td>\n",
       "      <td>...</td>\n",
       "      <td>NaN</td>\n",
       "      <td>NaN</td>\n",
       "      <td>NaN</td>\n",
       "      <td>1920x1080</td>\n",
       "      <td>Chrome</td>\n",
       "      <td>Russia</td>\n",
       "      <td>Moscow</td>\n",
       "      <td>0.0</td>\n",
       "      <td>skoda</td>\n",
       "      <td>rapid</td>\n",
       "    </tr>\n",
       "    <tr>\n",
       "      <th>100</th>\n",
       "      <td>9055870190843841157.1632356999.1632356999</td>\n",
       "      <td>2108484085.163236</td>\n",
       "      <td>2021-09-23</td>\n",
       "      <td>1900-01-01 03:00:00</td>\n",
       "      <td>1</td>\n",
       "      <td>RmEBuqrriAfAVsLQQmhk</td>\n",
       "      <td>cpc</td>\n",
       "      <td>kVOrIKZFrEYGvixPclal</td>\n",
       "      <td>JNHcPlZPxEMWDnRiyoBf</td>\n",
       "      <td>NaN</td>\n",
       "      <td>...</td>\n",
       "      <td>NaN</td>\n",
       "      <td>Samsung</td>\n",
       "      <td>NaN</td>\n",
       "      <td>360x640</td>\n",
       "      <td>Chrome</td>\n",
       "      <td>Russia</td>\n",
       "      <td>Moscow</td>\n",
       "      <td>0.0</td>\n",
       "      <td>renault</td>\n",
       "      <td>logan</td>\n",
       "    </tr>\n",
       "    <tr>\n",
       "      <th>101</th>\n",
       "      <td>9055873197324118026.1635526668.1635526668</td>\n",
       "      <td>2108484785.163553</td>\n",
       "      <td>2021-10-29</td>\n",
       "      <td>1900-01-01 19:57:48</td>\n",
       "      <td>1</td>\n",
       "      <td>jaSOmLICuBzCFqHfBdRg</td>\n",
       "      <td>email</td>\n",
       "      <td>bxOTvPtyGSdUrbwoXCPO</td>\n",
       "      <td>JNHcPlZPxEMWDnRiyoBf</td>\n",
       "      <td>puhZPIYqKXeFPaUviSjo</td>\n",
       "      <td>...</td>\n",
       "      <td>Windows</td>\n",
       "      <td>NaN</td>\n",
       "      <td>NaN</td>\n",
       "      <td>1920x1080</td>\n",
       "      <td>YaBrowser</td>\n",
       "      <td>Russia</td>\n",
       "      <td>Moscow</td>\n",
       "      <td>0.0</td>\n",
       "      <td>NaN</td>\n",
       "      <td>NaN</td>\n",
       "    </tr>\n",
       "    <tr>\n",
       "      <th>102</th>\n",
       "      <td>905587641172375149.1628452461.1628452461</td>\n",
       "      <td>210848553.162845</td>\n",
       "      <td>2021-08-08</td>\n",
       "      <td>1900-01-01 22:00:00</td>\n",
       "      <td>1</td>\n",
       "      <td>fDLlAcSmythWSCVMvqvL</td>\n",
       "      <td>(none)</td>\n",
       "      <td>LTuZkdKfxRGVceoWkVyg</td>\n",
       "      <td>JNHcPlZPxEMWDnRiyoBf</td>\n",
       "      <td>NaN</td>\n",
       "      <td>...</td>\n",
       "      <td>NaN</td>\n",
       "      <td>Apple</td>\n",
       "      <td>NaN</td>\n",
       "      <td>375x667</td>\n",
       "      <td>Safari (in-app)</td>\n",
       "      <td>Russia</td>\n",
       "      <td>Moscow</td>\n",
       "      <td>0.0</td>\n",
       "      <td>renault</td>\n",
       "      <td>duster</td>\n",
       "    </tr>\n",
       "  </tbody>\n",
       "</table>\n",
       "<p>100 rows × 21 columns</p>\n",
       "</div>"
      ],
      "text/plain": [
       "                                    session_id          client_id visit_date  \\\n",
       "0    9055434745589932991.1637753792.1637753792  2108382700.163776 2021-11-24   \n",
       "1     905544597018549464.1636867290.1636867290   210838531.163687 2021-11-14   \n",
       "2    9055446045651783499.1640648526.1640648526  2108385331.164065 2021-12-28   \n",
       "3    9055447046360770272.1622255328.1622255328  2108385564.162225 2021-05-29   \n",
       "4    9055447046360770272.1622255345.1622255345  2108385564.162225 2021-05-29   \n",
       "..                                         ...                ...        ...   \n",
       "98      9055858569671852.1630434476.1630434476     2108481.163043 2021-08-31   \n",
       "99   9055865509330223519.1633091999.1633091999  2108482995.163309 2021-10-01   \n",
       "100  9055870190843841157.1632356999.1632356999  2108484085.163236 2021-09-23   \n",
       "101  9055873197324118026.1635526668.1635526668  2108484785.163553 2021-10-29   \n",
       "102   905587641172375149.1628452461.1628452461   210848553.162845 2021-08-08   \n",
       "\n",
       "             visit_time  visit_number            utm_source       utm_medium  \\\n",
       "0   1900-01-01 14:36:32             1  ZpYIoDJMcFzVoPFsHGJL           banner   \n",
       "1   1900-01-01 08:21:30             1  MvfHsxITijuriZxsqZqt              cpm   \n",
       "2   1900-01-01 02:42:06             1  ZpYIoDJMcFzVoPFsHGJL           banner   \n",
       "3   1900-01-01 05:00:00             1  kjsLglQLzykiRbcDiGcD              cpc   \n",
       "4   1900-01-01 05:00:00             2  kjsLglQLzykiRbcDiGcD              cpc   \n",
       "..                  ...           ...                   ...              ...   \n",
       "98  1900-01-01 21:00:00             1  ISrKoXQCxqqYvAZICvjs  blogger_stories   \n",
       "99  1900-01-01 15:00:00             1  kjsLglQLzykiRbcDiGcD              cpc   \n",
       "100 1900-01-01 03:00:00             1  RmEBuqrriAfAVsLQQmhk              cpc   \n",
       "101 1900-01-01 19:57:48             1  jaSOmLICuBzCFqHfBdRg            email   \n",
       "102 1900-01-01 22:00:00             1  fDLlAcSmythWSCVMvqvL           (none)   \n",
       "\n",
       "             utm_campaign         utm_adcontent           utm_keyword  ...  \\\n",
       "0    LEoPHuyFvzoNfnzGgfcd  vCIpmpaGBnIQhyYNkXqp  puhZPIYqKXeFPaUviSjo  ...   \n",
       "1    FTjNLDyTrXaWYgZymFkV  xhoenQgDQsgfEPYNPwKO  IGUCNvHlhfHpROGclCit  ...   \n",
       "2    LEoPHuyFvzoNfnzGgfcd  vCIpmpaGBnIQhyYNkXqp  puhZPIYqKXeFPaUviSjo  ...   \n",
       "3                     NaN  NOBKLgtuvqYWkXQHeYWM                   NaN  ...   \n",
       "4                     NaN                   NaN                   NaN  ...   \n",
       "..                    ...                   ...                   ...  ...   \n",
       "98   BAZCuyHZnaPrMGOMrcCQ  JNHcPlZPxEMWDnRiyoBf                   NaN  ...   \n",
       "99   nSReTmyFtbSjlPrTKoaX                   NaN                   NaN  ...   \n",
       "100  kVOrIKZFrEYGvixPclal  JNHcPlZPxEMWDnRiyoBf                   NaN  ...   \n",
       "101  bxOTvPtyGSdUrbwoXCPO  JNHcPlZPxEMWDnRiyoBf  puhZPIYqKXeFPaUviSjo  ...   \n",
       "102  LTuZkdKfxRGVceoWkVyg  JNHcPlZPxEMWDnRiyoBf                   NaN  ...   \n",
       "\n",
       "    device_os device_brand device_model device_screen_resolution  \\\n",
       "0     Android       Huawei          NaN                  360x720   \n",
       "1     Android      Samsung          NaN                  385x854   \n",
       "2     Android       Huawei          NaN                  360x720   \n",
       "3         NaN       Xiaomi          NaN                  393x786   \n",
       "4         NaN       Xiaomi          NaN                  393x786   \n",
       "..        ...          ...          ...                      ...   \n",
       "98        NaN        Apple          NaN                  414x896   \n",
       "99        NaN          NaN          NaN                1920x1080   \n",
       "100       NaN      Samsung          NaN                  360x640   \n",
       "101   Windows          NaN          NaN                1920x1080   \n",
       "102       NaN        Apple          NaN                  375x667   \n",
       "\n",
       "       device_browser geo_country     geo_city event_value  auto_brand  \\\n",
       "0              Chrome      Russia     Zlatoust         0.0         NaN   \n",
       "1    Samsung Internet      Russia       Moscow         0.0         NaN   \n",
       "2              Chrome      Russia  Krasnoyarsk         0.0  volkswagen   \n",
       "3              Chrome      Russia       Moscow         0.0         NaN   \n",
       "4              Chrome      Russia       Moscow         0.0         NaN   \n",
       "..                ...         ...          ...         ...         ...   \n",
       "98    Safari (in-app)      Russia       Moscow         0.0     renault   \n",
       "99             Chrome      Russia       Moscow         0.0       skoda   \n",
       "100            Chrome      Russia       Moscow         0.0     renault   \n",
       "101         YaBrowser      Russia       Moscow         0.0         NaN   \n",
       "102   Safari (in-app)      Russia       Moscow         0.0     renault   \n",
       "\n",
       "    auto_model  \n",
       "0          NaN  \n",
       "1          NaN  \n",
       "2         polo  \n",
       "3          NaN  \n",
       "4          NaN  \n",
       "..         ...  \n",
       "98      duster  \n",
       "99       rapid  \n",
       "100      logan  \n",
       "101        NaN  \n",
       "102     duster  \n",
       "\n",
       "[100 rows x 21 columns]"
      ]
     },
     "execution_count": 16,
     "metadata": {},
     "output_type": "execute_result"
    }
   ],
   "source": [
    "#Первые 10 строк с пропусками\n",
    "df_sessions[df_sessions.device_model.isna()][:100]"
   ]
  },
  {
   "cell_type": "code",
   "execution_count": 17,
   "id": "341f6000-2f67-4aef-8b27-7f35dd400ae6",
   "metadata": {},
   "outputs": [],
   "source": [
    "#Удаление колонки\n",
    "df_sessions.drop([\"device_model\"], axis=1,inplace=True)"
   ]
  },
  {
   "cell_type": "code",
   "execution_count": 18,
   "id": "17bdb83e-ce3e-4c54-bd8a-328ba4f18c20",
   "metadata": {
    "scrolled": true
   },
   "outputs": [
    {
     "name": "stdout",
     "output_type": "stream",
     "text": [
      "Новый список колонок\n"
     ]
    },
    {
     "data": {
      "text/plain": [
       "Index(['session_id', 'client_id', 'visit_date', 'visit_time', 'visit_number',\n",
       "       'utm_source', 'utm_medium', 'utm_campaign', 'utm_adcontent',\n",
       "       'utm_keyword', 'device_category', 'device_os', 'device_brand',\n",
       "       'device_screen_resolution', 'device_browser', 'geo_country', 'geo_city',\n",
       "       'event_value', 'auto_brand', 'auto_model'],\n",
       "      dtype='object')"
      ]
     },
     "execution_count": 18,
     "metadata": {},
     "output_type": "execute_result"
    }
   ],
   "source": [
    "print('Новый список колонок')\n",
    "df_sessions.columns"
   ]
  },
  {
   "cell_type": "markdown",
   "id": "6670d28d-fed1-46d2-974e-7dfe0d415365",
   "metadata": {},
   "source": [
    "Обработка пропусков auto_brand"
   ]
  },
  {
   "cell_type": "code",
   "execution_count": 19,
   "id": "a99373b1-3edc-454a-b0fd-0fe88db2de2f",
   "metadata": {},
   "outputs": [
    {
     "data": {
      "text/plain": [
       "15"
      ]
     },
     "execution_count": 19,
     "metadata": {},
     "output_type": "execute_result"
    }
   ],
   "source": [
    "#Количество уникальных значений\n",
    "df_sessions.auto_brand.nunique()"
   ]
  },
  {
   "cell_type": "code",
   "execution_count": 20,
   "id": "710d6ee0-0fad-413c-8bb2-ba80b2510ff1",
   "metadata": {},
   "outputs": [
    {
     "data": {
      "text/plain": [
       "1337370"
      ]
     },
     "execution_count": 20,
     "metadata": {},
     "output_type": "execute_result"
    }
   ],
   "source": [
    "#Количество пропусков\n",
    "df_sessions.auto_brand.isna().sum()"
   ]
  },
  {
   "cell_type": "code",
   "execution_count": 21,
   "id": "9cfcaa42-9579-4690-bd21-ddf2bf027cee",
   "metadata": {},
   "outputs": [
    {
     "data": {
      "text/plain": [
       "auto_brand\n",
       "skoda         171258\n",
       "volkswagen     85933\n",
       "kia            60168\n",
       "renault        47199\n",
       "toyota         28150\n",
       "nissan         27909\n",
       "lexus          19914\n",
       "bmw            18633\n",
       "haval          16656\n",
       "volvo          13018\n",
       "porsche        12371\n",
       "audi            8080\n",
       "mini            6678\n",
       "peugeot         6100\n",
       "hyundai          605\n",
       "Name: count, dtype: int64"
      ]
     },
     "execution_count": 21,
     "metadata": {},
     "output_type": "execute_result"
    }
   ],
   "source": [
    "#Счетчик уникальных значений\n",
    "df_sessions.auto_brand.value_counts()"
   ]
  },
  {
   "cell_type": "code",
   "execution_count": 22,
   "id": "6bcdbcbc-7484-454e-a26a-f93a85b67d65",
   "metadata": {},
   "outputs": [],
   "source": [
    "#Заполнение пропусков \"unknown_brand\"\n",
    "df_sessions['auto_brand']=df_sessions['auto_brand'].fillna('unknown_brand')"
   ]
  },
  {
   "cell_type": "code",
   "execution_count": 23,
   "id": "5502c79d-95e3-4101-942e-d412e881e2f2",
   "metadata": {},
   "outputs": [
    {
     "name": "stdout",
     "output_type": "stream",
     "text": [
      "Процент пропущенных значений auto brand:\n"
     ]
    },
    {
     "data": {
      "text/plain": [
       "0.0"
      ]
     },
     "execution_count": 23,
     "metadata": {},
     "output_type": "execute_result"
    }
   ],
   "source": [
    "missing_values_auto_brand = (df_sessions.auto_brand.isna().sum()/len(df_sessions.auto_brand)*100)\n",
    "print('Процент пропущенных значений auto brand:')\n",
    "missing_values_auto_brand"
   ]
  },
  {
   "cell_type": "markdown",
   "id": "30db2dca-7f8b-4d4b-aa91-fd11a3126297",
   "metadata": {},
   "source": [
    "Обработка пропусков auto_model"
   ]
  },
  {
   "cell_type": "code",
   "execution_count": 24,
   "id": "96243f73-c845-4fd9-b592-93fe131a5c46",
   "metadata": {},
   "outputs": [
    {
     "data": {
      "text/plain": [
       "43"
      ]
     },
     "execution_count": 24,
     "metadata": {},
     "output_type": "execute_result"
    }
   ],
   "source": [
    "#Количество уникальных значений\n",
    "df_sessions.auto_model.nunique()"
   ]
  },
  {
   "cell_type": "code",
   "execution_count": 25,
   "id": "e74a166d-16dc-4cb9-b0a5-f134fac3406f",
   "metadata": {},
   "outputs": [
    {
     "data": {
      "text/plain": [
       "1337370"
      ]
     },
     "execution_count": 25,
     "metadata": {},
     "output_type": "execute_result"
    }
   ],
   "source": [
    "#Количество пропусков\n",
    "df_sessions.auto_model.isna().sum()"
   ]
  },
  {
   "cell_type": "code",
   "execution_count": 26,
   "id": "51fd200b-8ea7-4d14-840e-e7934ad84607",
   "metadata": {},
   "outputs": [
    {
     "data": {
      "text/plain": [
       "auto_model\n",
       "rapid        93876\n",
       "polo         65782\n",
       "karoq        48960\n",
       "qashqai      27909\n",
       "rio          26413\n",
       "duster       23941\n",
       "logan        23213\n",
       "octavia      21216\n",
       "camry        18468\n",
       "seltos       17508\n",
       "jolion       16656\n",
       "sorento      14426\n",
       "s90          13018\n",
       "rx           10645\n",
       "tiguan       10082\n",
       "nx            9269\n",
       "cayenne       7306\n",
       "kodiaq        7206\n",
       "x3            6981\n",
       "hatch         6678\n",
       "touareg       6381\n",
       "traveller     6100\n",
       "x5            5431\n",
       "911           5041\n",
       "fortuner      4894\n",
       "a3            4025\n",
       "x6            3849\n",
       "alphard       3497\n",
       "q5            3150\n",
       "teramont      3137\n",
       "x7            2372\n",
       "corolla       1291\n",
       "soul           981\n",
       "a4             905\n",
       "cerato         717\n",
       "solaris        605\n",
       "taos           503\n",
       "sportage       118\n",
       "passat          48\n",
       "arkana          45\n",
       "panamera        21\n",
       "k5               5\n",
       "macan            3\n",
       "Name: count, dtype: int64"
      ]
     },
     "execution_count": 26,
     "metadata": {},
     "output_type": "execute_result"
    }
   ],
   "source": [
    "#Счетчик уникальных значений\n",
    "df_sessions.auto_model.value_counts()"
   ]
  },
  {
   "cell_type": "code",
   "execution_count": 27,
   "id": "89955894-41d8-45b6-90bf-d444e1593cbf",
   "metadata": {},
   "outputs": [],
   "source": [
    "#Заполнение пропусков \"unknown_model\"\n",
    "df_sessions['auto_model']=df_sessions['auto_model'].fillna('unknown_model')"
   ]
  },
  {
   "cell_type": "code",
   "execution_count": 28,
   "id": "49eb1f97-46de-4612-80d6-b8398dda36f6",
   "metadata": {},
   "outputs": [
    {
     "name": "stdout",
     "output_type": "stream",
     "text": [
      "Процент пропущенных значений auto model:\n"
     ]
    },
    {
     "data": {
      "text/plain": [
       "0.0"
      ]
     },
     "execution_count": 28,
     "metadata": {},
     "output_type": "execute_result"
    }
   ],
   "source": [
    "missing_values_auto_model = (df_sessions.auto_model.isna().sum()/len(df_sessions.auto_model)*100)\n",
    "print('Процент пропущенных значений auto model:')\n",
    "missing_values_auto_model"
   ]
  },
  {
   "cell_type": "markdown",
   "id": "16e0e87a-af45-4d9c-a46a-d88bcf12669f",
   "metadata": {},
   "source": [
    "Обработка пропусков utm_keyword"
   ]
  },
  {
   "cell_type": "code",
   "execution_count": 29,
   "id": "874f3f44-5b3a-427b-b6f9-2738093b8209",
   "metadata": {},
   "outputs": [
    {
     "data": {
      "text/plain": [
       "1219"
      ]
     },
     "execution_count": 29,
     "metadata": {},
     "output_type": "execute_result"
    }
   ],
   "source": [
    "#Количество уникальных значений\n",
    "df_sessions.utm_keyword.nunique()"
   ]
  },
  {
   "cell_type": "code",
   "execution_count": 30,
   "id": "7336de27-5914-4e52-8226-7d89e6a6e6b6",
   "metadata": {},
   "outputs": [
    {
     "data": {
      "text/plain": [
       "1082061"
      ]
     },
     "execution_count": 30,
     "metadata": {},
     "output_type": "execute_result"
    }
   ],
   "source": [
    "#Количество пропусков\n",
    "df_sessions.utm_keyword.isna().sum()"
   ]
  },
  {
   "cell_type": "code",
   "execution_count": 31,
   "id": "8a10b8ad-d85a-408f-8d26-89ac511385c4",
   "metadata": {},
   "outputs": [
    {
     "data": {
      "text/plain": [
       "utm_keyword\n",
       "puhZPIYqKXeFPaUviSjo    506819\n",
       "aXQzDWsJuGXeBXexNHjc     24241\n",
       "pHqgLcdBQPSLcrTpLkdr     13767\n",
       "ITfrGJNwVsHBGJMAKoct     13353\n",
       "hAmNSZmQkKQKAjZEGlgb     11297\n",
       "                         ...  \n",
       "XsuVVTgiDIxZtndPjvDm         1\n",
       "WhaUakldaAmpLumfaADO         1\n",
       "nJVPLgfxsBtPAXttNVDI         1\n",
       "nwKBdMZKktIQFvhZwbFe         1\n",
       "fcXWTQaKfxbkBkBnzLhK         1\n",
       "Name: count, Length: 1219, dtype: int64"
      ]
     },
     "execution_count": 31,
     "metadata": {},
     "output_type": "execute_result"
    }
   ],
   "source": [
    "#Счетчик уникальных значений\n",
    "df_sessions.utm_keyword.value_counts()"
   ]
  },
  {
   "cell_type": "code",
   "execution_count": 32,
   "id": "32a81069-0fde-424e-b96e-8c67342f03d8",
   "metadata": {
    "scrolled": true
   },
   "outputs": [
    {
     "data": {
      "text/html": [
       "<div>\n",
       "<style scoped>\n",
       "    .dataframe tbody tr th:only-of-type {\n",
       "        vertical-align: middle;\n",
       "    }\n",
       "\n",
       "    .dataframe tbody tr th {\n",
       "        vertical-align: top;\n",
       "    }\n",
       "\n",
       "    .dataframe thead th {\n",
       "        text-align: right;\n",
       "    }\n",
       "</style>\n",
       "<table border=\"1\" class=\"dataframe\">\n",
       "  <thead>\n",
       "    <tr style=\"text-align: right;\">\n",
       "      <th></th>\n",
       "      <th>session_id</th>\n",
       "      <th>client_id</th>\n",
       "      <th>visit_date</th>\n",
       "      <th>visit_time</th>\n",
       "      <th>visit_number</th>\n",
       "      <th>utm_source</th>\n",
       "      <th>utm_medium</th>\n",
       "      <th>utm_campaign</th>\n",
       "      <th>utm_adcontent</th>\n",
       "      <th>utm_keyword</th>\n",
       "      <th>device_category</th>\n",
       "      <th>device_os</th>\n",
       "      <th>device_brand</th>\n",
       "      <th>device_screen_resolution</th>\n",
       "      <th>device_browser</th>\n",
       "      <th>geo_country</th>\n",
       "      <th>geo_city</th>\n",
       "      <th>event_value</th>\n",
       "      <th>auto_brand</th>\n",
       "      <th>auto_model</th>\n",
       "    </tr>\n",
       "  </thead>\n",
       "  <tbody>\n",
       "    <tr>\n",
       "      <th>3</th>\n",
       "      <td>9055447046360770272.1622255328.1622255328</td>\n",
       "      <td>2108385564.162225</td>\n",
       "      <td>2021-05-29</td>\n",
       "      <td>1900-01-01 05:00:00</td>\n",
       "      <td>1</td>\n",
       "      <td>kjsLglQLzykiRbcDiGcD</td>\n",
       "      <td>cpc</td>\n",
       "      <td>NaN</td>\n",
       "      <td>NOBKLgtuvqYWkXQHeYWM</td>\n",
       "      <td>NaN</td>\n",
       "      <td>mobile</td>\n",
       "      <td>NaN</td>\n",
       "      <td>Xiaomi</td>\n",
       "      <td>393x786</td>\n",
       "      <td>Chrome</td>\n",
       "      <td>Russia</td>\n",
       "      <td>Moscow</td>\n",
       "      <td>0.0</td>\n",
       "      <td>unknown_brand</td>\n",
       "      <td>unknown_model</td>\n",
       "    </tr>\n",
       "    <tr>\n",
       "      <th>4</th>\n",
       "      <td>9055447046360770272.1622255345.1622255345</td>\n",
       "      <td>2108385564.162225</td>\n",
       "      <td>2021-05-29</td>\n",
       "      <td>1900-01-01 05:00:00</td>\n",
       "      <td>2</td>\n",
       "      <td>kjsLglQLzykiRbcDiGcD</td>\n",
       "      <td>cpc</td>\n",
       "      <td>NaN</td>\n",
       "      <td>NaN</td>\n",
       "      <td>NaN</td>\n",
       "      <td>mobile</td>\n",
       "      <td>NaN</td>\n",
       "      <td>Xiaomi</td>\n",
       "      <td>393x786</td>\n",
       "      <td>Chrome</td>\n",
       "      <td>Russia</td>\n",
       "      <td>Moscow</td>\n",
       "      <td>0.0</td>\n",
       "      <td>unknown_brand</td>\n",
       "      <td>unknown_model</td>\n",
       "    </tr>\n",
       "    <tr>\n",
       "      <th>5</th>\n",
       "      <td>9055447192389856083.1622453074.1622453074</td>\n",
       "      <td>2108385598.162245</td>\n",
       "      <td>2021-05-31</td>\n",
       "      <td>1900-01-01 12:00:00</td>\n",
       "      <td>1</td>\n",
       "      <td>kjsLglQLzykiRbcDiGcD</td>\n",
       "      <td>organic</td>\n",
       "      <td>LTuZkdKfxRGVceoWkVyg</td>\n",
       "      <td>JNHcPlZPxEMWDnRiyoBf</td>\n",
       "      <td>NaN</td>\n",
       "      <td>mobile</td>\n",
       "      <td>NaN</td>\n",
       "      <td>Apple</td>\n",
       "      <td>375x812</td>\n",
       "      <td>Safari</td>\n",
       "      <td>Russia</td>\n",
       "      <td>Saint Petersburg</td>\n",
       "      <td>0.0</td>\n",
       "      <td>unknown_brand</td>\n",
       "      <td>unknown_model</td>\n",
       "    </tr>\n",
       "    <tr>\n",
       "      <th>7</th>\n",
       "      <td>9055461992850812764.1626107740.1626107740</td>\n",
       "      <td>2108389044.162611</td>\n",
       "      <td>2021-07-12</td>\n",
       "      <td>1900-01-01 19:00:00</td>\n",
       "      <td>1</td>\n",
       "      <td>ZpYIoDJMcFzVoPFsHGJL</td>\n",
       "      <td>banner</td>\n",
       "      <td>LEoPHuyFvzoNfnzGgfcd</td>\n",
       "      <td>JNHcPlZPxEMWDnRiyoBf</td>\n",
       "      <td>NaN</td>\n",
       "      <td>mobile</td>\n",
       "      <td>NaN</td>\n",
       "      <td>Samsung</td>\n",
       "      <td>360x640</td>\n",
       "      <td>Chrome</td>\n",
       "      <td>Russia</td>\n",
       "      <td>Saint Petersburg</td>\n",
       "      <td>0.0</td>\n",
       "      <td>unknown_brand</td>\n",
       "      <td>unknown_model</td>\n",
       "    </tr>\n",
       "    <tr>\n",
       "      <th>9</th>\n",
       "      <td>9055466554104774132.1624800757.1624800757</td>\n",
       "      <td>2108390106.16248</td>\n",
       "      <td>2021-06-27</td>\n",
       "      <td>1900-01-01 16:00:00</td>\n",
       "      <td>1</td>\n",
       "      <td>ZpYIoDJMcFzVoPFsHGJL</td>\n",
       "      <td>banner</td>\n",
       "      <td>LEoPHuyFvzoNfnzGgfcd</td>\n",
       "      <td>JNHcPlZPxEMWDnRiyoBf</td>\n",
       "      <td>NaN</td>\n",
       "      <td>mobile</td>\n",
       "      <td>NaN</td>\n",
       "      <td>Samsung</td>\n",
       "      <td>412x915</td>\n",
       "      <td>Chrome</td>\n",
       "      <td>Russia</td>\n",
       "      <td>Moscow</td>\n",
       "      <td>0.0</td>\n",
       "      <td>unknown_brand</td>\n",
       "      <td>unknown_model</td>\n",
       "    </tr>\n",
       "    <tr>\n",
       "      <th>10</th>\n",
       "      <td>9055466554104774132.1629442326.1629442326</td>\n",
       "      <td>2108390106.16248</td>\n",
       "      <td>2021-08-20</td>\n",
       "      <td>1900-01-01 09:00:00</td>\n",
       "      <td>2</td>\n",
       "      <td>ZpYIoDJMcFzVoPFsHGJL</td>\n",
       "      <td>banner</td>\n",
       "      <td>LEoPHuyFvzoNfnzGgfcd</td>\n",
       "      <td>JNHcPlZPxEMWDnRiyoBf</td>\n",
       "      <td>NaN</td>\n",
       "      <td>mobile</td>\n",
       "      <td>NaN</td>\n",
       "      <td>Samsung</td>\n",
       "      <td>412x915</td>\n",
       "      <td>Chrome</td>\n",
       "      <td>Russia</td>\n",
       "      <td>Moscow</td>\n",
       "      <td>0.0</td>\n",
       "      <td>porsche</td>\n",
       "      <td>911</td>\n",
       "    </tr>\n",
       "    <tr>\n",
       "      <th>11</th>\n",
       "      <td>9055469620715506713.1628883994.1628883994</td>\n",
       "      <td>2108390820.162888</td>\n",
       "      <td>2021-08-13</td>\n",
       "      <td>1900-01-01 22:00:00</td>\n",
       "      <td>1</td>\n",
       "      <td>fDLlAcSmythWSCVMvqvL</td>\n",
       "      <td>(none)</td>\n",
       "      <td>LTuZkdKfxRGVceoWkVyg</td>\n",
       "      <td>JNHcPlZPxEMWDnRiyoBf</td>\n",
       "      <td>NaN</td>\n",
       "      <td>mobile</td>\n",
       "      <td>NaN</td>\n",
       "      <td>Samsung</td>\n",
       "      <td>412x869</td>\n",
       "      <td>Android Webview</td>\n",
       "      <td>Russia</td>\n",
       "      <td>Saint Petersburg</td>\n",
       "      <td>0.0</td>\n",
       "      <td>nissan</td>\n",
       "      <td>qashqai</td>\n",
       "    </tr>\n",
       "    <tr>\n",
       "      <th>12</th>\n",
       "      <td>9055469620715506713.1633110583.1633110583</td>\n",
       "      <td>2108390820.162888</td>\n",
       "      <td>2021-10-01</td>\n",
       "      <td>1900-01-01 20:00:00</td>\n",
       "      <td>2</td>\n",
       "      <td>fDLlAcSmythWSCVMvqvL</td>\n",
       "      <td>(none)</td>\n",
       "      <td>LTuZkdKfxRGVceoWkVyg</td>\n",
       "      <td>JNHcPlZPxEMWDnRiyoBf</td>\n",
       "      <td>NaN</td>\n",
       "      <td>mobile</td>\n",
       "      <td>NaN</td>\n",
       "      <td>Samsung</td>\n",
       "      <td>412x869</td>\n",
       "      <td>Android Webview</td>\n",
       "      <td>Russia</td>\n",
       "      <td>Saint Petersburg</td>\n",
       "      <td>0.0</td>\n",
       "      <td>renault</td>\n",
       "      <td>duster</td>\n",
       "    </tr>\n",
       "    <tr>\n",
       "      <th>14</th>\n",
       "      <td>9055469620715506713.1636559415.1636559415</td>\n",
       "      <td>2108390820.162888</td>\n",
       "      <td>2021-11-10</td>\n",
       "      <td>1900-01-01 18:50:15</td>\n",
       "      <td>4</td>\n",
       "      <td>SzZERoLMmrEUEhDaYcyN</td>\n",
       "      <td>cpc</td>\n",
       "      <td>NaN</td>\n",
       "      <td>NaN</td>\n",
       "      <td>NaN</td>\n",
       "      <td>mobile</td>\n",
       "      <td>Android</td>\n",
       "      <td>Samsung</td>\n",
       "      <td>412x869</td>\n",
       "      <td>Android Webview</td>\n",
       "      <td>Russia</td>\n",
       "      <td>Saint Petersburg</td>\n",
       "      <td>0.0</td>\n",
       "      <td>skoda</td>\n",
       "      <td>rapid</td>\n",
       "    </tr>\n",
       "    <tr>\n",
       "      <th>15</th>\n",
       "      <td>9055476398179250925.1634235280.1634235280</td>\n",
       "      <td>2108392398.163424</td>\n",
       "      <td>2021-10-14</td>\n",
       "      <td>1900-01-01 21:00:00</td>\n",
       "      <td>1</td>\n",
       "      <td>ZpYIoDJMcFzVoPFsHGJL</td>\n",
       "      <td>banner</td>\n",
       "      <td>gecBYcKZCPMcVYdSSzKP</td>\n",
       "      <td>JNHcPlZPxEMWDnRiyoBf</td>\n",
       "      <td>NaN</td>\n",
       "      <td>mobile</td>\n",
       "      <td>NaN</td>\n",
       "      <td>Samsung</td>\n",
       "      <td>412x915</td>\n",
       "      <td>Chrome</td>\n",
       "      <td>Russia</td>\n",
       "      <td>Yaroslavl</td>\n",
       "      <td>0.0</td>\n",
       "      <td>skoda</td>\n",
       "      <td>rapid</td>\n",
       "    </tr>\n",
       "  </tbody>\n",
       "</table>\n",
       "</div>"
      ],
      "text/plain": [
       "                                   session_id          client_id visit_date  \\\n",
       "3   9055447046360770272.1622255328.1622255328  2108385564.162225 2021-05-29   \n",
       "4   9055447046360770272.1622255345.1622255345  2108385564.162225 2021-05-29   \n",
       "5   9055447192389856083.1622453074.1622453074  2108385598.162245 2021-05-31   \n",
       "7   9055461992850812764.1626107740.1626107740  2108389044.162611 2021-07-12   \n",
       "9   9055466554104774132.1624800757.1624800757   2108390106.16248 2021-06-27   \n",
       "10  9055466554104774132.1629442326.1629442326   2108390106.16248 2021-08-20   \n",
       "11  9055469620715506713.1628883994.1628883994  2108390820.162888 2021-08-13   \n",
       "12  9055469620715506713.1633110583.1633110583  2108390820.162888 2021-10-01   \n",
       "14  9055469620715506713.1636559415.1636559415  2108390820.162888 2021-11-10   \n",
       "15  9055476398179250925.1634235280.1634235280  2108392398.163424 2021-10-14   \n",
       "\n",
       "            visit_time  visit_number            utm_source utm_medium  \\\n",
       "3  1900-01-01 05:00:00             1  kjsLglQLzykiRbcDiGcD        cpc   \n",
       "4  1900-01-01 05:00:00             2  kjsLglQLzykiRbcDiGcD        cpc   \n",
       "5  1900-01-01 12:00:00             1  kjsLglQLzykiRbcDiGcD    organic   \n",
       "7  1900-01-01 19:00:00             1  ZpYIoDJMcFzVoPFsHGJL     banner   \n",
       "9  1900-01-01 16:00:00             1  ZpYIoDJMcFzVoPFsHGJL     banner   \n",
       "10 1900-01-01 09:00:00             2  ZpYIoDJMcFzVoPFsHGJL     banner   \n",
       "11 1900-01-01 22:00:00             1  fDLlAcSmythWSCVMvqvL     (none)   \n",
       "12 1900-01-01 20:00:00             2  fDLlAcSmythWSCVMvqvL     (none)   \n",
       "14 1900-01-01 18:50:15             4  SzZERoLMmrEUEhDaYcyN        cpc   \n",
       "15 1900-01-01 21:00:00             1  ZpYIoDJMcFzVoPFsHGJL     banner   \n",
       "\n",
       "            utm_campaign         utm_adcontent utm_keyword device_category  \\\n",
       "3                    NaN  NOBKLgtuvqYWkXQHeYWM         NaN          mobile   \n",
       "4                    NaN                   NaN         NaN          mobile   \n",
       "5   LTuZkdKfxRGVceoWkVyg  JNHcPlZPxEMWDnRiyoBf         NaN          mobile   \n",
       "7   LEoPHuyFvzoNfnzGgfcd  JNHcPlZPxEMWDnRiyoBf         NaN          mobile   \n",
       "9   LEoPHuyFvzoNfnzGgfcd  JNHcPlZPxEMWDnRiyoBf         NaN          mobile   \n",
       "10  LEoPHuyFvzoNfnzGgfcd  JNHcPlZPxEMWDnRiyoBf         NaN          mobile   \n",
       "11  LTuZkdKfxRGVceoWkVyg  JNHcPlZPxEMWDnRiyoBf         NaN          mobile   \n",
       "12  LTuZkdKfxRGVceoWkVyg  JNHcPlZPxEMWDnRiyoBf         NaN          mobile   \n",
       "14                   NaN                   NaN         NaN          mobile   \n",
       "15  gecBYcKZCPMcVYdSSzKP  JNHcPlZPxEMWDnRiyoBf         NaN          mobile   \n",
       "\n",
       "   device_os device_brand device_screen_resolution   device_browser  \\\n",
       "3        NaN       Xiaomi                  393x786           Chrome   \n",
       "4        NaN       Xiaomi                  393x786           Chrome   \n",
       "5        NaN        Apple                  375x812           Safari   \n",
       "7        NaN      Samsung                  360x640           Chrome   \n",
       "9        NaN      Samsung                  412x915           Chrome   \n",
       "10       NaN      Samsung                  412x915           Chrome   \n",
       "11       NaN      Samsung                  412x869  Android Webview   \n",
       "12       NaN      Samsung                  412x869  Android Webview   \n",
       "14   Android      Samsung                  412x869  Android Webview   \n",
       "15       NaN      Samsung                  412x915           Chrome   \n",
       "\n",
       "   geo_country          geo_city  event_value     auto_brand     auto_model  \n",
       "3       Russia            Moscow          0.0  unknown_brand  unknown_model  \n",
       "4       Russia            Moscow          0.0  unknown_brand  unknown_model  \n",
       "5       Russia  Saint Petersburg          0.0  unknown_brand  unknown_model  \n",
       "7       Russia  Saint Petersburg          0.0  unknown_brand  unknown_model  \n",
       "9       Russia            Moscow          0.0  unknown_brand  unknown_model  \n",
       "10      Russia            Moscow          0.0        porsche            911  \n",
       "11      Russia  Saint Petersburg          0.0         nissan        qashqai  \n",
       "12      Russia  Saint Petersburg          0.0        renault         duster  \n",
       "14      Russia  Saint Petersburg          0.0          skoda          rapid  \n",
       "15      Russia         Yaroslavl          0.0          skoda          rapid  "
      ]
     },
     "execution_count": 32,
     "metadata": {},
     "output_type": "execute_result"
    }
   ],
   "source": [
    "#Первые 10 строк с пустыми utm_keyword\n",
    "df_sessions[df_sessions.utm_keyword.isna()][:10]"
   ]
  },
  {
   "cell_type": "code",
   "execution_count": 33,
   "id": "69f77b6a-6f7f-4e98-a0c2-d0d7c2329397",
   "metadata": {},
   "outputs": [
    {
     "data": {
      "text/html": [
       "<div>\n",
       "<style scoped>\n",
       "    .dataframe tbody tr th:only-of-type {\n",
       "        vertical-align: middle;\n",
       "    }\n",
       "\n",
       "    .dataframe tbody tr th {\n",
       "        vertical-align: top;\n",
       "    }\n",
       "\n",
       "    .dataframe thead th {\n",
       "        text-align: right;\n",
       "    }\n",
       "</style>\n",
       "<table border=\"1\" class=\"dataframe\">\n",
       "  <thead>\n",
       "    <tr style=\"text-align: right;\">\n",
       "      <th></th>\n",
       "      <th>session_id</th>\n",
       "      <th>client_id</th>\n",
       "      <th>visit_date</th>\n",
       "      <th>visit_time</th>\n",
       "      <th>visit_number</th>\n",
       "      <th>utm_source</th>\n",
       "      <th>utm_medium</th>\n",
       "      <th>utm_campaign</th>\n",
       "      <th>utm_adcontent</th>\n",
       "      <th>utm_keyword</th>\n",
       "      <th>device_category</th>\n",
       "      <th>device_os</th>\n",
       "      <th>device_brand</th>\n",
       "      <th>device_screen_resolution</th>\n",
       "      <th>device_browser</th>\n",
       "      <th>geo_country</th>\n",
       "      <th>geo_city</th>\n",
       "      <th>event_value</th>\n",
       "      <th>auto_brand</th>\n",
       "      <th>auto_model</th>\n",
       "    </tr>\n",
       "  </thead>\n",
       "  <tbody>\n",
       "  </tbody>\n",
       "</table>\n",
       "</div>"
      ],
      "text/plain": [
       "Empty DataFrame\n",
       "Columns: [session_id, client_id, visit_date, visit_time, visit_number, utm_source, utm_medium, utm_campaign, utm_adcontent, utm_keyword, device_category, device_os, device_brand, device_screen_resolution, device_browser, geo_country, geo_city, event_value, auto_brand, auto_model]\n",
       "Index: []"
      ]
     },
     "execution_count": 33,
     "metadata": {},
     "output_type": "execute_result"
    }
   ],
   "source": [
    "#Проверка на аномалии, т.е. ловим числа, русские буквы, спецсимволы\n",
    "df_sessions[df_sessions[\"utm_keyword\"].str.contains(r\"[^a-zA-Z\\s\\-]\", na=False)]"
   ]
  },
  {
   "cell_type": "code",
   "execution_count": 34,
   "id": "80012cd2-9199-4595-88b7-48684c105464",
   "metadata": {},
   "outputs": [],
   "source": [
    "#Заполнение пропусков значением unknown_keyword\n",
    "df_sessions['utm_keyword']=df_sessions['utm_keyword'].fillna('unknown_keyword')"
   ]
  },
  {
   "cell_type": "code",
   "execution_count": 35,
   "id": "f27f824e-d164-4a27-81d4-2dbd53857981",
   "metadata": {},
   "outputs": [
    {
     "name": "stdout",
     "output_type": "stream",
     "text": [
      "Процент пропущенных значений в utm_keyword\n"
     ]
    },
    {
     "data": {
      "text/plain": [
       "0.0"
      ]
     },
     "execution_count": 35,
     "metadata": {},
     "output_type": "execute_result"
    }
   ],
   "source": [
    "missing_values_utm_keyword = (df_sessions.utm_keyword.isna().sum()/len(df_sessions.utm_keyword)*100)\n",
    "print('Процент пропущенных значений в utm_keyword')\n",
    "missing_values_utm_keyword"
   ]
  },
  {
   "cell_type": "markdown",
   "id": "8dd677fa-d111-4ca6-9de5-39ac7e21c196",
   "metadata": {},
   "source": [
    "Обработка пропусков device_os"
   ]
  },
  {
   "cell_type": "code",
   "execution_count": 36,
   "id": "60719e17-7755-453d-9071-31c116d5ecf8",
   "metadata": {
    "jupyter": {
     "source_hidden": true
    }
   },
   "outputs": [
    {
     "data": {
      "text/plain": [
       "12"
      ]
     },
     "execution_count": 36,
     "metadata": {},
     "output_type": "execute_result"
    }
   ],
   "source": [
    "#Количество уникальных значений\n",
    "df_sessions.device_os.nunique()"
   ]
  },
  {
   "cell_type": "code",
   "execution_count": 37,
   "id": "c92f9b26-9d22-4d0b-8dc1-f61f49a73424",
   "metadata": {},
   "outputs": [
    {
     "data": {
      "text/plain": [
       "1070502"
      ]
     },
     "execution_count": 37,
     "metadata": {},
     "output_type": "execute_result"
    }
   ],
   "source": [
    "#Количество уникальных значений\n",
    "df_sessions.device_os.isna().sum()"
   ]
  },
  {
   "cell_type": "code",
   "execution_count": 38,
   "id": "38833aa5-57fb-42dd-8cd6-e3ad5d2d21b2",
   "metadata": {},
   "outputs": [
    {
     "data": {
      "text/plain": [
       "device_os\n",
       "Android          464054\n",
       "iOS              207104\n",
       "Windows           88307\n",
       "Macintosh         24824\n",
       "Linux              5120\n",
       "Chrome OS            83\n",
       "BlackBerry           27\n",
       "Tizen                 7\n",
       "Samsung               4\n",
       "Windows Phone         4\n",
       "Firefox OS            3\n",
       "Nokia                 3\n",
       "Name: count, dtype: int64"
      ]
     },
     "execution_count": 38,
     "metadata": {},
     "output_type": "execute_result"
    }
   ],
   "source": [
    "#Счетчик уникальных значений\n",
    "df_sessions.device_os.value_counts()"
   ]
  },
  {
   "cell_type": "code",
   "execution_count": 39,
   "id": "560b80d5-bc31-47cc-808b-3095b6bd19c9",
   "metadata": {
    "scrolled": true
   },
   "outputs": [
    {
     "data": {
      "text/html": [
       "<div>\n",
       "<style scoped>\n",
       "    .dataframe tbody tr th:only-of-type {\n",
       "        vertical-align: middle;\n",
       "    }\n",
       "\n",
       "    .dataframe tbody tr th {\n",
       "        vertical-align: top;\n",
       "    }\n",
       "\n",
       "    .dataframe thead th {\n",
       "        text-align: right;\n",
       "    }\n",
       "</style>\n",
       "<table border=\"1\" class=\"dataframe\">\n",
       "  <thead>\n",
       "    <tr style=\"text-align: right;\">\n",
       "      <th></th>\n",
       "      <th>session_id</th>\n",
       "      <th>client_id</th>\n",
       "      <th>visit_date</th>\n",
       "      <th>visit_time</th>\n",
       "      <th>visit_number</th>\n",
       "      <th>utm_source</th>\n",
       "      <th>utm_medium</th>\n",
       "      <th>utm_campaign</th>\n",
       "      <th>utm_adcontent</th>\n",
       "      <th>utm_keyword</th>\n",
       "      <th>device_category</th>\n",
       "      <th>device_os</th>\n",
       "      <th>device_brand</th>\n",
       "      <th>device_screen_resolution</th>\n",
       "      <th>device_browser</th>\n",
       "      <th>geo_country</th>\n",
       "      <th>geo_city</th>\n",
       "      <th>event_value</th>\n",
       "      <th>auto_brand</th>\n",
       "      <th>auto_model</th>\n",
       "    </tr>\n",
       "  </thead>\n",
       "  <tbody>\n",
       "    <tr>\n",
       "      <th>3</th>\n",
       "      <td>9055447046360770272.1622255328.1622255328</td>\n",
       "      <td>2108385564.162225</td>\n",
       "      <td>2021-05-29</td>\n",
       "      <td>1900-01-01 05:00:00</td>\n",
       "      <td>1</td>\n",
       "      <td>kjsLglQLzykiRbcDiGcD</td>\n",
       "      <td>cpc</td>\n",
       "      <td>NaN</td>\n",
       "      <td>NOBKLgtuvqYWkXQHeYWM</td>\n",
       "      <td>unknown_keyword</td>\n",
       "      <td>mobile</td>\n",
       "      <td>NaN</td>\n",
       "      <td>Xiaomi</td>\n",
       "      <td>393x786</td>\n",
       "      <td>Chrome</td>\n",
       "      <td>Russia</td>\n",
       "      <td>Moscow</td>\n",
       "      <td>0.0</td>\n",
       "      <td>unknown_brand</td>\n",
       "      <td>unknown_model</td>\n",
       "    </tr>\n",
       "    <tr>\n",
       "      <th>4</th>\n",
       "      <td>9055447046360770272.1622255345.1622255345</td>\n",
       "      <td>2108385564.162225</td>\n",
       "      <td>2021-05-29</td>\n",
       "      <td>1900-01-01 05:00:00</td>\n",
       "      <td>2</td>\n",
       "      <td>kjsLglQLzykiRbcDiGcD</td>\n",
       "      <td>cpc</td>\n",
       "      <td>NaN</td>\n",
       "      <td>NaN</td>\n",
       "      <td>unknown_keyword</td>\n",
       "      <td>mobile</td>\n",
       "      <td>NaN</td>\n",
       "      <td>Xiaomi</td>\n",
       "      <td>393x786</td>\n",
       "      <td>Chrome</td>\n",
       "      <td>Russia</td>\n",
       "      <td>Moscow</td>\n",
       "      <td>0.0</td>\n",
       "      <td>unknown_brand</td>\n",
       "      <td>unknown_model</td>\n",
       "    </tr>\n",
       "    <tr>\n",
       "      <th>5</th>\n",
       "      <td>9055447192389856083.1622453074.1622453074</td>\n",
       "      <td>2108385598.162245</td>\n",
       "      <td>2021-05-31</td>\n",
       "      <td>1900-01-01 12:00:00</td>\n",
       "      <td>1</td>\n",
       "      <td>kjsLglQLzykiRbcDiGcD</td>\n",
       "      <td>organic</td>\n",
       "      <td>LTuZkdKfxRGVceoWkVyg</td>\n",
       "      <td>JNHcPlZPxEMWDnRiyoBf</td>\n",
       "      <td>unknown_keyword</td>\n",
       "      <td>mobile</td>\n",
       "      <td>NaN</td>\n",
       "      <td>Apple</td>\n",
       "      <td>375x812</td>\n",
       "      <td>Safari</td>\n",
       "      <td>Russia</td>\n",
       "      <td>Saint Petersburg</td>\n",
       "      <td>0.0</td>\n",
       "      <td>unknown_brand</td>\n",
       "      <td>unknown_model</td>\n",
       "    </tr>\n",
       "    <tr>\n",
       "      <th>7</th>\n",
       "      <td>9055461992850812764.1626107740.1626107740</td>\n",
       "      <td>2108389044.162611</td>\n",
       "      <td>2021-07-12</td>\n",
       "      <td>1900-01-01 19:00:00</td>\n",
       "      <td>1</td>\n",
       "      <td>ZpYIoDJMcFzVoPFsHGJL</td>\n",
       "      <td>banner</td>\n",
       "      <td>LEoPHuyFvzoNfnzGgfcd</td>\n",
       "      <td>JNHcPlZPxEMWDnRiyoBf</td>\n",
       "      <td>unknown_keyword</td>\n",
       "      <td>mobile</td>\n",
       "      <td>NaN</td>\n",
       "      <td>Samsung</td>\n",
       "      <td>360x640</td>\n",
       "      <td>Chrome</td>\n",
       "      <td>Russia</td>\n",
       "      <td>Saint Petersburg</td>\n",
       "      <td>0.0</td>\n",
       "      <td>unknown_brand</td>\n",
       "      <td>unknown_model</td>\n",
       "    </tr>\n",
       "    <tr>\n",
       "      <th>9</th>\n",
       "      <td>9055466554104774132.1624800757.1624800757</td>\n",
       "      <td>2108390106.16248</td>\n",
       "      <td>2021-06-27</td>\n",
       "      <td>1900-01-01 16:00:00</td>\n",
       "      <td>1</td>\n",
       "      <td>ZpYIoDJMcFzVoPFsHGJL</td>\n",
       "      <td>banner</td>\n",
       "      <td>LEoPHuyFvzoNfnzGgfcd</td>\n",
       "      <td>JNHcPlZPxEMWDnRiyoBf</td>\n",
       "      <td>unknown_keyword</td>\n",
       "      <td>mobile</td>\n",
       "      <td>NaN</td>\n",
       "      <td>Samsung</td>\n",
       "      <td>412x915</td>\n",
       "      <td>Chrome</td>\n",
       "      <td>Russia</td>\n",
       "      <td>Moscow</td>\n",
       "      <td>0.0</td>\n",
       "      <td>unknown_brand</td>\n",
       "      <td>unknown_model</td>\n",
       "    </tr>\n",
       "    <tr>\n",
       "      <th>10</th>\n",
       "      <td>9055466554104774132.1629442326.1629442326</td>\n",
       "      <td>2108390106.16248</td>\n",
       "      <td>2021-08-20</td>\n",
       "      <td>1900-01-01 09:00:00</td>\n",
       "      <td>2</td>\n",
       "      <td>ZpYIoDJMcFzVoPFsHGJL</td>\n",
       "      <td>banner</td>\n",
       "      <td>LEoPHuyFvzoNfnzGgfcd</td>\n",
       "      <td>JNHcPlZPxEMWDnRiyoBf</td>\n",
       "      <td>unknown_keyword</td>\n",
       "      <td>mobile</td>\n",
       "      <td>NaN</td>\n",
       "      <td>Samsung</td>\n",
       "      <td>412x915</td>\n",
       "      <td>Chrome</td>\n",
       "      <td>Russia</td>\n",
       "      <td>Moscow</td>\n",
       "      <td>0.0</td>\n",
       "      <td>porsche</td>\n",
       "      <td>911</td>\n",
       "    </tr>\n",
       "    <tr>\n",
       "      <th>11</th>\n",
       "      <td>9055469620715506713.1628883994.1628883994</td>\n",
       "      <td>2108390820.162888</td>\n",
       "      <td>2021-08-13</td>\n",
       "      <td>1900-01-01 22:00:00</td>\n",
       "      <td>1</td>\n",
       "      <td>fDLlAcSmythWSCVMvqvL</td>\n",
       "      <td>(none)</td>\n",
       "      <td>LTuZkdKfxRGVceoWkVyg</td>\n",
       "      <td>JNHcPlZPxEMWDnRiyoBf</td>\n",
       "      <td>unknown_keyword</td>\n",
       "      <td>mobile</td>\n",
       "      <td>NaN</td>\n",
       "      <td>Samsung</td>\n",
       "      <td>412x869</td>\n",
       "      <td>Android Webview</td>\n",
       "      <td>Russia</td>\n",
       "      <td>Saint Petersburg</td>\n",
       "      <td>0.0</td>\n",
       "      <td>nissan</td>\n",
       "      <td>qashqai</td>\n",
       "    </tr>\n",
       "    <tr>\n",
       "      <th>12</th>\n",
       "      <td>9055469620715506713.1633110583.1633110583</td>\n",
       "      <td>2108390820.162888</td>\n",
       "      <td>2021-10-01</td>\n",
       "      <td>1900-01-01 20:00:00</td>\n",
       "      <td>2</td>\n",
       "      <td>fDLlAcSmythWSCVMvqvL</td>\n",
       "      <td>(none)</td>\n",
       "      <td>LTuZkdKfxRGVceoWkVyg</td>\n",
       "      <td>JNHcPlZPxEMWDnRiyoBf</td>\n",
       "      <td>unknown_keyword</td>\n",
       "      <td>mobile</td>\n",
       "      <td>NaN</td>\n",
       "      <td>Samsung</td>\n",
       "      <td>412x869</td>\n",
       "      <td>Android Webview</td>\n",
       "      <td>Russia</td>\n",
       "      <td>Saint Petersburg</td>\n",
       "      <td>0.0</td>\n",
       "      <td>renault</td>\n",
       "      <td>duster</td>\n",
       "    </tr>\n",
       "    <tr>\n",
       "      <th>15</th>\n",
       "      <td>9055476398179250925.1634235280.1634235280</td>\n",
       "      <td>2108392398.163424</td>\n",
       "      <td>2021-10-14</td>\n",
       "      <td>1900-01-01 21:00:00</td>\n",
       "      <td>1</td>\n",
       "      <td>ZpYIoDJMcFzVoPFsHGJL</td>\n",
       "      <td>banner</td>\n",
       "      <td>gecBYcKZCPMcVYdSSzKP</td>\n",
       "      <td>JNHcPlZPxEMWDnRiyoBf</td>\n",
       "      <td>unknown_keyword</td>\n",
       "      <td>mobile</td>\n",
       "      <td>NaN</td>\n",
       "      <td>Samsung</td>\n",
       "      <td>412x915</td>\n",
       "      <td>Chrome</td>\n",
       "      <td>Russia</td>\n",
       "      <td>Yaroslavl</td>\n",
       "      <td>0.0</td>\n",
       "      <td>skoda</td>\n",
       "      <td>rapid</td>\n",
       "    </tr>\n",
       "    <tr>\n",
       "      <th>17</th>\n",
       "      <td>9055487955932503299.1630493885.1630493885</td>\n",
       "      <td>2108395089.163049</td>\n",
       "      <td>2021-09-01</td>\n",
       "      <td>1900-01-01 13:00:00</td>\n",
       "      <td>1</td>\n",
       "      <td>ZpYIoDJMcFzVoPFsHGJL</td>\n",
       "      <td>banner</td>\n",
       "      <td>gecBYcKZCPMcVYdSSzKP</td>\n",
       "      <td>JNHcPlZPxEMWDnRiyoBf</td>\n",
       "      <td>unknown_keyword</td>\n",
       "      <td>mobile</td>\n",
       "      <td>NaN</td>\n",
       "      <td>Xiaomi</td>\n",
       "      <td>393x786</td>\n",
       "      <td>Chrome</td>\n",
       "      <td>Russia</td>\n",
       "      <td>Mytishchi</td>\n",
       "      <td>0.0</td>\n",
       "      <td>renault</td>\n",
       "      <td>logan</td>\n",
       "    </tr>\n",
       "  </tbody>\n",
       "</table>\n",
       "</div>"
      ],
      "text/plain": [
       "                                   session_id          client_id visit_date  \\\n",
       "3   9055447046360770272.1622255328.1622255328  2108385564.162225 2021-05-29   \n",
       "4   9055447046360770272.1622255345.1622255345  2108385564.162225 2021-05-29   \n",
       "5   9055447192389856083.1622453074.1622453074  2108385598.162245 2021-05-31   \n",
       "7   9055461992850812764.1626107740.1626107740  2108389044.162611 2021-07-12   \n",
       "9   9055466554104774132.1624800757.1624800757   2108390106.16248 2021-06-27   \n",
       "10  9055466554104774132.1629442326.1629442326   2108390106.16248 2021-08-20   \n",
       "11  9055469620715506713.1628883994.1628883994  2108390820.162888 2021-08-13   \n",
       "12  9055469620715506713.1633110583.1633110583  2108390820.162888 2021-10-01   \n",
       "15  9055476398179250925.1634235280.1634235280  2108392398.163424 2021-10-14   \n",
       "17  9055487955932503299.1630493885.1630493885  2108395089.163049 2021-09-01   \n",
       "\n",
       "            visit_time  visit_number            utm_source utm_medium  \\\n",
       "3  1900-01-01 05:00:00             1  kjsLglQLzykiRbcDiGcD        cpc   \n",
       "4  1900-01-01 05:00:00             2  kjsLglQLzykiRbcDiGcD        cpc   \n",
       "5  1900-01-01 12:00:00             1  kjsLglQLzykiRbcDiGcD    organic   \n",
       "7  1900-01-01 19:00:00             1  ZpYIoDJMcFzVoPFsHGJL     banner   \n",
       "9  1900-01-01 16:00:00             1  ZpYIoDJMcFzVoPFsHGJL     banner   \n",
       "10 1900-01-01 09:00:00             2  ZpYIoDJMcFzVoPFsHGJL     banner   \n",
       "11 1900-01-01 22:00:00             1  fDLlAcSmythWSCVMvqvL     (none)   \n",
       "12 1900-01-01 20:00:00             2  fDLlAcSmythWSCVMvqvL     (none)   \n",
       "15 1900-01-01 21:00:00             1  ZpYIoDJMcFzVoPFsHGJL     banner   \n",
       "17 1900-01-01 13:00:00             1  ZpYIoDJMcFzVoPFsHGJL     banner   \n",
       "\n",
       "            utm_campaign         utm_adcontent      utm_keyword  \\\n",
       "3                    NaN  NOBKLgtuvqYWkXQHeYWM  unknown_keyword   \n",
       "4                    NaN                   NaN  unknown_keyword   \n",
       "5   LTuZkdKfxRGVceoWkVyg  JNHcPlZPxEMWDnRiyoBf  unknown_keyword   \n",
       "7   LEoPHuyFvzoNfnzGgfcd  JNHcPlZPxEMWDnRiyoBf  unknown_keyword   \n",
       "9   LEoPHuyFvzoNfnzGgfcd  JNHcPlZPxEMWDnRiyoBf  unknown_keyword   \n",
       "10  LEoPHuyFvzoNfnzGgfcd  JNHcPlZPxEMWDnRiyoBf  unknown_keyword   \n",
       "11  LTuZkdKfxRGVceoWkVyg  JNHcPlZPxEMWDnRiyoBf  unknown_keyword   \n",
       "12  LTuZkdKfxRGVceoWkVyg  JNHcPlZPxEMWDnRiyoBf  unknown_keyword   \n",
       "15  gecBYcKZCPMcVYdSSzKP  JNHcPlZPxEMWDnRiyoBf  unknown_keyword   \n",
       "17  gecBYcKZCPMcVYdSSzKP  JNHcPlZPxEMWDnRiyoBf  unknown_keyword   \n",
       "\n",
       "   device_category device_os device_brand device_screen_resolution  \\\n",
       "3           mobile       NaN       Xiaomi                  393x786   \n",
       "4           mobile       NaN       Xiaomi                  393x786   \n",
       "5           mobile       NaN        Apple                  375x812   \n",
       "7           mobile       NaN      Samsung                  360x640   \n",
       "9           mobile       NaN      Samsung                  412x915   \n",
       "10          mobile       NaN      Samsung                  412x915   \n",
       "11          mobile       NaN      Samsung                  412x869   \n",
       "12          mobile       NaN      Samsung                  412x869   \n",
       "15          mobile       NaN      Samsung                  412x915   \n",
       "17          mobile       NaN       Xiaomi                  393x786   \n",
       "\n",
       "     device_browser geo_country          geo_city  event_value     auto_brand  \\\n",
       "3            Chrome      Russia            Moscow          0.0  unknown_brand   \n",
       "4            Chrome      Russia            Moscow          0.0  unknown_brand   \n",
       "5            Safari      Russia  Saint Petersburg          0.0  unknown_brand   \n",
       "7            Chrome      Russia  Saint Petersburg          0.0  unknown_brand   \n",
       "9            Chrome      Russia            Moscow          0.0  unknown_brand   \n",
       "10           Chrome      Russia            Moscow          0.0        porsche   \n",
       "11  Android Webview      Russia  Saint Petersburg          0.0         nissan   \n",
       "12  Android Webview      Russia  Saint Petersburg          0.0        renault   \n",
       "15           Chrome      Russia         Yaroslavl          0.0          skoda   \n",
       "17           Chrome      Russia         Mytishchi          0.0        renault   \n",
       "\n",
       "       auto_model  \n",
       "3   unknown_model  \n",
       "4   unknown_model  \n",
       "5   unknown_model  \n",
       "7   unknown_model  \n",
       "9   unknown_model  \n",
       "10            911  \n",
       "11        qashqai  \n",
       "12         duster  \n",
       "15          rapid  \n",
       "17          logan  "
      ]
     },
     "execution_count": 39,
     "metadata": {},
     "output_type": "execute_result"
    }
   ],
   "source": [
    "#Первые 10 строк с пропусками\n",
    "df_sessions[df_sessions.device_os.isna()][:10]"
   ]
  },
  {
   "cell_type": "code",
   "execution_count": 40,
   "id": "ba888c6a-98be-4303-9a00-b7cf07bc6bf3",
   "metadata": {},
   "outputs": [],
   "source": [
    "#Заполнение пропусков для телефонов Apple\n",
    "df_sessions.loc[\n",
    "    (df_sessions[\"device_brand\"] == \"Apple\") & \n",
    "    (df_sessions[\"device_category\"] == \"mobile\") & \n",
    "    (df_sessions[\"device_os\"].isna()), \"device_os\"] = \"iOS\""
   ]
  },
  {
   "cell_type": "code",
   "execution_count": 41,
   "id": "bd845f3b-cb02-4fba-9008-bbab5da6b48e",
   "metadata": {},
   "outputs": [],
   "source": [
    "#Заполнение пропусков для компьютеров Apple\n",
    "df_sessions.loc[\n",
    "    (df_sessions[\"device_brand\"] == \"Apple\") & \n",
    "    (df_sessions[\"device_category\"] == \"desktop\") & \n",
    "    (df_sessions[\"device_os\"].isna()), \"device_os\"] = \"Macintosh\""
   ]
  },
  {
   "cell_type": "code",
   "execution_count": 42,
   "id": "7bd8942d-888f-483e-9d47-e0391d859ce2",
   "metadata": {},
   "outputs": [
    {
     "name": "stdout",
     "output_type": "stream",
     "text": [
      "Процент пропущенных значений в device_os\n"
     ]
    },
    {
     "data": {
      "text/plain": [
       "39.29588686707074"
      ]
     },
     "execution_count": 42,
     "metadata": {},
     "output_type": "execute_result"
    }
   ],
   "source": [
    "missing_values_device_os = (df_sessions.device_os.isna().sum()/len(df_sessions.device_os)*100)\n",
    "print('Процент пропущенных значений в device_os')\n",
    "missing_values_device_os"
   ]
  },
  {
   "cell_type": "code",
   "execution_count": 43,
   "id": "f8017d1a-9410-4f0d-acd9-e7e806ea5670",
   "metadata": {},
   "outputs": [],
   "source": [
    "#Бренды, которые выпускают только Android\n",
    "android_only_brands = (\n",
    "    df_sessions.groupby(\"device_brand\")[\"device_os\"]\n",
    "      .apply(lambda x: set(x.dropna().unique()))\n",
    "      .loc[lambda s: s == {\"Android\"}]\n",
    "      .index\n",
    ")"
   ]
  },
  {
   "cell_type": "code",
   "execution_count": 44,
   "id": "03510d0c-6224-4216-8ee1-54e532637863",
   "metadata": {},
   "outputs": [
    {
     "data": {
      "text/plain": [
       "Index(['A1', 'AGM', 'Acer', 'Advan', 'Alcatel', 'Alldocube', 'Amazon',\n",
       "       'Ananda', 'Archos', 'Ark',\n",
       "       ...\n",
       "       'Xgody', 'Xiaomi', 'Yota Devices', 'Yuntab', 'ZOJI', 'ZTE', 'iNew',\n",
       "       'itel', 'myPhone', 'teXet'],\n",
       "      dtype='object', name='device_brand', length=155)"
      ]
     },
     "execution_count": 44,
     "metadata": {},
     "output_type": "execute_result"
    }
   ],
   "source": [
    "android_only_brands"
   ]
  },
  {
   "cell_type": "code",
   "execution_count": 45,
   "id": "5dd19770-0cd6-448a-9063-c6a3fa90dcfa",
   "metadata": {},
   "outputs": [],
   "source": [
    "#Заполнение пропусков для всех брендов, выпускающих только Android\n",
    "for i in android_only_brands:\n",
    "    df_sessions.loc[(df_sessions[\"device_brand\"] == i) & (df_sessions[\"device_os\"].isna()), \"device_os\"] = \"Android\""
   ]
  },
  {
   "cell_type": "code",
   "execution_count": 46,
   "id": "d6a763dd-e070-41cd-ace6-fbbe10d7a4ec",
   "metadata": {},
   "outputs": [
    {
     "name": "stdout",
     "output_type": "stream",
     "text": [
      "Процент пропущенных значений в device_os\n"
     ]
    },
    {
     "data": {
      "text/plain": [
       "23.216465004553662"
      ]
     },
     "execution_count": 46,
     "metadata": {},
     "output_type": "execute_result"
    }
   ],
   "source": [
    "missing_values_device_os = (df_sessions.device_os.isna().sum()/len(df_sessions.device_os)*100)\n",
    "print('Процент пропущенных значений в device_os')\n",
    "missing_values_device_os"
   ]
  },
  {
   "cell_type": "code",
   "execution_count": 47,
   "id": "330353c9-16d3-40c1-8019-dd1d08801e2b",
   "metadata": {
    "scrolled": true
   },
   "outputs": [
    {
     "name": "stdout",
     "output_type": "stream",
     "text": [
      "Samsung ['Android' nan 'Samsung']\n",
      "Apple ['iOS' nan 'Macintosh']\n",
      "nan []\n",
      "Nokia ['Android' nan 'Nokia' 'Windows Phone']\n",
      "China Phone [nan]\n",
      "BlackBerry [nan 'Android' 'BlackBerry']\n",
      "Mozilla ['Android' nan 'Firefox OS']\n",
      "Flylion [nan]\n",
      "Itoos [nan]\n",
      "Walton [nan]\n",
      "Xiaolajiao [nan]\n",
      "Condor [nan]\n",
      "Razer [nan]\n",
      "Microsoft [nan]\n",
      "Fujitsu [nan]\n",
      "PPTV [nan]\n",
      "RCA [nan]\n",
      "Cube [nan]\n",
      "AT&T [nan]\n",
      "Tonbux [nan]\n",
      "T-Mobile [nan]\n",
      "Smartfren [nan]\n",
      "MTS [nan]\n",
      "KingSing [nan]\n",
      "Dragon Touch [nan]\n",
      "Fero [nan]\n",
      "Land Rover [nan]\n",
      "Tanix [nan]\n",
      "Mlais [nan]\n",
      "Beelink [nan]\n",
      "Orbic [nan]\n",
      "Honeywell [nan]\n",
      "RED [nan]\n",
      "Sonim [nan]\n",
      "Jiayu [nan]\n",
      "Leegoog [nan]\n",
      "Star [nan]\n",
      "Ellipsis [nan]\n",
      "LTC [nan]\n",
      "Motive [nan]\n",
      "M-HORSE [nan]\n",
      "Winnovo [nan]\n",
      "Nomi [nan]\n",
      "Wings Mobile [nan]\n",
      "How [nan]\n",
      "Centric [nan]\n",
      "Maze [nan]\n",
      "Tagital [nan]\n",
      "Maxvi [nan]\n",
      "Opera [nan]\n"
     ]
    }
   ],
   "source": [
    "#Бренды и список их os, для тех, у кого остались пропуски в os\n",
    "for i in df_sessions.device_brand[df_sessions.device_os.isna()].unique():\n",
    "    print(i, df_sessions.device_os[df_sessions.device_brand==i].unique())"
   ]
  },
  {
   "cell_type": "code",
   "execution_count": 48,
   "id": "e0555453-2a08-4b24-9a32-d207221d92d4",
   "metadata": {},
   "outputs": [
    {
     "name": "stdout",
     "output_type": "stream",
     "text": [
      "Samsung device_os\n",
      "NaN        166510\n",
      "Android    165680\n",
      "Samsung         4\n",
      "Name: count, dtype: int64\n",
      "Apple device_os\n",
      "iOS          546641\n",
      "NaN            4408\n",
      "Macintosh        39\n",
      "Name: count, dtype: int64\n",
      "nan Series([], Name: count, dtype: int64)\n",
      "Nokia device_os\n",
      "NaN              3681\n",
      "Android          3599\n",
      "Nokia               3\n",
      "Windows Phone       2\n",
      "Name: count, dtype: int64\n",
      "China Phone device_os\n",
      "NaN    6\n",
      "Name: count, dtype: int64\n",
      "BlackBerry device_os\n",
      "NaN           246\n",
      "Android        65\n",
      "BlackBerry     27\n",
      "Name: count, dtype: int64\n",
      "Mozilla device_os\n",
      "NaN           284\n",
      "Android         8\n",
      "Firefox OS      3\n",
      "Name: count, dtype: int64\n",
      "Flylion device_os\n",
      "NaN    1\n",
      "Name: count, dtype: int64\n",
      "Itoos device_os\n",
      "NaN    1\n",
      "Name: count, dtype: int64\n",
      "Walton device_os\n",
      "NaN    2\n",
      "Name: count, dtype: int64\n",
      "Xiaolajiao device_os\n",
      "NaN    2\n",
      "Name: count, dtype: int64\n",
      "Condor device_os\n",
      "NaN    7\n",
      "Name: count, dtype: int64\n",
      "Razer device_os\n",
      "NaN    6\n",
      "Name: count, dtype: int64\n",
      "Microsoft device_os\n",
      "NaN    2\n",
      "Name: count, dtype: int64\n",
      "Fujitsu device_os\n",
      "NaN    3\n",
      "Name: count, dtype: int64\n",
      "PPTV device_os\n",
      "NaN    2\n",
      "Name: count, dtype: int64\n",
      "RCA device_os\n",
      "NaN    2\n",
      "Name: count, dtype: int64\n",
      "Cube device_os\n",
      "NaN    1\n",
      "Name: count, dtype: int64\n",
      "AT&T device_os\n",
      "NaN    3\n",
      "Name: count, dtype: int64\n",
      "Tonbux device_os\n",
      "NaN    1\n",
      "Name: count, dtype: int64\n",
      "T-Mobile device_os\n",
      "NaN    2\n",
      "Name: count, dtype: int64\n",
      "Smartfren device_os\n",
      "NaN    1\n",
      "Name: count, dtype: int64\n",
      "MTS device_os\n",
      "NaN    2\n",
      "Name: count, dtype: int64\n",
      "KingSing device_os\n",
      "NaN    1\n",
      "Name: count, dtype: int64\n",
      "Dragon Touch device_os\n",
      "NaN    1\n",
      "Name: count, dtype: int64\n",
      "Fero device_os\n",
      "NaN    2\n",
      "Name: count, dtype: int64\n",
      "Land Rover device_os\n",
      "NaN    3\n",
      "Name: count, dtype: int64\n",
      "Tanix device_os\n",
      "NaN    1\n",
      "Name: count, dtype: int64\n",
      "Mlais device_os\n",
      "NaN    1\n",
      "Name: count, dtype: int64\n",
      "Beelink device_os\n",
      "NaN    2\n",
      "Name: count, dtype: int64\n",
      "Orbic device_os\n",
      "NaN    1\n",
      "Name: count, dtype: int64\n",
      "Honeywell device_os\n",
      "NaN    1\n",
      "Name: count, dtype: int64\n",
      "RED device_os\n",
      "NaN    2\n",
      "Name: count, dtype: int64\n",
      "Sonim device_os\n",
      "NaN    1\n",
      "Name: count, dtype: int64\n",
      "Jiayu device_os\n",
      "NaN    1\n",
      "Name: count, dtype: int64\n",
      "Leegoog device_os\n",
      "NaN    1\n",
      "Name: count, dtype: int64\n",
      "Star device_os\n",
      "NaN    1\n",
      "Name: count, dtype: int64\n",
      "Ellipsis device_os\n",
      "NaN    1\n",
      "Name: count, dtype: int64\n",
      "LTC device_os\n",
      "NaN    2\n",
      "Name: count, dtype: int64\n",
      "Motive device_os\n",
      "NaN    1\n",
      "Name: count, dtype: int64\n",
      "M-HORSE device_os\n",
      "NaN    1\n",
      "Name: count, dtype: int64\n",
      "Winnovo device_os\n",
      "NaN    3\n",
      "Name: count, dtype: int64\n",
      "Nomi device_os\n",
      "NaN    1\n",
      "Name: count, dtype: int64\n",
      "Wings Mobile device_os\n",
      "NaN    1\n",
      "Name: count, dtype: int64\n",
      "How device_os\n",
      "NaN    1\n",
      "Name: count, dtype: int64\n",
      "Centric device_os\n",
      "NaN    1\n",
      "Name: count, dtype: int64\n",
      "Maze device_os\n",
      "NaN    1\n",
      "Name: count, dtype: int64\n",
      "Tagital device_os\n",
      "NaN    1\n",
      "Name: count, dtype: int64\n",
      "Maxvi device_os\n",
      "NaN    1\n",
      "Name: count, dtype: int64\n",
      "Opera device_os\n",
      "NaN    1\n",
      "Name: count, dtype: int64\n"
     ]
    }
   ],
   "source": [
    "#Счетчик уникальных значений os для брендов, у которых остались пропущенные os\n",
    "for i in df_sessions.device_brand[df_sessions.device_os.isna()].unique():\n",
    "    print(i, df_sessions.loc[df_sessions[\"device_brand\"] == i, \"device_os\"].value_counts(dropna=False))"
   ]
  },
  {
   "cell_type": "code",
   "execution_count": 49,
   "id": "07b34fac-50b5-4c33-82f4-a73c59e9998a",
   "metadata": {},
   "outputs": [],
   "source": [
    "#Заполнение пропусков самой популярной(95% утройств) os для каждого бренда\n",
    "def fill_os_by_brand(df, brand_col=\"device_brand\", os_col=\"device_os\", threshold=0.95):\n",
    "    # цикл по брендам\n",
    "    for brand, group in df.groupby(brand_col):\n",
    "        # частоты значений ОС (без NaN)\n",
    "        counts = group[os_col].value_counts(dropna=True)\n",
    "        \n",
    "        if len(counts) == 0:\n",
    "            continue  # если у бренда только NaN → ничего не делаем\n",
    "        \n",
    "        # самая частая ОС\n",
    "        top_os = counts.index[0]\n",
    "        top_ratio = counts.iloc[0] / counts.sum()\n",
    "        \n",
    "        if top_ratio >= threshold:\n",
    "            # заполняем NaN этой ОС\n",
    "            df.loc[(df[brand_col] == brand) & (df[os_col].isna()), os_col] = top_os\n",
    "        else:\n",
    "            # иначе ставим \"unknown_os\"\n",
    "            df.loc[(df[brand_col] == brand) & (df[os_col].isna()), os_col] = \"unknown_os\"\n",
    "    \n",
    "    return df\n",
    "\n",
    "df_sessions = fill_os_by_brand(df_sessions, threshold=0.95)"
   ]
  },
  {
   "cell_type": "code",
   "execution_count": 50,
   "id": "ea77051c-47ee-4661-9207-9c4be0883f87",
   "metadata": {},
   "outputs": [
    {
     "name": "stdout",
     "output_type": "stream",
     "text": [
      "Процент пропущенных значений в device_os\n"
     ]
    },
    {
     "data": {
      "text/plain": [
       "13.801139974258646"
      ]
     },
     "execution_count": 50,
     "metadata": {},
     "output_type": "execute_result"
    }
   ],
   "source": [
    "missing_values_device_os = (df_sessions.device_os.isna().sum()/len(df_sessions.device_os)*100)\n",
    "print('Процент пропущенных значений в device_os')\n",
    "missing_values_device_os"
   ]
  },
  {
   "cell_type": "code",
   "execution_count": 51,
   "id": "eb77033a-1914-423e-be5d-b41f20cfaaf0",
   "metadata": {},
   "outputs": [],
   "source": [
    "#Заполнение оставшихся пропусков \"unknown_os\"\n",
    "df_sessions.device_os=df_sessions.device_os.fillna('unknown_os')"
   ]
  },
  {
   "cell_type": "code",
   "execution_count": 52,
   "id": "d4544741-a11d-404e-b1a5-d8de5dbbdcb8",
   "metadata": {},
   "outputs": [
    {
     "name": "stdout",
     "output_type": "stream",
     "text": [
      "Процент пропущенных значений в device_os\n"
     ]
    },
    {
     "data": {
      "text/plain": [
       "0.0"
      ]
     },
     "execution_count": 52,
     "metadata": {},
     "output_type": "execute_result"
    }
   ],
   "source": [
    "missing_values_device_os = (df_sessions.device_os.isna().sum()/len(df_sessions.device_os)*100)\n",
    "print('Процент пропущенных значений в device_os')\n",
    "missing_values_device_os"
   ]
  },
  {
   "cell_type": "code",
   "execution_count": 53,
   "id": "8f2af2a8-816e-451a-b587-1b00a7dd169c",
   "metadata": {},
   "outputs": [],
   "source": [
    "#Приведение к нижнему регистру\n",
    "df_sessions['device_os']=df_sessions['device_os'].str.strip().str.lower()"
   ]
  },
  {
   "cell_type": "markdown",
   "id": "d9d18e23-a898-450a-a33f-b5461278fc5a",
   "metadata": {},
   "source": [
    "Обработка пропусков device_brand\n"
   ]
  },
  {
   "cell_type": "code",
   "execution_count": 54,
   "id": "7155abc3-9171-4e4e-98c3-9401389302dc",
   "metadata": {},
   "outputs": [
    {
     "data": {
      "text/plain": [
       "204"
      ]
     },
     "execution_count": 54,
     "metadata": {},
     "output_type": "execute_result"
    }
   ],
   "source": [
    "#Количество уникальных значений \n",
    "df_sessions.device_brand.nunique()"
   ]
  },
  {
   "cell_type": "code",
   "execution_count": 55,
   "id": "418cc06d-d59e-452e-84df-940680e2bb91",
   "metadata": {},
   "outputs": [
    {
     "data": {
      "text/plain": [
       "384723"
      ]
     },
     "execution_count": 55,
     "metadata": {},
     "output_type": "execute_result"
    }
   ],
   "source": [
    "#Количество пропусков\n",
    "df_sessions.device_brand.isna().sum()"
   ]
  },
  {
   "cell_type": "code",
   "execution_count": 56,
   "id": "52ee882f-e33a-4f9e-af78-6a4dd0dd865c",
   "metadata": {},
   "outputs": [
    {
     "data": {
      "text/plain": [
       "device_brand\n",
       "Apple           551088\n",
       "Samsung         332194\n",
       "Xiaomi          288367\n",
       "Huawei          185853\n",
       "Realme           19058\n",
       "                 ...  \n",
       "Itoos                1\n",
       "Wexler               1\n",
       "Dragon Touch         1\n",
       "Smartfren            1\n",
       "Opera                1\n",
       "Name: count, Length: 204, dtype: int64"
      ]
     },
     "execution_count": 56,
     "metadata": {},
     "output_type": "execute_result"
    }
   ],
   "source": [
    "#Счетчик уникальных значений\n",
    "df_sessions.device_brand.value_counts()"
   ]
  },
  {
   "cell_type": "code",
   "execution_count": 57,
   "id": "44b797d9-9401-4b3d-b604-c51cc524003d",
   "metadata": {},
   "outputs": [
    {
     "data": {
      "text/html": [
       "<div>\n",
       "<style scoped>\n",
       "    .dataframe tbody tr th:only-of-type {\n",
       "        vertical-align: middle;\n",
       "    }\n",
       "\n",
       "    .dataframe tbody tr th {\n",
       "        vertical-align: top;\n",
       "    }\n",
       "\n",
       "    .dataframe thead th {\n",
       "        text-align: right;\n",
       "    }\n",
       "</style>\n",
       "<table border=\"1\" class=\"dataframe\">\n",
       "  <thead>\n",
       "    <tr style=\"text-align: right;\">\n",
       "      <th></th>\n",
       "      <th>session_id</th>\n",
       "      <th>client_id</th>\n",
       "      <th>visit_date</th>\n",
       "      <th>visit_time</th>\n",
       "      <th>visit_number</th>\n",
       "      <th>utm_source</th>\n",
       "      <th>utm_medium</th>\n",
       "      <th>utm_campaign</th>\n",
       "      <th>utm_adcontent</th>\n",
       "      <th>utm_keyword</th>\n",
       "      <th>device_category</th>\n",
       "      <th>device_os</th>\n",
       "      <th>device_brand</th>\n",
       "      <th>device_screen_resolution</th>\n",
       "      <th>device_browser</th>\n",
       "      <th>geo_country</th>\n",
       "      <th>geo_city</th>\n",
       "      <th>event_value</th>\n",
       "      <th>auto_brand</th>\n",
       "      <th>auto_model</th>\n",
       "    </tr>\n",
       "  </thead>\n",
       "  <tbody>\n",
       "    <tr>\n",
       "      <th>28</th>\n",
       "      <td>9055505230298952295.1638478433.1638478433</td>\n",
       "      <td>2108399111.163848</td>\n",
       "      <td>2021-12-02</td>\n",
       "      <td>1900-01-01 23:53:53</td>\n",
       "      <td>1</td>\n",
       "      <td>fDLlAcSmythWSCVMvqvL</td>\n",
       "      <td>(none)</td>\n",
       "      <td>LTuZkdKfxRGVceoWkVyg</td>\n",
       "      <td>JNHcPlZPxEMWDnRiyoBf</td>\n",
       "      <td>puhZPIYqKXeFPaUviSjo</td>\n",
       "      <td>desktop</td>\n",
       "      <td>windows</td>\n",
       "      <td>NaN</td>\n",
       "      <td>1536x864</td>\n",
       "      <td>Chrome</td>\n",
       "      <td>Russia</td>\n",
       "      <td>Balashikha</td>\n",
       "      <td>0.0</td>\n",
       "      <td>renault</td>\n",
       "      <td>logan</td>\n",
       "    </tr>\n",
       "    <tr>\n",
       "      <th>63</th>\n",
       "      <td>9055657327967035032.1629707931.1629707931</td>\n",
       "      <td>2108434524.162971</td>\n",
       "      <td>2021-08-23</td>\n",
       "      <td>1900-01-01 11:00:00</td>\n",
       "      <td>1</td>\n",
       "      <td>nSReTmyFtbSjlPrTKoaX</td>\n",
       "      <td>banner</td>\n",
       "      <td>BVKxkCOHKUOvkpbrLMgZ</td>\n",
       "      <td>JNHcPlZPxEMWDnRiyoBf</td>\n",
       "      <td>unknown_keyword</td>\n",
       "      <td>desktop</td>\n",
       "      <td>unknown_os</td>\n",
       "      <td>NaN</td>\n",
       "      <td>1920x1080</td>\n",
       "      <td>YaBrowser</td>\n",
       "      <td>Russia</td>\n",
       "      <td>Moscow</td>\n",
       "      <td>0.0</td>\n",
       "      <td>kia</td>\n",
       "      <td>seltos</td>\n",
       "    </tr>\n",
       "    <tr>\n",
       "      <th>64</th>\n",
       "      <td>905565977351442956.1622561294.1622561294</td>\n",
       "      <td>210843509.162256</td>\n",
       "      <td>2021-06-01</td>\n",
       "      <td>1900-01-01 18:00:00</td>\n",
       "      <td>1</td>\n",
       "      <td>fDLlAcSmythWSCVMvqvL</td>\n",
       "      <td>(none)</td>\n",
       "      <td>LTuZkdKfxRGVceoWkVyg</td>\n",
       "      <td>JNHcPlZPxEMWDnRiyoBf</td>\n",
       "      <td>unknown_keyword</td>\n",
       "      <td>desktop</td>\n",
       "      <td>unknown_os</td>\n",
       "      <td>NaN</td>\n",
       "      <td>1920x1080</td>\n",
       "      <td>Chrome</td>\n",
       "      <td>Russia</td>\n",
       "      <td>Moscow</td>\n",
       "      <td>0.0</td>\n",
       "      <td>skoda</td>\n",
       "      <td>rapid</td>\n",
       "    </tr>\n",
       "    <tr>\n",
       "      <th>67</th>\n",
       "      <td>9055678214400253418.1636965866.1636965866</td>\n",
       "      <td>2108439387.163696</td>\n",
       "      <td>2021-11-15</td>\n",
       "      <td>1900-01-01 11:44:26</td>\n",
       "      <td>1</td>\n",
       "      <td>fDLlAcSmythWSCVMvqvL</td>\n",
       "      <td>(none)</td>\n",
       "      <td>LTuZkdKfxRGVceoWkVyg</td>\n",
       "      <td>JNHcPlZPxEMWDnRiyoBf</td>\n",
       "      <td>puhZPIYqKXeFPaUviSjo</td>\n",
       "      <td>desktop</td>\n",
       "      <td>windows</td>\n",
       "      <td>NaN</td>\n",
       "      <td>1920x1080</td>\n",
       "      <td>Chrome</td>\n",
       "      <td>Russia</td>\n",
       "      <td>Saint Petersburg</td>\n",
       "      <td>0.0</td>\n",
       "      <td>renault</td>\n",
       "      <td>logan</td>\n",
       "    </tr>\n",
       "    <tr>\n",
       "      <th>73</th>\n",
       "      <td>9055788191321875859.1626006934.1626006934</td>\n",
       "      <td>2108464993.162601</td>\n",
       "      <td>2021-07-11</td>\n",
       "      <td>1900-01-01 15:00:00</td>\n",
       "      <td>1</td>\n",
       "      <td>fDLlAcSmythWSCVMvqvL</td>\n",
       "      <td>(none)</td>\n",
       "      <td>LTuZkdKfxRGVceoWkVyg</td>\n",
       "      <td>JNHcPlZPxEMWDnRiyoBf</td>\n",
       "      <td>unknown_keyword</td>\n",
       "      <td>desktop</td>\n",
       "      <td>unknown_os</td>\n",
       "      <td>NaN</td>\n",
       "      <td>1280x720</td>\n",
       "      <td>Chrome</td>\n",
       "      <td>Russia</td>\n",
       "      <td>Moscow</td>\n",
       "      <td>0.0</td>\n",
       "      <td>unknown_brand</td>\n",
       "      <td>unknown_model</td>\n",
       "    </tr>\n",
       "    <tr>\n",
       "      <th>74</th>\n",
       "      <td>9055788191321875859.1627377569.1627377569</td>\n",
       "      <td>2108464993.162601</td>\n",
       "      <td>2021-07-27</td>\n",
       "      <td>1900-01-01 12:00:00</td>\n",
       "      <td>2</td>\n",
       "      <td>kjsLglQLzykiRbcDiGcD</td>\n",
       "      <td>cpc</td>\n",
       "      <td>nSReTmyFtbSjlPrTKoaX</td>\n",
       "      <td>JNHcPlZPxEMWDnRiyoBf</td>\n",
       "      <td>unknown_keyword</td>\n",
       "      <td>desktop</td>\n",
       "      <td>unknown_os</td>\n",
       "      <td>NaN</td>\n",
       "      <td>1920x1080</td>\n",
       "      <td>Chrome</td>\n",
       "      <td>Russia</td>\n",
       "      <td>Moscow</td>\n",
       "      <td>0.0</td>\n",
       "      <td>renault</td>\n",
       "      <td>logan</td>\n",
       "    </tr>\n",
       "    <tr>\n",
       "      <th>78</th>\n",
       "      <td>9055794766915104430.1624305327.1624305327</td>\n",
       "      <td>2108466524.16243</td>\n",
       "      <td>2021-06-21</td>\n",
       "      <td>1900-01-01 22:00:00</td>\n",
       "      <td>1</td>\n",
       "      <td>BHcvLfOaCWvWTykYqHVe</td>\n",
       "      <td>cpc</td>\n",
       "      <td>NaN</td>\n",
       "      <td>NaN</td>\n",
       "      <td>unknown_keyword</td>\n",
       "      <td>desktop</td>\n",
       "      <td>unknown_os</td>\n",
       "      <td>NaN</td>\n",
       "      <td>834x1112</td>\n",
       "      <td>Safari</td>\n",
       "      <td>Russia</td>\n",
       "      <td>Domodedovo</td>\n",
       "      <td>1.0</td>\n",
       "      <td>skoda</td>\n",
       "      <td>rapid</td>\n",
       "    </tr>\n",
       "    <tr>\n",
       "      <th>79</th>\n",
       "      <td>9055795561498027164.1638278300.1638278300</td>\n",
       "      <td>2108466709.163828</td>\n",
       "      <td>2021-11-30</td>\n",
       "      <td>1900-01-01 16:18:20</td>\n",
       "      <td>1</td>\n",
       "      <td>MvfHsxITijuriZxsqZqt</td>\n",
       "      <td>cpm</td>\n",
       "      <td>FTjNLDyTrXaWYgZymFkV</td>\n",
       "      <td>xhoenQgDQsgfEPYNPwKO</td>\n",
       "      <td>jpZoxCaowxXvglZVUJyq</td>\n",
       "      <td>desktop</td>\n",
       "      <td>windows</td>\n",
       "      <td>NaN</td>\n",
       "      <td>1680x1050</td>\n",
       "      <td>Chrome</td>\n",
       "      <td>Russia</td>\n",
       "      <td>Moscow</td>\n",
       "      <td>0.0</td>\n",
       "      <td>unknown_brand</td>\n",
       "      <td>unknown_model</td>\n",
       "    </tr>\n",
       "    <tr>\n",
       "      <th>80</th>\n",
       "      <td>9055795780529779605.1626698645.1626698645</td>\n",
       "      <td>2108466760.16267</td>\n",
       "      <td>2021-07-19</td>\n",
       "      <td>1900-01-01 15:00:00</td>\n",
       "      <td>1</td>\n",
       "      <td>fDLlAcSmythWSCVMvqvL</td>\n",
       "      <td>(none)</td>\n",
       "      <td>LTuZkdKfxRGVceoWkVyg</td>\n",
       "      <td>JNHcPlZPxEMWDnRiyoBf</td>\n",
       "      <td>unknown_keyword</td>\n",
       "      <td>desktop</td>\n",
       "      <td>unknown_os</td>\n",
       "      <td>NaN</td>\n",
       "      <td>1920x1080</td>\n",
       "      <td>Chrome</td>\n",
       "      <td>Russia</td>\n",
       "      <td>Yoshkar-Ola</td>\n",
       "      <td>0.0</td>\n",
       "      <td>renault</td>\n",
       "      <td>logan</td>\n",
       "    </tr>\n",
       "    <tr>\n",
       "      <th>83</th>\n",
       "      <td>9055834796008808950.1622811129.1622811129</td>\n",
       "      <td>2108475844.162281</td>\n",
       "      <td>2021-06-04</td>\n",
       "      <td>1900-01-01 15:00:00</td>\n",
       "      <td>1</td>\n",
       "      <td>fDLlAcSmythWSCVMvqvL</td>\n",
       "      <td>(none)</td>\n",
       "      <td>LTuZkdKfxRGVceoWkVyg</td>\n",
       "      <td>JNHcPlZPxEMWDnRiyoBf</td>\n",
       "      <td>unknown_keyword</td>\n",
       "      <td>mobile</td>\n",
       "      <td>unknown_os</td>\n",
       "      <td>NaN</td>\n",
       "      <td>360x640</td>\n",
       "      <td>Chrome</td>\n",
       "      <td>Russia</td>\n",
       "      <td>Chelyabinsk</td>\n",
       "      <td>0.0</td>\n",
       "      <td>renault</td>\n",
       "      <td>duster</td>\n",
       "    </tr>\n",
       "  </tbody>\n",
       "</table>\n",
       "</div>"
      ],
      "text/plain": [
       "                                   session_id          client_id visit_date  \\\n",
       "28  9055505230298952295.1638478433.1638478433  2108399111.163848 2021-12-02   \n",
       "63  9055657327967035032.1629707931.1629707931  2108434524.162971 2021-08-23   \n",
       "64   905565977351442956.1622561294.1622561294   210843509.162256 2021-06-01   \n",
       "67  9055678214400253418.1636965866.1636965866  2108439387.163696 2021-11-15   \n",
       "73  9055788191321875859.1626006934.1626006934  2108464993.162601 2021-07-11   \n",
       "74  9055788191321875859.1627377569.1627377569  2108464993.162601 2021-07-27   \n",
       "78  9055794766915104430.1624305327.1624305327   2108466524.16243 2021-06-21   \n",
       "79  9055795561498027164.1638278300.1638278300  2108466709.163828 2021-11-30   \n",
       "80  9055795780529779605.1626698645.1626698645   2108466760.16267 2021-07-19   \n",
       "83  9055834796008808950.1622811129.1622811129  2108475844.162281 2021-06-04   \n",
       "\n",
       "            visit_time  visit_number            utm_source utm_medium  \\\n",
       "28 1900-01-01 23:53:53             1  fDLlAcSmythWSCVMvqvL     (none)   \n",
       "63 1900-01-01 11:00:00             1  nSReTmyFtbSjlPrTKoaX     banner   \n",
       "64 1900-01-01 18:00:00             1  fDLlAcSmythWSCVMvqvL     (none)   \n",
       "67 1900-01-01 11:44:26             1  fDLlAcSmythWSCVMvqvL     (none)   \n",
       "73 1900-01-01 15:00:00             1  fDLlAcSmythWSCVMvqvL     (none)   \n",
       "74 1900-01-01 12:00:00             2  kjsLglQLzykiRbcDiGcD        cpc   \n",
       "78 1900-01-01 22:00:00             1  BHcvLfOaCWvWTykYqHVe        cpc   \n",
       "79 1900-01-01 16:18:20             1  MvfHsxITijuriZxsqZqt        cpm   \n",
       "80 1900-01-01 15:00:00             1  fDLlAcSmythWSCVMvqvL     (none)   \n",
       "83 1900-01-01 15:00:00             1  fDLlAcSmythWSCVMvqvL     (none)   \n",
       "\n",
       "            utm_campaign         utm_adcontent           utm_keyword  \\\n",
       "28  LTuZkdKfxRGVceoWkVyg  JNHcPlZPxEMWDnRiyoBf  puhZPIYqKXeFPaUviSjo   \n",
       "63  BVKxkCOHKUOvkpbrLMgZ  JNHcPlZPxEMWDnRiyoBf       unknown_keyword   \n",
       "64  LTuZkdKfxRGVceoWkVyg  JNHcPlZPxEMWDnRiyoBf       unknown_keyword   \n",
       "67  LTuZkdKfxRGVceoWkVyg  JNHcPlZPxEMWDnRiyoBf  puhZPIYqKXeFPaUviSjo   \n",
       "73  LTuZkdKfxRGVceoWkVyg  JNHcPlZPxEMWDnRiyoBf       unknown_keyword   \n",
       "74  nSReTmyFtbSjlPrTKoaX  JNHcPlZPxEMWDnRiyoBf       unknown_keyword   \n",
       "78                   NaN                   NaN       unknown_keyword   \n",
       "79  FTjNLDyTrXaWYgZymFkV  xhoenQgDQsgfEPYNPwKO  jpZoxCaowxXvglZVUJyq   \n",
       "80  LTuZkdKfxRGVceoWkVyg  JNHcPlZPxEMWDnRiyoBf       unknown_keyword   \n",
       "83  LTuZkdKfxRGVceoWkVyg  JNHcPlZPxEMWDnRiyoBf       unknown_keyword   \n",
       "\n",
       "   device_category   device_os device_brand device_screen_resolution  \\\n",
       "28         desktop     windows          NaN                 1536x864   \n",
       "63         desktop  unknown_os          NaN                1920x1080   \n",
       "64         desktop  unknown_os          NaN                1920x1080   \n",
       "67         desktop     windows          NaN                1920x1080   \n",
       "73         desktop  unknown_os          NaN                 1280x720   \n",
       "74         desktop  unknown_os          NaN                1920x1080   \n",
       "78         desktop  unknown_os          NaN                 834x1112   \n",
       "79         desktop     windows          NaN                1680x1050   \n",
       "80         desktop  unknown_os          NaN                1920x1080   \n",
       "83          mobile  unknown_os          NaN                  360x640   \n",
       "\n",
       "   device_browser geo_country          geo_city  event_value     auto_brand  \\\n",
       "28         Chrome      Russia        Balashikha          0.0        renault   \n",
       "63      YaBrowser      Russia            Moscow          0.0            kia   \n",
       "64         Chrome      Russia            Moscow          0.0          skoda   \n",
       "67         Chrome      Russia  Saint Petersburg          0.0        renault   \n",
       "73         Chrome      Russia            Moscow          0.0  unknown_brand   \n",
       "74         Chrome      Russia            Moscow          0.0        renault   \n",
       "78         Safari      Russia        Domodedovo          1.0          skoda   \n",
       "79         Chrome      Russia            Moscow          0.0  unknown_brand   \n",
       "80         Chrome      Russia       Yoshkar-Ola          0.0        renault   \n",
       "83         Chrome      Russia       Chelyabinsk          0.0        renault   \n",
       "\n",
       "       auto_model  \n",
       "28          logan  \n",
       "63         seltos  \n",
       "64          rapid  \n",
       "67          logan  \n",
       "73  unknown_model  \n",
       "74          logan  \n",
       "78          rapid  \n",
       "79  unknown_model  \n",
       "80          logan  \n",
       "83         duster  "
      ]
     },
     "execution_count": 57,
     "metadata": {},
     "output_type": "execute_result"
    }
   ],
   "source": [
    "#Первые 10 строк с пропусками\n",
    "df_sessions[df_sessions.device_brand.isna()][:10]"
   ]
  },
  {
   "cell_type": "code",
   "execution_count": 58,
   "id": "11ff1236-db42-4e3d-9423-70f51a162eac",
   "metadata": {},
   "outputs": [],
   "source": [
    "#Заполнение пропусков \"unknown_brand\"\n",
    "df_sessions.device_brand = df_sessions.device_brand.fillna(\"unknown_brand\")"
   ]
  },
  {
   "cell_type": "code",
   "execution_count": 59,
   "id": "2bf91098-4592-44f7-be2e-c76715a5a520",
   "metadata": {},
   "outputs": [
    {
     "name": "stdout",
     "output_type": "stream",
     "text": [
      "Процент пропущенных значений в device_brand\n"
     ]
    },
    {
     "data": {
      "text/plain": [
       "0.0"
      ]
     },
     "execution_count": 59,
     "metadata": {},
     "output_type": "execute_result"
    }
   ],
   "source": [
    "missing_values_device_brand = (df_sessions.device_brand.isna().sum()/len(df_sessions.device_brand)*100)\n",
    "print('Процент пропущенных значений в device_brand')\n",
    "missing_values_device_brand"
   ]
  },
  {
   "cell_type": "code",
   "execution_count": 60,
   "id": "98637a69-48cb-444c-8531-7d8d94c610f0",
   "metadata": {},
   "outputs": [],
   "source": [
    "#Приведение к нижнему регистру\n",
    "df_sessions['device_brand'] = df_sessions['device_brand'].str.strip().str.lower()"
   ]
  },
  {
   "cell_type": "markdown",
   "id": "2e31e05d-8978-4d39-8be2-86b277d3ec84",
   "metadata": {},
   "source": [
    "Обработка пропусков utm_adcontent"
   ]
  },
  {
   "cell_type": "code",
   "execution_count": 61,
   "id": "ee60ca99-fc73-4ab6-93aa-ed7edcbeda63",
   "metadata": {},
   "outputs": [
    {
     "data": {
      "text/plain": [
       "286"
      ]
     },
     "execution_count": 61,
     "metadata": {},
     "output_type": "execute_result"
    }
   ],
   "source": [
    "#Количество уникальных значений\n",
    "df_sessions.utm_adcontent.nunique()"
   ]
  },
  {
   "cell_type": "code",
   "execution_count": 62,
   "id": "d3d3fe70-1499-4c57-a4aa-b41a1e05b4a5",
   "metadata": {},
   "outputs": [
    {
     "data": {
      "text/plain": [
       "335615"
      ]
     },
     "execution_count": 62,
     "metadata": {},
     "output_type": "execute_result"
    }
   ],
   "source": [
    "#Количество пропусков\n",
    "df_sessions.utm_adcontent.isna().sum()"
   ]
  },
  {
   "cell_type": "code",
   "execution_count": 63,
   "id": "4436fe6f-97d6-4a4a-a73b-5f19993118bf",
   "metadata": {},
   "outputs": [
    {
     "data": {
      "text/plain": [
       "utm_adcontent\n",
       "JNHcPlZPxEMWDnRiyoBf    1006599\n",
       "vCIpmpaGBnIQhyYNkXqp     181048\n",
       "xhoenQgDQsgfEPYNPwKO     113072\n",
       "PkybGvWbaqORmxjNunqZ      60316\n",
       "LLfCasrxQzJIyuldcuWy      24222\n",
       "                         ...   \n",
       "ryswqHdLvbezpDLjokYF          1\n",
       "gQEnaeQmOHisHSTEyzhp          1\n",
       "PlanrlymnpCeYvUrUTVJ          1\n",
       "WbXQsVOKLOcJrHikuQTZ          1\n",
       "oJivRDNIrrOckRBIKOtG          1\n",
       "Name: count, Length: 286, dtype: int64"
      ]
     },
     "execution_count": 63,
     "metadata": {},
     "output_type": "execute_result"
    }
   ],
   "source": [
    "#Счетчик уникальных значений\n",
    "df_sessions.utm_adcontent.value_counts()"
   ]
  },
  {
   "cell_type": "code",
   "execution_count": 64,
   "id": "6a67acf9-5697-415a-b97d-12c018002bc8",
   "metadata": {},
   "outputs": [
    {
     "data": {
      "text/html": [
       "<div>\n",
       "<style scoped>\n",
       "    .dataframe tbody tr th:only-of-type {\n",
       "        vertical-align: middle;\n",
       "    }\n",
       "\n",
       "    .dataframe tbody tr th {\n",
       "        vertical-align: top;\n",
       "    }\n",
       "\n",
       "    .dataframe thead th {\n",
       "        text-align: right;\n",
       "    }\n",
       "</style>\n",
       "<table border=\"1\" class=\"dataframe\">\n",
       "  <thead>\n",
       "    <tr style=\"text-align: right;\">\n",
       "      <th></th>\n",
       "      <th>session_id</th>\n",
       "      <th>client_id</th>\n",
       "      <th>visit_date</th>\n",
       "      <th>visit_time</th>\n",
       "      <th>visit_number</th>\n",
       "      <th>utm_source</th>\n",
       "      <th>utm_medium</th>\n",
       "      <th>utm_campaign</th>\n",
       "      <th>utm_adcontent</th>\n",
       "      <th>utm_keyword</th>\n",
       "      <th>device_category</th>\n",
       "      <th>device_os</th>\n",
       "      <th>device_brand</th>\n",
       "      <th>device_screen_resolution</th>\n",
       "      <th>device_browser</th>\n",
       "      <th>geo_country</th>\n",
       "      <th>geo_city</th>\n",
       "      <th>event_value</th>\n",
       "      <th>auto_brand</th>\n",
       "      <th>auto_model</th>\n",
       "    </tr>\n",
       "  </thead>\n",
       "  <tbody>\n",
       "    <tr>\n",
       "      <th>0</th>\n",
       "      <td>9055434745589932991.1637753792.1637753792</td>\n",
       "      <td>2108382700.163776</td>\n",
       "      <td>2021-11-24</td>\n",
       "      <td>1900-01-01 14:36:32</td>\n",
       "      <td>1</td>\n",
       "      <td>ZpYIoDJMcFzVoPFsHGJL</td>\n",
       "      <td>banner</td>\n",
       "      <td>LEoPHuyFvzoNfnzGgfcd</td>\n",
       "      <td>vCIpmpaGBnIQhyYNkXqp</td>\n",
       "      <td>puhZPIYqKXeFPaUviSjo</td>\n",
       "      <td>mobile</td>\n",
       "      <td>android</td>\n",
       "      <td>huawei</td>\n",
       "      <td>360x720</td>\n",
       "      <td>Chrome</td>\n",
       "      <td>Russia</td>\n",
       "      <td>Zlatoust</td>\n",
       "      <td>0.0</td>\n",
       "      <td>unknown_brand</td>\n",
       "      <td>unknown_model</td>\n",
       "    </tr>\n",
       "    <tr>\n",
       "      <th>1</th>\n",
       "      <td>905544597018549464.1636867290.1636867290</td>\n",
       "      <td>210838531.163687</td>\n",
       "      <td>2021-11-14</td>\n",
       "      <td>1900-01-01 08:21:30</td>\n",
       "      <td>1</td>\n",
       "      <td>MvfHsxITijuriZxsqZqt</td>\n",
       "      <td>cpm</td>\n",
       "      <td>FTjNLDyTrXaWYgZymFkV</td>\n",
       "      <td>xhoenQgDQsgfEPYNPwKO</td>\n",
       "      <td>IGUCNvHlhfHpROGclCit</td>\n",
       "      <td>mobile</td>\n",
       "      <td>android</td>\n",
       "      <td>samsung</td>\n",
       "      <td>385x854</td>\n",
       "      <td>Samsung Internet</td>\n",
       "      <td>Russia</td>\n",
       "      <td>Moscow</td>\n",
       "      <td>0.0</td>\n",
       "      <td>unknown_brand</td>\n",
       "      <td>unknown_model</td>\n",
       "    </tr>\n",
       "    <tr>\n",
       "      <th>2</th>\n",
       "      <td>9055446045651783499.1640648526.1640648526</td>\n",
       "      <td>2108385331.164065</td>\n",
       "      <td>2021-12-28</td>\n",
       "      <td>1900-01-01 02:42:06</td>\n",
       "      <td>1</td>\n",
       "      <td>ZpYIoDJMcFzVoPFsHGJL</td>\n",
       "      <td>banner</td>\n",
       "      <td>LEoPHuyFvzoNfnzGgfcd</td>\n",
       "      <td>vCIpmpaGBnIQhyYNkXqp</td>\n",
       "      <td>puhZPIYqKXeFPaUviSjo</td>\n",
       "      <td>mobile</td>\n",
       "      <td>android</td>\n",
       "      <td>huawei</td>\n",
       "      <td>360x720</td>\n",
       "      <td>Chrome</td>\n",
       "      <td>Russia</td>\n",
       "      <td>Krasnoyarsk</td>\n",
       "      <td>0.0</td>\n",
       "      <td>volkswagen</td>\n",
       "      <td>polo</td>\n",
       "    </tr>\n",
       "    <tr>\n",
       "      <th>3</th>\n",
       "      <td>9055447046360770272.1622255328.1622255328</td>\n",
       "      <td>2108385564.162225</td>\n",
       "      <td>2021-05-29</td>\n",
       "      <td>1900-01-01 05:00:00</td>\n",
       "      <td>1</td>\n",
       "      <td>kjsLglQLzykiRbcDiGcD</td>\n",
       "      <td>cpc</td>\n",
       "      <td>NaN</td>\n",
       "      <td>NOBKLgtuvqYWkXQHeYWM</td>\n",
       "      <td>unknown_keyword</td>\n",
       "      <td>mobile</td>\n",
       "      <td>android</td>\n",
       "      <td>xiaomi</td>\n",
       "      <td>393x786</td>\n",
       "      <td>Chrome</td>\n",
       "      <td>Russia</td>\n",
       "      <td>Moscow</td>\n",
       "      <td>0.0</td>\n",
       "      <td>unknown_brand</td>\n",
       "      <td>unknown_model</td>\n",
       "    </tr>\n",
       "    <tr>\n",
       "      <th>5</th>\n",
       "      <td>9055447192389856083.1622453074.1622453074</td>\n",
       "      <td>2108385598.162245</td>\n",
       "      <td>2021-05-31</td>\n",
       "      <td>1900-01-01 12:00:00</td>\n",
       "      <td>1</td>\n",
       "      <td>kjsLglQLzykiRbcDiGcD</td>\n",
       "      <td>organic</td>\n",
       "      <td>LTuZkdKfxRGVceoWkVyg</td>\n",
       "      <td>JNHcPlZPxEMWDnRiyoBf</td>\n",
       "      <td>unknown_keyword</td>\n",
       "      <td>mobile</td>\n",
       "      <td>ios</td>\n",
       "      <td>apple</td>\n",
       "      <td>375x812</td>\n",
       "      <td>Safari</td>\n",
       "      <td>Russia</td>\n",
       "      <td>Saint Petersburg</td>\n",
       "      <td>0.0</td>\n",
       "      <td>unknown_brand</td>\n",
       "      <td>unknown_model</td>\n",
       "    </tr>\n",
       "    <tr>\n",
       "      <th>...</th>\n",
       "      <td>...</td>\n",
       "      <td>...</td>\n",
       "      <td>...</td>\n",
       "      <td>...</td>\n",
       "      <td>...</td>\n",
       "      <td>...</td>\n",
       "      <td>...</td>\n",
       "      <td>...</td>\n",
       "      <td>...</td>\n",
       "      <td>...</td>\n",
       "      <td>...</td>\n",
       "      <td>...</td>\n",
       "      <td>...</td>\n",
       "      <td>...</td>\n",
       "      <td>...</td>\n",
       "      <td>...</td>\n",
       "      <td>...</td>\n",
       "      <td>...</td>\n",
       "      <td>...</td>\n",
       "      <td>...</td>\n",
       "    </tr>\n",
       "    <tr>\n",
       "      <th>1860036</th>\n",
       "      <td>9055401700113249881.1639446112.1639446112</td>\n",
       "      <td>2108375006.163945</td>\n",
       "      <td>2021-12-14</td>\n",
       "      <td>1900-01-01 04:41:52</td>\n",
       "      <td>1</td>\n",
       "      <td>ZpYIoDJMcFzVoPFsHGJL</td>\n",
       "      <td>banner</td>\n",
       "      <td>TmThBvoCcwkCZZUWACYq</td>\n",
       "      <td>JNHcPlZPxEMWDnRiyoBf</td>\n",
       "      <td>puhZPIYqKXeFPaUviSjo</td>\n",
       "      <td>mobile</td>\n",
       "      <td>android</td>\n",
       "      <td>zte</td>\n",
       "      <td>360x640</td>\n",
       "      <td>Chrome</td>\n",
       "      <td>Russia</td>\n",
       "      <td>Blagoveshchensk</td>\n",
       "      <td>0.0</td>\n",
       "      <td>unknown_brand</td>\n",
       "      <td>unknown_model</td>\n",
       "    </tr>\n",
       "    <tr>\n",
       "      <th>1860038</th>\n",
       "      <td>9055421130527858185.1622007305.1622007305</td>\n",
       "      <td>2108379530.162201</td>\n",
       "      <td>2021-05-26</td>\n",
       "      <td>1900-01-01 08:00:00</td>\n",
       "      <td>1</td>\n",
       "      <td>fDLlAcSmythWSCVMvqvL</td>\n",
       "      <td>(none)</td>\n",
       "      <td>LTuZkdKfxRGVceoWkVyg</td>\n",
       "      <td>JNHcPlZPxEMWDnRiyoBf</td>\n",
       "      <td>unknown_keyword</td>\n",
       "      <td>mobile</td>\n",
       "      <td>ios</td>\n",
       "      <td>apple</td>\n",
       "      <td>390x844</td>\n",
       "      <td>Safari</td>\n",
       "      <td>Russia</td>\n",
       "      <td>Stavropol</td>\n",
       "      <td>0.0</td>\n",
       "      <td>unknown_brand</td>\n",
       "      <td>unknown_model</td>\n",
       "    </tr>\n",
       "    <tr>\n",
       "      <th>1860039</th>\n",
       "      <td>9055422955903931195.1636979515.1636979515</td>\n",
       "      <td>2108379955.163697</td>\n",
       "      <td>2021-11-15</td>\n",
       "      <td>1900-01-01 15:31:55</td>\n",
       "      <td>1</td>\n",
       "      <td>fDLlAcSmythWSCVMvqvL</td>\n",
       "      <td>(none)</td>\n",
       "      <td>LTuZkdKfxRGVceoWkVyg</td>\n",
       "      <td>JNHcPlZPxEMWDnRiyoBf</td>\n",
       "      <td>puhZPIYqKXeFPaUviSjo</td>\n",
       "      <td>mobile</td>\n",
       "      <td>ios</td>\n",
       "      <td>apple</td>\n",
       "      <td>375x667</td>\n",
       "      <td>Safari</td>\n",
       "      <td>Russia</td>\n",
       "      <td>Moscow</td>\n",
       "      <td>0.0</td>\n",
       "      <td>unknown_brand</td>\n",
       "      <td>unknown_model</td>\n",
       "    </tr>\n",
       "    <tr>\n",
       "      <th>1860040</th>\n",
       "      <td>905543020766873816.1638189404.1638189404</td>\n",
       "      <td>210838164.163819</td>\n",
       "      <td>2021-11-29</td>\n",
       "      <td>1900-01-01 15:36:44</td>\n",
       "      <td>1</td>\n",
       "      <td>ZpYIoDJMcFzVoPFsHGJL</td>\n",
       "      <td>banner</td>\n",
       "      <td>LEoPHuyFvzoNfnzGgfcd</td>\n",
       "      <td>JNHcPlZPxEMWDnRiyoBf</td>\n",
       "      <td>puhZPIYqKXeFPaUviSjo</td>\n",
       "      <td>mobile</td>\n",
       "      <td>android</td>\n",
       "      <td>xiaomi</td>\n",
       "      <td>393x851</td>\n",
       "      <td>Chrome</td>\n",
       "      <td>Russia</td>\n",
       "      <td>Chelyabinsk</td>\n",
       "      <td>0.0</td>\n",
       "      <td>unknown_brand</td>\n",
       "      <td>unknown_model</td>\n",
       "    </tr>\n",
       "    <tr>\n",
       "      <th>1860041</th>\n",
       "      <td>9055430416266113553.1640968742.1640968742</td>\n",
       "      <td>2108381692.164097</td>\n",
       "      <td>2021-12-31</td>\n",
       "      <td>1900-01-01 19:39:02</td>\n",
       "      <td>1</td>\n",
       "      <td>fgymSoTvjKPEgaIJqsiH</td>\n",
       "      <td>cpm</td>\n",
       "      <td>FTjNLDyTrXaWYgZymFkV</td>\n",
       "      <td>yYdBRbPmBMUZHXwqGxNx</td>\n",
       "      <td>oKjXDUsycmahkgMhGdAR</td>\n",
       "      <td>desktop</td>\n",
       "      <td>linux</td>\n",
       "      <td>unknown_brand</td>\n",
       "      <td>1366x768</td>\n",
       "      <td>Chrome</td>\n",
       "      <td>Russia</td>\n",
       "      <td>Moscow</td>\n",
       "      <td>0.0</td>\n",
       "      <td>unknown_brand</td>\n",
       "      <td>unknown_model</td>\n",
       "    </tr>\n",
       "  </tbody>\n",
       "</table>\n",
       "<p>1524427 rows × 20 columns</p>\n",
       "</div>"
      ],
      "text/plain": [
       "                                        session_id          client_id  \\\n",
       "0        9055434745589932991.1637753792.1637753792  2108382700.163776   \n",
       "1         905544597018549464.1636867290.1636867290   210838531.163687   \n",
       "2        9055446045651783499.1640648526.1640648526  2108385331.164065   \n",
       "3        9055447046360770272.1622255328.1622255328  2108385564.162225   \n",
       "5        9055447192389856083.1622453074.1622453074  2108385598.162245   \n",
       "...                                            ...                ...   \n",
       "1860036  9055401700113249881.1639446112.1639446112  2108375006.163945   \n",
       "1860038  9055421130527858185.1622007305.1622007305  2108379530.162201   \n",
       "1860039  9055422955903931195.1636979515.1636979515  2108379955.163697   \n",
       "1860040   905543020766873816.1638189404.1638189404   210838164.163819   \n",
       "1860041  9055430416266113553.1640968742.1640968742  2108381692.164097   \n",
       "\n",
       "        visit_date          visit_time  visit_number            utm_source  \\\n",
       "0       2021-11-24 1900-01-01 14:36:32             1  ZpYIoDJMcFzVoPFsHGJL   \n",
       "1       2021-11-14 1900-01-01 08:21:30             1  MvfHsxITijuriZxsqZqt   \n",
       "2       2021-12-28 1900-01-01 02:42:06             1  ZpYIoDJMcFzVoPFsHGJL   \n",
       "3       2021-05-29 1900-01-01 05:00:00             1  kjsLglQLzykiRbcDiGcD   \n",
       "5       2021-05-31 1900-01-01 12:00:00             1  kjsLglQLzykiRbcDiGcD   \n",
       "...            ...                 ...           ...                   ...   \n",
       "1860036 2021-12-14 1900-01-01 04:41:52             1  ZpYIoDJMcFzVoPFsHGJL   \n",
       "1860038 2021-05-26 1900-01-01 08:00:00             1  fDLlAcSmythWSCVMvqvL   \n",
       "1860039 2021-11-15 1900-01-01 15:31:55             1  fDLlAcSmythWSCVMvqvL   \n",
       "1860040 2021-11-29 1900-01-01 15:36:44             1  ZpYIoDJMcFzVoPFsHGJL   \n",
       "1860041 2021-12-31 1900-01-01 19:39:02             1  fgymSoTvjKPEgaIJqsiH   \n",
       "\n",
       "        utm_medium          utm_campaign         utm_adcontent  \\\n",
       "0           banner  LEoPHuyFvzoNfnzGgfcd  vCIpmpaGBnIQhyYNkXqp   \n",
       "1              cpm  FTjNLDyTrXaWYgZymFkV  xhoenQgDQsgfEPYNPwKO   \n",
       "2           banner  LEoPHuyFvzoNfnzGgfcd  vCIpmpaGBnIQhyYNkXqp   \n",
       "3              cpc                   NaN  NOBKLgtuvqYWkXQHeYWM   \n",
       "5          organic  LTuZkdKfxRGVceoWkVyg  JNHcPlZPxEMWDnRiyoBf   \n",
       "...            ...                   ...                   ...   \n",
       "1860036     banner  TmThBvoCcwkCZZUWACYq  JNHcPlZPxEMWDnRiyoBf   \n",
       "1860038     (none)  LTuZkdKfxRGVceoWkVyg  JNHcPlZPxEMWDnRiyoBf   \n",
       "1860039     (none)  LTuZkdKfxRGVceoWkVyg  JNHcPlZPxEMWDnRiyoBf   \n",
       "1860040     banner  LEoPHuyFvzoNfnzGgfcd  JNHcPlZPxEMWDnRiyoBf   \n",
       "1860041        cpm  FTjNLDyTrXaWYgZymFkV  yYdBRbPmBMUZHXwqGxNx   \n",
       "\n",
       "                  utm_keyword device_category device_os   device_brand  \\\n",
       "0        puhZPIYqKXeFPaUviSjo          mobile   android         huawei   \n",
       "1        IGUCNvHlhfHpROGclCit          mobile   android        samsung   \n",
       "2        puhZPIYqKXeFPaUviSjo          mobile   android         huawei   \n",
       "3             unknown_keyword          mobile   android         xiaomi   \n",
       "5             unknown_keyword          mobile       ios          apple   \n",
       "...                       ...             ...       ...            ...   \n",
       "1860036  puhZPIYqKXeFPaUviSjo          mobile   android            zte   \n",
       "1860038       unknown_keyword          mobile       ios          apple   \n",
       "1860039  puhZPIYqKXeFPaUviSjo          mobile       ios          apple   \n",
       "1860040  puhZPIYqKXeFPaUviSjo          mobile   android         xiaomi   \n",
       "1860041  oKjXDUsycmahkgMhGdAR         desktop     linux  unknown_brand   \n",
       "\n",
       "        device_screen_resolution    device_browser geo_country  \\\n",
       "0                        360x720            Chrome      Russia   \n",
       "1                        385x854  Samsung Internet      Russia   \n",
       "2                        360x720            Chrome      Russia   \n",
       "3                        393x786            Chrome      Russia   \n",
       "5                        375x812            Safari      Russia   \n",
       "...                          ...               ...         ...   \n",
       "1860036                  360x640            Chrome      Russia   \n",
       "1860038                  390x844            Safari      Russia   \n",
       "1860039                  375x667            Safari      Russia   \n",
       "1860040                  393x851            Chrome      Russia   \n",
       "1860041                 1366x768            Chrome      Russia   \n",
       "\n",
       "                 geo_city  event_value     auto_brand     auto_model  \n",
       "0                Zlatoust          0.0  unknown_brand  unknown_model  \n",
       "1                  Moscow          0.0  unknown_brand  unknown_model  \n",
       "2             Krasnoyarsk          0.0     volkswagen           polo  \n",
       "3                  Moscow          0.0  unknown_brand  unknown_model  \n",
       "5        Saint Petersburg          0.0  unknown_brand  unknown_model  \n",
       "...                   ...          ...            ...            ...  \n",
       "1860036   Blagoveshchensk          0.0  unknown_brand  unknown_model  \n",
       "1860038         Stavropol          0.0  unknown_brand  unknown_model  \n",
       "1860039            Moscow          0.0  unknown_brand  unknown_model  \n",
       "1860040       Chelyabinsk          0.0  unknown_brand  unknown_model  \n",
       "1860041            Moscow          0.0  unknown_brand  unknown_model  \n",
       "\n",
       "[1524427 rows x 20 columns]"
      ]
     },
     "execution_count": 64,
     "metadata": {},
     "output_type": "execute_result"
    }
   ],
   "source": [
    "#Первые 10 строк с пропусками\n",
    "df_sessions[~df_sessions.utm_adcontent.isna()]"
   ]
  },
  {
   "cell_type": "code",
   "execution_count": 65,
   "id": "920ae5e7-361d-4af8-8dc7-870161746b31",
   "metadata": {},
   "outputs": [
    {
     "data": {
      "text/plain": [
       "array([], dtype=object)"
      ]
     },
     "execution_count": 65,
     "metadata": {},
     "output_type": "execute_result"
    }
   ],
   "source": [
    "#Проверка на аномалии, т.е. поиск числел, русских букв, спецсимволов\n",
    "df_sessions.utm_adcontent[df_sessions[\"utm_adcontent\"].str.contains(r\"[^a-zA-Z\\s\\-]\", na=False)].unique()"
   ]
  },
  {
   "cell_type": "code",
   "execution_count": 66,
   "id": "5fdc38cd-bff9-4dee-bf02-62748633dbed",
   "metadata": {},
   "outputs": [],
   "source": [
    "#Заполнение пропусков \"unknown_adcontent\"\n",
    "df_sessions.utm_adcontent=df_sessions.utm_adcontent.fillna('unknown_adcontent')"
   ]
  },
  {
   "cell_type": "code",
   "execution_count": 67,
   "id": "61f7cc49-e21c-4104-a596-9b8ecd2ded22",
   "metadata": {},
   "outputs": [
    {
     "name": "stdout",
     "output_type": "stream",
     "text": [
      "Процент пропущенных значений в utm_adcontent\n"
     ]
    },
    {
     "data": {
      "text/plain": [
       "0.0"
      ]
     },
     "execution_count": 67,
     "metadata": {},
     "output_type": "execute_result"
    }
   ],
   "source": [
    "missing_values_utm_adcontent = (df_sessions.utm_adcontent.isna().sum()/len(df_sessions.utm_adcontent)*100)\n",
    "print('Процент пропущенных значений в utm_adcontent')\n",
    "missing_values_utm_adcontent"
   ]
  },
  {
   "cell_type": "markdown",
   "id": "aac9b7ab-2687-417a-88df-73fabe779a5d",
   "metadata": {},
   "source": [
    "Обработка пропусков utm_medium"
   ]
  },
  {
   "cell_type": "code",
   "execution_count": 68,
   "id": "976e1185-a058-46a8-8ceb-e3439961dfb1",
   "metadata": {},
   "outputs": [
    {
     "data": {
      "text/plain": [
       "55"
      ]
     },
     "execution_count": 68,
     "metadata": {},
     "output_type": "execute_result"
    }
   ],
   "source": [
    "#Количество уникальных значений\n",
    "df_sessions.utm_medium.nunique()"
   ]
  },
  {
   "cell_type": "code",
   "execution_count": 69,
   "id": "e61a2d1f-44ac-499e-93ed-82b1c13f1918",
   "metadata": {},
   "outputs": [
    {
     "data": {
      "text/plain": [
       "480"
      ]
     },
     "execution_count": 69,
     "metadata": {},
     "output_type": "execute_result"
    }
   ],
   "source": [
    "#Количество пропусков\n",
    "df_sessions.utm_medium.isna().sum()"
   ]
  },
  {
   "cell_type": "code",
   "execution_count": 70,
   "id": "71cf98ed-4efe-4dd0-8ced-2805f417d3c2",
   "metadata": {},
   "outputs": [
    {
     "data": {
      "text/plain": [
       "utm_medium\n",
       "banner               552272\n",
       "cpc                  434794\n",
       "(none)               300575\n",
       "cpm                  242083\n",
       "referral             152050\n",
       "organic               63034\n",
       "email                 29240\n",
       "push                  28035\n",
       "stories               10582\n",
       "cpv                    8022\n",
       "blogger_channel        8015\n",
       "smartbanner            6794\n",
       "blogger_stories        4312\n",
       "cpa                    4279\n",
       "tg                     4011\n",
       "app                    2836\n",
       "post                   2326\n",
       "smm                    1985\n",
       "outlook                1332\n",
       "clicks                  934\n",
       "blogger_header          771\n",
       "info_text               343\n",
       "sms                     239\n",
       "landing                 134\n",
       "partner                  97\n",
       "fb_smm                   66\n",
       "vk_smm                   65\n",
       "link                     57\n",
       "cbaafe                   47\n",
       "CPM                      40\n",
       "yandex_cpc               36\n",
       "ok_smm                   28\n",
       "static                   22\n",
       "google_cpc               20\n",
       "article                  17\n",
       "nkp                      14\n",
       "web_polka                11\n",
       "social                    9\n",
       "medium                    8\n",
       "main_polka                4\n",
       "catalogue                 4\n",
       "users_msk                 3\n",
       "reach                     2\n",
       "promo_sber                2\n",
       "linktest                  2\n",
       "promo_sbol                1\n",
       "Sbol_catalog              1\n",
       "desktop                   1\n",
       "dom_click                 1\n",
       "tablet                    1\n",
       "sber_app                  1\n",
       "last                      1\n",
       "qr                        1\n",
       "qrcodevideo               1\n",
       "landing_interests         1\n",
       "Name: count, dtype: int64"
      ]
     },
     "execution_count": 70,
     "metadata": {},
     "output_type": "execute_result"
    }
   ],
   "source": [
    "#Счетчик уникальных значений\n",
    "df_sessions.utm_medium.value_counts()"
   ]
  },
  {
   "cell_type": "code",
   "execution_count": 71,
   "id": "c0d2acd5-eb2a-449e-aa9f-0060c7421147",
   "metadata": {},
   "outputs": [
    {
     "data": {
      "text/html": [
       "<div>\n",
       "<style scoped>\n",
       "    .dataframe tbody tr th:only-of-type {\n",
       "        vertical-align: middle;\n",
       "    }\n",
       "\n",
       "    .dataframe tbody tr th {\n",
       "        vertical-align: top;\n",
       "    }\n",
       "\n",
       "    .dataframe thead th {\n",
       "        text-align: right;\n",
       "    }\n",
       "</style>\n",
       "<table border=\"1\" class=\"dataframe\">\n",
       "  <thead>\n",
       "    <tr style=\"text-align: right;\">\n",
       "      <th></th>\n",
       "      <th>session_id</th>\n",
       "      <th>client_id</th>\n",
       "      <th>visit_date</th>\n",
       "      <th>visit_time</th>\n",
       "      <th>visit_number</th>\n",
       "      <th>utm_source</th>\n",
       "      <th>utm_medium</th>\n",
       "      <th>utm_campaign</th>\n",
       "      <th>utm_adcontent</th>\n",
       "      <th>utm_keyword</th>\n",
       "      <th>device_category</th>\n",
       "      <th>device_os</th>\n",
       "      <th>device_brand</th>\n",
       "      <th>device_screen_resolution</th>\n",
       "      <th>device_browser</th>\n",
       "      <th>geo_country</th>\n",
       "      <th>geo_city</th>\n",
       "      <th>event_value</th>\n",
       "      <th>auto_brand</th>\n",
       "      <th>auto_model</th>\n",
       "    </tr>\n",
       "  </thead>\n",
       "  <tbody>\n",
       "    <tr>\n",
       "      <th>14028</th>\n",
       "      <td>9117228372811440986.1636426594.1636426594</td>\n",
       "      <td>2122770150.163642</td>\n",
       "      <td>2021-11-09</td>\n",
       "      <td>1900-01-01 05:56:34</td>\n",
       "      <td>1</td>\n",
       "      <td>iNFgfQPqHPBuvGCYtrQE</td>\n",
       "      <td>NaN</td>\n",
       "      <td>LTuZkdKfxRGVceoWkVyg</td>\n",
       "      <td>JNHcPlZPxEMWDnRiyoBf</td>\n",
       "      <td>puhZPIYqKXeFPaUviSjo</td>\n",
       "      <td>mobile</td>\n",
       "      <td>android</td>\n",
       "      <td>huawei</td>\n",
       "      <td>360x720</td>\n",
       "      <td>Chrome</td>\n",
       "      <td>Russia</td>\n",
       "      <td>Saint Petersburg</td>\n",
       "      <td>0.0</td>\n",
       "      <td>unknown_brand</td>\n",
       "      <td>unknown_model</td>\n",
       "    </tr>\n",
       "    <tr>\n",
       "      <th>17049</th>\n",
       "      <td>9130968089155116617.1636081226.1636081226</td>\n",
       "      <td>2125969177.163608</td>\n",
       "      <td>2021-11-05</td>\n",
       "      <td>1900-01-01 06:00:26</td>\n",
       "      <td>1</td>\n",
       "      <td>iNFgfQPqHPBuvGCYtrQE</td>\n",
       "      <td>NaN</td>\n",
       "      <td>LTuZkdKfxRGVceoWkVyg</td>\n",
       "      <td>JNHcPlZPxEMWDnRiyoBf</td>\n",
       "      <td>puhZPIYqKXeFPaUviSjo</td>\n",
       "      <td>mobile</td>\n",
       "      <td>ios</td>\n",
       "      <td>apple</td>\n",
       "      <td>414x896</td>\n",
       "      <td>Safari</td>\n",
       "      <td>Russia</td>\n",
       "      <td>NaN</td>\n",
       "      <td>0.0</td>\n",
       "      <td>unknown_brand</td>\n",
       "      <td>unknown_model</td>\n",
       "    </tr>\n",
       "    <tr>\n",
       "      <th>20218</th>\n",
       "      <td>9144903415488255785.1637263046.1637263046</td>\n",
       "      <td>2129213748.163467</td>\n",
       "      <td>2021-11-18</td>\n",
       "      <td>1900-01-01 22:17:26</td>\n",
       "      <td>3</td>\n",
       "      <td>WeIwsqEbpZGZwhcQktNS</td>\n",
       "      <td>NaN</td>\n",
       "      <td>LTuZkdKfxRGVceoWkVyg</td>\n",
       "      <td>JNHcPlZPxEMWDnRiyoBf</td>\n",
       "      <td>puhZPIYqKXeFPaUviSjo</td>\n",
       "      <td>mobile</td>\n",
       "      <td>android</td>\n",
       "      <td>oneplus</td>\n",
       "      <td>360x800</td>\n",
       "      <td>Chrome</td>\n",
       "      <td>Russia</td>\n",
       "      <td>Moscow</td>\n",
       "      <td>0.0</td>\n",
       "      <td>toyota</td>\n",
       "      <td>fortuner</td>\n",
       "    </tr>\n",
       "    <tr>\n",
       "      <th>20219</th>\n",
       "      <td>9144903415488255785.1637295862.1637295862</td>\n",
       "      <td>2129213748.163467</td>\n",
       "      <td>2021-11-19</td>\n",
       "      <td>1900-01-01 07:24:22</td>\n",
       "      <td>4</td>\n",
       "      <td>WeIwsqEbpZGZwhcQktNS</td>\n",
       "      <td>NaN</td>\n",
       "      <td>LTuZkdKfxRGVceoWkVyg</td>\n",
       "      <td>JNHcPlZPxEMWDnRiyoBf</td>\n",
       "      <td>puhZPIYqKXeFPaUviSjo</td>\n",
       "      <td>mobile</td>\n",
       "      <td>android</td>\n",
       "      <td>oneplus</td>\n",
       "      <td>360x800</td>\n",
       "      <td>Chrome</td>\n",
       "      <td>Russia</td>\n",
       "      <td>Moscow</td>\n",
       "      <td>0.0</td>\n",
       "      <td>toyota</td>\n",
       "      <td>alphard</td>\n",
       "    </tr>\n",
       "    <tr>\n",
       "      <th>23827</th>\n",
       "      <td>9160652639657579968.1637324018.1637324018</td>\n",
       "      <td>2132880650.163636</td>\n",
       "      <td>2021-11-19</td>\n",
       "      <td>1900-01-01 15:13:38</td>\n",
       "      <td>3</td>\n",
       "      <td>VCREhgqUPSUkmfOTvGiW</td>\n",
       "      <td>NaN</td>\n",
       "      <td>LTuZkdKfxRGVceoWkVyg</td>\n",
       "      <td>JNHcPlZPxEMWDnRiyoBf</td>\n",
       "      <td>puhZPIYqKXeFPaUviSjo</td>\n",
       "      <td>desktop</td>\n",
       "      <td>windows</td>\n",
       "      <td>unknown_brand</td>\n",
       "      <td>1920x1080</td>\n",
       "      <td>Edge</td>\n",
       "      <td>Russia</td>\n",
       "      <td>Moscow</td>\n",
       "      <td>0.0</td>\n",
       "      <td>unknown_brand</td>\n",
       "      <td>unknown_model</td>\n",
       "    </tr>\n",
       "    <tr>\n",
       "      <th>28560</th>\n",
       "      <td>9181218635280059808.1638821947.1638821947</td>\n",
       "      <td>2137669044.162848</td>\n",
       "      <td>2021-12-06</td>\n",
       "      <td>1900-01-01 23:19:07</td>\n",
       "      <td>3</td>\n",
       "      <td>WeIwsqEbpZGZwhcQktNS</td>\n",
       "      <td>NaN</td>\n",
       "      <td>LTuZkdKfxRGVceoWkVyg</td>\n",
       "      <td>JNHcPlZPxEMWDnRiyoBf</td>\n",
       "      <td>puhZPIYqKXeFPaUviSjo</td>\n",
       "      <td>mobile</td>\n",
       "      <td>android</td>\n",
       "      <td>samsung</td>\n",
       "      <td>412x846</td>\n",
       "      <td>Chrome</td>\n",
       "      <td>Russia</td>\n",
       "      <td>Moscow</td>\n",
       "      <td>0.0</td>\n",
       "      <td>unknown_brand</td>\n",
       "      <td>unknown_model</td>\n",
       "    </tr>\n",
       "    <tr>\n",
       "      <th>34514</th>\n",
       "      <td>9208226377487956569.1636672826.1636672826</td>\n",
       "      <td>2143957274.163664</td>\n",
       "      <td>2021-11-12</td>\n",
       "      <td>1900-01-01 02:20:26</td>\n",
       "      <td>3</td>\n",
       "      <td>WeIwsqEbpZGZwhcQktNS</td>\n",
       "      <td>NaN</td>\n",
       "      <td>LTuZkdKfxRGVceoWkVyg</td>\n",
       "      <td>JNHcPlZPxEMWDnRiyoBf</td>\n",
       "      <td>puhZPIYqKXeFPaUviSjo</td>\n",
       "      <td>mobile</td>\n",
       "      <td>android</td>\n",
       "      <td>samsung</td>\n",
       "      <td>360x800</td>\n",
       "      <td>Chrome</td>\n",
       "      <td>Russia</td>\n",
       "      <td>Moscow</td>\n",
       "      <td>0.0</td>\n",
       "      <td>kia</td>\n",
       "      <td>seltos</td>\n",
       "    </tr>\n",
       "    <tr>\n",
       "      <th>34749</th>\n",
       "      <td>9209270797570327189.1636745876.1636745876</td>\n",
       "      <td>2144200447.163674</td>\n",
       "      <td>2021-11-12</td>\n",
       "      <td>1900-01-01 22:37:56</td>\n",
       "      <td>1</td>\n",
       "      <td>iNFgfQPqHPBuvGCYtrQE</td>\n",
       "      <td>NaN</td>\n",
       "      <td>LTuZkdKfxRGVceoWkVyg</td>\n",
       "      <td>JNHcPlZPxEMWDnRiyoBf</td>\n",
       "      <td>puhZPIYqKXeFPaUviSjo</td>\n",
       "      <td>mobile</td>\n",
       "      <td>ios</td>\n",
       "      <td>apple</td>\n",
       "      <td>414x736</td>\n",
       "      <td>Safari</td>\n",
       "      <td>Russia</td>\n",
       "      <td>Moscow</td>\n",
       "      <td>0.0</td>\n",
       "      <td>unknown_brand</td>\n",
       "      <td>unknown_model</td>\n",
       "    </tr>\n",
       "    <tr>\n",
       "      <th>37110</th>\n",
       "      <td>9219704132125466072.1636441560.1636441560</td>\n",
       "      <td>2146629647.163644</td>\n",
       "      <td>2021-11-09</td>\n",
       "      <td>1900-01-01 10:06:00</td>\n",
       "      <td>1</td>\n",
       "      <td>iNFgfQPqHPBuvGCYtrQE</td>\n",
       "      <td>NaN</td>\n",
       "      <td>LTuZkdKfxRGVceoWkVyg</td>\n",
       "      <td>JNHcPlZPxEMWDnRiyoBf</td>\n",
       "      <td>puhZPIYqKXeFPaUviSjo</td>\n",
       "      <td>mobile</td>\n",
       "      <td>ios</td>\n",
       "      <td>apple</td>\n",
       "      <td>390x844</td>\n",
       "      <td>Safari</td>\n",
       "      <td>Russia</td>\n",
       "      <td>Buynaksk</td>\n",
       "      <td>0.0</td>\n",
       "      <td>unknown_brand</td>\n",
       "      <td>unknown_model</td>\n",
       "    </tr>\n",
       "    <tr>\n",
       "      <th>43867</th>\n",
       "      <td>948502812665061192.1633427276.1633427276</td>\n",
       "      <td>220840520.163343</td>\n",
       "      <td>2021-10-05</td>\n",
       "      <td>1900-01-01 12:00:00</td>\n",
       "      <td>1</td>\n",
       "      <td>ZpYIoDJMcFzVoPFsHGJL</td>\n",
       "      <td>NaN</td>\n",
       "      <td>LTuZkdKfxRGVceoWkVyg</td>\n",
       "      <td>JNHcPlZPxEMWDnRiyoBf</td>\n",
       "      <td>unknown_keyword</td>\n",
       "      <td>mobile</td>\n",
       "      <td>ios</td>\n",
       "      <td>apple</td>\n",
       "      <td>320x568</td>\n",
       "      <td>Safari</td>\n",
       "      <td>Russia</td>\n",
       "      <td>Tver</td>\n",
       "      <td>0.0</td>\n",
       "      <td>toyota</td>\n",
       "      <td>camry</td>\n",
       "    </tr>\n",
       "  </tbody>\n",
       "</table>\n",
       "</div>"
      ],
      "text/plain": [
       "                                      session_id          client_id  \\\n",
       "14028  9117228372811440986.1636426594.1636426594  2122770150.163642   \n",
       "17049  9130968089155116617.1636081226.1636081226  2125969177.163608   \n",
       "20218  9144903415488255785.1637263046.1637263046  2129213748.163467   \n",
       "20219  9144903415488255785.1637295862.1637295862  2129213748.163467   \n",
       "23827  9160652639657579968.1637324018.1637324018  2132880650.163636   \n",
       "28560  9181218635280059808.1638821947.1638821947  2137669044.162848   \n",
       "34514  9208226377487956569.1636672826.1636672826  2143957274.163664   \n",
       "34749  9209270797570327189.1636745876.1636745876  2144200447.163674   \n",
       "37110  9219704132125466072.1636441560.1636441560  2146629647.163644   \n",
       "43867   948502812665061192.1633427276.1633427276   220840520.163343   \n",
       "\n",
       "      visit_date          visit_time  visit_number            utm_source  \\\n",
       "14028 2021-11-09 1900-01-01 05:56:34             1  iNFgfQPqHPBuvGCYtrQE   \n",
       "17049 2021-11-05 1900-01-01 06:00:26             1  iNFgfQPqHPBuvGCYtrQE   \n",
       "20218 2021-11-18 1900-01-01 22:17:26             3  WeIwsqEbpZGZwhcQktNS   \n",
       "20219 2021-11-19 1900-01-01 07:24:22             4  WeIwsqEbpZGZwhcQktNS   \n",
       "23827 2021-11-19 1900-01-01 15:13:38             3  VCREhgqUPSUkmfOTvGiW   \n",
       "28560 2021-12-06 1900-01-01 23:19:07             3  WeIwsqEbpZGZwhcQktNS   \n",
       "34514 2021-11-12 1900-01-01 02:20:26             3  WeIwsqEbpZGZwhcQktNS   \n",
       "34749 2021-11-12 1900-01-01 22:37:56             1  iNFgfQPqHPBuvGCYtrQE   \n",
       "37110 2021-11-09 1900-01-01 10:06:00             1  iNFgfQPqHPBuvGCYtrQE   \n",
       "43867 2021-10-05 1900-01-01 12:00:00             1  ZpYIoDJMcFzVoPFsHGJL   \n",
       "\n",
       "      utm_medium          utm_campaign         utm_adcontent  \\\n",
       "14028        NaN  LTuZkdKfxRGVceoWkVyg  JNHcPlZPxEMWDnRiyoBf   \n",
       "17049        NaN  LTuZkdKfxRGVceoWkVyg  JNHcPlZPxEMWDnRiyoBf   \n",
       "20218        NaN  LTuZkdKfxRGVceoWkVyg  JNHcPlZPxEMWDnRiyoBf   \n",
       "20219        NaN  LTuZkdKfxRGVceoWkVyg  JNHcPlZPxEMWDnRiyoBf   \n",
       "23827        NaN  LTuZkdKfxRGVceoWkVyg  JNHcPlZPxEMWDnRiyoBf   \n",
       "28560        NaN  LTuZkdKfxRGVceoWkVyg  JNHcPlZPxEMWDnRiyoBf   \n",
       "34514        NaN  LTuZkdKfxRGVceoWkVyg  JNHcPlZPxEMWDnRiyoBf   \n",
       "34749        NaN  LTuZkdKfxRGVceoWkVyg  JNHcPlZPxEMWDnRiyoBf   \n",
       "37110        NaN  LTuZkdKfxRGVceoWkVyg  JNHcPlZPxEMWDnRiyoBf   \n",
       "43867        NaN  LTuZkdKfxRGVceoWkVyg  JNHcPlZPxEMWDnRiyoBf   \n",
       "\n",
       "                utm_keyword device_category device_os   device_brand  \\\n",
       "14028  puhZPIYqKXeFPaUviSjo          mobile   android         huawei   \n",
       "17049  puhZPIYqKXeFPaUviSjo          mobile       ios          apple   \n",
       "20218  puhZPIYqKXeFPaUviSjo          mobile   android        oneplus   \n",
       "20219  puhZPIYqKXeFPaUviSjo          mobile   android        oneplus   \n",
       "23827  puhZPIYqKXeFPaUviSjo         desktop   windows  unknown_brand   \n",
       "28560  puhZPIYqKXeFPaUviSjo          mobile   android        samsung   \n",
       "34514  puhZPIYqKXeFPaUviSjo          mobile   android        samsung   \n",
       "34749  puhZPIYqKXeFPaUviSjo          mobile       ios          apple   \n",
       "37110  puhZPIYqKXeFPaUviSjo          mobile       ios          apple   \n",
       "43867       unknown_keyword          mobile       ios          apple   \n",
       "\n",
       "      device_screen_resolution device_browser geo_country          geo_city  \\\n",
       "14028                  360x720         Chrome      Russia  Saint Petersburg   \n",
       "17049                  414x896         Safari      Russia               NaN   \n",
       "20218                  360x800         Chrome      Russia            Moscow   \n",
       "20219                  360x800         Chrome      Russia            Moscow   \n",
       "23827                1920x1080           Edge      Russia            Moscow   \n",
       "28560                  412x846         Chrome      Russia            Moscow   \n",
       "34514                  360x800         Chrome      Russia            Moscow   \n",
       "34749                  414x736         Safari      Russia            Moscow   \n",
       "37110                  390x844         Safari      Russia          Buynaksk   \n",
       "43867                  320x568         Safari      Russia              Tver   \n",
       "\n",
       "       event_value     auto_brand     auto_model  \n",
       "14028          0.0  unknown_brand  unknown_model  \n",
       "17049          0.0  unknown_brand  unknown_model  \n",
       "20218          0.0         toyota       fortuner  \n",
       "20219          0.0         toyota        alphard  \n",
       "23827          0.0  unknown_brand  unknown_model  \n",
       "28560          0.0  unknown_brand  unknown_model  \n",
       "34514          0.0            kia         seltos  \n",
       "34749          0.0  unknown_brand  unknown_model  \n",
       "37110          0.0  unknown_brand  unknown_model  \n",
       "43867          0.0         toyota          camry  "
      ]
     },
     "execution_count": 71,
     "metadata": {},
     "output_type": "execute_result"
    }
   ],
   "source": [
    "#Первые 10 строк с пропусками\n",
    "df_sessions[df_sessions.utm_medium.isna()][:10]"
   ]
  },
  {
   "cell_type": "code",
   "execution_count": 72,
   "id": "554ed102-4e39-45fa-aea1-3e3526ce9cb9",
   "metadata": {},
   "outputs": [],
   "source": [
    "#Заполнение пропусков самым популярным значением\n",
    "df_sessions.utm_medium = df_sessions.utm_medium.fillna(df_sessions.utm_medium.mode()[0])"
   ]
  },
  {
   "cell_type": "markdown",
   "id": "9d67a8fa-dcf4-4b75-8ef9-c280928b7f79",
   "metadata": {},
   "source": [
    "Обработка пропусков utm_campaign"
   ]
  },
  {
   "cell_type": "code",
   "execution_count": 73,
   "id": "fa99bc8b-6a99-4eef-a6c2-c0a2365458bb",
   "metadata": {},
   "outputs": [
    {
     "data": {
      "text/plain": [
       "412"
      ]
     },
     "execution_count": 73,
     "metadata": {},
     "output_type": "execute_result"
    }
   ],
   "source": [
    "#Количество уникальных значений\n",
    "df_sessions.utm_campaign.nunique()"
   ]
  },
  {
   "cell_type": "code",
   "execution_count": 74,
   "id": "fd03d38b-d2a1-406f-89c0-dd5902710c0d",
   "metadata": {},
   "outputs": [
    {
     "data": {
      "text/plain": [
       "219603"
      ]
     },
     "execution_count": 74,
     "metadata": {},
     "output_type": "execute_result"
    }
   ],
   "source": [
    "#Количество пропусков\n",
    "df_sessions.utm_campaign.isna().sum()"
   ]
  },
  {
   "cell_type": "code",
   "execution_count": 75,
   "id": "3b7f3ea1-80e5-4f5d-a8c6-975978be0a6a",
   "metadata": {},
   "outputs": [
    {
     "data": {
      "text/plain": [
       "utm_campaign\n",
       "LTuZkdKfxRGVceoWkVyg    463481\n",
       "LEoPHuyFvzoNfnzGgfcd    324044\n",
       "FTjNLDyTrXaWYgZymFkV    247360\n",
       "gecBYcKZCPMcVYdSSzKP    134042\n",
       "TmThBvoCcwkCZZUWACYq     26597\n",
       "                         ...  \n",
       "cqgnjDbqrtCipVvzhxqa         1\n",
       "AdtHYglxfCpTpwZeTAuW         1\n",
       "pcvPxfVFaAmhwFmvIeYd         1\n",
       "qPDTdivQVeflLjTYIJnG         1\n",
       "cXxuwXPoQCvAXPHpFcZl         1\n",
       "Name: count, Length: 412, dtype: int64"
      ]
     },
     "execution_count": 75,
     "metadata": {},
     "output_type": "execute_result"
    }
   ],
   "source": [
    "df_sessions['utm_campaign'].value_counts()"
   ]
  },
  {
   "cell_type": "code",
   "execution_count": 76,
   "id": "9454562a-ed07-40a4-b51d-9842caf5fafc",
   "metadata": {},
   "outputs": [
    {
     "data": {
      "text/html": [
       "<div>\n",
       "<style scoped>\n",
       "    .dataframe tbody tr th:only-of-type {\n",
       "        vertical-align: middle;\n",
       "    }\n",
       "\n",
       "    .dataframe tbody tr th {\n",
       "        vertical-align: top;\n",
       "    }\n",
       "\n",
       "    .dataframe thead th {\n",
       "        text-align: right;\n",
       "    }\n",
       "</style>\n",
       "<table border=\"1\" class=\"dataframe\">\n",
       "  <thead>\n",
       "    <tr style=\"text-align: right;\">\n",
       "      <th></th>\n",
       "      <th>session_id</th>\n",
       "      <th>client_id</th>\n",
       "      <th>visit_date</th>\n",
       "      <th>visit_time</th>\n",
       "      <th>visit_number</th>\n",
       "      <th>utm_source</th>\n",
       "      <th>utm_medium</th>\n",
       "      <th>utm_campaign</th>\n",
       "      <th>utm_adcontent</th>\n",
       "      <th>utm_keyword</th>\n",
       "      <th>device_category</th>\n",
       "      <th>device_os</th>\n",
       "      <th>device_brand</th>\n",
       "      <th>device_screen_resolution</th>\n",
       "      <th>device_browser</th>\n",
       "      <th>geo_country</th>\n",
       "      <th>geo_city</th>\n",
       "      <th>event_value</th>\n",
       "      <th>auto_brand</th>\n",
       "      <th>auto_model</th>\n",
       "    </tr>\n",
       "  </thead>\n",
       "  <tbody>\n",
       "    <tr>\n",
       "      <th>0</th>\n",
       "      <td>9055434745589932991.1637753792.1637753792</td>\n",
       "      <td>2108382700.163776</td>\n",
       "      <td>2021-11-24</td>\n",
       "      <td>1900-01-01 14:36:32</td>\n",
       "      <td>1</td>\n",
       "      <td>ZpYIoDJMcFzVoPFsHGJL</td>\n",
       "      <td>banner</td>\n",
       "      <td>LEoPHuyFvzoNfnzGgfcd</td>\n",
       "      <td>vCIpmpaGBnIQhyYNkXqp</td>\n",
       "      <td>puhZPIYqKXeFPaUviSjo</td>\n",
       "      <td>mobile</td>\n",
       "      <td>android</td>\n",
       "      <td>huawei</td>\n",
       "      <td>360x720</td>\n",
       "      <td>Chrome</td>\n",
       "      <td>Russia</td>\n",
       "      <td>Zlatoust</td>\n",
       "      <td>0.0</td>\n",
       "      <td>unknown_brand</td>\n",
       "      <td>unknown_model</td>\n",
       "    </tr>\n",
       "    <tr>\n",
       "      <th>1</th>\n",
       "      <td>905544597018549464.1636867290.1636867290</td>\n",
       "      <td>210838531.163687</td>\n",
       "      <td>2021-11-14</td>\n",
       "      <td>1900-01-01 08:21:30</td>\n",
       "      <td>1</td>\n",
       "      <td>MvfHsxITijuriZxsqZqt</td>\n",
       "      <td>cpm</td>\n",
       "      <td>FTjNLDyTrXaWYgZymFkV</td>\n",
       "      <td>xhoenQgDQsgfEPYNPwKO</td>\n",
       "      <td>IGUCNvHlhfHpROGclCit</td>\n",
       "      <td>mobile</td>\n",
       "      <td>android</td>\n",
       "      <td>samsung</td>\n",
       "      <td>385x854</td>\n",
       "      <td>Samsung Internet</td>\n",
       "      <td>Russia</td>\n",
       "      <td>Moscow</td>\n",
       "      <td>0.0</td>\n",
       "      <td>unknown_brand</td>\n",
       "      <td>unknown_model</td>\n",
       "    </tr>\n",
       "    <tr>\n",
       "      <th>2</th>\n",
       "      <td>9055446045651783499.1640648526.1640648526</td>\n",
       "      <td>2108385331.164065</td>\n",
       "      <td>2021-12-28</td>\n",
       "      <td>1900-01-01 02:42:06</td>\n",
       "      <td>1</td>\n",
       "      <td>ZpYIoDJMcFzVoPFsHGJL</td>\n",
       "      <td>banner</td>\n",
       "      <td>LEoPHuyFvzoNfnzGgfcd</td>\n",
       "      <td>vCIpmpaGBnIQhyYNkXqp</td>\n",
       "      <td>puhZPIYqKXeFPaUviSjo</td>\n",
       "      <td>mobile</td>\n",
       "      <td>android</td>\n",
       "      <td>huawei</td>\n",
       "      <td>360x720</td>\n",
       "      <td>Chrome</td>\n",
       "      <td>Russia</td>\n",
       "      <td>Krasnoyarsk</td>\n",
       "      <td>0.0</td>\n",
       "      <td>volkswagen</td>\n",
       "      <td>polo</td>\n",
       "    </tr>\n",
       "    <tr>\n",
       "      <th>5</th>\n",
       "      <td>9055447192389856083.1622453074.1622453074</td>\n",
       "      <td>2108385598.162245</td>\n",
       "      <td>2021-05-31</td>\n",
       "      <td>1900-01-01 12:00:00</td>\n",
       "      <td>1</td>\n",
       "      <td>kjsLglQLzykiRbcDiGcD</td>\n",
       "      <td>organic</td>\n",
       "      <td>LTuZkdKfxRGVceoWkVyg</td>\n",
       "      <td>JNHcPlZPxEMWDnRiyoBf</td>\n",
       "      <td>unknown_keyword</td>\n",
       "      <td>mobile</td>\n",
       "      <td>ios</td>\n",
       "      <td>apple</td>\n",
       "      <td>375x812</td>\n",
       "      <td>Safari</td>\n",
       "      <td>Russia</td>\n",
       "      <td>Saint Petersburg</td>\n",
       "      <td>0.0</td>\n",
       "      <td>unknown_brand</td>\n",
       "      <td>unknown_model</td>\n",
       "    </tr>\n",
       "    <tr>\n",
       "      <th>6</th>\n",
       "      <td>9055455318486370642.1640843788.1640843788</td>\n",
       "      <td>2108387490.164084</td>\n",
       "      <td>2021-12-30</td>\n",
       "      <td>1900-01-01 08:56:28</td>\n",
       "      <td>1</td>\n",
       "      <td>TxKUcPpthBDPieTGmVhx</td>\n",
       "      <td>cpc</td>\n",
       "      <td>FTjNLDyTrXaWYgZymFkV</td>\n",
       "      <td>LcGIUNPUAmXtQJaDfFBR</td>\n",
       "      <td>PwscUHjoUJDrtfWESIHj</td>\n",
       "      <td>tablet</td>\n",
       "      <td>android</td>\n",
       "      <td>lenovo</td>\n",
       "      <td>602x1029</td>\n",
       "      <td>YaBrowser</td>\n",
       "      <td>Russia</td>\n",
       "      <td>Saint Petersburg</td>\n",
       "      <td>0.0</td>\n",
       "      <td>unknown_brand</td>\n",
       "      <td>unknown_model</td>\n",
       "    </tr>\n",
       "    <tr>\n",
       "      <th>...</th>\n",
       "      <td>...</td>\n",
       "      <td>...</td>\n",
       "      <td>...</td>\n",
       "      <td>...</td>\n",
       "      <td>...</td>\n",
       "      <td>...</td>\n",
       "      <td>...</td>\n",
       "      <td>...</td>\n",
       "      <td>...</td>\n",
       "      <td>...</td>\n",
       "      <td>...</td>\n",
       "      <td>...</td>\n",
       "      <td>...</td>\n",
       "      <td>...</td>\n",
       "      <td>...</td>\n",
       "      <td>...</td>\n",
       "      <td>...</td>\n",
       "      <td>...</td>\n",
       "      <td>...</td>\n",
       "      <td>...</td>\n",
       "    </tr>\n",
       "    <tr>\n",
       "      <th>1860036</th>\n",
       "      <td>9055401700113249881.1639446112.1639446112</td>\n",
       "      <td>2108375006.163945</td>\n",
       "      <td>2021-12-14</td>\n",
       "      <td>1900-01-01 04:41:52</td>\n",
       "      <td>1</td>\n",
       "      <td>ZpYIoDJMcFzVoPFsHGJL</td>\n",
       "      <td>banner</td>\n",
       "      <td>TmThBvoCcwkCZZUWACYq</td>\n",
       "      <td>JNHcPlZPxEMWDnRiyoBf</td>\n",
       "      <td>puhZPIYqKXeFPaUviSjo</td>\n",
       "      <td>mobile</td>\n",
       "      <td>android</td>\n",
       "      <td>zte</td>\n",
       "      <td>360x640</td>\n",
       "      <td>Chrome</td>\n",
       "      <td>Russia</td>\n",
       "      <td>Blagoveshchensk</td>\n",
       "      <td>0.0</td>\n",
       "      <td>unknown_brand</td>\n",
       "      <td>unknown_model</td>\n",
       "    </tr>\n",
       "    <tr>\n",
       "      <th>1860038</th>\n",
       "      <td>9055421130527858185.1622007305.1622007305</td>\n",
       "      <td>2108379530.162201</td>\n",
       "      <td>2021-05-26</td>\n",
       "      <td>1900-01-01 08:00:00</td>\n",
       "      <td>1</td>\n",
       "      <td>fDLlAcSmythWSCVMvqvL</td>\n",
       "      <td>(none)</td>\n",
       "      <td>LTuZkdKfxRGVceoWkVyg</td>\n",
       "      <td>JNHcPlZPxEMWDnRiyoBf</td>\n",
       "      <td>unknown_keyword</td>\n",
       "      <td>mobile</td>\n",
       "      <td>ios</td>\n",
       "      <td>apple</td>\n",
       "      <td>390x844</td>\n",
       "      <td>Safari</td>\n",
       "      <td>Russia</td>\n",
       "      <td>Stavropol</td>\n",
       "      <td>0.0</td>\n",
       "      <td>unknown_brand</td>\n",
       "      <td>unknown_model</td>\n",
       "    </tr>\n",
       "    <tr>\n",
       "      <th>1860039</th>\n",
       "      <td>9055422955903931195.1636979515.1636979515</td>\n",
       "      <td>2108379955.163697</td>\n",
       "      <td>2021-11-15</td>\n",
       "      <td>1900-01-01 15:31:55</td>\n",
       "      <td>1</td>\n",
       "      <td>fDLlAcSmythWSCVMvqvL</td>\n",
       "      <td>(none)</td>\n",
       "      <td>LTuZkdKfxRGVceoWkVyg</td>\n",
       "      <td>JNHcPlZPxEMWDnRiyoBf</td>\n",
       "      <td>puhZPIYqKXeFPaUviSjo</td>\n",
       "      <td>mobile</td>\n",
       "      <td>ios</td>\n",
       "      <td>apple</td>\n",
       "      <td>375x667</td>\n",
       "      <td>Safari</td>\n",
       "      <td>Russia</td>\n",
       "      <td>Moscow</td>\n",
       "      <td>0.0</td>\n",
       "      <td>unknown_brand</td>\n",
       "      <td>unknown_model</td>\n",
       "    </tr>\n",
       "    <tr>\n",
       "      <th>1860040</th>\n",
       "      <td>905543020766873816.1638189404.1638189404</td>\n",
       "      <td>210838164.163819</td>\n",
       "      <td>2021-11-29</td>\n",
       "      <td>1900-01-01 15:36:44</td>\n",
       "      <td>1</td>\n",
       "      <td>ZpYIoDJMcFzVoPFsHGJL</td>\n",
       "      <td>banner</td>\n",
       "      <td>LEoPHuyFvzoNfnzGgfcd</td>\n",
       "      <td>JNHcPlZPxEMWDnRiyoBf</td>\n",
       "      <td>puhZPIYqKXeFPaUviSjo</td>\n",
       "      <td>mobile</td>\n",
       "      <td>android</td>\n",
       "      <td>xiaomi</td>\n",
       "      <td>393x851</td>\n",
       "      <td>Chrome</td>\n",
       "      <td>Russia</td>\n",
       "      <td>Chelyabinsk</td>\n",
       "      <td>0.0</td>\n",
       "      <td>unknown_brand</td>\n",
       "      <td>unknown_model</td>\n",
       "    </tr>\n",
       "    <tr>\n",
       "      <th>1860041</th>\n",
       "      <td>9055430416266113553.1640968742.1640968742</td>\n",
       "      <td>2108381692.164097</td>\n",
       "      <td>2021-12-31</td>\n",
       "      <td>1900-01-01 19:39:02</td>\n",
       "      <td>1</td>\n",
       "      <td>fgymSoTvjKPEgaIJqsiH</td>\n",
       "      <td>cpm</td>\n",
       "      <td>FTjNLDyTrXaWYgZymFkV</td>\n",
       "      <td>yYdBRbPmBMUZHXwqGxNx</td>\n",
       "      <td>oKjXDUsycmahkgMhGdAR</td>\n",
       "      <td>desktop</td>\n",
       "      <td>linux</td>\n",
       "      <td>unknown_brand</td>\n",
       "      <td>1366x768</td>\n",
       "      <td>Chrome</td>\n",
       "      <td>Russia</td>\n",
       "      <td>Moscow</td>\n",
       "      <td>0.0</td>\n",
       "      <td>unknown_brand</td>\n",
       "      <td>unknown_model</td>\n",
       "    </tr>\n",
       "  </tbody>\n",
       "</table>\n",
       "<p>1640439 rows × 20 columns</p>\n",
       "</div>"
      ],
      "text/plain": [
       "                                        session_id          client_id  \\\n",
       "0        9055434745589932991.1637753792.1637753792  2108382700.163776   \n",
       "1         905544597018549464.1636867290.1636867290   210838531.163687   \n",
       "2        9055446045651783499.1640648526.1640648526  2108385331.164065   \n",
       "5        9055447192389856083.1622453074.1622453074  2108385598.162245   \n",
       "6        9055455318486370642.1640843788.1640843788  2108387490.164084   \n",
       "...                                            ...                ...   \n",
       "1860036  9055401700113249881.1639446112.1639446112  2108375006.163945   \n",
       "1860038  9055421130527858185.1622007305.1622007305  2108379530.162201   \n",
       "1860039  9055422955903931195.1636979515.1636979515  2108379955.163697   \n",
       "1860040   905543020766873816.1638189404.1638189404   210838164.163819   \n",
       "1860041  9055430416266113553.1640968742.1640968742  2108381692.164097   \n",
       "\n",
       "        visit_date          visit_time  visit_number            utm_source  \\\n",
       "0       2021-11-24 1900-01-01 14:36:32             1  ZpYIoDJMcFzVoPFsHGJL   \n",
       "1       2021-11-14 1900-01-01 08:21:30             1  MvfHsxITijuriZxsqZqt   \n",
       "2       2021-12-28 1900-01-01 02:42:06             1  ZpYIoDJMcFzVoPFsHGJL   \n",
       "5       2021-05-31 1900-01-01 12:00:00             1  kjsLglQLzykiRbcDiGcD   \n",
       "6       2021-12-30 1900-01-01 08:56:28             1  TxKUcPpthBDPieTGmVhx   \n",
       "...            ...                 ...           ...                   ...   \n",
       "1860036 2021-12-14 1900-01-01 04:41:52             1  ZpYIoDJMcFzVoPFsHGJL   \n",
       "1860038 2021-05-26 1900-01-01 08:00:00             1  fDLlAcSmythWSCVMvqvL   \n",
       "1860039 2021-11-15 1900-01-01 15:31:55             1  fDLlAcSmythWSCVMvqvL   \n",
       "1860040 2021-11-29 1900-01-01 15:36:44             1  ZpYIoDJMcFzVoPFsHGJL   \n",
       "1860041 2021-12-31 1900-01-01 19:39:02             1  fgymSoTvjKPEgaIJqsiH   \n",
       "\n",
       "        utm_medium          utm_campaign         utm_adcontent  \\\n",
       "0           banner  LEoPHuyFvzoNfnzGgfcd  vCIpmpaGBnIQhyYNkXqp   \n",
       "1              cpm  FTjNLDyTrXaWYgZymFkV  xhoenQgDQsgfEPYNPwKO   \n",
       "2           banner  LEoPHuyFvzoNfnzGgfcd  vCIpmpaGBnIQhyYNkXqp   \n",
       "5          organic  LTuZkdKfxRGVceoWkVyg  JNHcPlZPxEMWDnRiyoBf   \n",
       "6              cpc  FTjNLDyTrXaWYgZymFkV  LcGIUNPUAmXtQJaDfFBR   \n",
       "...            ...                   ...                   ...   \n",
       "1860036     banner  TmThBvoCcwkCZZUWACYq  JNHcPlZPxEMWDnRiyoBf   \n",
       "1860038     (none)  LTuZkdKfxRGVceoWkVyg  JNHcPlZPxEMWDnRiyoBf   \n",
       "1860039     (none)  LTuZkdKfxRGVceoWkVyg  JNHcPlZPxEMWDnRiyoBf   \n",
       "1860040     banner  LEoPHuyFvzoNfnzGgfcd  JNHcPlZPxEMWDnRiyoBf   \n",
       "1860041        cpm  FTjNLDyTrXaWYgZymFkV  yYdBRbPmBMUZHXwqGxNx   \n",
       "\n",
       "                  utm_keyword device_category device_os   device_brand  \\\n",
       "0        puhZPIYqKXeFPaUviSjo          mobile   android         huawei   \n",
       "1        IGUCNvHlhfHpROGclCit          mobile   android        samsung   \n",
       "2        puhZPIYqKXeFPaUviSjo          mobile   android         huawei   \n",
       "5             unknown_keyword          mobile       ios          apple   \n",
       "6        PwscUHjoUJDrtfWESIHj          tablet   android         lenovo   \n",
       "...                       ...             ...       ...            ...   \n",
       "1860036  puhZPIYqKXeFPaUviSjo          mobile   android            zte   \n",
       "1860038       unknown_keyword          mobile       ios          apple   \n",
       "1860039  puhZPIYqKXeFPaUviSjo          mobile       ios          apple   \n",
       "1860040  puhZPIYqKXeFPaUviSjo          mobile   android         xiaomi   \n",
       "1860041  oKjXDUsycmahkgMhGdAR         desktop     linux  unknown_brand   \n",
       "\n",
       "        device_screen_resolution    device_browser geo_country  \\\n",
       "0                        360x720            Chrome      Russia   \n",
       "1                        385x854  Samsung Internet      Russia   \n",
       "2                        360x720            Chrome      Russia   \n",
       "5                        375x812            Safari      Russia   \n",
       "6                       602x1029         YaBrowser      Russia   \n",
       "...                          ...               ...         ...   \n",
       "1860036                  360x640            Chrome      Russia   \n",
       "1860038                  390x844            Safari      Russia   \n",
       "1860039                  375x667            Safari      Russia   \n",
       "1860040                  393x851            Chrome      Russia   \n",
       "1860041                 1366x768            Chrome      Russia   \n",
       "\n",
       "                 geo_city  event_value     auto_brand     auto_model  \n",
       "0                Zlatoust          0.0  unknown_brand  unknown_model  \n",
       "1                  Moscow          0.0  unknown_brand  unknown_model  \n",
       "2             Krasnoyarsk          0.0     volkswagen           polo  \n",
       "5        Saint Petersburg          0.0  unknown_brand  unknown_model  \n",
       "6        Saint Petersburg          0.0  unknown_brand  unknown_model  \n",
       "...                   ...          ...            ...            ...  \n",
       "1860036   Blagoveshchensk          0.0  unknown_brand  unknown_model  \n",
       "1860038         Stavropol          0.0  unknown_brand  unknown_model  \n",
       "1860039            Moscow          0.0  unknown_brand  unknown_model  \n",
       "1860040       Chelyabinsk          0.0  unknown_brand  unknown_model  \n",
       "1860041            Moscow          0.0  unknown_brand  unknown_model  \n",
       "\n",
       "[1640439 rows x 20 columns]"
      ]
     },
     "execution_count": 76,
     "metadata": {},
     "output_type": "execute_result"
    }
   ],
   "source": [
    "#Первые 10 строк с пропусками\n",
    "df_sessions[~df_sessions.utm_campaign.isna()]"
   ]
  },
  {
   "cell_type": "code",
   "execution_count": 77,
   "id": "c44cadb7-6146-4839-987b-565da6504a7f",
   "metadata": {},
   "outputs": [
    {
     "data": {
      "text/plain": [
       "array([], dtype=object)"
      ]
     },
     "execution_count": 77,
     "metadata": {},
     "output_type": "execute_result"
    }
   ],
   "source": [
    "#Проверка на аномалии, т.е. поиск числел, русских букв, спецсимволов\n",
    "df_sessions.utm_campaign[df_sessions[\"utm_campaign\"].str.contains(r\"[^a-zA-Z\\s\\-]\", na=False)].unique()"
   ]
  },
  {
   "cell_type": "code",
   "execution_count": 78,
   "id": "cf6791d9-8d76-4862-a54c-2af1632c680f",
   "metadata": {},
   "outputs": [],
   "source": [
    "#Заполнение пропусков \"unknown_campaign\"\n",
    "df_sessions.utm_campaign=df_sessions.utm_campaign.fillna('unknown_campaign')"
   ]
  },
  {
   "cell_type": "code",
   "execution_count": 79,
   "id": "284c4b72-1e0e-4246-91db-84e8fbdc1b7c",
   "metadata": {},
   "outputs": [
    {
     "name": "stdout",
     "output_type": "stream",
     "text": [
      "Процент пропущенных значений в utm_campaign\n"
     ]
    },
    {
     "data": {
      "text/plain": [
       "0.0"
      ]
     },
     "execution_count": 79,
     "metadata": {},
     "output_type": "execute_result"
    }
   ],
   "source": [
    "missing_values_utm_campaign = (df_sessions.utm_campaign.isna().sum()/len(df_sessions.utm_campaign)*100)\n",
    "print('Процент пропущенных значений в utm_campaign')\n",
    "missing_values_utm_campaign"
   ]
  },
  {
   "cell_type": "markdown",
   "id": "2a5b5fe0-0af3-4151-bfd2-706b19902663",
   "metadata": {},
   "source": [
    "Обработка пропусков geo_city"
   ]
  },
  {
   "cell_type": "code",
   "execution_count": 80,
   "id": "4e3c84d6-3913-4ba2-a6ea-2da69aa12ad0",
   "metadata": {},
   "outputs": [
    {
     "data": {
      "text/plain": [
       "2547"
      ]
     },
     "execution_count": 80,
     "metadata": {},
     "output_type": "execute_result"
    }
   ],
   "source": [
    "#Количество уникальных значений\n",
    "df_sessions.geo_city.nunique()"
   ]
  },
  {
   "cell_type": "code",
   "execution_count": 81,
   "id": "29acabee-63c8-42db-a2e1-4c8a7638091b",
   "metadata": {},
   "outputs": [
    {
     "data": {
      "text/plain": [
       "78172"
      ]
     },
     "execution_count": 81,
     "metadata": {},
     "output_type": "execute_result"
    }
   ],
   "source": [
    "#Количество пропусков\n",
    "df_sessions.geo_city.isna().sum()"
   ]
  },
  {
   "cell_type": "code",
   "execution_count": 82,
   "id": "dd0e6398-0ea8-49d0-8c39-596ba2d7d66f",
   "metadata": {},
   "outputs": [
    {
     "data": {
      "text/plain": [
       "geo_city\n",
       "Moscow              805329\n",
       "Saint Petersburg    296788\n",
       "Yekaterinburg        35788\n",
       "Krasnodar            32243\n",
       "Kazan                29531\n",
       "                     ...  \n",
       "Sherbrooke               1\n",
       "Albion                   1\n",
       "Bornheim                 1\n",
       "Huntley                  1\n",
       "Sommerda                 1\n",
       "Name: count, Length: 2547, dtype: int64"
      ]
     },
     "execution_count": 82,
     "metadata": {},
     "output_type": "execute_result"
    }
   ],
   "source": [
    "#Счетчик уникальных значений\n",
    "df_sessions.geo_city.value_counts()"
   ]
  },
  {
   "cell_type": "code",
   "execution_count": 83,
   "id": "d1686d2a-0a60-465f-9fe9-d492f9247e12",
   "metadata": {},
   "outputs": [],
   "source": [
    "#Приведение к нижнему регистру\n",
    "df_sessions.geo_city = df_sessions.geo_city.str.strip().str.lower()"
   ]
  },
  {
   "cell_type": "code",
   "execution_count": 84,
   "id": "2ae9557a-3098-4936-8724-1098ce8c9e8e",
   "metadata": {},
   "outputs": [
    {
     "data": {
      "text/plain": [
       "array(['53425', 'хомутово', '75709', 'gorki-2', '83709', '92323', '7668',\n",
       "       '13403', '59139', '6th of october city', 'st. louis', '24130',\n",
       "       'тимофеевка', '8756', '61925', 'тарасовка', '9992',\n",
       "       'halle (saale)', '10th of ramadan city', '9954', '39404', '9635',\n",
       "       '38402', '2233', '6784', '4697', 'alfredo v. bonfil',\n",
       "       'stolberg (rhineland)', 'timiskaming, unorganized, east part',\n",
       "       '86039', '8230', 'st. petersburg', '74565', '7084', 'st. gallen',\n",
       "       'nabeul\\u200e', '88040', '14076', 'grunheide (mark)', '12214',\n",
       "       '8161', '53405'], dtype=object)"
      ]
     },
     "execution_count": 84,
     "metadata": {},
     "output_type": "execute_result"
    }
   ],
   "source": [
    "#Проверка на аномалии, т.е. поиск чисел, русских букв, спецсимволов\n",
    "df_sessions.geo_city[df_sessions[\"geo_city\"].str.contains(r\"[^a-zA-Z\\s\\-\\']\", na=False)].unique()"
   ]
  },
  {
   "cell_type": "code",
   "execution_count": 85,
   "id": "865ee6f7-07a7-4544-b3d5-7253f0508e6e",
   "metadata": {},
   "outputs": [],
   "source": [
    "#Функция очистки названий городов\n",
    "translator = Translator()\n",
    "\n",
    "# Словарь сокращений\n",
    "abbr_dict = {\n",
    "    \"st.\": \"saint\",\n",
    "    \"st\": \"saint\",\n",
    "    \"mt.\": \"mount\",\n",
    "    \"mt\": \"mount\",\n",
    "    \"ft.\": \"fort\",\n",
    "    \"ft\": \"fort\",\n",
    "    \"v.\": \"villa\",\n",
    "    \"v\": \"villa\",\n",
    "    \"nbhd.\": \"neighborhood\",\n",
    "    \"nbhd\": \"neighborhood\",\n",
    "    \"pt.\": \"point\",\n",
    "    \"pt\": \"point\",\n",
    "    \"n.\": \"north\",\n",
    "    \"n\": \"north\",\n",
    "    \"s.\": \"south\",\n",
    "    \"s\": \"south\",\n",
    "    \"e.\": \"east\",\n",
    "    \"e\": \"east\",\n",
    "    \"w.\": \"west\",\n",
    "    \"w\": \"west\"\n",
    "}\n",
    "\n",
    "def clean_city(city):\n",
    "    #Если NaN замена на \"unknown_city\"\n",
    "    if pd.isna(city):\n",
    "        return \"unknown_city\"\n",
    "\n",
    "    # Убираем спецсимволы типа \\u200e\n",
    "    city = regex.sub(r'\\p{C}', '', city)\n",
    "\n",
    "    # Если строка состоит только из цифр → unknown_city\n",
    "    if city.strip().isdigit():\n",
    "        return \"unknown_city\"\n",
    "\n",
    "    # Убираем скобки и содержимое внутри\n",
    "    city = re.sub(r\"\\s*\\(.*?\\)\", \"\", city)\n",
    "\n",
    "    # Если несколько слов через запятую, оставить только первое\n",
    "    city = city.split(\",\")[0].strip()\n",
    "\n",
    "    # Замена сокращений через словарь\n",
    "    words = city.split()\n",
    "    words = [abbr_dict.get(w.lower(), w) for w in words]\n",
    "    city = \" \".join(words)\n",
    "\n",
    "    # Если есть кириллица, перевод через Google Translate\n",
    "    if re.search(r\"[а-яА-Я]\", city):\n",
    "        try:\n",
    "            city = translator.translate(city, src='ru', dest='en').text\n",
    "        except:\n",
    "            pass  # если перевод не удался, оставляем оригинал\n",
    "\n",
    "    # Убираем лишние пробелы\n",
    "    city = city.strip()\n",
    "\n",
    "    return city\n",
    "\n",
    "df_sessions[\"geo_city\"] = df_sessions[\"geo_city\"].apply(clean_city)"
   ]
  },
  {
   "cell_type": "code",
   "execution_count": 86,
   "id": "04f6d4e6-1232-4071-9a46-9ad11cd6c4e8",
   "metadata": {},
   "outputs": [
    {
     "data": {
      "text/plain": [
       "array(['unknown_city', 'gorki-2', '6th of october city',\n",
       "       '10th of ramadan city'], dtype=object)"
      ]
     },
     "execution_count": 86,
     "metadata": {},
     "output_type": "execute_result"
    }
   ],
   "source": [
    "#Проверка на аномалии, т.е. поиск чисел, русских букв, спецсимволов\n",
    "df_sessions.geo_city[df_sessions[\"geo_city\"].str.contains(r\"[^a-zA-Z\\s\\-\\']\", na=False)].unique()"
   ]
  },
  {
   "cell_type": "code",
   "execution_count": 87,
   "id": "5a6d6042-6724-4780-b7a2-c5b894493d5a",
   "metadata": {},
   "outputs": [
    {
     "data": {
      "text/plain": [
       "geo_city\n",
       "moscow                  805329\n",
       "saint petersburg        296789\n",
       "unknown_city             78465\n",
       "yekaterinburg            35788\n",
       "krasnodar                32243\n",
       "                         ...  \n",
       "mandelieu-la napoule         1\n",
       "bad oldesloe                 1\n",
       "ricany                       1\n",
       "vinkovci                     1\n",
       "pershotravens'k              1\n",
       "Name: count, Length: 2519, dtype: int64"
      ]
     },
     "execution_count": 87,
     "metadata": {},
     "output_type": "execute_result"
    }
   ],
   "source": [
    "df_sessions.geo_city.value_counts()"
   ]
  },
  {
   "cell_type": "code",
   "execution_count": 88,
   "id": "fad2e62a-7d32-4bac-9c13-6967bbd2d081",
   "metadata": {},
   "outputs": [
    {
     "name": "stdout",
     "output_type": "stream",
     "text": [
      "Процент пропущенных значений в geo_city\n"
     ]
    },
    {
     "data": {
      "text/plain": [
       "0.0"
      ]
     },
     "execution_count": 88,
     "metadata": {},
     "output_type": "execute_result"
    }
   ],
   "source": [
    "missing_values_geo_city = (df_sessions.geo_city.isna().sum()/len(df_sessions.geo_city)*100)\n",
    "print('Процент пропущенных значений в geo_city')\n",
    "missing_values_geo_city"
   ]
  },
  {
   "cell_type": "markdown",
   "id": "2de44dfd-24ca-411a-8233-deedc42bdcbb",
   "metadata": {},
   "source": [
    "Обработка пропусков geo_country"
   ]
  },
  {
   "cell_type": "code",
   "execution_count": 89,
   "id": "1eb5ed04-e2a2-4a63-82cc-5e91587fe2a8",
   "metadata": {},
   "outputs": [
    {
     "data": {
      "text/plain": [
       "165"
      ]
     },
     "execution_count": 89,
     "metadata": {},
     "output_type": "execute_result"
    }
   ],
   "source": [
    "#Количество уникальных значений\n",
    "df_sessions.geo_country.nunique()"
   ]
  },
  {
   "cell_type": "code",
   "execution_count": 90,
   "id": "71f163a7-6162-4381-9a3e-fd18a2ae97d1",
   "metadata": {},
   "outputs": [
    {
     "data": {
      "text/plain": [
       "1146"
      ]
     },
     "execution_count": 90,
     "metadata": {},
     "output_type": "execute_result"
    }
   ],
   "source": [
    "#Количество пропусков\n",
    "df_sessions.geo_country.isna().sum()"
   ]
  },
  {
   "cell_type": "code",
   "execution_count": 91,
   "id": "2c171b1d-e9a0-4df2-b401-747169ca8c5f",
   "metadata": {},
   "outputs": [
    {
     "data": {
      "text/plain": [
       "geo_country\n",
       "Russia                 1800565\n",
       "United States            11784\n",
       "Ukraine                   9012\n",
       "Ireland                   4034\n",
       "Belarus                   3636\n",
       "                        ...   \n",
       "Zambia                       1\n",
       "Malawi                       1\n",
       "Réunion                      1\n",
       "Barbados                     1\n",
       "Congo - Brazzaville          1\n",
       "Name: count, Length: 165, dtype: int64"
      ]
     },
     "execution_count": 91,
     "metadata": {},
     "output_type": "execute_result"
    }
   ],
   "source": [
    "#Счетчик уникальных значений\n",
    "df_sessions.geo_country.value_counts()"
   ]
  },
  {
   "cell_type": "code",
   "execution_count": 92,
   "id": "9f2e3b6b-3bad-4df6-bccf-b6e1ebf55812",
   "metadata": {},
   "outputs": [
    {
     "data": {
      "text/plain": [
       "array(['Antigua & Barbuda', 'Wallis & Futuna', 'Bosnia & Herzegovina',\n",
       "       'Myanmar (Burma)', 'Côte d’Ivoire', 'Réunion',\n",
       "       'Svalbard & Jan Mayen'], dtype=object)"
      ]
     },
     "execution_count": 92,
     "metadata": {},
     "output_type": "execute_result"
    }
   ],
   "source": [
    "#Проверка на аномалии, т.е. поиск чисел, русских букв, спецсимволов\n",
    "df_sessions.geo_country[df_sessions[\"geo_country\"].str.contains(r\"[^a-zA-Z\\s\\-\\']\", na=False)].unique()"
   ]
  },
  {
   "cell_type": "code",
   "execution_count": 93,
   "id": "9020badf-fbf2-4222-8e12-c52096885f7c",
   "metadata": {},
   "outputs": [],
   "source": [
    "#Заполнение пропусков самым популярным значением\n",
    "df_sessions.geo_country = df_sessions.geo_country.fillna(df_sessions.geo_country.mode()[0])"
   ]
  },
  {
   "cell_type": "code",
   "execution_count": 94,
   "id": "40397f2f-9edf-4fe8-ad25-9b9e0aa0ce19",
   "metadata": {},
   "outputs": [
    {
     "name": "stdout",
     "output_type": "stream",
     "text": [
      "Процент пропущенных значений в geo_country\n"
     ]
    },
    {
     "data": {
      "text/plain": [
       "0.0"
      ]
     },
     "execution_count": 94,
     "metadata": {},
     "output_type": "execute_result"
    }
   ],
   "source": [
    "missing_values_geo_country = (df_sessions.geo_country.isna().sum()/len(df_sessions.geo_country)*100)\n",
    "print('Процент пропущенных значений в geo_country')\n",
    "missing_values_geo_country"
   ]
  },
  {
   "cell_type": "code",
   "execution_count": 95,
   "id": "edc83ed7-9a0a-469a-bacc-5889f754b916",
   "metadata": {},
   "outputs": [],
   "source": [
    "#Приведение к нижнему регистру\n",
    "df_sessions.geo_country = df_sessions.geo_country.str.strip().str.lower()"
   ]
  },
  {
   "cell_type": "markdown",
   "id": "b08fce11-541a-4873-88a8-3aa2a3e1b390",
   "metadata": {},
   "source": [
    "Обработка пропусков utm_source"
   ]
  },
  {
   "cell_type": "code",
   "execution_count": 96,
   "id": "5ebe2ce1-9fda-4e13-abe0-56a661abba91",
   "metadata": {},
   "outputs": [
    {
     "data": {
      "text/plain": [
       "97"
      ]
     },
     "execution_count": 96,
     "metadata": {},
     "output_type": "execute_result"
    }
   ],
   "source": [
    "#Количество пропусков\n",
    "df_sessions.utm_source.isna().sum()"
   ]
  },
  {
   "cell_type": "code",
   "execution_count": 97,
   "id": "1e70d83c-898e-4641-b013-569b81dc9a38",
   "metadata": {},
   "outputs": [
    {
     "data": {
      "text/plain": [
       "utm_source\n",
       "ZpYIoDJMcFzVoPFsHGJL    578290\n",
       "fDLlAcSmythWSCVMvqvL    300575\n",
       "kjsLglQLzykiRbcDiGcD    266354\n",
       "MvfHsxITijuriZxsqZqt    186199\n",
       "BHcvLfOaCWvWTykYqHVe    116320\n",
       "                         ...  \n",
       "GYkgJdhSxirUFPHFiYSe         1\n",
       "WRHPhoRKhKxaenRCLBfo         1\n",
       "tjKUGseGMhkLEzdCqBRx         1\n",
       "wpmatvDuiMutnvmNVPJo         1\n",
       "BellrslNBZQZaIxVFGXJ         1\n",
       "Name: count, Length: 293, dtype: int64"
      ]
     },
     "execution_count": 97,
     "metadata": {},
     "output_type": "execute_result"
    }
   ],
   "source": [
    "#Счетчик уникальных значений\n",
    "df_sessions.utm_source.value_counts()"
   ]
  },
  {
   "cell_type": "code",
   "execution_count": 98,
   "id": "6647110c-4a0b-4f93-97f5-4158ca1ce78d",
   "metadata": {},
   "outputs": [
    {
     "data": {
      "text/plain": [
       "array([], dtype=object)"
      ]
     },
     "execution_count": 98,
     "metadata": {},
     "output_type": "execute_result"
    }
   ],
   "source": [
    "#Проверка на аномалии, т.е. поиск чисел, русских букв, спецсимволов\n",
    "df_sessions.utm_source[df_sessions[\"utm_source\"].str.contains(r\"[^a-zA-Z\\s\\-\\']\", na=False)].unique()"
   ]
  },
  {
   "cell_type": "code",
   "execution_count": 99,
   "id": "1c6816a7-4e06-4986-a4f3-cc3582957476",
   "metadata": {},
   "outputs": [],
   "source": [
    "#Заполнение пропусков самым частым значением\n",
    "df_sessions.utm_source = df_sessions.utm_source.fillna(df_sessions.utm_source.mode()[0])"
   ]
  },
  {
   "cell_type": "code",
   "execution_count": 100,
   "id": "80ca42e7-304a-41ac-b3e3-90a1552f5b95",
   "metadata": {},
   "outputs": [
    {
     "name": "stdout",
     "output_type": "stream",
     "text": [
      "Процент пропущенных значений в utm_source\n"
     ]
    },
    {
     "data": {
      "text/plain": [
       "0.0"
      ]
     },
     "execution_count": 100,
     "metadata": {},
     "output_type": "execute_result"
    }
   ],
   "source": [
    "missing_values_utm_source = (df_sessions.utm_source.isna().sum()/len(df_sessions.utm_source)*100)\n",
    "print('Процент пропущенных значений в utm_source')\n",
    "missing_values_utm_source"
   ]
  },
  {
   "cell_type": "markdown",
   "id": "4b71f11d-981e-47ae-914f-77e23dc4f3f4",
   "metadata": {},
   "source": [
    "Обработка пропусков device_browser"
   ]
  },
  {
   "cell_type": "code",
   "execution_count": 101,
   "id": "fea55842-fe0d-44de-b636-5dfd18f6521c",
   "metadata": {},
   "outputs": [
    {
     "data": {
      "text/plain": [
       "56"
      ]
     },
     "execution_count": 101,
     "metadata": {},
     "output_type": "execute_result"
    }
   ],
   "source": [
    "#Количество уникальных значений\n",
    "df_sessions.device_browser.nunique()"
   ]
  },
  {
   "cell_type": "code",
   "execution_count": 102,
   "id": "ffc2ec10-fe64-4c40-b472-9a5b8b69fbc1",
   "metadata": {},
   "outputs": [
    {
     "data": {
      "text/plain": [
       "17"
      ]
     },
     "execution_count": 102,
     "metadata": {},
     "output_type": "execute_result"
    }
   ],
   "source": [
    "#Количество пропусков\n",
    "df_sessions.device_browser.isna().sum()"
   ]
  },
  {
   "cell_type": "code",
   "execution_count": 103,
   "id": "144778d5-a3bd-4518-adc1-14a08752d8d5",
   "metadata": {},
   "outputs": [
    {
     "data": {
      "text/plain": [
       "device_browser\n",
       "Chrome                              1013436\n",
       "Safari                               478562\n",
       "YaBrowser                            133311\n",
       "Safari (in-app)                       69912\n",
       "Android Webview                       55369\n",
       "Samsung Internet                      47309\n",
       "Opera                                 26817\n",
       "Firefox                               16588\n",
       "Edge                                  16065\n",
       "UC Browser                              871\n",
       "Android Runtime                         392\n",
       "Mozilla Compatible Agent                362\n",
       "[FBAN                                   269\n",
       "Instagram 208.0.0.32.135 Android        140\n",
       "Instagram 209.0.0.21.119 Android        111\n",
       "MRCHROME                                 77\n",
       "Android Browser                          49\n",
       "Opera Mini                               45\n",
       "Puffin                                   45\n",
       "Internet Explorer                        36\n",
       "Maxthon                                  31\n",
       "Android                                  22\n",
       "Instagram 216.1.0.21.137 Android         19\n",
       "Instagram 202.0.0.23.119                 17\n",
       "Mozilla                                  17\n",
       "Instagram 216.0.0.12.135                 17\n",
       "Instagram 194.0.0.36.172 Android         15\n",
       "Instagram 207.0.0.28.118                 14\n",
       "Instagram 202.0.0.37.123 Android         12\n",
       "com.vk.vkclient                           8\n",
       "Instagram 192.0.0.37.119                  7\n",
       "Amazon Silk                               7\n",
       "helloworld                                6\n",
       "Coc Coc                                   6\n",
       "Instagram 213.0.0.19.117                  6\n",
       "Instagram 203.0.0.26.117                  6\n",
       "Instagram 212.0.0.38.119 Android          6\n",
       "Instagram 213.0.0.29.120 Android          5\n",
       "Instagram 201.0.0.23.111                  5\n",
       "Instagram 208.0.0.26.131                  5\n",
       "SeaMonkey                                 4\n",
       "Instagram 192.0.0.35.123 Android          3\n",
       "Instagram 158.0.0.30.123 Android          3\n",
       "Iron                                      2\n",
       "Instagram 199.0.0.27.120                  2\n",
       "NetFront                                  2\n",
       "MyApp                                     2\n",
       "Instagram 199.1.0.34.119 Android          2\n",
       "NokiaX2-02                                1\n",
       "MT6735_TD                                 1\n",
       "Nokia501                                  1\n",
       "Instagram 206.1.0.34.121 Android          1\n",
       "Phantom Browser                           1\n",
       "com.zhiliaoapp.musically                  1\n",
       "Konqueror                                 1\n",
       "Threads 202.0.0.23.119                    1\n",
       "Name: count, dtype: int64"
      ]
     },
     "execution_count": 103,
     "metadata": {},
     "output_type": "execute_result"
    }
   ],
   "source": [
    "#Счетчик уникальных значений\n",
    "df_sessions.device_browser.value_counts()"
   ]
  },
  {
   "cell_type": "code",
   "execution_count": 104,
   "id": "252b62cd-b042-46bd-8514-e143ef8149c0",
   "metadata": {},
   "outputs": [],
   "source": [
    "#Функция стандартизации. Удаление версий, точек, скобок, пробелов и тд, приведение к нижнему регистру \n",
    "def standart_browser(value):\n",
    "    if isinstance(value, str):\n",
    "        val = value.lower()\n",
    "        # Если строка в формате com.something.something, оставляем только третье слово\n",
    "        match = re.match(r'^com\\.[^.]+\\.(.+)$', val)\n",
    "        if match:\n",
    "            val = match.group(1)\n",
    "        # Для остальных многословных названий оставляем только первое слово\n",
    "        else: val = val.split()[0]\n",
    "        # удаляем содержимое скобок\n",
    "        val = re.sub(r'\\s*\\(.*?\\)', '', val)\n",
    "        # удаляем цифры и версии\n",
    "        val = re.sub(r'[\\d\\.\\-_:\\[\\]]+', '', val)    \n",
    "        val = val.strip()\n",
    "        return val\n",
    "        \n",
    "df_sessions['device_browser'] = df_sessions['device_browser'].apply(standart_browser)"
   ]
  },
  {
   "cell_type": "code",
   "execution_count": 105,
   "id": "279d80a5-447b-4884-a5f9-0fd27a9a3695",
   "metadata": {},
   "outputs": [
    {
     "data": {
      "text/plain": [
       "device_browser\n",
       "chrome        1013436\n",
       "safari         548474\n",
       "yabrowser      133311\n",
       "android         55832\n",
       "samsung         47309\n",
       "opera           26862\n",
       "firefox         16588\n",
       "edge            16065\n",
       "uc                871\n",
       "instagram         396\n",
       "mozilla           379\n",
       "fban              269\n",
       "mrchrome           77\n",
       "puffin             45\n",
       "internet           36\n",
       "maxthon            31\n",
       "vkclient            8\n",
       "amazon              7\n",
       "coc                 6\n",
       "helloworld          6\n",
       "seamonkey           4\n",
       "iron                2\n",
       "netfront            2\n",
       "myapp               2\n",
       "mttd                1\n",
       "nokiax              1\n",
       "nokia               1\n",
       "phantom             1\n",
       "musically           1\n",
       "konqueror           1\n",
       "threads             1\n",
       "Name: count, dtype: int64"
      ]
     },
     "execution_count": 105,
     "metadata": {},
     "output_type": "execute_result"
    }
   ],
   "source": [
    "#Счетчик уникальных значений\n",
    "df_sessions.device_browser.value_counts()"
   ]
  },
  {
   "cell_type": "code",
   "execution_count": 106,
   "id": "ec460314-9398-4f96-b29c-ff27222676c1",
   "metadata": {},
   "outputs": [],
   "source": [
    "#Замена пропусков самым популярным значением\n",
    "df_sessions.device_browser = df_sessions.device_browser.fillna(df_sessions.device_browser.mode()[0])"
   ]
  },
  {
   "cell_type": "markdown",
   "id": "b74a8450-6b68-4bc9-abcf-e0407519c3be",
   "metadata": {},
   "source": [
    "Заполнение пропусков device_screen_resolution"
   ]
  },
  {
   "cell_type": "code",
   "execution_count": 107,
   "id": "4836a86f-8161-426d-b672-a3507b5b2458",
   "metadata": {},
   "outputs": [
    {
     "data": {
      "text/plain": [
       "5038"
      ]
     },
     "execution_count": 107,
     "metadata": {},
     "output_type": "execute_result"
    }
   ],
   "source": [
    "#Количество уникальных значений\n",
    "df_sessions.device_screen_resolution.nunique()"
   ]
  },
  {
   "cell_type": "code",
   "execution_count": 108,
   "id": "d74b3362-9584-4f10-820f-d9c21b094860",
   "metadata": {},
   "outputs": [
    {
     "data": {
      "text/plain": [
       "8"
      ]
     },
     "execution_count": 108,
     "metadata": {},
     "output_type": "execute_result"
    }
   ],
   "source": [
    "#Количество пропусков\n",
    "df_sessions.device_screen_resolution.isna().sum()"
   ]
  },
  {
   "cell_type": "code",
   "execution_count": 109,
   "id": "ac0dcade-828a-4f9e-9495-343556c123bf",
   "metadata": {},
   "outputs": [
    {
     "data": {
      "text/plain": [
       "device_screen_resolution\n",
       "414x896      169090\n",
       "1920x1080    125768\n",
       "375x812      117944\n",
       "393x851      115454\n",
       "375x667       93341\n",
       "              ...  \n",
       "2262x1553         1\n",
       "1097x617          1\n",
       "421x847           1\n",
       "1791x1007         1\n",
       "464x1123          1\n",
       "Name: count, Length: 5038, dtype: int64"
      ]
     },
     "execution_count": 109,
     "metadata": {},
     "output_type": "execute_result"
    }
   ],
   "source": [
    "#Счетчик уникальных значений\n",
    "df_sessions.device_screen_resolution.value_counts()"
   ]
  },
  {
   "cell_type": "code",
   "execution_count": 110,
   "id": "bf65c9f3-a6a9-4c8d-859d-c09a950ea528",
   "metadata": {},
   "outputs": [
    {
     "data": {
      "text/plain": [
       "array([nan], dtype=object)"
      ]
     },
     "execution_count": 110,
     "metadata": {},
     "output_type": "execute_result"
    }
   ],
   "source": [
    "#Проверка на аномалии, т.е. все, что имеет формат НЕ число x число\n",
    "df_sessions.device_screen_resolution[~df_sessions[\"device_screen_resolution\"].str.contains(r\"^\\d+x\\d+$\", na=False)].unique()"
   ]
  },
  {
   "cell_type": "code",
   "execution_count": 111,
   "id": "c4ea08bd-01c1-4fd4-aa8f-e0537065ee89",
   "metadata": {},
   "outputs": [],
   "source": [
    "#Зполнение пропусков самым популрным значением\n",
    "df_sessions.device_screen_resolution = df_sessions.device_screen_resolution.fillna(df_sessions.device_screen_resolution.mode()[0])"
   ]
  },
  {
   "cell_type": "markdown",
   "id": "5bbc1358-8f50-4a92-b878-3d33d038cbd0",
   "metadata": {},
   "source": [
    "## Data Visualizatoin"
   ]
  },
  {
   "cell_type": "code",
   "execution_count": 112,
   "id": "cc7ccdab-0281-48de-baeb-a2362ad5de67",
   "metadata": {},
   "outputs": [
    {
     "name": "stdout",
     "output_type": "stream",
     "text": [
      "<class 'pandas.core.frame.DataFrame'>\n",
      "RangeIndex: 1860042 entries, 0 to 1860041\n",
      "Data columns (total 20 columns):\n",
      " #   Column                    Dtype         \n",
      "---  ------                    -----         \n",
      " 0   session_id                object        \n",
      " 1   client_id                 object        \n",
      " 2   visit_date                datetime64[ns]\n",
      " 3   visit_time                datetime64[ns]\n",
      " 4   visit_number              int64         \n",
      " 5   utm_source                object        \n",
      " 6   utm_medium                object        \n",
      " 7   utm_campaign              object        \n",
      " 8   utm_adcontent             object        \n",
      " 9   utm_keyword               object        \n",
      " 10  device_category           object        \n",
      " 11  device_os                 object        \n",
      " 12  device_brand              object        \n",
      " 13  device_screen_resolution  object        \n",
      " 14  device_browser            object        \n",
      " 15  geo_country               object        \n",
      " 16  geo_city                  object        \n",
      " 17  event_value               float64       \n",
      " 18  auto_brand                object        \n",
      " 19  auto_model                object        \n",
      "dtypes: datetime64[ns](2), float64(1), int64(1), object(16)\n",
      "memory usage: 283.8+ MB\n"
     ]
    }
   ],
   "source": [
    "df_sessions.info()"
   ]
  },
  {
   "cell_type": "code",
   "execution_count": 113,
   "id": "bdcfbaad-9467-4d30-b6b0-3f5c0334e29a",
   "metadata": {},
   "outputs": [],
   "source": [
    "#Функция вычисления конверсии\n",
    "def CR(df, group_col):\n",
    "    cr = df.groupby(group_col)['event_value'].mean()\n",
    "    return cr"
   ]
  },
  {
   "cell_type": "code",
   "execution_count": 114,
   "id": "c437469e-6f52-434f-9180-1c69d2114c41",
   "metadata": {},
   "outputs": [
    {
     "data": {
      "image/png": "[encoded data removed]",
      "text/plain": [
       "<Figure size 640x480 with 1 Axes>"
      ]
     },
     "metadata": {},
     "output_type": "display_data"
    }
   ],
   "source": [
    "#Количество клиентов в зависимости от номера визита\n",
    "sns.histplot(df_sessions['visit_number'], bins=30, kde=False)\n",
    "plt.yscale('log')\n",
    "plt.title('Гистограмма числа визитов (логарифмическая шкала по Y)')\n",
    "plt.xlabel('Номер визита')\n",
    "plt.ylabel('Количество клиентов (лог)')\n",
    "plt.show()"
   ]
  },
  {
   "cell_type": "code",
   "execution_count": 115,
   "id": "ff9d2d13-7c12-4dfd-b0fd-ed7f1cdd32b0",
   "metadata": {},
   "outputs": [
    {
     "data": {
      "image/png": "[encoded data removed]",
      "text/plain": [
       "<Figure size 800x500 with 1 Axes>"
      ]
     },
     "metadata": {},
     "output_type": "display_data"
    }
   ],
   "source": [
    "#Конверсия в зависимости от номера визита\n",
    "cr_visit_number = CR(df_sessions, \"visit_number\")\n",
    "\n",
    "plt.figure(figsize=(8,5))\n",
    "plt.plot(cr_visit_number.index, cr_visit_number.values, marker=\"o\")\n",
    "plt.ylabel('Conversion Rate')\n",
    "plt.title('CR по номеру визита')\n",
    "plt.xticks(rotation=0)\n",
    "plt.show()"
   ]
  },
  {
   "cell_type": "markdown",
   "id": "b9aebcab-aa0d-408e-a871-a822c0fb8701",
   "metadata": {},
   "source": [
    "Ступенчатость вызвана малым количеством данных для конкретного номера визита. Наример, для номера визита 400 всего 1 сессия и она оканчивается целевым действием. Для избежания этого нужно разбить количество визитов на бины "
   ]
  },
  {
   "cell_type": "code",
   "execution_count": 116,
   "id": "0a6e56f5-d19e-4c42-9304-833d910596ac",
   "metadata": {},
   "outputs": [
    {
     "data": {
      "image/png": "[encoded data removed]",
      "text/plain": [
       "<Figure size 800x500 with 1 Axes>"
      ]
     },
     "metadata": {},
     "output_type": "display_data"
    }
   ],
   "source": [
    "#Конверсия в зависимости от категории устройства\n",
    "cr_device_category = CR(df_sessions, \"device_category\")\n",
    "\n",
    "plt.figure(figsize=(8,5))\n",
    "cr_device_category.plot(kind='bar')\n",
    "plt.ylabel('Conversion Rate')\n",
    "plt.title('CR по категориям устройств')\n",
    "plt.xticks(rotation=0)\n",
    "plt.show()"
   ]
  },
  {
   "cell_type": "code",
   "execution_count": 117,
   "id": "c44b17a7-f922-4152-87b9-26e9169b6001",
   "metadata": {},
   "outputs": [
    {
     "data": {
      "image/png": "[encoded data removed]",
      "text/plain": [
       "<Figure size 800x500 with 1 Axes>"
      ]
     },
     "metadata": {},
     "output_type": "display_data"
    }
   ],
   "source": [
    "#Конверсия в зависимости от os устройства\n",
    "cr_device_os = CR(df_sessions, \"device_os\")\n",
    "\n",
    "plt.figure(figsize=(8,5))\n",
    "cr_device_os.sort_values(ascending=False).plot(kind='bar')\n",
    "plt.ylabel('Conversion Rate')\n",
    "plt.title('CR по os устройств')\n",
    "plt.xticks(rotation=45)\n",
    "plt.show()"
   ]
  },
  {
   "cell_type": "code",
   "execution_count": 118,
   "id": "4194e6c1-2238-45ce-97a3-f026a29a0a0d",
   "metadata": {},
   "outputs": [
    {
     "data": {
      "image/png": "[encoded data removed]",
      "text/plain": [
       "<Figure size 800x500 with 1 Axes>"
      ]
     },
     "metadata": {},
     "output_type": "display_data"
    }
   ],
   "source": [
    "#Конверсия в зависимости от бренда устройства\n",
    "cr_device_os = CR(df_sessions, \"device_brand\")\n",
    "\n",
    "plt.figure(figsize=(8,5))\n",
    "cr_device_os.sort_values(ascending=False).head(20).plot(kind='bar')\n",
    "plt.ylabel('Conversion Rate')\n",
    "plt.title('CR по брендам устройств, Топ-20')\n",
    "plt.xticks(rotation=45)\n",
    "plt.show()"
   ]
  },
  {
   "cell_type": "markdown",
   "id": "abd5580c-70a9-4e02-8b2c-5e403e55f9b8",
   "metadata": {},
   "source": [
    "Высокая конверсия первых 4-5 брендов вызвана малым количеством данных. Т.е., например, была всего одна сессия с устройства motive и она закончилась целевым действием => конверсия = 1. Для избежания этого нужно объединить редкие категории брендов"
   ]
  },
  {
   "cell_type": "code",
   "execution_count": 119,
   "id": "fa3fdab6-dbec-4b0c-82c5-02703b3b6f8a",
   "metadata": {},
   "outputs": [
    {
     "data": {
      "image/png": "[encoded data removed]",
      "text/plain": [
       "<Figure size 800x800 with 1 Axes>"
      ]
     },
     "metadata": {},
     "output_type": "display_data"
    }
   ],
   "source": [
    "plt.figure(figsize=(8,8))\n",
    "plt.scatter(df_sessions['device_screen_resolution'].str.split('x', expand=True).astype(float)[0]\n",
    "            , df_sessions['device_screen_resolution'].str.split('x', expand=True).astype(float)[1], alpha=0.3)\n",
    "plt.xlabel(\"Width\")\n",
    "plt.ylabel(\"Height\")\n",
    "plt.title(\"Соотношение ширины и высоты экранов\")\n",
    "plt.grid(True)\n",
    "plt.show()\n"
   ]
  },
  {
   "cell_type": "markdown",
   "id": "c71abcbe-b4f1-421c-886e-8a02f3189ddd",
   "metadata": {},
   "source": [
    "Есть явные выбросы. Воспользуемся правилом трех сигм, так как это длиннохвостое распределение, а межквартильный размах слишком чувствителен к выбросам, то есть за выбросы посчитается очень большое количество значений "
   ]
  },
  {
   "cell_type": "code",
   "execution_count": 120,
   "id": "2a79f39f-d247-42ce-b7e8-ff5c6cf6b214",
   "metadata": {},
   "outputs": [
    {
     "data": {
      "image/png": "[encoded data removed]",
      "text/plain": [
       "<Figure size 1000x600 with 1 Axes>"
      ]
     },
     "metadata": {},
     "output_type": "display_data"
    }
   ],
   "source": [
    "#Получаем ширину и высоту в отдельные массивы\n",
    "res = df_sessions['device_screen_resolution'].str.split('x', expand=True).astype(float)\n",
    "width = res[0]\n",
    "height = res[1]\n",
    "\n",
    "#Для большей наглядности и индормативности будет логарифмировать площадь\n",
    "#Вычисляем лог площади\n",
    "log_area = np.log1p(width * height)\n",
    "\n",
    "#Z-оценка\n",
    "is_outlier = np.abs(stats.zscore(log_area)) > 3\n",
    "\n",
    "#scatter plot с подсветкой выбросов \n",
    "plt.figure(figsize=(10,6))\n",
    "plt.scatter(width, height, c=np.where(is_outlier, 'red', 'blue'), alpha=0.3)\n",
    "plt.xlabel(\"Width\")\n",
    "plt.ylabel(\"Height\")\n",
    "plt.title(\"Screen resolution (3σ, red = outliers)\")\n",
    "plt.grid(True)\n",
    "plt.show()"
   ]
  },
  {
   "cell_type": "code",
   "execution_count": 135,
   "id": "246d08d7-6c45-443a-a81f-6d43ac8d6761",
   "metadata": {},
   "outputs": [],
   "source": [
    "def delete_outliers(df_sessions, is_outlier):\n",
    "    for i in df_sessions.device_category.unique():\n",
    "        mask_outliers = (is_outlier) & (df_sessions['device_category'] == i)\n",
    "        mask_valid = (~is_outlier) & (df_sessions['device_category'] == i)\n",
    "        \n",
    "        most_common = df_sessions.loc[mask_valid, 'device_screen_resolution'].mode()[0]\n",
    "        df_sessions.loc[mask_outliers, 'device_screen_resolution'] = most_common\n",
    "    return df_sessions\n",
    "\n",
    "df_sessions = delete_outliers(df_sessions, is_outlier)"
   ]
  },
  {
   "cell_type": "code",
   "execution_count": 137,
   "id": "956e3b61-4f74-435c-9945-8b916c65cec5",
   "metadata": {},
   "outputs": [
    {
     "data": {
      "image/png": "[encoded data removed]",
      "text/plain": [
       "<Figure size 1200x500 with 1 Axes>"
      ]
     },
     "metadata": {},
     "output_type": "display_data"
    }
   ],
   "source": [
    "#Конверсия в зависимости от браузера устройства\n",
    "cr_device_os = CR(df_sessions, \"device_browser\")\n",
    "\n",
    "plt.figure(figsize=(12,5))\n",
    "cr_device_os.sort_values(ascending=False).head(20).plot(kind='bar')\n",
    "plt.ylabel('Conversion Rate')\n",
    "plt.title('CR по браузерам устройств, Топ-20')\n",
    "plt.xticks(rotation=90)\n",
    "plt.show()"
   ]
  },
  {
   "cell_type": "markdown",
   "id": "5753bfcb-d2d9-4061-88b0-5a13c39ebe21",
   "metadata": {},
   "source": [
    "Высокая конверсия vk браузера вызвана малым количеством сессий через него. Для избежания нужно объединить редкие категории браузеров"
   ]
  },
  {
   "cell_type": "code",
   "execution_count": 138,
   "id": "3bada1d8-518e-4ca3-9269-e0f0511ff778",
   "metadata": {},
   "outputs": [
    {
     "data": {
      "image/png": "[encoded data removed]",
      "text/plain": [
       "<Figure size 2000x1000 with 1 Axes>"
      ]
     },
     "metadata": {},
     "output_type": "display_data"
    }
   ],
   "source": [
    "#Конверсия в зависимости от страны\n",
    "cr_geo_country = CR(df_sessions, \"geo_country\")\n",
    "\n",
    "plt.figure(figsize=(20,10))\n",
    "cr_geo_country.sort_values(ascending=False).head(20).plot(kind='bar')\n",
    "plt.ylabel('Conversion Rate')\n",
    "plt.title('CR по странам, Топ-20')\n",
    "plt.xticks(rotation=45)\n",
    "plt.show()"
   ]
  },
  {
   "cell_type": "markdown",
   "id": "71aaaad1-46c3-4d8b-aa2e-c148b0a3b77b",
   "metadata": {},
   "source": [
    "Высокая конверсия в 3-4 странах вызвана тем, что количество данных для каждой из них мало. То есть при, например, всего 100 сессий из Марокко 14 могут заканчиваться целевым действием. Для избежания этого нужно объединить редкие категории в одну."
   ]
  },
  {
   "cell_type": "code",
   "execution_count": 139,
   "id": "f1141af2-c08e-46c6-b0cd-784aa2da6f9f",
   "metadata": {},
   "outputs": [
    {
     "data": {
      "image/png": "[encoded data removed]",
      "text/plain": [
       "<Figure size 2000x1000 with 1 Axes>"
      ]
     },
     "metadata": {},
     "output_type": "display_data"
    }
   ],
   "source": [
    "#Конверсия в зависимости от страны\n",
    "cr_geo_country = CR(df_sessions, \"geo_city\")\n",
    "\n",
    "plt.figure(figsize=(20,10))\n",
    "cr_geo_country.sort_values(ascending=False).head(20).plot(kind='bar')\n",
    "plt.ylabel('Conversion Rate')\n",
    "plt.title('CR по городам, Топ-20')\n",
    "plt.xticks(rotation=45)\n",
    "plt.show()"
   ]
  },
  {
   "cell_type": "markdown",
   "id": "aa5d37e4-2752-467c-92f2-5c1db9dd6157",
   "metadata": {},
   "source": [
    "Аналогично прошлым случаям, высокая конверсия из-за малого количества сессий из города. Для избежания нужно объединить редкие города в одну группу"
   ]
  },
  {
   "cell_type": "code",
   "execution_count": 140,
   "id": "63429ea7-bbfd-49bd-8d96-cb281bdca5b8",
   "metadata": {},
   "outputs": [
    {
     "data": {
      "image/png": "[encoded data removed]",
      "text/plain": [
       "<Figure size 1000x600 with 1 Axes>"
      ]
     },
     "metadata": {},
     "output_type": "display_data"
    }
   ],
   "source": [
    "#Конверсия в зависимости от бренда машины\n",
    "cr_auto_brand = CR(df_sessions, 'auto_brand')\n",
    "\n",
    "# Строим график\n",
    "plt.figure(figsize=(10,6))\n",
    "cr_auto_brand.sort_values(ascending = False).plot(kind=\"bar\")\n",
    "plt.ylabel(\"Conversion Rate\")\n",
    "plt.xlabel(\"Бренд машины\")\n",
    "plt.title(\"CR в зависимости от бренда машины\")\n",
    "plt.show()"
   ]
  },
  {
   "cell_type": "code",
   "execution_count": 141,
   "id": "c6d3633b-27fb-4715-b8d8-16bd1f599b28",
   "metadata": {},
   "outputs": [
    {
     "data": {
      "image/png": "[encoded data removed]",
      "text/plain": [
       "<Figure size 1000x600 with 1 Axes>"
      ]
     },
     "metadata": {},
     "output_type": "display_data"
    }
   ],
   "source": [
    "#Конверсия в зависимости от модели машины\n",
    "cr_auto_model = CR(df_sessions, 'auto_model')\n",
    "\n",
    "# Строим график\n",
    "plt.figure(figsize=(10,6))\n",
    "cr_auto_model.sort_values(ascending = False).plot(kind=\"bar\")\n",
    "plt.ylabel(\"Conversion Rate\")\n",
    "plt.xlabel(\"Модель машины\")\n",
    "plt.title(\"CR в зависимости от модели машины\")\n",
    "plt.show()"
   ]
  },
  {
   "cell_type": "markdown",
   "id": "08be477e-1614-4fe3-84dd-65e67d4e9fdd",
   "metadata": {},
   "source": [
    "Высокая конверсия модели macan вызвана очень маленьким количеством визитов. Во избежании таких аномалий нужно объединять редкие категории в одну."
   ]
  },
  {
   "cell_type": "code",
   "execution_count": 142,
   "id": "3006f423-2bb0-4adc-8fc5-8549073af3a5",
   "metadata": {},
   "outputs": [
    {
     "name": "stdout",
     "output_type": "stream",
     "text": [
      "<class 'pandas.core.frame.DataFrame'>\n",
      "RangeIndex: 1860042 entries, 0 to 1860041\n",
      "Data columns (total 20 columns):\n",
      " #   Column                    Dtype         \n",
      "---  ------                    -----         \n",
      " 0   session_id                object        \n",
      " 1   client_id                 object        \n",
      " 2   visit_date                datetime64[ns]\n",
      " 3   visit_time                datetime64[ns]\n",
      " 4   visit_number              int64         \n",
      " 5   utm_source                object        \n",
      " 6   utm_medium                object        \n",
      " 7   utm_campaign              object        \n",
      " 8   utm_adcontent             object        \n",
      " 9   utm_keyword               object        \n",
      " 10  device_category           object        \n",
      " 11  device_os                 object        \n",
      " 12  device_brand              object        \n",
      " 13  device_screen_resolution  object        \n",
      " 14  device_browser            object        \n",
      " 15  geo_country               object        \n",
      " 16  geo_city                  object        \n",
      " 17  event_value               float64       \n",
      " 18  auto_brand                object        \n",
      " 19  auto_model                object        \n",
      "dtypes: datetime64[ns](2), float64(1), int64(1), object(16)\n",
      "memory usage: 283.8+ MB\n"
     ]
    }
   ],
   "source": [
    "df_sessions.info()"
   ]
  },
  {
   "cell_type": "code",
   "execution_count": 143,
   "id": "fb978258-b8c3-4ca7-8ab7-a62021a3fe93",
   "metadata": {},
   "outputs": [],
   "source": [
    "# сохранить датафрейм в pkl\n",
    "df_sessions.to_pickle(\"data/ga_sessions_clean.pkl\")"
   ]
  }
 ],
 "metadata": {
  "kernelspec": {
   "display_name": "Python 3 (ipykernel)",
   "language": "python",
   "name": "python3"
  },
  "language_info": {
   "codemirror_mode": {
    "name": "ipython",
    "version": 3
   },
   "file_extension": ".py",
   "mimetype": "text/x-python",
   "name": "python",
   "nbconvert_exporter": "python",
   "pygments_lexer": "ipython3",
   "version": "3.12.7"
  }
 },
 "nbformat": 4,
 "nbformat_minor": 5
}
