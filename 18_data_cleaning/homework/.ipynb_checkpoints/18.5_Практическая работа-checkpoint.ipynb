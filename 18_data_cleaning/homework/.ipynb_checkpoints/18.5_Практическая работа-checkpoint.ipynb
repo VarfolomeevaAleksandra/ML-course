{
 "cells": [
  {
   "cell_type": "markdown",
   "id": "09a9af24",
   "metadata": {
    "id": "09a9af24"
   },
   "source": [
    "# Разведочный анализ данных: Data Cleaning. Практическая работа"
   ]
  },
  {
   "cell_type": "markdown",
   "id": "7d354813",
   "metadata": {
    "id": "7d354813"
   },
   "source": [
    "## Цели практической работы\n",
    "* Потренироваться выявлять и заполнять пропущенные значения в данных.\n",
    "* Потренироваться преобразовывать типы данных.\n",
    "* Потренироваться выявлять и обрабатывать аномальные значения в данных.\n",
    "* Подготовить датафрейм к этапу генерации признаков.\n",
    "\n"
   ]
  },
  {
   "cell_type": "markdown",
   "id": "fa433432",
   "metadata": {
    "id": "fa433432"
   },
   "source": [
    "## Задача\n",
    "\n",
    "В этой практической работе вы продолжите исследовать и готовить данные для этапа моделирования: заполнять пропущенные значения в некоторых переменных, изменять типы данных и обрабатывать выбросы.\n",
    "\n",
    "Напомним, что вы работаете с небольшой выборкой из коллекции подержанных автомобилей, выставленных на продажу в Соединённых Штатах. На этих данных вы построите первую модель классификации, определяющую категорию цены подержанного автомобиля в зависимости от характеристик транспортного средства.\n",
    "\n",
    "## Описание датасета:\n",
    "- `id`: идентификатор записи;\n",
    "- `url`: URL записи о продаже;\n",
    "- `region`: регион;\n",
    "- `region_url`: URL региона;\n",
    "- `price`: стоимость;\n",
    "- `year`: год выпуска;\n",
    "- `manufacturer`: производитель;\n",
    "- `model`: модель;\n",
    "- `condition`: состояние;\n",
    "- `cylinders`: количество цилиндров;\n",
    "- `fuel`: тип топлива;\n",
    "- `odometer`: количество пройденных миль;\n",
    "- `title_status`: статус;\n",
    "- `transmission`: коробка передач;\n",
    "- `VIN`: идентификационный номер;\n",
    "- `drive`: тип привода;\n",
    "- `size`: размер;\n",
    "- `type`: кузов;\n",
    "- `paint_color`: цвет;\n",
    "- `image_url`: URL изображения;\n",
    "- `description`: указанное описание;\n",
    "- `county`: страна;\n",
    "- `state`: штат;\n",
    "- `lat`: широта;\n",
    "- `long`: долгота;\n",
    "- `posting_date`: дата размещения объявления о продаже;\n",
    "- `price_category`: категория цены.\n"
   ]
  },
  {
   "cell_type": "markdown",
   "id": "a2bd5ce3",
   "metadata": {
    "id": "a2bd5ce3"
   },
   "source": [
    "## Что входит в практическую работу\n",
    "1. Загрузить датасет и ознакомиться с ним.\n",
    "2. Исследовать переменные датасета на наличие пропусков.\n",
    "3. Обработать пропуски в зависимости от типа переменной.\n",
    "4. Изменить типы данных.\n",
    "5. Исследовать данные на аномальные значения и скорректировать выбросы."
   ]
  },
  {
   "cell_type": "markdown",
   "id": "9320387e",
   "metadata": {
    "id": "9320387e"
   },
   "source": [
    "## Что оценивается\n",
    "- Программа выдаёт верный ответ на заданном наборе данных.\n",
    "- Описаны причины выбранного решения, если требуется.\n",
    "- Код читабелен: переменным даны осмысленные названия, отступы и правила расстановки пробелов соблюдены.\n",
    "- Репозиторий проекта содержит осмысленные коммиты с конкретными реализованными фичами, ветки названы согласно назначению, лишние файлы не хранятся в репозитории.\n",
    "- В репозитории проекта соблюдена иерархия директорий согласно списку модулей и содержащихся в них видеоматериалов.\n",
    "- Репозиторий проекта содержит файлы с данными, полученными в результате выполнения практической работы.\n",
    "\n",
    "\n"
   ]
  },
  {
   "cell_type": "markdown",
   "id": "fe2c1c43",
   "metadata": {
    "id": "fe2c1c43"
   },
   "source": [
    "## Как отправить работу на проверку\n",
    "Сдайте практическую работу этого модуля через систему контроля версий Git сервиса Skillbox GitLab. После загрузки работы на проверку напишите об этом в личном кабинете своему куратору."
   ]
  },
  {
   "cell_type": "markdown",
   "id": "e572b1e8",
   "metadata": {
    "id": "e572b1e8"
   },
   "source": [
    "## Обязательные задачи"
   ]
  },
  {
   "cell_type": "code",
   "execution_count": 237,
   "id": "f8b7e7f2",
   "metadata": {
    "ExecuteTime": {
     "end_time": "2022-01-27T23:32:05.731039Z",
     "start_time": "2022-01-27T23:32:05.727108Z"
    },
    "id": "f8b7e7f2"
   },
   "outputs": [],
   "source": [
    "import pandas as pd"
   ]
  },
  {
   "cell_type": "markdown",
   "id": "9e9007d5",
   "metadata": {
    "ExecuteTime": {
     "end_time": "2022-01-28T23:12:51.463454Z",
     "start_time": "2022-01-28T23:12:51.458075Z"
    },
    "id": "9e9007d5"
   },
   "source": [
    "### Задача 1. Загрузка датасета и ознакомление с количеством пропущенных значений\n",
    "\n",
    "1. Загрузите датасет из `data/df_out.csv` и выведите первые пять записей.\n",
    "\n"
   ]
  },
  {
   "cell_type": "code",
   "execution_count": 238,
   "id": "13da54e4",
   "metadata": {
    "ExecuteTime": {
     "end_time": "2022-01-28T23:13:27.330926Z",
     "start_time": "2022-01-28T23:13:27.327741Z"
    },
    "id": "13da54e4"
   },
   "outputs": [
    {
     "data": {
      "text/html": [
       "<div>\n",
       "<style scoped>\n",
       "    .dataframe tbody tr th:only-of-type {\n",
       "        vertical-align: middle;\n",
       "    }\n",
       "\n",
       "    .dataframe tbody tr th {\n",
       "        vertical-align: top;\n",
       "    }\n",
       "\n",
       "    .dataframe thead th {\n",
       "        text-align: right;\n",
       "    }\n",
       "</style>\n",
       "<table border=\"1\" class=\"dataframe\">\n",
       "  <thead>\n",
       "    <tr style=\"text-align: right;\">\n",
       "      <th></th>\n",
       "      <th>id</th>\n",
       "      <th>url</th>\n",
       "      <th>region</th>\n",
       "      <th>region_url</th>\n",
       "      <th>price</th>\n",
       "      <th>year</th>\n",
       "      <th>manufacturer</th>\n",
       "      <th>model</th>\n",
       "      <th>fuel</th>\n",
       "      <th>odometer</th>\n",
       "      <th>title_status</th>\n",
       "      <th>transmission</th>\n",
       "      <th>image_url</th>\n",
       "      <th>description</th>\n",
       "      <th>state</th>\n",
       "      <th>lat</th>\n",
       "      <th>long</th>\n",
       "      <th>posting_date</th>\n",
       "      <th>price_category</th>\n",
       "      <th>date</th>\n",
       "    </tr>\n",
       "  </thead>\n",
       "  <tbody>\n",
       "    <tr>\n",
       "      <th>0</th>\n",
       "      <td>7308295377</td>\n",
       "      <td>https://chattanooga.craigslist.org/ctd/d/chatt...</td>\n",
       "      <td>chattanooga</td>\n",
       "      <td>https://chattanooga.craigslist.org</td>\n",
       "      <td>54990</td>\n",
       "      <td>2020.0</td>\n",
       "      <td>ram</td>\n",
       "      <td>2500 crew cab big horn</td>\n",
       "      <td>diesel</td>\n",
       "      <td>27442</td>\n",
       "      <td>clean</td>\n",
       "      <td>other</td>\n",
       "      <td>https://images.craigslist.org/00N0N_1xMPvfxRAI...</td>\n",
       "      <td>Carvana is the safer way to buy a car During t...</td>\n",
       "      <td>tn</td>\n",
       "      <td>35.060000</td>\n",
       "      <td>-85.250000</td>\n",
       "      <td>2021-04-17T12:30:50-0400</td>\n",
       "      <td>high</td>\n",
       "      <td>2021-04-17 16:30:50+00:00</td>\n",
       "    </tr>\n",
       "    <tr>\n",
       "      <th>1</th>\n",
       "      <td>7316380095</td>\n",
       "      <td>https://newjersey.craigslist.org/ctd/d/carlsta...</td>\n",
       "      <td>north jersey</td>\n",
       "      <td>https://newjersey.craigslist.org</td>\n",
       "      <td>16942</td>\n",
       "      <td>2016.0</td>\n",
       "      <td>ford</td>\n",
       "      <td>explorer 4wd 4dr xlt</td>\n",
       "      <td>NaN</td>\n",
       "      <td>60023</td>\n",
       "      <td>clean</td>\n",
       "      <td>automatic</td>\n",
       "      <td>https://images.craigslist.org/00x0x_26jl9F0cnL...</td>\n",
       "      <td>***Call Us for more information at: 201-635-14...</td>\n",
       "      <td>nj</td>\n",
       "      <td>40.821805</td>\n",
       "      <td>-74.061962</td>\n",
       "      <td>2021-05-03T15:40:21-0400</td>\n",
       "      <td>medium</td>\n",
       "      <td>2021-05-03 19:40:21+00:00</td>\n",
       "    </tr>\n",
       "    <tr>\n",
       "      <th>2</th>\n",
       "      <td>7313733749</td>\n",
       "      <td>https://reno.craigslist.org/ctd/d/atlanta-2017...</td>\n",
       "      <td>reno / tahoe</td>\n",
       "      <td>https://reno.craigslist.org</td>\n",
       "      <td>35590</td>\n",
       "      <td>2017.0</td>\n",
       "      <td>volkswagen</td>\n",
       "      <td>golf r hatchback</td>\n",
       "      <td>gas</td>\n",
       "      <td>14048</td>\n",
       "      <td>clean</td>\n",
       "      <td>other</td>\n",
       "      <td>https://images.craigslist.org/00y0y_eeZjWeiSfb...</td>\n",
       "      <td>Carvana is the safer way to buy a car During t...</td>\n",
       "      <td>ca</td>\n",
       "      <td>33.779214</td>\n",
       "      <td>-84.411811</td>\n",
       "      <td>2021-04-28T03:52:20-0700</td>\n",
       "      <td>high</td>\n",
       "      <td>2021-04-28 10:52:20+00:00</td>\n",
       "    </tr>\n",
       "    <tr>\n",
       "      <th>3</th>\n",
       "      <td>7308210929</td>\n",
       "      <td>https://fayetteville.craigslist.org/ctd/d/rale...</td>\n",
       "      <td>fayetteville</td>\n",
       "      <td>https://fayetteville.craigslist.org</td>\n",
       "      <td>14500</td>\n",
       "      <td>2013.0</td>\n",
       "      <td>toyota</td>\n",
       "      <td>rav4</td>\n",
       "      <td>gas</td>\n",
       "      <td>117291</td>\n",
       "      <td>clean</td>\n",
       "      <td>automatic</td>\n",
       "      <td>https://images.craigslist.org/00606_iGe5iXidib...</td>\n",
       "      <td>2013 Toyota RAV4 XLE 4dr SUV     Offered by: R...</td>\n",
       "      <td>nc</td>\n",
       "      <td>35.715954</td>\n",
       "      <td>-78.655304</td>\n",
       "      <td>2021-04-17T10:08:57-0400</td>\n",
       "      <td>medium</td>\n",
       "      <td>2021-04-17 14:08:57+00:00</td>\n",
       "    </tr>\n",
       "    <tr>\n",
       "      <th>4</th>\n",
       "      <td>7316474668</td>\n",
       "      <td>https://newyork.craigslist.org/lgi/cto/d/baldw...</td>\n",
       "      <td>new york city</td>\n",
       "      <td>https://newyork.craigslist.org</td>\n",
       "      <td>21800</td>\n",
       "      <td>2021.0</td>\n",
       "      <td>nissan</td>\n",
       "      <td>altima</td>\n",
       "      <td>gas</td>\n",
       "      <td>8000</td>\n",
       "      <td>clean</td>\n",
       "      <td>automatic</td>\n",
       "      <td>https://images.craigslist.org/00V0V_3pSOiPZ3Sd...</td>\n",
       "      <td>2021 Nissan Altima Sv with Only 8 K Miles Titl...</td>\n",
       "      <td>ny</td>\n",
       "      <td>40.654800</td>\n",
       "      <td>-73.609700</td>\n",
       "      <td>2021-05-03T18:32:06-0400</td>\n",
       "      <td>medium</td>\n",
       "      <td>2021-05-03 22:32:06+00:00</td>\n",
       "    </tr>\n",
       "  </tbody>\n",
       "</table>\n",
       "</div>"
      ],
      "text/plain": [
       "           id                                                url  \\\n",
       "0  7308295377  https://chattanooga.craigslist.org/ctd/d/chatt...   \n",
       "1  7316380095  https://newjersey.craigslist.org/ctd/d/carlsta...   \n",
       "2  7313733749  https://reno.craigslist.org/ctd/d/atlanta-2017...   \n",
       "3  7308210929  https://fayetteville.craigslist.org/ctd/d/rale...   \n",
       "4  7316474668  https://newyork.craigslist.org/lgi/cto/d/baldw...   \n",
       "\n",
       "          region                           region_url  price    year  \\\n",
       "0    chattanooga   https://chattanooga.craigslist.org  54990  2020.0   \n",
       "1   north jersey     https://newjersey.craigslist.org  16942  2016.0   \n",
       "2   reno / tahoe          https://reno.craigslist.org  35590  2017.0   \n",
       "3   fayetteville  https://fayetteville.craigslist.org  14500  2013.0   \n",
       "4  new york city       https://newyork.craigslist.org  21800  2021.0   \n",
       "\n",
       "  manufacturer                   model    fuel  odometer title_status  \\\n",
       "0          ram  2500 crew cab big horn  diesel     27442        clean   \n",
       "1         ford    explorer 4wd 4dr xlt     NaN     60023        clean   \n",
       "2   volkswagen        golf r hatchback     gas     14048        clean   \n",
       "3       toyota                    rav4     gas    117291        clean   \n",
       "4       nissan                  altima     gas      8000        clean   \n",
       "\n",
       "  transmission                                          image_url  \\\n",
       "0        other  https://images.craigslist.org/00N0N_1xMPvfxRAI...   \n",
       "1    automatic  https://images.craigslist.org/00x0x_26jl9F0cnL...   \n",
       "2        other  https://images.craigslist.org/00y0y_eeZjWeiSfb...   \n",
       "3    automatic  https://images.craigslist.org/00606_iGe5iXidib...   \n",
       "4    automatic  https://images.craigslist.org/00V0V_3pSOiPZ3Sd...   \n",
       "\n",
       "                                         description state        lat  \\\n",
       "0  Carvana is the safer way to buy a car During t...    tn  35.060000   \n",
       "1  ***Call Us for more information at: 201-635-14...    nj  40.821805   \n",
       "2  Carvana is the safer way to buy a car During t...    ca  33.779214   \n",
       "3  2013 Toyota RAV4 XLE 4dr SUV     Offered by: R...    nc  35.715954   \n",
       "4  2021 Nissan Altima Sv with Only 8 K Miles Titl...    ny  40.654800   \n",
       "\n",
       "        long              posting_date price_category  \\\n",
       "0 -85.250000  2021-04-17T12:30:50-0400           high   \n",
       "1 -74.061962  2021-05-03T15:40:21-0400         medium   \n",
       "2 -84.411811  2021-04-28T03:52:20-0700           high   \n",
       "3 -78.655304  2021-04-17T10:08:57-0400         medium   \n",
       "4 -73.609700  2021-05-03T18:32:06-0400         medium   \n",
       "\n",
       "                        date  \n",
       "0  2021-04-17 16:30:50+00:00  \n",
       "1  2021-05-03 19:40:21+00:00  \n",
       "2  2021-04-28 10:52:20+00:00  \n",
       "3  2021-04-17 14:08:57+00:00  \n",
       "4  2021-05-03 22:32:06+00:00  "
      ]
     },
     "execution_count": 238,
     "metadata": {},
     "output_type": "execute_result"
    }
   ],
   "source": [
    "df = pd.read_csv('data/df_out.csv')\n",
    "df[:5]"
   ]
  },
  {
   "cell_type": "markdown",
   "id": "d629aed5",
   "metadata": {
    "ExecuteTime": {
     "end_time": "2022-01-29T23:13:02.420132Z",
     "start_time": "2022-01-29T23:13:02.380497Z"
    },
    "id": "d629aed5"
   },
   "source": [
    "2. Выведите информацию о датафрейме и обратите внимание на оставшиеся незаполненные значения.\n"
   ]
  },
  {
   "cell_type": "code",
   "execution_count": 239,
   "id": "4e2fe561",
   "metadata": {
    "ExecuteTime": {
     "end_time": "2022-01-29T23:18:30.950823Z",
     "start_time": "2022-01-29T23:18:30.945640Z"
    },
    "id": "4e2fe561"
   },
   "outputs": [
    {
     "name": "stdout",
     "output_type": "stream",
     "text": [
      "<class 'pandas.core.frame.DataFrame'>\n",
      "RangeIndex: 9902 entries, 0 to 9901\n",
      "Data columns (total 20 columns):\n",
      " #   Column          Non-Null Count  Dtype  \n",
      "---  ------          --------------  -----  \n",
      " 0   id              9902 non-null   int64  \n",
      " 1   url             9902 non-null   object \n",
      " 2   region          9902 non-null   object \n",
      " 3   region_url      9902 non-null   object \n",
      " 4   price           9902 non-null   int64  \n",
      " 5   year            9868 non-null   float64\n",
      " 6   manufacturer    9902 non-null   object \n",
      " 7   model           9776 non-null   object \n",
      " 8   fuel            9841 non-null   object \n",
      " 9   odometer        9902 non-null   int64  \n",
      " 10  title_status    9738 non-null   object \n",
      " 11  transmission    9902 non-null   object \n",
      " 12  image_url       9902 non-null   object \n",
      " 13  description     9902 non-null   object \n",
      " 14  state           9902 non-null   object \n",
      " 15  lat             9902 non-null   float64\n",
      " 16  long            9902 non-null   float64\n",
      " 17  posting_date    9902 non-null   object \n",
      " 18  price_category  9902 non-null   object \n",
      " 19  date            9902 non-null   object \n",
      "dtypes: float64(3), int64(3), object(14)\n",
      "memory usage: 1.5+ MB\n"
     ]
    }
   ],
   "source": [
    "df.info()"
   ]
  },
  {
   "cell_type": "markdown",
   "id": "cda8be60",
   "metadata": {
    "id": "cda8be60"
   },
   "source": [
    "3. Выведите количество полностью заполненных объектов и их процент из всей выборки. Воспользуйтесь материалами из видео.\n"
   ]
  },
  {
   "cell_type": "code",
   "execution_count": 240,
   "id": "c891d00d",
   "metadata": {
    "ExecuteTime": {
     "end_time": "2022-01-29T23:18:38.209381Z",
     "start_time": "2022-01-29T23:18:38.206248Z"
    },
    "id": "c891d00d"
   },
   "outputs": [],
   "source": [
    "def print_useful_rows_info(df): \n",
    "   print('Количество полностью заполненных объектов из всей выборки:' , len(df.dropna()))\n",
    "   print('Процент полностью заполненных объектов из всей выборки:', round(len(df.dropna()) / len(df) * 100, 2))"
   ]
  },
  {
   "cell_type": "code",
   "execution_count": 241,
   "id": "dcc3e636-0b5f-4412-9061-ae2037499e92",
   "metadata": {},
   "outputs": [
    {
     "name": "stdout",
     "output_type": "stream",
     "text": [
      "Количество полностью заполненных объектов из всей выборки: 9543\n",
      "Процент полностью заполненных объектов из всей выборки: 96.37\n"
     ]
    }
   ],
   "source": [
    "print_useful_rows_info(df)\n"
   ]
  },
  {
   "cell_type": "markdown",
   "id": "c86d53f3",
   "metadata": {
    "id": "c86d53f3"
   },
   "source": [
    "4. Сохраните в переменную и выведите процент пропущенных значений для каждого признака, отсортируйте признаки по убыванию процента пропущенных значений. Воспользуйтесь материалами из видео и не забудьте передать верный параметр сортировки.\n"
   ]
  },
  {
   "cell_type": "code",
   "execution_count": 242,
   "id": "28407af8",
   "metadata": {
    "id": "28407af8"
   },
   "outputs": [
    {
     "name": "stdout",
     "output_type": "stream",
     "text": [
      "Процент пропущенных значений:\n"
     ]
    },
    {
     "data": {
      "text/plain": [
       "title_status      1.656231\n",
       "model             1.272470\n",
       "fuel              0.616037\n",
       "year              0.343365\n",
       "image_url         0.000000\n",
       "price_category    0.000000\n",
       "posting_date      0.000000\n",
       "long              0.000000\n",
       "lat               0.000000\n",
       "state             0.000000\n",
       "description       0.000000\n",
       "id                0.000000\n",
       "transmission      0.000000\n",
       "url               0.000000\n",
       "odometer          0.000000\n",
       "manufacturer      0.000000\n",
       "price             0.000000\n",
       "region_url        0.000000\n",
       "region            0.000000\n",
       "date              0.000000\n",
       "dtype: float64"
      ]
     },
     "execution_count": 242,
     "metadata": {},
     "output_type": "execute_result"
    }
   ],
   "source": [
    "missing_values = (df.isna().sum()/len(df)*100).sort_values(ascending=False)\n",
    "print('Процент пропущенных значений:')\n",
    "missing_values"
   ]
  },
  {
   "cell_type": "markdown",
   "id": "4ccc59b6",
   "metadata": {
    "id": "4ccc59b6"
   },
   "source": [
    "5. Выведите список всех признаков, в которых имеются пропущенные значения. Воспользуйтесь результатом вывода предыдущего задания, чтобы отсортировать признаки, подходящие под условие."
   ]
  },
  {
   "cell_type": "code",
   "execution_count": 243,
   "id": "129e697e",
   "metadata": {
    "ExecuteTime": {
     "end_time": "2022-01-29T23:20:06.563386Z",
     "start_time": "2022-01-29T23:20:06.559721Z"
    },
    "id": "129e697e"
   },
   "outputs": [
    {
     "data": {
      "text/plain": [
       "title_status    1.656231\n",
       "model           1.272470\n",
       "fuel            0.616037\n",
       "year            0.343365\n",
       "dtype: float64"
      ]
     },
     "execution_count": 243,
     "metadata": {},
     "output_type": "execute_result"
    }
   ],
   "source": [
    "missing_values[missing_values > 0]"
   ]
  },
  {
   "cell_type": "markdown",
   "id": "d36a4f67",
   "metadata": {
    "id": "d36a4f67"
   },
   "source": [
    "### Задача 2. Обработка пропусков в годе выпуска автомобиля\n",
    "\n",
    "1. Выведите количество значений для года выпуска автомобиля, включая пропущенные значения.\n"
   ]
  },
  {
   "cell_type": "code",
   "execution_count": 244,
   "id": "60f89e21",
   "metadata": {
    "ExecuteTime": {
     "end_time": "2022-01-29T00:04:53.648430Z",
     "start_time": "2022-01-29T00:04:53.630774Z"
    },
    "id": "60f89e21"
   },
   "outputs": [
    {
     "data": {
      "text/plain": [
       "89"
      ]
     },
     "execution_count": 244,
     "metadata": {},
     "output_type": "execute_result"
    }
   ],
   "source": [
    "df.year.nunique()"
   ]
  },
  {
   "cell_type": "markdown",
   "id": "6e474f07",
   "metadata": {
    "id": "6e474f07"
   },
   "source": [
    "2. Выведите количество пропущенных значений в годе выпуска автомобиля.\n",
    "\n"
   ]
  },
  {
   "cell_type": "code",
   "execution_count": 245,
   "id": "f16d4a12",
   "metadata": {
    "id": "f16d4a12"
   },
   "outputs": [
    {
     "data": {
      "text/plain": [
       "34"
      ]
     },
     "execution_count": 245,
     "metadata": {},
     "output_type": "execute_result"
    }
   ],
   "source": [
    "df.year.isna().sum()"
   ]
  },
  {
   "cell_type": "markdown",
   "id": "9a02ee9b",
   "metadata": {
    "id": "9a02ee9b"
   },
   "source": [
    "3. Выведите описательные статистики для года выпуска автомобиля.\n"
   ]
  },
  {
   "cell_type": "code",
   "execution_count": 246,
   "id": "f9977f8d",
   "metadata": {
    "ExecuteTime": {
     "end_time": "2022-01-29T00:04:54.784838Z",
     "start_time": "2022-01-29T00:04:54.779823Z"
    },
    "id": "f9977f8d"
   },
   "outputs": [
    {
     "data": {
      "text/plain": [
       "count    9868.000000\n",
       "mean     2010.909708\n",
       "std         9.705988\n",
       "min      1915.000000\n",
       "25%      2008.000000\n",
       "50%      2013.000000\n",
       "75%      2017.000000\n",
       "max      2022.000000\n",
       "Name: year, dtype: float64"
      ]
     },
     "execution_count": 246,
     "metadata": {},
     "output_type": "execute_result"
    }
   ],
   "source": [
    "df.year.describe()"
   ]
  },
  {
   "cell_type": "markdown",
   "id": "c95c1002",
   "metadata": {
    "id": "c95c1002"
   },
   "source": [
    "4. Выведите записи, в которых год выпуска автомобиля не заполнен. Посмотрите на данные и подумайте, какую стратегию обработки значений можно применить.\n"
   ]
  },
  {
   "cell_type": "code",
   "execution_count": 247,
   "id": "98c9ea05",
   "metadata": {
    "id": "98c9ea05"
   },
   "outputs": [
    {
     "data": {
      "text/html": [
       "<div>\n",
       "<style scoped>\n",
       "    .dataframe tbody tr th:only-of-type {\n",
       "        vertical-align: middle;\n",
       "    }\n",
       "\n",
       "    .dataframe tbody tr th {\n",
       "        vertical-align: top;\n",
       "    }\n",
       "\n",
       "    .dataframe thead th {\n",
       "        text-align: right;\n",
       "    }\n",
       "</style>\n",
       "<table border=\"1\" class=\"dataframe\">\n",
       "  <thead>\n",
       "    <tr style=\"text-align: right;\">\n",
       "      <th></th>\n",
       "      <th>id</th>\n",
       "      <th>url</th>\n",
       "      <th>region</th>\n",
       "      <th>region_url</th>\n",
       "      <th>price</th>\n",
       "      <th>year</th>\n",
       "      <th>manufacturer</th>\n",
       "      <th>model</th>\n",
       "      <th>fuel</th>\n",
       "      <th>odometer</th>\n",
       "      <th>title_status</th>\n",
       "      <th>transmission</th>\n",
       "      <th>image_url</th>\n",
       "      <th>description</th>\n",
       "      <th>state</th>\n",
       "      <th>lat</th>\n",
       "      <th>long</th>\n",
       "      <th>posting_date</th>\n",
       "      <th>price_category</th>\n",
       "      <th>date</th>\n",
       "    </tr>\n",
       "  </thead>\n",
       "  <tbody>\n",
       "    <tr>\n",
       "      <th>342</th>\n",
       "      <td>7304102133</td>\n",
       "      <td>https://wenatchee.craigslist.org/ctd/d/wenatch...</td>\n",
       "      <td>wenatchee</td>\n",
       "      <td>https://wenatchee.craigslist.org</td>\n",
       "      <td>35880</td>\n",
       "      <td>NaN</td>\n",
       "      <td>other</td>\n",
       "      <td>500</td>\n",
       "      <td>gas</td>\n",
       "      <td>13508</td>\n",
       "      <td>clean</td>\n",
       "      <td>automatic</td>\n",
       "      <td>https://images.craigslist.org/00J0J_6IMoEUzIIM...</td>\n",
       "      <td>2019 *Ram* *1500* Big Horn/Lone Star 4x2 Quad ...</td>\n",
       "      <td>wa</td>\n",
       "      <td>47.434493</td>\n",
       "      <td>-120.320759</td>\n",
       "      <td>2021-04-09T06:31:03-0700</td>\n",
       "      <td>high</td>\n",
       "      <td>2021-04-09 13:31:03+00:00</td>\n",
       "    </tr>\n",
       "    <tr>\n",
       "      <th>418</th>\n",
       "      <td>7316337069</td>\n",
       "      <td>https://lasvegas.craigslist.org/ctd/d/scottsda...</td>\n",
       "      <td>las vegas</td>\n",
       "      <td>https://lasvegas.craigslist.org</td>\n",
       "      <td>84995</td>\n",
       "      <td>NaN</td>\n",
       "      <td>other</td>\n",
       "      <td>Super Duty F-350 SRW</td>\n",
       "      <td>diesel</td>\n",
       "      <td>1268</td>\n",
       "      <td>clean</td>\n",
       "      <td>automatic</td>\n",
       "      <td>https://images.craigslist.org/00x0x_iQCC0Ef28S...</td>\n",
       "      <td>2020 *Ford* *Super Duty F-350 SRW* 1K MILES. B...</td>\n",
       "      <td>nv</td>\n",
       "      <td>33.458277</td>\n",
       "      <td>-111.925970</td>\n",
       "      <td>2021-05-03T11:31:39-0700</td>\n",
       "      <td>high</td>\n",
       "      <td>2021-05-03 18:31:39+00:00</td>\n",
       "    </tr>\n",
       "    <tr>\n",
       "      <th>423</th>\n",
       "      <td>7315662117</td>\n",
       "      <td>https://westslope.craigslist.org/ctd/d/denver-...</td>\n",
       "      <td>western slope</td>\n",
       "      <td>https://westslope.craigslist.org</td>\n",
       "      <td>43900</td>\n",
       "      <td>NaN</td>\n",
       "      <td>other</td>\n",
       "      <td>Grand Caravan</td>\n",
       "      <td>NaN</td>\n",
       "      <td>21</td>\n",
       "      <td>clean</td>\n",
       "      <td>automatic</td>\n",
       "      <td>https://images.craigslist.org/00f0f_7AwipNocNH...</td>\n",
       "      <td>2019 *Dodge* *Grand Caravan* SE - $43,900Call ...</td>\n",
       "      <td>co</td>\n",
       "      <td>39.674406</td>\n",
       "      <td>-104.998604</td>\n",
       "      <td>2021-05-02T01:11:33-0600</td>\n",
       "      <td>high</td>\n",
       "      <td>2021-05-02 07:11:33+00:00</td>\n",
       "    </tr>\n",
       "    <tr>\n",
       "      <th>697</th>\n",
       "      <td>7316199009</td>\n",
       "      <td>https://nashville.craigslist.org/ctd/d/nashvil...</td>\n",
       "      <td>nashville</td>\n",
       "      <td>https://nashville.craigslist.org</td>\n",
       "      <td>28498</td>\n",
       "      <td>NaN</td>\n",
       "      <td>other</td>\n",
       "      <td>olet Silverado 1500</td>\n",
       "      <td>NaN</td>\n",
       "      <td>59246</td>\n",
       "      <td>NaN</td>\n",
       "      <td>automatic</td>\n",
       "      <td>https://images.craigslist.org/00T0T_dZ7nOXskCS...</td>\n",
       "      <td>2019 *Chevrolet* *Silverado 1500* 2019 CHEVROL...</td>\n",
       "      <td>tn</td>\n",
       "      <td>36.138022</td>\n",
       "      <td>-86.732261</td>\n",
       "      <td>2021-05-03T10:00:40-0500</td>\n",
       "      <td>high</td>\n",
       "      <td>2021-05-03 15:00:40+00:00</td>\n",
       "    </tr>\n",
       "    <tr>\n",
       "      <th>887</th>\n",
       "      <td>7316840794</td>\n",
       "      <td>https://denver.craigslist.org/ctd/d/american-f...</td>\n",
       "      <td>denver</td>\n",
       "      <td>https://denver.craigslist.org</td>\n",
       "      <td>60900</td>\n",
       "      <td>NaN</td>\n",
       "      <td>other</td>\n",
       "      <td>F-150</td>\n",
       "      <td>gas</td>\n",
       "      <td>6110</td>\n",
       "      <td>clean</td>\n",
       "      <td>automatic</td>\n",
       "      <td>https://images.craigslist.org/01616_bpzSdSRTbx...</td>\n",
       "      <td>2020 *Ford* *F-150* PLATINUM FX4 Truck - $60,9...</td>\n",
       "      <td>co</td>\n",
       "      <td>40.362248</td>\n",
       "      <td>-111.785947</td>\n",
       "      <td>2021-05-04T12:11:22-0600</td>\n",
       "      <td>high</td>\n",
       "      <td>2021-05-04 18:11:22+00:00</td>\n",
       "    </tr>\n",
       "    <tr>\n",
       "      <th>900</th>\n",
       "      <td>7311915616</td>\n",
       "      <td>https://westslope.craigslist.org/ctd/d/denver-...</td>\n",
       "      <td>western slope</td>\n",
       "      <td>https://westslope.craigslist.org</td>\n",
       "      <td>67900</td>\n",
       "      <td>NaN</td>\n",
       "      <td>other</td>\n",
       "      <td>Odyssey</td>\n",
       "      <td>gas</td>\n",
       "      <td>21</td>\n",
       "      <td>clean</td>\n",
       "      <td>automatic</td>\n",
       "      <td>https://images.craigslist.org/00404_erlbeKWEkn...</td>\n",
       "      <td>2020 *Honda* *Odyssey* EX-L w/Navi/RES Automat...</td>\n",
       "      <td>co</td>\n",
       "      <td>39.674406</td>\n",
       "      <td>-104.998604</td>\n",
       "      <td>2021-04-24T10:41:06-0600</td>\n",
       "      <td>high</td>\n",
       "      <td>2021-04-24 16:41:06+00:00</td>\n",
       "    </tr>\n",
       "    <tr>\n",
       "      <th>998</th>\n",
       "      <td>7306735187</td>\n",
       "      <td>https://westslope.craigslist.org/ctd/d/denver-...</td>\n",
       "      <td>western slope</td>\n",
       "      <td>https://westslope.craigslist.org</td>\n",
       "      <td>38900</td>\n",
       "      <td>NaN</td>\n",
       "      <td>other</td>\n",
       "      <td>Grand Caravan</td>\n",
       "      <td>NaN</td>\n",
       "      <td>21</td>\n",
       "      <td>clean</td>\n",
       "      <td>automatic</td>\n",
       "      <td>https://images.craigslist.org/00F0F_3T6FM0XMZW...</td>\n",
       "      <td>2019 *Dodge* *Grand Caravan* SE - $38,900Call ...</td>\n",
       "      <td>co</td>\n",
       "      <td>39.674406</td>\n",
       "      <td>-104.998604</td>\n",
       "      <td>2021-04-14T10:51:36-0600</td>\n",
       "      <td>high</td>\n",
       "      <td>2021-04-14 16:51:36+00:00</td>\n",
       "    </tr>\n",
       "    <tr>\n",
       "      <th>1208</th>\n",
       "      <td>7309954650</td>\n",
       "      <td>https://gainesville.craigslist.org/ctd/d/gaine...</td>\n",
       "      <td>gainesville</td>\n",
       "      <td>https://gainesville.craigslist.org</td>\n",
       "      <td>24975</td>\n",
       "      <td>NaN</td>\n",
       "      <td>other</td>\n",
       "      <td>CR-V</td>\n",
       "      <td>gas</td>\n",
       "      <td>44128</td>\n",
       "      <td>clean</td>\n",
       "      <td>automatic</td>\n",
       "      <td>https://images.craigslist.org/00000_2TUtAgLlCR...</td>\n",
       "      <td>2019 *Honda* *CR-V* EX 2WD SUV - $24,975Call o...</td>\n",
       "      <td>fl</td>\n",
       "      <td>29.676827</td>\n",
       "      <td>-82.319202</td>\n",
       "      <td>2021-04-20T14:46:55-0400</td>\n",
       "      <td>high</td>\n",
       "      <td>2021-04-20 18:46:55+00:00</td>\n",
       "    </tr>\n",
       "    <tr>\n",
       "      <th>1308</th>\n",
       "      <td>7313865045</td>\n",
       "      <td>https://westslope.craigslist.org/ctd/d/denver-...</td>\n",
       "      <td>western slope</td>\n",
       "      <td>https://westslope.craigslist.org</td>\n",
       "      <td>47900</td>\n",
       "      <td>NaN</td>\n",
       "      <td>other</td>\n",
       "      <td>a Sienna</td>\n",
       "      <td>gas</td>\n",
       "      <td>43701</td>\n",
       "      <td>clean</td>\n",
       "      <td>automatic</td>\n",
       "      <td>https://images.craigslist.org/00o0o_8XYp4Zygdj...</td>\n",
       "      <td>2018 *Toyota* *Sienna* LE Automatic Access Sea...</td>\n",
       "      <td>co</td>\n",
       "      <td>39.674406</td>\n",
       "      <td>-104.998604</td>\n",
       "      <td>2021-04-28T10:12:14-0600</td>\n",
       "      <td>high</td>\n",
       "      <td>2021-04-28 16:12:14+00:00</td>\n",
       "    </tr>\n",
       "    <tr>\n",
       "      <th>1828</th>\n",
       "      <td>7303344554</td>\n",
       "      <td>https://daytona.craigslist.org/ctd/d/new-smyrn...</td>\n",
       "      <td>daytona beach</td>\n",
       "      <td>https://daytona.craigslist.org</td>\n",
       "      <td>35850</td>\n",
       "      <td>NaN</td>\n",
       "      <td>other</td>\n",
       "      <td>Transit Cargo Van</td>\n",
       "      <td>gas</td>\n",
       "      <td>567</td>\n",
       "      <td>clean</td>\n",
       "      <td>automatic</td>\n",
       "      <td>https://images.craigslist.org/00a0a_d4XVrHnlxl...</td>\n",
       "      <td>2020 *Ford* *Transit Cargo Van* T-250 148\" WB*...</td>\n",
       "      <td>fl</td>\n",
       "      <td>29.046240</td>\n",
       "      <td>-80.934561</td>\n",
       "      <td>2021-04-07T17:10:06-0400</td>\n",
       "      <td>high</td>\n",
       "      <td>2021-04-07 21:10:06+00:00</td>\n",
       "    </tr>\n",
       "    <tr>\n",
       "      <th>2270</th>\n",
       "      <td>7311762820</td>\n",
       "      <td>https://huntsville.craigslist.org/ctd/d/new-ca...</td>\n",
       "      <td>huntsville / decatur</td>\n",
       "      <td>https://huntsville.craigslist.org</td>\n",
       "      <td>29875</td>\n",
       "      <td>NaN</td>\n",
       "      <td>other</td>\n",
       "      <td>a Camry</td>\n",
       "      <td>gas</td>\n",
       "      <td>46947</td>\n",
       "      <td>clean</td>\n",
       "      <td>automatic</td>\n",
       "      <td>https://images.craigslist.org/01313_9nQ5n8dbnZ...</td>\n",
       "      <td>2019 *Toyota* *Camry* XSE Automatic Sedan - $2...</td>\n",
       "      <td>al</td>\n",
       "      <td>33.669601</td>\n",
       "      <td>-86.817617</td>\n",
       "      <td>2021-04-24T04:50:56-0500</td>\n",
       "      <td>high</td>\n",
       "      <td>2021-04-24 09:50:56+00:00</td>\n",
       "    </tr>\n",
       "    <tr>\n",
       "      <th>2481</th>\n",
       "      <td>7315662074</td>\n",
       "      <td>https://santafe.craigslist.org/ctd/d/denver-20...</td>\n",
       "      <td>santa fe / taos</td>\n",
       "      <td>https://santafe.craigslist.org</td>\n",
       "      <td>43900</td>\n",
       "      <td>NaN</td>\n",
       "      <td>other</td>\n",
       "      <td>Grand Caravan</td>\n",
       "      <td>NaN</td>\n",
       "      <td>21</td>\n",
       "      <td>clean</td>\n",
       "      <td>automatic</td>\n",
       "      <td>https://images.craigslist.org/00f0f_7AwipNocNH...</td>\n",
       "      <td>2019 *Dodge* *Grand Caravan* SE - $43,900Call ...</td>\n",
       "      <td>nm</td>\n",
       "      <td>39.674406</td>\n",
       "      <td>-104.998604</td>\n",
       "      <td>2021-05-02T01:10:47-0600</td>\n",
       "      <td>high</td>\n",
       "      <td>2021-05-02 07:10:47+00:00</td>\n",
       "    </tr>\n",
       "    <tr>\n",
       "      <th>2603</th>\n",
       "      <td>7314588156</td>\n",
       "      <td>https://inlandempire.craigslist.org/ctd/d/hesp...</td>\n",
       "      <td>inland empire</td>\n",
       "      <td>https://inlandempire.craigslist.org</td>\n",
       "      <td>2599</td>\n",
       "      <td>NaN</td>\n",
       "      <td>other</td>\n",
       "      <td>olet Impala</td>\n",
       "      <td>other</td>\n",
       "      <td>1</td>\n",
       "      <td>clean</td>\n",
       "      <td>other</td>\n",
       "      <td>https://images.craigslist.org/00P0P_dKsEWbujM0...</td>\n",
       "      <td>Chevrolet Impala  * AUCTION PRICES TO THE PUBL...</td>\n",
       "      <td>ca</td>\n",
       "      <td>34.451930</td>\n",
       "      <td>-117.287060</td>\n",
       "      <td>2021-04-29T16:19:54-0700</td>\n",
       "      <td>low</td>\n",
       "      <td>2021-04-29 23:19:54+00:00</td>\n",
       "    </tr>\n",
       "    <tr>\n",
       "      <th>2792</th>\n",
       "      <td>7310250813</td>\n",
       "      <td>https://omaha.craigslist.org/ctd/d/council-blu...</td>\n",
       "      <td>omaha / council bluffs</td>\n",
       "      <td>https://omaha.craigslist.org</td>\n",
       "      <td>28995</td>\n",
       "      <td>NaN</td>\n",
       "      <td>other</td>\n",
       "      <td>cadia</td>\n",
       "      <td>gas</td>\n",
       "      <td>3851</td>\n",
       "      <td>NaN</td>\n",
       "      <td>automatic</td>\n",
       "      <td>https://images.craigslist.org/00j0j_6hfE9qI1CV...</td>\n",
       "      <td>2019 *GMC* *Acadia* AWD 4dr SLT w/SLT-1 SUV - ...</td>\n",
       "      <td>ia</td>\n",
       "      <td>41.229172</td>\n",
       "      <td>-95.852118</td>\n",
       "      <td>2021-04-21T07:21:00-0500</td>\n",
       "      <td>high</td>\n",
       "      <td>2021-04-21 12:21:00+00:00</td>\n",
       "    </tr>\n",
       "    <tr>\n",
       "      <th>2931</th>\n",
       "      <td>7306678710</td>\n",
       "      <td>https://gainesville.craigslist.org/ctd/d/gaine...</td>\n",
       "      <td>gainesville</td>\n",
       "      <td>https://gainesville.craigslist.org</td>\n",
       "      <td>26975</td>\n",
       "      <td>NaN</td>\n",
       "      <td>other</td>\n",
       "      <td>n Maxima</td>\n",
       "      <td>gas</td>\n",
       "      <td>28367</td>\n",
       "      <td>clean</td>\n",
       "      <td>automatic</td>\n",
       "      <td>https://images.craigslist.org/01010_4uw9b06xiS...</td>\n",
       "      <td>2018 *Nissan* *Maxima* SR 3.5L Midnight Editio...</td>\n",
       "      <td>fl</td>\n",
       "      <td>29.676827</td>\n",
       "      <td>-82.319202</td>\n",
       "      <td>2021-04-14T11:25:14-0400</td>\n",
       "      <td>high</td>\n",
       "      <td>2021-04-14 15:25:14+00:00</td>\n",
       "    </tr>\n",
       "    <tr>\n",
       "      <th>3263</th>\n",
       "      <td>7316562384</td>\n",
       "      <td>https://honolulu.craigslist.org/oah/ctd/d/hono...</td>\n",
       "      <td>hawaii</td>\n",
       "      <td>https://honolulu.craigslist.org</td>\n",
       "      <td>37500</td>\n",
       "      <td>NaN</td>\n",
       "      <td>other</td>\n",
       "      <td>Grand Cherokee</td>\n",
       "      <td>NaN</td>\n",
       "      <td>26608</td>\n",
       "      <td>clean</td>\n",
       "      <td>automatic</td>\n",
       "      <td>https://images.craigslist.org/01111_h3zrI9JPSH...</td>\n",
       "      <td>2018 *Jeep* *Grand Cherokee* High Altitude 4x2...</td>\n",
       "      <td>hi</td>\n",
       "      <td>21.318059</td>\n",
       "      <td>-157.865187</td>\n",
       "      <td>2021-05-03T16:10:46-1000</td>\n",
       "      <td>high</td>\n",
       "      <td>2021-05-04 02:10:46+00:00</td>\n",
       "    </tr>\n",
       "    <tr>\n",
       "      <th>3476</th>\n",
       "      <td>7307209305</td>\n",
       "      <td>https://northmiss.craigslist.org/ctd/d/vicksbu...</td>\n",
       "      <td>north mississippi</td>\n",
       "      <td>https://northmiss.craigslist.org</td>\n",
       "      <td>64900</td>\n",
       "      <td>NaN</td>\n",
       "      <td>other</td>\n",
       "      <td>500</td>\n",
       "      <td>diesel</td>\n",
       "      <td>12338</td>\n",
       "      <td>NaN</td>\n",
       "      <td>automatic</td>\n",
       "      <td>https://images.craigslist.org/00E0E_hZTYK06AGo...</td>\n",
       "      <td>2020 *Ram* *3500* RAM 3500 DUALLY 4X4 CUMMINS ...</td>\n",
       "      <td>ms</td>\n",
       "      <td>32.332046</td>\n",
       "      <td>-90.857163</td>\n",
       "      <td>2021-04-15T10:45:56-0500</td>\n",
       "      <td>high</td>\n",
       "      <td>2021-04-15 15:45:56+00:00</td>\n",
       "    </tr>\n",
       "    <tr>\n",
       "      <th>3488</th>\n",
       "      <td>7304711487</td>\n",
       "      <td>https://westslope.craigslist.org/ctd/d/denver-...</td>\n",
       "      <td>western slope</td>\n",
       "      <td>https://westslope.craigslist.org</td>\n",
       "      <td>67900</td>\n",
       "      <td>NaN</td>\n",
       "      <td>other</td>\n",
       "      <td>Odyssey</td>\n",
       "      <td>gas</td>\n",
       "      <td>21</td>\n",
       "      <td>clean</td>\n",
       "      <td>automatic</td>\n",
       "      <td>https://images.craigslist.org/00404_erlbeKWEkn...</td>\n",
       "      <td>2020 *Honda* *Odyssey* EX-L w/Navi/RES Automat...</td>\n",
       "      <td>co</td>\n",
       "      <td>39.674406</td>\n",
       "      <td>-104.998604</td>\n",
       "      <td>2021-04-10T10:12:15-0600</td>\n",
       "      <td>high</td>\n",
       "      <td>2021-04-10 16:12:15+00:00</td>\n",
       "    </tr>\n",
       "    <tr>\n",
       "      <th>3634</th>\n",
       "      <td>7309869204</td>\n",
       "      <td>https://scottsbluff.craigslist.org/ctd/d/denve...</td>\n",
       "      <td>scottsbluff / panhandle</td>\n",
       "      <td>https://scottsbluff.craigslist.org</td>\n",
       "      <td>48900</td>\n",
       "      <td>NaN</td>\n",
       "      <td>other</td>\n",
       "      <td>Grand Caravan</td>\n",
       "      <td>NaN</td>\n",
       "      <td>19</td>\n",
       "      <td>clean</td>\n",
       "      <td>automatic</td>\n",
       "      <td>https://images.craigslist.org/00V0V_72KAx8GRuN...</td>\n",
       "      <td>2019 *Dodge* *Grand Caravan* SE Plus Wagon - $...</td>\n",
       "      <td>ne</td>\n",
       "      <td>39.674406</td>\n",
       "      <td>-104.998604</td>\n",
       "      <td>2021-04-20T10:41:16-0600</td>\n",
       "      <td>high</td>\n",
       "      <td>2021-04-20 16:41:16+00:00</td>\n",
       "    </tr>\n",
       "    <tr>\n",
       "      <th>4178</th>\n",
       "      <td>7304693422</td>\n",
       "      <td>https://shreveport.craigslist.org/ctd/d/vicksb...</td>\n",
       "      <td>shreveport</td>\n",
       "      <td>https://shreveport.craigslist.org</td>\n",
       "      <td>53700</td>\n",
       "      <td>NaN</td>\n",
       "      <td>other</td>\n",
       "      <td>ierra 1500</td>\n",
       "      <td>gas</td>\n",
       "      <td>35676</td>\n",
       "      <td>NaN</td>\n",
       "      <td>automatic</td>\n",
       "      <td>https://images.craigslist.org/00O0O_cpIkn2jwHN...</td>\n",
       "      <td>2020 *GMC* *Sierra 1500* SIERRA 1500 AT4 4X4 5...</td>\n",
       "      <td>la</td>\n",
       "      <td>32.332046</td>\n",
       "      <td>-90.857163</td>\n",
       "      <td>2021-04-10T10:44:02-0500</td>\n",
       "      <td>high</td>\n",
       "      <td>2021-04-10 15:44:02+00:00</td>\n",
       "    </tr>\n",
       "    <tr>\n",
       "      <th>6055</th>\n",
       "      <td>7310371320</td>\n",
       "      <td>https://westslope.craigslist.org/ctd/d/denver-...</td>\n",
       "      <td>western slope</td>\n",
       "      <td>https://westslope.craigslist.org</td>\n",
       "      <td>49900</td>\n",
       "      <td>NaN</td>\n",
       "      <td>other</td>\n",
       "      <td>Enclave</td>\n",
       "      <td>gas</td>\n",
       "      <td>10345</td>\n",
       "      <td>clean</td>\n",
       "      <td>automatic</td>\n",
       "      <td>https://images.craigslist.org/00M0M_sPt1lwAVRY...</td>\n",
       "      <td>2018 *Buick* *Enclave* FWD 4dr Essence SUV - $...</td>\n",
       "      <td>co</td>\n",
       "      <td>39.674406</td>\n",
       "      <td>-104.998604</td>\n",
       "      <td>2021-04-21T10:12:30-0600</td>\n",
       "      <td>high</td>\n",
       "      <td>2021-04-21 16:12:30+00:00</td>\n",
       "    </tr>\n",
       "    <tr>\n",
       "      <th>6130</th>\n",
       "      <td>7309904568</td>\n",
       "      <td>https://omaha.craigslist.org/ctd/d/omaha-2020-...</td>\n",
       "      <td>omaha / council bluffs</td>\n",
       "      <td>https://omaha.craigslist.org</td>\n",
       "      <td>25399</td>\n",
       "      <td>NaN</td>\n",
       "      <td>other</td>\n",
       "      <td>Envision</td>\n",
       "      <td>NaN</td>\n",
       "      <td>8492</td>\n",
       "      <td>rebuilt</td>\n",
       "      <td>automatic</td>\n",
       "      <td>https://images.craigslist.org/01515_geiPTG1MZG...</td>\n",
       "      <td>2020 *Buick* *Envision* AWD 4dr Essence SUV - ...</td>\n",
       "      <td>ia</td>\n",
       "      <td>41.207382</td>\n",
       "      <td>-96.023096</td>\n",
       "      <td>2021-04-20T12:31:36-0500</td>\n",
       "      <td>high</td>\n",
       "      <td>2021-04-20 17:31:36+00:00</td>\n",
       "    </tr>\n",
       "    <tr>\n",
       "      <th>6254</th>\n",
       "      <td>7315207437</td>\n",
       "      <td>https://huntsville.craigslist.org/ctd/d/new-ca...</td>\n",
       "      <td>huntsville / decatur</td>\n",
       "      <td>https://huntsville.craigslist.org</td>\n",
       "      <td>35495</td>\n",
       "      <td>NaN</td>\n",
       "      <td>other</td>\n",
       "      <td>Series</td>\n",
       "      <td>gas</td>\n",
       "      <td>14000</td>\n",
       "      <td>clean</td>\n",
       "      <td>automatic</td>\n",
       "      <td>https://images.craigslist.org/01212_85QVVsEWjT...</td>\n",
       "      <td>2020 *BMW* *3 Series* 330i Sedan - $35,495Call...</td>\n",
       "      <td>al</td>\n",
       "      <td>33.669601</td>\n",
       "      <td>-86.817617</td>\n",
       "      <td>2021-05-01T04:50:32-0500</td>\n",
       "      <td>high</td>\n",
       "      <td>2021-05-01 09:50:32+00:00</td>\n",
       "    </tr>\n",
       "    <tr>\n",
       "      <th>7122</th>\n",
       "      <td>7310924082</td>\n",
       "      <td>https://omaha.craigslist.org/ctd/d/omaha-2018-...</td>\n",
       "      <td>omaha / council bluffs</td>\n",
       "      <td>https://omaha.craigslist.org</td>\n",
       "      <td>12995</td>\n",
       "      <td>NaN</td>\n",
       "      <td>other</td>\n",
       "      <td>u Impreza</td>\n",
       "      <td>gas</td>\n",
       "      <td>16740</td>\n",
       "      <td>rebuilt</td>\n",
       "      <td>automatic</td>\n",
       "      <td>https://images.craigslist.org/01212_dEfENLNXWW...</td>\n",
       "      <td>2018 *Subaru* *Impreza* 2.0i 4-door CVT Sedan ...</td>\n",
       "      <td>ia</td>\n",
       "      <td>41.207382</td>\n",
       "      <td>-96.023096</td>\n",
       "      <td>2021-04-22T12:20:37-0500</td>\n",
       "      <td>medium</td>\n",
       "      <td>2021-04-22 17:20:37+00:00</td>\n",
       "    </tr>\n",
       "    <tr>\n",
       "      <th>7567</th>\n",
       "      <td>7316247218</td>\n",
       "      <td>https://lasvegas.craigslist.org/ctd/d/scottsda...</td>\n",
       "      <td>las vegas</td>\n",
       "      <td>https://lasvegas.craigslist.org</td>\n",
       "      <td>69995</td>\n",
       "      <td>NaN</td>\n",
       "      <td>other</td>\n",
       "      <td>F-150</td>\n",
       "      <td>gas</td>\n",
       "      <td>412</td>\n",
       "      <td>clean</td>\n",
       "      <td>automatic</td>\n",
       "      <td>https://images.craigslist.org/00n0n_kNzqmJoY2a...</td>\n",
       "      <td>2021 *Ford* *F-150* NEW 2021 FORD F150 SUPERCR...</td>\n",
       "      <td>nv</td>\n",
       "      <td>33.458277</td>\n",
       "      <td>-111.925970</td>\n",
       "      <td>2021-05-03T09:15:32-0700</td>\n",
       "      <td>high</td>\n",
       "      <td>2021-05-03 16:15:32+00:00</td>\n",
       "    </tr>\n",
       "    <tr>\n",
       "      <th>7730</th>\n",
       "      <td>7314898718</td>\n",
       "      <td>https://gainesville.craigslist.org/ctd/d/gaine...</td>\n",
       "      <td>gainesville</td>\n",
       "      <td>https://gainesville.craigslist.org</td>\n",
       "      <td>38975</td>\n",
       "      <td>NaN</td>\n",
       "      <td>other</td>\n",
       "      <td>500</td>\n",
       "      <td>gas</td>\n",
       "      <td>28689</td>\n",
       "      <td>clean</td>\n",
       "      <td>automatic</td>\n",
       "      <td>https://images.craigslist.org/00e0e_3SqmUoLwUf...</td>\n",
       "      <td>2019 *Ram* *2500* Tradesman 4x2 Crew Cab 8' Bo...</td>\n",
       "      <td>fl</td>\n",
       "      <td>29.676827</td>\n",
       "      <td>-82.319202</td>\n",
       "      <td>2021-04-30T13:32:48-0400</td>\n",
       "      <td>high</td>\n",
       "      <td>2021-04-30 17:32:48+00:00</td>\n",
       "    </tr>\n",
       "    <tr>\n",
       "      <th>7734</th>\n",
       "      <td>7314454466</td>\n",
       "      <td>https://billings.craigslist.org/ctd/d/denver-2...</td>\n",
       "      <td>billings</td>\n",
       "      <td>https://billings.craigslist.org</td>\n",
       "      <td>49900</td>\n",
       "      <td>NaN</td>\n",
       "      <td>other</td>\n",
       "      <td>a Sienna</td>\n",
       "      <td>gas</td>\n",
       "      <td>34294</td>\n",
       "      <td>clean</td>\n",
       "      <td>automatic</td>\n",
       "      <td>https://images.craigslist.org/00707_lMMxHyLoAR...</td>\n",
       "      <td>2019 *Toyota* *Sienna* LE Automatic Access Sea...</td>\n",
       "      <td>mt</td>\n",
       "      <td>39.674406</td>\n",
       "      <td>-104.998604</td>\n",
       "      <td>2021-04-29T13:00:48-0600</td>\n",
       "      <td>high</td>\n",
       "      <td>2021-04-29 19:00:48+00:00</td>\n",
       "    </tr>\n",
       "    <tr>\n",
       "      <th>8437</th>\n",
       "      <td>7310829676</td>\n",
       "      <td>https://tucson.craigslist.org/ctd/d/tempe-2020...</td>\n",
       "      <td>tucson</td>\n",
       "      <td>https://tucson.craigslist.org</td>\n",
       "      <td>83877</td>\n",
       "      <td>NaN</td>\n",
       "      <td>other</td>\n",
       "      <td>ierra 2500HD</td>\n",
       "      <td>diesel</td>\n",
       "      <td>25363</td>\n",
       "      <td>NaN</td>\n",
       "      <td>automatic</td>\n",
       "      <td>https://images.craigslist.org/00A0A_nd5C1ILCvJ...</td>\n",
       "      <td>2020 *GMC* *Sierra 2500HD* LIFTED - AT4 Editio...</td>\n",
       "      <td>az</td>\n",
       "      <td>33.437098</td>\n",
       "      <td>-111.925724</td>\n",
       "      <td>2021-04-22T07:50:52-0700</td>\n",
       "      <td>high</td>\n",
       "      <td>2021-04-22 14:50:52+00:00</td>\n",
       "    </tr>\n",
       "    <tr>\n",
       "      <th>8714</th>\n",
       "      <td>7316852999</td>\n",
       "      <td>https://memphis.craigslist.org/ctd/d/memphis-2...</td>\n",
       "      <td>memphis</td>\n",
       "      <td>https://memphis.craigslist.org</td>\n",
       "      <td>19979</td>\n",
       "      <td>NaN</td>\n",
       "      <td>other</td>\n",
       "      <td>CX-5</td>\n",
       "      <td>gas</td>\n",
       "      <td>17183</td>\n",
       "      <td>clean</td>\n",
       "      <td>automatic</td>\n",
       "      <td>https://images.craigslist.org/00x0x_1sp7mb28W4...</td>\n",
       "      <td>2019 *Mazda* *CX-5* Sport FWD SUV - $19,979Cal...</td>\n",
       "      <td>tn</td>\n",
       "      <td>35.191437</td>\n",
       "      <td>-89.894973</td>\n",
       "      <td>2021-05-04T13:30:34-0500</td>\n",
       "      <td>medium</td>\n",
       "      <td>2021-05-04 18:30:34+00:00</td>\n",
       "    </tr>\n",
       "    <tr>\n",
       "      <th>9237</th>\n",
       "      <td>7316270709</td>\n",
       "      <td>https://denver.craigslist.org/ctd/d/denver-201...</td>\n",
       "      <td>denver</td>\n",
       "      <td>https://denver.craigslist.org</td>\n",
       "      <td>49900</td>\n",
       "      <td>NaN</td>\n",
       "      <td>other</td>\n",
       "      <td>a Sienna</td>\n",
       "      <td>gas</td>\n",
       "      <td>34294</td>\n",
       "      <td>clean</td>\n",
       "      <td>automatic</td>\n",
       "      <td>https://images.craigslist.org/00707_lMMxHyLoAR...</td>\n",
       "      <td>2019 *Toyota* *Sienna* LE Automatic Access Sea...</td>\n",
       "      <td>co</td>\n",
       "      <td>39.674406</td>\n",
       "      <td>-104.998604</td>\n",
       "      <td>2021-05-03T10:50:33-0600</td>\n",
       "      <td>high</td>\n",
       "      <td>2021-05-03 16:50:33+00:00</td>\n",
       "    </tr>\n",
       "    <tr>\n",
       "      <th>9454</th>\n",
       "      <td>7312938642</td>\n",
       "      <td>https://lasvegas.craigslist.org/ctd/d/scottsda...</td>\n",
       "      <td>las vegas</td>\n",
       "      <td>https://lasvegas.craigslist.org</td>\n",
       "      <td>67995</td>\n",
       "      <td>NaN</td>\n",
       "      <td>other</td>\n",
       "      <td>olet Silverado 1500</td>\n",
       "      <td>gas</td>\n",
       "      <td>7511</td>\n",
       "      <td>clean</td>\n",
       "      <td>automatic</td>\n",
       "      <td>https://images.craigslist.org/00M0M_74pDndl5gQ...</td>\n",
       "      <td>2020 *Chevrolet* *Silverado 1500* 6.2L HIGH CO...</td>\n",
       "      <td>nv</td>\n",
       "      <td>33.458277</td>\n",
       "      <td>-111.925970</td>\n",
       "      <td>2021-04-26T11:30:40-0700</td>\n",
       "      <td>high</td>\n",
       "      <td>2021-04-26 18:30:40+00:00</td>\n",
       "    </tr>\n",
       "    <tr>\n",
       "      <th>9626</th>\n",
       "      <td>7309216259</td>\n",
       "      <td>https://omaha.craigslist.org/ctd/d/omaha-2019-...</td>\n",
       "      <td>omaha / council bluffs</td>\n",
       "      <td>https://omaha.craigslist.org</td>\n",
       "      <td>29995</td>\n",
       "      <td>NaN</td>\n",
       "      <td>other</td>\n",
       "      <td>Enclave</td>\n",
       "      <td>gas</td>\n",
       "      <td>1036</td>\n",
       "      <td>rebuilt</td>\n",
       "      <td>automatic</td>\n",
       "      <td>https://images.craigslist.org/01010_1PAwiL9HwM...</td>\n",
       "      <td>2019 *Buick* *Enclave* AWD 4dr Essence SUV - $...</td>\n",
       "      <td>ia</td>\n",
       "      <td>41.207382</td>\n",
       "      <td>-96.023096</td>\n",
       "      <td>2021-04-19T09:30:41-0500</td>\n",
       "      <td>high</td>\n",
       "      <td>2021-04-19 14:30:41+00:00</td>\n",
       "    </tr>\n",
       "    <tr>\n",
       "      <th>9752</th>\n",
       "      <td>7316246632</td>\n",
       "      <td>https://sanantonio.craigslist.org/ctd/d/scotts...</td>\n",
       "      <td>san antonio</td>\n",
       "      <td>https://sanantonio.craigslist.org</td>\n",
       "      <td>49995</td>\n",
       "      <td>NaN</td>\n",
       "      <td>other</td>\n",
       "      <td>500</td>\n",
       "      <td>gas</td>\n",
       "      <td>19078</td>\n",
       "      <td>clean</td>\n",
       "      <td>automatic</td>\n",
       "      <td>https://images.craigslist.org/00p0p_lva0tqTnF1...</td>\n",
       "      <td>2019 *Ram* *1500* LIFTED 2019 RAM 1500 WITH BU...</td>\n",
       "      <td>tx</td>\n",
       "      <td>33.458277</td>\n",
       "      <td>-111.925970</td>\n",
       "      <td>2021-05-03T11:14:44-0500</td>\n",
       "      <td>high</td>\n",
       "      <td>2021-05-03 16:14:44+00:00</td>\n",
       "    </tr>\n",
       "    <tr>\n",
       "      <th>9855</th>\n",
       "      <td>7314033574</td>\n",
       "      <td>https://inlandempire.craigslist.org/ctd/d/scot...</td>\n",
       "      <td>inland empire</td>\n",
       "      <td>https://inlandempire.craigslist.org</td>\n",
       "      <td>54995</td>\n",
       "      <td>NaN</td>\n",
       "      <td>other</td>\n",
       "      <td>F-150</td>\n",
       "      <td>gas</td>\n",
       "      <td>180</td>\n",
       "      <td>clean</td>\n",
       "      <td>automatic</td>\n",
       "      <td>https://images.craigslist.org/00d0d_92wTNhRT7B...</td>\n",
       "      <td>2020 *Ford* *F-150* 180 MILES. LIFTED FORD F15...</td>\n",
       "      <td>ca</td>\n",
       "      <td>33.458277</td>\n",
       "      <td>-111.925970</td>\n",
       "      <td>2021-04-28T13:51:27-0700</td>\n",
       "      <td>high</td>\n",
       "      <td>2021-04-28 20:51:27+00:00</td>\n",
       "    </tr>\n",
       "  </tbody>\n",
       "</table>\n",
       "</div>"
      ],
      "text/plain": [
       "              id                                                url  \\\n",
       "342   7304102133  https://wenatchee.craigslist.org/ctd/d/wenatch...   \n",
       "418   7316337069  https://lasvegas.craigslist.org/ctd/d/scottsda...   \n",
       "423   7315662117  https://westslope.craigslist.org/ctd/d/denver-...   \n",
       "697   7316199009  https://nashville.craigslist.org/ctd/d/nashvil...   \n",
       "887   7316840794  https://denver.craigslist.org/ctd/d/american-f...   \n",
       "900   7311915616  https://westslope.craigslist.org/ctd/d/denver-...   \n",
       "998   7306735187  https://westslope.craigslist.org/ctd/d/denver-...   \n",
       "1208  7309954650  https://gainesville.craigslist.org/ctd/d/gaine...   \n",
       "1308  7313865045  https://westslope.craigslist.org/ctd/d/denver-...   \n",
       "1828  7303344554  https://daytona.craigslist.org/ctd/d/new-smyrn...   \n",
       "2270  7311762820  https://huntsville.craigslist.org/ctd/d/new-ca...   \n",
       "2481  7315662074  https://santafe.craigslist.org/ctd/d/denver-20...   \n",
       "2603  7314588156  https://inlandempire.craigslist.org/ctd/d/hesp...   \n",
       "2792  7310250813  https://omaha.craigslist.org/ctd/d/council-blu...   \n",
       "2931  7306678710  https://gainesville.craigslist.org/ctd/d/gaine...   \n",
       "3263  7316562384  https://honolulu.craigslist.org/oah/ctd/d/hono...   \n",
       "3476  7307209305  https://northmiss.craigslist.org/ctd/d/vicksbu...   \n",
       "3488  7304711487  https://westslope.craigslist.org/ctd/d/denver-...   \n",
       "3634  7309869204  https://scottsbluff.craigslist.org/ctd/d/denve...   \n",
       "4178  7304693422  https://shreveport.craigslist.org/ctd/d/vicksb...   \n",
       "6055  7310371320  https://westslope.craigslist.org/ctd/d/denver-...   \n",
       "6130  7309904568  https://omaha.craigslist.org/ctd/d/omaha-2020-...   \n",
       "6254  7315207437  https://huntsville.craigslist.org/ctd/d/new-ca...   \n",
       "7122  7310924082  https://omaha.craigslist.org/ctd/d/omaha-2018-...   \n",
       "7567  7316247218  https://lasvegas.craigslist.org/ctd/d/scottsda...   \n",
       "7730  7314898718  https://gainesville.craigslist.org/ctd/d/gaine...   \n",
       "7734  7314454466  https://billings.craigslist.org/ctd/d/denver-2...   \n",
       "8437  7310829676  https://tucson.craigslist.org/ctd/d/tempe-2020...   \n",
       "8714  7316852999  https://memphis.craigslist.org/ctd/d/memphis-2...   \n",
       "9237  7316270709  https://denver.craigslist.org/ctd/d/denver-201...   \n",
       "9454  7312938642  https://lasvegas.craigslist.org/ctd/d/scottsda...   \n",
       "9626  7309216259  https://omaha.craigslist.org/ctd/d/omaha-2019-...   \n",
       "9752  7316246632  https://sanantonio.craigslist.org/ctd/d/scotts...   \n",
       "9855  7314033574  https://inlandempire.craigslist.org/ctd/d/scot...   \n",
       "\n",
       "                       region                           region_url  price  \\\n",
       "342                 wenatchee     https://wenatchee.craigslist.org  35880   \n",
       "418                 las vegas      https://lasvegas.craigslist.org  84995   \n",
       "423             western slope     https://westslope.craigslist.org  43900   \n",
       "697                 nashville     https://nashville.craigslist.org  28498   \n",
       "887                    denver        https://denver.craigslist.org  60900   \n",
       "900             western slope     https://westslope.craigslist.org  67900   \n",
       "998             western slope     https://westslope.craigslist.org  38900   \n",
       "1208              gainesville   https://gainesville.craigslist.org  24975   \n",
       "1308            western slope     https://westslope.craigslist.org  47900   \n",
       "1828            daytona beach       https://daytona.craigslist.org  35850   \n",
       "2270     huntsville / decatur    https://huntsville.craigslist.org  29875   \n",
       "2481          santa fe / taos       https://santafe.craigslist.org  43900   \n",
       "2603            inland empire  https://inlandempire.craigslist.org   2599   \n",
       "2792   omaha / council bluffs         https://omaha.craigslist.org  28995   \n",
       "2931              gainesville   https://gainesville.craigslist.org  26975   \n",
       "3263                   hawaii      https://honolulu.craigslist.org  37500   \n",
       "3476        north mississippi     https://northmiss.craigslist.org  64900   \n",
       "3488            western slope     https://westslope.craigslist.org  67900   \n",
       "3634  scottsbluff / panhandle   https://scottsbluff.craigslist.org  48900   \n",
       "4178               shreveport    https://shreveport.craigslist.org  53700   \n",
       "6055            western slope     https://westslope.craigslist.org  49900   \n",
       "6130   omaha / council bluffs         https://omaha.craigslist.org  25399   \n",
       "6254     huntsville / decatur    https://huntsville.craigslist.org  35495   \n",
       "7122   omaha / council bluffs         https://omaha.craigslist.org  12995   \n",
       "7567                las vegas      https://lasvegas.craigslist.org  69995   \n",
       "7730              gainesville   https://gainesville.craigslist.org  38975   \n",
       "7734                 billings      https://billings.craigslist.org  49900   \n",
       "8437                   tucson        https://tucson.craigslist.org  83877   \n",
       "8714                  memphis       https://memphis.craigslist.org  19979   \n",
       "9237                   denver        https://denver.craigslist.org  49900   \n",
       "9454                las vegas      https://lasvegas.craigslist.org  67995   \n",
       "9626   omaha / council bluffs         https://omaha.craigslist.org  29995   \n",
       "9752              san antonio    https://sanantonio.craigslist.org  49995   \n",
       "9855            inland empire  https://inlandempire.craigslist.org  54995   \n",
       "\n",
       "      year manufacturer                 model    fuel  odometer title_status  \\\n",
       "342    NaN        other                   500     gas     13508        clean   \n",
       "418    NaN        other  Super Duty F-350 SRW  diesel      1268        clean   \n",
       "423    NaN        other         Grand Caravan     NaN        21        clean   \n",
       "697    NaN        other   olet Silverado 1500     NaN     59246          NaN   \n",
       "887    NaN        other                 F-150     gas      6110        clean   \n",
       "900    NaN        other               Odyssey     gas        21        clean   \n",
       "998    NaN        other         Grand Caravan     NaN        21        clean   \n",
       "1208   NaN        other                  CR-V     gas     44128        clean   \n",
       "1308   NaN        other              a Sienna     gas     43701        clean   \n",
       "1828   NaN        other     Transit Cargo Van     gas       567        clean   \n",
       "2270   NaN        other               a Camry     gas     46947        clean   \n",
       "2481   NaN        other         Grand Caravan     NaN        21        clean   \n",
       "2603   NaN        other           olet Impala   other         1        clean   \n",
       "2792   NaN        other                 cadia     gas      3851          NaN   \n",
       "2931   NaN        other              n Maxima     gas     28367        clean   \n",
       "3263   NaN        other        Grand Cherokee     NaN     26608        clean   \n",
       "3476   NaN        other                   500  diesel     12338          NaN   \n",
       "3488   NaN        other               Odyssey     gas        21        clean   \n",
       "3634   NaN        other         Grand Caravan     NaN        19        clean   \n",
       "4178   NaN        other            ierra 1500     gas     35676          NaN   \n",
       "6055   NaN        other               Enclave     gas     10345        clean   \n",
       "6130   NaN        other              Envision     NaN      8492      rebuilt   \n",
       "6254   NaN        other                Series     gas     14000        clean   \n",
       "7122   NaN        other             u Impreza     gas     16740      rebuilt   \n",
       "7567   NaN        other                 F-150     gas       412        clean   \n",
       "7730   NaN        other                   500     gas     28689        clean   \n",
       "7734   NaN        other              a Sienna     gas     34294        clean   \n",
       "8437   NaN        other          ierra 2500HD  diesel     25363          NaN   \n",
       "8714   NaN        other                  CX-5     gas     17183        clean   \n",
       "9237   NaN        other              a Sienna     gas     34294        clean   \n",
       "9454   NaN        other   olet Silverado 1500     gas      7511        clean   \n",
       "9626   NaN        other               Enclave     gas      1036      rebuilt   \n",
       "9752   NaN        other                   500     gas     19078        clean   \n",
       "9855   NaN        other                 F-150     gas       180        clean   \n",
       "\n",
       "     transmission                                          image_url  \\\n",
       "342     automatic  https://images.craigslist.org/00J0J_6IMoEUzIIM...   \n",
       "418     automatic  https://images.craigslist.org/00x0x_iQCC0Ef28S...   \n",
       "423     automatic  https://images.craigslist.org/00f0f_7AwipNocNH...   \n",
       "697     automatic  https://images.craigslist.org/00T0T_dZ7nOXskCS...   \n",
       "887     automatic  https://images.craigslist.org/01616_bpzSdSRTbx...   \n",
       "900     automatic  https://images.craigslist.org/00404_erlbeKWEkn...   \n",
       "998     automatic  https://images.craigslist.org/00F0F_3T6FM0XMZW...   \n",
       "1208    automatic  https://images.craigslist.org/00000_2TUtAgLlCR...   \n",
       "1308    automatic  https://images.craigslist.org/00o0o_8XYp4Zygdj...   \n",
       "1828    automatic  https://images.craigslist.org/00a0a_d4XVrHnlxl...   \n",
       "2270    automatic  https://images.craigslist.org/01313_9nQ5n8dbnZ...   \n",
       "2481    automatic  https://images.craigslist.org/00f0f_7AwipNocNH...   \n",
       "2603        other  https://images.craigslist.org/00P0P_dKsEWbujM0...   \n",
       "2792    automatic  https://images.craigslist.org/00j0j_6hfE9qI1CV...   \n",
       "2931    automatic  https://images.craigslist.org/01010_4uw9b06xiS...   \n",
       "3263    automatic  https://images.craigslist.org/01111_h3zrI9JPSH...   \n",
       "3476    automatic  https://images.craigslist.org/00E0E_hZTYK06AGo...   \n",
       "3488    automatic  https://images.craigslist.org/00404_erlbeKWEkn...   \n",
       "3634    automatic  https://images.craigslist.org/00V0V_72KAx8GRuN...   \n",
       "4178    automatic  https://images.craigslist.org/00O0O_cpIkn2jwHN...   \n",
       "6055    automatic  https://images.craigslist.org/00M0M_sPt1lwAVRY...   \n",
       "6130    automatic  https://images.craigslist.org/01515_geiPTG1MZG...   \n",
       "6254    automatic  https://images.craigslist.org/01212_85QVVsEWjT...   \n",
       "7122    automatic  https://images.craigslist.org/01212_dEfENLNXWW...   \n",
       "7567    automatic  https://images.craigslist.org/00n0n_kNzqmJoY2a...   \n",
       "7730    automatic  https://images.craigslist.org/00e0e_3SqmUoLwUf...   \n",
       "7734    automatic  https://images.craigslist.org/00707_lMMxHyLoAR...   \n",
       "8437    automatic  https://images.craigslist.org/00A0A_nd5C1ILCvJ...   \n",
       "8714    automatic  https://images.craigslist.org/00x0x_1sp7mb28W4...   \n",
       "9237    automatic  https://images.craigslist.org/00707_lMMxHyLoAR...   \n",
       "9454    automatic  https://images.craigslist.org/00M0M_74pDndl5gQ...   \n",
       "9626    automatic  https://images.craigslist.org/01010_1PAwiL9HwM...   \n",
       "9752    automatic  https://images.craigslist.org/00p0p_lva0tqTnF1...   \n",
       "9855    automatic  https://images.craigslist.org/00d0d_92wTNhRT7B...   \n",
       "\n",
       "                                            description state        lat  \\\n",
       "342   2019 *Ram* *1500* Big Horn/Lone Star 4x2 Quad ...    wa  47.434493   \n",
       "418   2020 *Ford* *Super Duty F-350 SRW* 1K MILES. B...    nv  33.458277   \n",
       "423   2019 *Dodge* *Grand Caravan* SE - $43,900Call ...    co  39.674406   \n",
       "697   2019 *Chevrolet* *Silverado 1500* 2019 CHEVROL...    tn  36.138022   \n",
       "887   2020 *Ford* *F-150* PLATINUM FX4 Truck - $60,9...    co  40.362248   \n",
       "900   2020 *Honda* *Odyssey* EX-L w/Navi/RES Automat...    co  39.674406   \n",
       "998   2019 *Dodge* *Grand Caravan* SE - $38,900Call ...    co  39.674406   \n",
       "1208  2019 *Honda* *CR-V* EX 2WD SUV - $24,975Call o...    fl  29.676827   \n",
       "1308  2018 *Toyota* *Sienna* LE Automatic Access Sea...    co  39.674406   \n",
       "1828  2020 *Ford* *Transit Cargo Van* T-250 148\" WB*...    fl  29.046240   \n",
       "2270  2019 *Toyota* *Camry* XSE Automatic Sedan - $2...    al  33.669601   \n",
       "2481  2019 *Dodge* *Grand Caravan* SE - $43,900Call ...    nm  39.674406   \n",
       "2603  Chevrolet Impala  * AUCTION PRICES TO THE PUBL...    ca  34.451930   \n",
       "2792  2019 *GMC* *Acadia* AWD 4dr SLT w/SLT-1 SUV - ...    ia  41.229172   \n",
       "2931  2018 *Nissan* *Maxima* SR 3.5L Midnight Editio...    fl  29.676827   \n",
       "3263  2018 *Jeep* *Grand Cherokee* High Altitude 4x2...    hi  21.318059   \n",
       "3476  2020 *Ram* *3500* RAM 3500 DUALLY 4X4 CUMMINS ...    ms  32.332046   \n",
       "3488  2020 *Honda* *Odyssey* EX-L w/Navi/RES Automat...    co  39.674406   \n",
       "3634  2019 *Dodge* *Grand Caravan* SE Plus Wagon - $...    ne  39.674406   \n",
       "4178  2020 *GMC* *Sierra 1500* SIERRA 1500 AT4 4X4 5...    la  32.332046   \n",
       "6055  2018 *Buick* *Enclave* FWD 4dr Essence SUV - $...    co  39.674406   \n",
       "6130  2020 *Buick* *Envision* AWD 4dr Essence SUV - ...    ia  41.207382   \n",
       "6254  2020 *BMW* *3 Series* 330i Sedan - $35,495Call...    al  33.669601   \n",
       "7122  2018 *Subaru* *Impreza* 2.0i 4-door CVT Sedan ...    ia  41.207382   \n",
       "7567  2021 *Ford* *F-150* NEW 2021 FORD F150 SUPERCR...    nv  33.458277   \n",
       "7730  2019 *Ram* *2500* Tradesman 4x2 Crew Cab 8' Bo...    fl  29.676827   \n",
       "7734  2019 *Toyota* *Sienna* LE Automatic Access Sea...    mt  39.674406   \n",
       "8437  2020 *GMC* *Sierra 2500HD* LIFTED - AT4 Editio...    az  33.437098   \n",
       "8714  2019 *Mazda* *CX-5* Sport FWD SUV - $19,979Cal...    tn  35.191437   \n",
       "9237  2019 *Toyota* *Sienna* LE Automatic Access Sea...    co  39.674406   \n",
       "9454  2020 *Chevrolet* *Silverado 1500* 6.2L HIGH CO...    nv  33.458277   \n",
       "9626  2019 *Buick* *Enclave* AWD 4dr Essence SUV - $...    ia  41.207382   \n",
       "9752  2019 *Ram* *1500* LIFTED 2019 RAM 1500 WITH BU...    tx  33.458277   \n",
       "9855  2020 *Ford* *F-150* 180 MILES. LIFTED FORD F15...    ca  33.458277   \n",
       "\n",
       "            long              posting_date price_category  \\\n",
       "342  -120.320759  2021-04-09T06:31:03-0700           high   \n",
       "418  -111.925970  2021-05-03T11:31:39-0700           high   \n",
       "423  -104.998604  2021-05-02T01:11:33-0600           high   \n",
       "697   -86.732261  2021-05-03T10:00:40-0500           high   \n",
       "887  -111.785947  2021-05-04T12:11:22-0600           high   \n",
       "900  -104.998604  2021-04-24T10:41:06-0600           high   \n",
       "998  -104.998604  2021-04-14T10:51:36-0600           high   \n",
       "1208  -82.319202  2021-04-20T14:46:55-0400           high   \n",
       "1308 -104.998604  2021-04-28T10:12:14-0600           high   \n",
       "1828  -80.934561  2021-04-07T17:10:06-0400           high   \n",
       "2270  -86.817617  2021-04-24T04:50:56-0500           high   \n",
       "2481 -104.998604  2021-05-02T01:10:47-0600           high   \n",
       "2603 -117.287060  2021-04-29T16:19:54-0700            low   \n",
       "2792  -95.852118  2021-04-21T07:21:00-0500           high   \n",
       "2931  -82.319202  2021-04-14T11:25:14-0400           high   \n",
       "3263 -157.865187  2021-05-03T16:10:46-1000           high   \n",
       "3476  -90.857163  2021-04-15T10:45:56-0500           high   \n",
       "3488 -104.998604  2021-04-10T10:12:15-0600           high   \n",
       "3634 -104.998604  2021-04-20T10:41:16-0600           high   \n",
       "4178  -90.857163  2021-04-10T10:44:02-0500           high   \n",
       "6055 -104.998604  2021-04-21T10:12:30-0600           high   \n",
       "6130  -96.023096  2021-04-20T12:31:36-0500           high   \n",
       "6254  -86.817617  2021-05-01T04:50:32-0500           high   \n",
       "7122  -96.023096  2021-04-22T12:20:37-0500         medium   \n",
       "7567 -111.925970  2021-05-03T09:15:32-0700           high   \n",
       "7730  -82.319202  2021-04-30T13:32:48-0400           high   \n",
       "7734 -104.998604  2021-04-29T13:00:48-0600           high   \n",
       "8437 -111.925724  2021-04-22T07:50:52-0700           high   \n",
       "8714  -89.894973  2021-05-04T13:30:34-0500         medium   \n",
       "9237 -104.998604  2021-05-03T10:50:33-0600           high   \n",
       "9454 -111.925970  2021-04-26T11:30:40-0700           high   \n",
       "9626  -96.023096  2021-04-19T09:30:41-0500           high   \n",
       "9752 -111.925970  2021-05-03T11:14:44-0500           high   \n",
       "9855 -111.925970  2021-04-28T13:51:27-0700           high   \n",
       "\n",
       "                           date  \n",
       "342   2021-04-09 13:31:03+00:00  \n",
       "418   2021-05-03 18:31:39+00:00  \n",
       "423   2021-05-02 07:11:33+00:00  \n",
       "697   2021-05-03 15:00:40+00:00  \n",
       "887   2021-05-04 18:11:22+00:00  \n",
       "900   2021-04-24 16:41:06+00:00  \n",
       "998   2021-04-14 16:51:36+00:00  \n",
       "1208  2021-04-20 18:46:55+00:00  \n",
       "1308  2021-04-28 16:12:14+00:00  \n",
       "1828  2021-04-07 21:10:06+00:00  \n",
       "2270  2021-04-24 09:50:56+00:00  \n",
       "2481  2021-05-02 07:10:47+00:00  \n",
       "2603  2021-04-29 23:19:54+00:00  \n",
       "2792  2021-04-21 12:21:00+00:00  \n",
       "2931  2021-04-14 15:25:14+00:00  \n",
       "3263  2021-05-04 02:10:46+00:00  \n",
       "3476  2021-04-15 15:45:56+00:00  \n",
       "3488  2021-04-10 16:12:15+00:00  \n",
       "3634  2021-04-20 16:41:16+00:00  \n",
       "4178  2021-04-10 15:44:02+00:00  \n",
       "6055  2021-04-21 16:12:30+00:00  \n",
       "6130  2021-04-20 17:31:36+00:00  \n",
       "6254  2021-05-01 09:50:32+00:00  \n",
       "7122  2021-04-22 17:20:37+00:00  \n",
       "7567  2021-05-03 16:15:32+00:00  \n",
       "7730  2021-04-30 17:32:48+00:00  \n",
       "7734  2021-04-29 19:00:48+00:00  \n",
       "8437  2021-04-22 14:50:52+00:00  \n",
       "8714  2021-05-04 18:30:34+00:00  \n",
       "9237  2021-05-03 16:50:33+00:00  \n",
       "9454  2021-04-26 18:30:40+00:00  \n",
       "9626  2021-04-19 14:30:41+00:00  \n",
       "9752  2021-05-03 16:14:44+00:00  \n",
       "9855  2021-04-28 20:51:27+00:00  "
      ]
     },
     "execution_count": 247,
     "metadata": {},
     "output_type": "execute_result"
    }
   ],
   "source": [
    "df[df.year.isna()]\n",
    "#Практически везде, кроме одной записи, год есть в описании, причем он идет первым словом, можно заполнить оттуда"
   ]
  },
  {
   "cell_type": "markdown",
   "id": "5f4826d1",
   "metadata": {
    "id": "5f4826d1"
   },
   "source": [
    "5. Обработайте пропуски, удалив записи, в которых год выпуска автомобиля не заполнен, и сохраните обновлённый датафрейм, а затем выведите его размерность.\n"
   ]
  },
  {
   "cell_type": "code",
   "execution_count": 248,
   "id": "ec1eab4f",
   "metadata": {
    "ExecuteTime": {
     "end_time": "2022-01-29T00:18:02.409949Z",
     "start_time": "2022-01-29T00:18:02.404640Z"
    },
    "id": "ec1eab4f"
   },
   "outputs": [
    {
     "data": {
      "text/plain": [
       "(9868, 20)"
      ]
     },
     "execution_count": 248,
     "metadata": {},
     "output_type": "execute_result"
    }
   ],
   "source": [
    "df_clean = df.copy()\n",
    "df_clean = df_clean.dropna(subset=[\"year\"])\n",
    "df_clean.shape"
   ]
  },
  {
   "cell_type": "markdown",
   "id": "96242d8b",
   "metadata": {
    "id": "96242d8b"
   },
   "source": [
    "6. Выведите количество пропущенных значений в годе выпуска автомобиля для обновлённого датафрейма."
   ]
  },
  {
   "cell_type": "code",
   "execution_count": 249,
   "id": "b7105ead",
   "metadata": {
    "id": "b7105ead"
   },
   "outputs": [
    {
     "name": "stdout",
     "output_type": "stream",
     "text": [
      "Количество пропущенных значений в year: 0\n"
     ]
    }
   ],
   "source": [
    "print(\"Количество пропущенных значений в year:\", df_clean.year.isna().sum())  # Допишите код"
   ]
  },
  {
   "cell_type": "markdown",
   "id": "8f2f4996",
   "metadata": {
    "id": "8f2f4996"
   },
   "source": [
    "### Задача 3. Обработка пропусков в типе топлива\n",
    "\n",
    "1. Выведите количество значений для типа топлива, включая пропущенные значения. Обратите внимание на количество пропущенных значений.\n",
    "\n",
    "\n"
   ]
  },
  {
   "cell_type": "code",
   "execution_count": 250,
   "id": "33a21fd9",
   "metadata": {
    "id": "33a21fd9"
   },
   "outputs": [
    {
     "data": {
      "text/plain": [
       "fuel\n",
       "gas         8321\n",
       "other        726\n",
       "diesel       646\n",
       "hybrid       104\n",
       "NaN           61\n",
       "electric      44\n",
       "Name: count, dtype: int64"
      ]
     },
     "execution_count": 250,
     "metadata": {},
     "output_type": "execute_result"
    }
   ],
   "source": [
    "df.fuel.value_counts(dropna=False)"
   ]
  },
  {
   "cell_type": "markdown",
   "id": "b996ea4e",
   "metadata": {
    "id": "b996ea4e"
   },
   "source": [
    "2. Выведите описательные статистики для типа топлива.\n"
   ]
  },
  {
   "cell_type": "code",
   "execution_count": 251,
   "id": "4d5f188c",
   "metadata": {
    "ExecuteTime": {
     "end_time": "2022-01-29T00:29:32.254957Z",
     "start_time": "2022-01-29T00:29:32.251802Z"
    },
    "id": "4d5f188c"
   },
   "outputs": [
    {
     "data": {
      "text/plain": [
       "count     9841\n",
       "unique       5\n",
       "top        gas\n",
       "freq      8321\n",
       "Name: fuel, dtype: object"
      ]
     },
     "execution_count": 251,
     "metadata": {},
     "output_type": "execute_result"
    }
   ],
   "source": [
    "df.fuel.describe()"
   ]
  },
  {
   "cell_type": "markdown",
   "id": "b2aab1bc",
   "metadata": {
    "id": "b2aab1bc"
   },
   "source": [
    "3. Выведите записи, в которых тип топлива не заполнен. Посмотрите на данные и подумайте, какую стратегию обработки значений можно применить.\n"
   ]
  },
  {
   "cell_type": "code",
   "execution_count": 252,
   "id": "67f0feee",
   "metadata": {
    "ExecuteTime": {
     "end_time": "2022-01-29T23:37:31.879221Z",
     "start_time": "2022-01-29T23:37:31.875360Z"
    },
    "id": "67f0feee"
   },
   "outputs": [
    {
     "data": {
      "text/html": [
       "<div>\n",
       "<style scoped>\n",
       "    .dataframe tbody tr th:only-of-type {\n",
       "        vertical-align: middle;\n",
       "    }\n",
       "\n",
       "    .dataframe tbody tr th {\n",
       "        vertical-align: top;\n",
       "    }\n",
       "\n",
       "    .dataframe thead th {\n",
       "        text-align: right;\n",
       "    }\n",
       "</style>\n",
       "<table border=\"1\" class=\"dataframe\">\n",
       "  <thead>\n",
       "    <tr style=\"text-align: right;\">\n",
       "      <th></th>\n",
       "      <th>id</th>\n",
       "      <th>url</th>\n",
       "      <th>region</th>\n",
       "      <th>region_url</th>\n",
       "      <th>price</th>\n",
       "      <th>year</th>\n",
       "      <th>manufacturer</th>\n",
       "      <th>model</th>\n",
       "      <th>fuel</th>\n",
       "      <th>odometer</th>\n",
       "      <th>title_status</th>\n",
       "      <th>transmission</th>\n",
       "      <th>image_url</th>\n",
       "      <th>description</th>\n",
       "      <th>state</th>\n",
       "      <th>lat</th>\n",
       "      <th>long</th>\n",
       "      <th>posting_date</th>\n",
       "      <th>price_category</th>\n",
       "      <th>date</th>\n",
       "    </tr>\n",
       "  </thead>\n",
       "  <tbody>\n",
       "    <tr>\n",
       "      <th>1</th>\n",
       "      <td>7316380095</td>\n",
       "      <td>https://newjersey.craigslist.org/ctd/d/carlsta...</td>\n",
       "      <td>north jersey</td>\n",
       "      <td>https://newjersey.craigslist.org</td>\n",
       "      <td>16942</td>\n",
       "      <td>2016.0</td>\n",
       "      <td>ford</td>\n",
       "      <td>explorer 4wd 4dr xlt</td>\n",
       "      <td>NaN</td>\n",
       "      <td>60023</td>\n",
       "      <td>clean</td>\n",
       "      <td>automatic</td>\n",
       "      <td>https://images.craigslist.org/00x0x_26jl9F0cnL...</td>\n",
       "      <td>***Call Us for more information at: 201-635-14...</td>\n",
       "      <td>nj</td>\n",
       "      <td>40.821805</td>\n",
       "      <td>-74.061962</td>\n",
       "      <td>2021-05-03T15:40:21-0400</td>\n",
       "      <td>medium</td>\n",
       "      <td>2021-05-03 19:40:21+00:00</td>\n",
       "    </tr>\n",
       "    <tr>\n",
       "      <th>32</th>\n",
       "      <td>7309910590</td>\n",
       "      <td>https://eugene.craigslist.org/ctd/d/eugene-200...</td>\n",
       "      <td>eugene</td>\n",
       "      <td>https://eugene.craigslist.org</td>\n",
       "      <td>4977</td>\n",
       "      <td>2001.0</td>\n",
       "      <td>toyota</td>\n",
       "      <td>camry solara 2dr cpe se v6 auto (natl)</td>\n",
       "      <td>NaN</td>\n",
       "      <td>193242</td>\n",
       "      <td>clean</td>\n",
       "      <td>automatic</td>\n",
       "      <td>https://images.craigslist.org/00F0F_ebtJlxCQjv...</td>\n",
       "      <td>***Call Us for more information at: 541-228-94...</td>\n",
       "      <td>or</td>\n",
       "      <td>44.076513</td>\n",
       "      <td>-123.150156</td>\n",
       "      <td>2021-04-20T10:40:15-0700</td>\n",
       "      <td>low</td>\n",
       "      <td>2021-04-20 17:40:15+00:00</td>\n",
       "    </tr>\n",
       "    <tr>\n",
       "      <th>78</th>\n",
       "      <td>7314559074</td>\n",
       "      <td>https://eugene.craigslist.org/ctd/d/eugene-200...</td>\n",
       "      <td>eugene</td>\n",
       "      <td>https://eugene.craigslist.org</td>\n",
       "      <td>27977</td>\n",
       "      <td>2009.0</td>\n",
       "      <td>ford</td>\n",
       "      <td>f-150 4wd supercrew 145\" platinum</td>\n",
       "      <td>NaN</td>\n",
       "      <td>79522</td>\n",
       "      <td>clean</td>\n",
       "      <td>automatic</td>\n",
       "      <td>https://images.craigslist.org/00L0L_khoMmqXaSJ...</td>\n",
       "      <td>***Call Us for more information at: 541-228-94...</td>\n",
       "      <td>or</td>\n",
       "      <td>44.076513</td>\n",
       "      <td>-123.150156</td>\n",
       "      <td>2021-04-29T15:15:30-0700</td>\n",
       "      <td>high</td>\n",
       "      <td>2021-04-29 22:15:30+00:00</td>\n",
       "    </tr>\n",
       "    <tr>\n",
       "      <th>273</th>\n",
       "      <td>7315141987</td>\n",
       "      <td>https://honolulu.craigslist.org/oah/ctd/d/fort...</td>\n",
       "      <td>hawaii</td>\n",
       "      <td>https://honolulu.craigslist.org</td>\n",
       "      <td>29888</td>\n",
       "      <td>2019.0</td>\n",
       "      <td>nissan</td>\n",
       "      <td>frontier crew cab 4x2 sv auto</td>\n",
       "      <td>NaN</td>\n",
       "      <td>10679</td>\n",
       "      <td>clean</td>\n",
       "      <td>automatic</td>\n",
       "      <td>https://images.craigslist.org/00F0F_d9wEXQuSyu...</td>\n",
       "      <td>***Call Us for more information at: 877-262-34...</td>\n",
       "      <td>hi</td>\n",
       "      <td>21.344376</td>\n",
       "      <td>-157.896975</td>\n",
       "      <td>2021-04-30T15:50:19-1000</td>\n",
       "      <td>high</td>\n",
       "      <td>2021-05-01 01:50:19+00:00</td>\n",
       "    </tr>\n",
       "    <tr>\n",
       "      <th>423</th>\n",
       "      <td>7315662117</td>\n",
       "      <td>https://westslope.craigslist.org/ctd/d/denver-...</td>\n",
       "      <td>western slope</td>\n",
       "      <td>https://westslope.craigslist.org</td>\n",
       "      <td>43900</td>\n",
       "      <td>NaN</td>\n",
       "      <td>other</td>\n",
       "      <td>Grand Caravan</td>\n",
       "      <td>NaN</td>\n",
       "      <td>21</td>\n",
       "      <td>clean</td>\n",
       "      <td>automatic</td>\n",
       "      <td>https://images.craigslist.org/00f0f_7AwipNocNH...</td>\n",
       "      <td>2019 *Dodge* *Grand Caravan* SE - $43,900Call ...</td>\n",
       "      <td>co</td>\n",
       "      <td>39.674406</td>\n",
       "      <td>-104.998604</td>\n",
       "      <td>2021-05-02T01:11:33-0600</td>\n",
       "      <td>high</td>\n",
       "      <td>2021-05-02 07:11:33+00:00</td>\n",
       "    </tr>\n",
       "    <tr>\n",
       "      <th>...</th>\n",
       "      <td>...</td>\n",
       "      <td>...</td>\n",
       "      <td>...</td>\n",
       "      <td>...</td>\n",
       "      <td>...</td>\n",
       "      <td>...</td>\n",
       "      <td>...</td>\n",
       "      <td>...</td>\n",
       "      <td>...</td>\n",
       "      <td>...</td>\n",
       "      <td>...</td>\n",
       "      <td>...</td>\n",
       "      <td>...</td>\n",
       "      <td>...</td>\n",
       "      <td>...</td>\n",
       "      <td>...</td>\n",
       "      <td>...</td>\n",
       "      <td>...</td>\n",
       "      <td>...</td>\n",
       "      <td>...</td>\n",
       "    </tr>\n",
       "    <tr>\n",
       "      <th>8682</th>\n",
       "      <td>7313576130</td>\n",
       "      <td>https://cnj.craigslist.org/ctd/d/parlin-2012-j...</td>\n",
       "      <td>central NJ</td>\n",
       "      <td>https://cnj.craigslist.org</td>\n",
       "      <td>23500</td>\n",
       "      <td>2012.0</td>\n",
       "      <td>jeep</td>\n",
       "      <td>wrangler unlimited 4wd 4dr sahara</td>\n",
       "      <td>NaN</td>\n",
       "      <td>105927</td>\n",
       "      <td>clean</td>\n",
       "      <td>automatic</td>\n",
       "      <td>https://images.craigslist.org/00u0u_erwAahcIeQ...</td>\n",
       "      <td>***Call Us for more information at: 732-316-55...</td>\n",
       "      <td>nj</td>\n",
       "      <td>40.468650</td>\n",
       "      <td>-74.296990</td>\n",
       "      <td>2021-04-27T18:15:18-0400</td>\n",
       "      <td>high</td>\n",
       "      <td>2021-04-27 22:15:18+00:00</td>\n",
       "    </tr>\n",
       "    <tr>\n",
       "      <th>9351</th>\n",
       "      <td>7309365699</td>\n",
       "      <td>https://fortmyers.craigslist.org/chl/ctd/d/bra...</td>\n",
       "      <td>ft myers / SW florida</td>\n",
       "      <td>https://fortmyers.craigslist.org</td>\n",
       "      <td>14997</td>\n",
       "      <td>2010.0</td>\n",
       "      <td>ford</td>\n",
       "      <td>e-350</td>\n",
       "      <td>NaN</td>\n",
       "      <td>153120</td>\n",
       "      <td>clean</td>\n",
       "      <td>manual</td>\n",
       "      <td>https://images.craigslist.org/00606_hQvq6K6D4p...</td>\n",
       "      <td>2010 *Ford* *E-350* 12 Passenger Van - $14,997...</td>\n",
       "      <td>fl</td>\n",
       "      <td>27.479823</td>\n",
       "      <td>-82.571497</td>\n",
       "      <td>2021-04-19T14:01:14-0400</td>\n",
       "      <td>medium</td>\n",
       "      <td>2021-04-19 18:01:14+00:00</td>\n",
       "    </tr>\n",
       "    <tr>\n",
       "      <th>9541</th>\n",
       "      <td>7313475467</td>\n",
       "      <td>https://eugene.craigslist.org/ctd/d/eugene-201...</td>\n",
       "      <td>eugene</td>\n",
       "      <td>https://eugene.craigslist.org</td>\n",
       "      <td>9979</td>\n",
       "      <td>2012.0</td>\n",
       "      <td>chevrolet</td>\n",
       "      <td>equinox awd 4dr lt w/1lt</td>\n",
       "      <td>NaN</td>\n",
       "      <td>165554</td>\n",
       "      <td>clean</td>\n",
       "      <td>automatic</td>\n",
       "      <td>https://images.craigslist.org/00q0q_haS6HKqYq4...</td>\n",
       "      <td>***Call Us for more information at: 541-228-94...</td>\n",
       "      <td>or</td>\n",
       "      <td>44.076513</td>\n",
       "      <td>-123.150156</td>\n",
       "      <td>2021-04-27T12:10:24-0700</td>\n",
       "      <td>medium</td>\n",
       "      <td>2021-04-27 19:10:24+00:00</td>\n",
       "    </tr>\n",
       "    <tr>\n",
       "      <th>9708</th>\n",
       "      <td>7313949726</td>\n",
       "      <td>https://harrisburg.craigslist.org/ctd/d/brockp...</td>\n",
       "      <td>harrisburg</td>\n",
       "      <td>https://harrisburg.craigslist.org</td>\n",
       "      <td>8900</td>\n",
       "      <td>2012.0</td>\n",
       "      <td>honda</td>\n",
       "      <td>accord</td>\n",
       "      <td>NaN</td>\n",
       "      <td>95674</td>\n",
       "      <td>NaN</td>\n",
       "      <td>other</td>\n",
       "      <td>https://images.craigslist.org/01212_dsfYRNhxfd...</td>\n",
       "      <td>Car Starz Call Sales at 717-401-4221 2012 Hond...</td>\n",
       "      <td>pa</td>\n",
       "      <td>41.261540</td>\n",
       "      <td>-78.704520</td>\n",
       "      <td>2021-04-28T14:25:32-0400</td>\n",
       "      <td>low</td>\n",
       "      <td>2021-04-28 18:25:32+00:00</td>\n",
       "    </tr>\n",
       "    <tr>\n",
       "      <th>9718</th>\n",
       "      <td>7314349617</td>\n",
       "      <td>https://eugene.craigslist.org/ctd/d/eugene-200...</td>\n",
       "      <td>eugene</td>\n",
       "      <td>https://eugene.craigslist.org</td>\n",
       "      <td>11976</td>\n",
       "      <td>2008.0</td>\n",
       "      <td>acura</td>\n",
       "      <td>mdx 4wd 4dr</td>\n",
       "      <td>NaN</td>\n",
       "      <td>156801</td>\n",
       "      <td>clean</td>\n",
       "      <td>automatic</td>\n",
       "      <td>https://images.craigslist.org/00K0K_8iyrQ1sWEh...</td>\n",
       "      <td>***Call Us for more information at: 541-228-94...</td>\n",
       "      <td>or</td>\n",
       "      <td>44.076513</td>\n",
       "      <td>-123.150156</td>\n",
       "      <td>2021-04-29T09:05:16-0700</td>\n",
       "      <td>medium</td>\n",
       "      <td>2021-04-29 16:05:16+00:00</td>\n",
       "    </tr>\n",
       "  </tbody>\n",
       "</table>\n",
       "<p>61 rows × 20 columns</p>\n",
       "</div>"
      ],
      "text/plain": [
       "              id                                                url  \\\n",
       "1     7316380095  https://newjersey.craigslist.org/ctd/d/carlsta...   \n",
       "32    7309910590  https://eugene.craigslist.org/ctd/d/eugene-200...   \n",
       "78    7314559074  https://eugene.craigslist.org/ctd/d/eugene-200...   \n",
       "273   7315141987  https://honolulu.craigslist.org/oah/ctd/d/fort...   \n",
       "423   7315662117  https://westslope.craigslist.org/ctd/d/denver-...   \n",
       "...          ...                                                ...   \n",
       "8682  7313576130  https://cnj.craigslist.org/ctd/d/parlin-2012-j...   \n",
       "9351  7309365699  https://fortmyers.craigslist.org/chl/ctd/d/bra...   \n",
       "9541  7313475467  https://eugene.craigslist.org/ctd/d/eugene-201...   \n",
       "9708  7313949726  https://harrisburg.craigslist.org/ctd/d/brockp...   \n",
       "9718  7314349617  https://eugene.craigslist.org/ctd/d/eugene-200...   \n",
       "\n",
       "                     region                         region_url  price    year  \\\n",
       "1              north jersey   https://newjersey.craigslist.org  16942  2016.0   \n",
       "32                   eugene      https://eugene.craigslist.org   4977  2001.0   \n",
       "78                   eugene      https://eugene.craigslist.org  27977  2009.0   \n",
       "273                  hawaii    https://honolulu.craigslist.org  29888  2019.0   \n",
       "423           western slope   https://westslope.craigslist.org  43900     NaN   \n",
       "...                     ...                                ...    ...     ...   \n",
       "8682             central NJ         https://cnj.craigslist.org  23500  2012.0   \n",
       "9351  ft myers / SW florida   https://fortmyers.craigslist.org  14997  2010.0   \n",
       "9541                 eugene      https://eugene.craigslist.org   9979  2012.0   \n",
       "9708             harrisburg  https://harrisburg.craigslist.org   8900  2012.0   \n",
       "9718                 eugene      https://eugene.craigslist.org  11976  2008.0   \n",
       "\n",
       "     manufacturer                                   model fuel  odometer  \\\n",
       "1            ford                    explorer 4wd 4dr xlt  NaN     60023   \n",
       "32         toyota  camry solara 2dr cpe se v6 auto (natl)  NaN    193242   \n",
       "78           ford       f-150 4wd supercrew 145\" platinum  NaN     79522   \n",
       "273        nissan           frontier crew cab 4x2 sv auto  NaN     10679   \n",
       "423         other                           Grand Caravan  NaN        21   \n",
       "...           ...                                     ...  ...       ...   \n",
       "8682         jeep       wrangler unlimited 4wd 4dr sahara  NaN    105927   \n",
       "9351         ford                                   e-350  NaN    153120   \n",
       "9541    chevrolet                equinox awd 4dr lt w/1lt  NaN    165554   \n",
       "9708        honda                                  accord  NaN     95674   \n",
       "9718        acura                             mdx 4wd 4dr  NaN    156801   \n",
       "\n",
       "     title_status transmission  \\\n",
       "1           clean    automatic   \n",
       "32          clean    automatic   \n",
       "78          clean    automatic   \n",
       "273         clean    automatic   \n",
       "423         clean    automatic   \n",
       "...           ...          ...   \n",
       "8682        clean    automatic   \n",
       "9351        clean       manual   \n",
       "9541        clean    automatic   \n",
       "9708          NaN        other   \n",
       "9718        clean    automatic   \n",
       "\n",
       "                                              image_url  \\\n",
       "1     https://images.craigslist.org/00x0x_26jl9F0cnL...   \n",
       "32    https://images.craigslist.org/00F0F_ebtJlxCQjv...   \n",
       "78    https://images.craigslist.org/00L0L_khoMmqXaSJ...   \n",
       "273   https://images.craigslist.org/00F0F_d9wEXQuSyu...   \n",
       "423   https://images.craigslist.org/00f0f_7AwipNocNH...   \n",
       "...                                                 ...   \n",
       "8682  https://images.craigslist.org/00u0u_erwAahcIeQ...   \n",
       "9351  https://images.craigslist.org/00606_hQvq6K6D4p...   \n",
       "9541  https://images.craigslist.org/00q0q_haS6HKqYq4...   \n",
       "9708  https://images.craigslist.org/01212_dsfYRNhxfd...   \n",
       "9718  https://images.craigslist.org/00K0K_8iyrQ1sWEh...   \n",
       "\n",
       "                                            description state        lat  \\\n",
       "1     ***Call Us for more information at: 201-635-14...    nj  40.821805   \n",
       "32    ***Call Us for more information at: 541-228-94...    or  44.076513   \n",
       "78    ***Call Us for more information at: 541-228-94...    or  44.076513   \n",
       "273   ***Call Us for more information at: 877-262-34...    hi  21.344376   \n",
       "423   2019 *Dodge* *Grand Caravan* SE - $43,900Call ...    co  39.674406   \n",
       "...                                                 ...   ...        ...   \n",
       "8682  ***Call Us for more information at: 732-316-55...    nj  40.468650   \n",
       "9351  2010 *Ford* *E-350* 12 Passenger Van - $14,997...    fl  27.479823   \n",
       "9541  ***Call Us for more information at: 541-228-94...    or  44.076513   \n",
       "9708  Car Starz Call Sales at 717-401-4221 2012 Hond...    pa  41.261540   \n",
       "9718  ***Call Us for more information at: 541-228-94...    or  44.076513   \n",
       "\n",
       "            long              posting_date price_category  \\\n",
       "1     -74.061962  2021-05-03T15:40:21-0400         medium   \n",
       "32   -123.150156  2021-04-20T10:40:15-0700            low   \n",
       "78   -123.150156  2021-04-29T15:15:30-0700           high   \n",
       "273  -157.896975  2021-04-30T15:50:19-1000           high   \n",
       "423  -104.998604  2021-05-02T01:11:33-0600           high   \n",
       "...          ...                       ...            ...   \n",
       "8682  -74.296990  2021-04-27T18:15:18-0400           high   \n",
       "9351  -82.571497  2021-04-19T14:01:14-0400         medium   \n",
       "9541 -123.150156  2021-04-27T12:10:24-0700         medium   \n",
       "9708  -78.704520  2021-04-28T14:25:32-0400            low   \n",
       "9718 -123.150156  2021-04-29T09:05:16-0700         medium   \n",
       "\n",
       "                           date  \n",
       "1     2021-05-03 19:40:21+00:00  \n",
       "32    2021-04-20 17:40:15+00:00  \n",
       "78    2021-04-29 22:15:30+00:00  \n",
       "273   2021-05-01 01:50:19+00:00  \n",
       "423   2021-05-02 07:11:33+00:00  \n",
       "...                         ...  \n",
       "8682  2021-04-27 22:15:18+00:00  \n",
       "9351  2021-04-19 18:01:14+00:00  \n",
       "9541  2021-04-27 19:10:24+00:00  \n",
       "9708  2021-04-28 18:25:32+00:00  \n",
       "9718  2021-04-29 16:05:16+00:00  \n",
       "\n",
       "[61 rows x 20 columns]"
      ]
     },
     "execution_count": 252,
     "metadata": {},
     "output_type": "execute_result"
    }
   ],
   "source": [
    "df[df.fuel.isna()]"
   ]
  },
  {
   "cell_type": "markdown",
   "id": "7b69102c",
   "metadata": {
    "id": "7b69102c"
   },
   "source": [
    "4. Обработайте пропуски, заполнив незаполненные значения типа топлива значением `other`, и сохраните изменения. Обратите внимание, что мы заполняем пропуски не самым популярным значением в выборке.\n"
   ]
  },
  {
   "cell_type": "code",
   "execution_count": 253,
   "id": "c3bd2437",
   "metadata": {
    "id": "c3bd2437"
   },
   "outputs": [],
   "source": [
    "df_clean.fuel = df_clean.fuel.fillna('other')"
   ]
  },
  {
   "cell_type": "markdown",
   "id": "3cb6701f",
   "metadata": {
    "id": "3cb6701f"
   },
   "source": [
    "5. Выведите для обновлённого датафрейма количество пропущенных значений для типа топлива."
   ]
  },
  {
   "cell_type": "code",
   "execution_count": 254,
   "id": "94a068c8",
   "metadata": {
    "ExecuteTime": {
     "end_time": "2022-01-29T23:41:38.917684Z",
     "start_time": "2022-01-29T23:41:38.912363Z"
    },
    "id": "94a068c8",
    "outputId": "1749a195-25a2-4e4b-f75b-dff9ffb22334"
   },
   "outputs": [
    {
     "name": "stdout",
     "output_type": "stream",
     "text": [
      "Количество пропущенных значений в fuel: 0\n"
     ]
    }
   ],
   "source": [
    "print(\"Количество пропущенных значений в fuel:\", df_clean.fuel.isna().sum())  # Допишите код"
   ]
  },
  {
   "cell_type": "markdown",
   "id": "3a5a3b5a",
   "metadata": {
    "ExecuteTime": {
     "end_time": "2022-01-29T00:21:16.896209Z",
     "start_time": "2022-01-29T00:21:16.888894Z"
    },
    "id": "3a5a3b5a"
   },
   "source": [
    "### Задача 4. Обработка пропусков в модели автомобиля\n",
    "\n",
    "1. Выведите количество значений для модели автомобиля, включая пропущенные значения. Обратите внимание на количество пропущенных значений.\n",
    "\n"
   ]
  },
  {
   "cell_type": "code",
   "execution_count": 255,
   "id": "08a6f7d6",
   "metadata": {
    "ExecuteTime": {
     "end_time": "2022-01-29T15:57:41.691082Z",
     "start_time": "2022-01-29T15:57:41.675965Z"
    },
    "id": "08a6f7d6"
   },
   "outputs": [
    {
     "data": {
      "text/plain": [
       "model\n",
       "f-150                        148\n",
       "NaN                          126\n",
       "silverado 1500               106\n",
       "1500                         100\n",
       "camry                         76\n",
       "                            ... \n",
       "grand caravan sport            1\n",
       "Nascar                         1\n",
       "titan le                       1\n",
       "sorrento lx v6                 1\n",
       "a3 2.0t premium plus pzev      1\n",
       "Name: count, Length: 3458, dtype: int64"
      ]
     },
     "execution_count": 255,
     "metadata": {},
     "output_type": "execute_result"
    }
   ],
   "source": [
    "df.model.value_counts(dropna=False)"
   ]
  },
  {
   "cell_type": "markdown",
   "id": "e2b04990",
   "metadata": {
    "id": "e2b04990"
   },
   "source": [
    "2. Выведите описательные статистики для модели автомобиля.\n"
   ]
  },
  {
   "cell_type": "code",
   "execution_count": 256,
   "id": "cce6d25a",
   "metadata": {
    "id": "cce6d25a"
   },
   "outputs": [
    {
     "data": {
      "text/plain": [
       "count      9776\n",
       "unique     3457\n",
       "top       f-150\n",
       "freq        148\n",
       "Name: model, dtype: object"
      ]
     },
     "execution_count": 256,
     "metadata": {},
     "output_type": "execute_result"
    }
   ],
   "source": [
    "df.model.describe()"
   ]
  },
  {
   "cell_type": "markdown",
   "id": "960533a8",
   "metadata": {
    "id": "960533a8"
   },
   "source": [
    "3. Выведите записи, в которых модель автомобиля не заполнена. Посмотрите на данные и подумайте, какую стратегию обработки значений можно применить.\n"
   ]
  },
  {
   "cell_type": "code",
   "execution_count": 257,
   "id": "b7bb7387",
   "metadata": {
    "id": "b7bb7387"
   },
   "outputs": [
    {
     "data": {
      "text/html": [
       "<div>\n",
       "<style scoped>\n",
       "    .dataframe tbody tr th:only-of-type {\n",
       "        vertical-align: middle;\n",
       "    }\n",
       "\n",
       "    .dataframe tbody tr th {\n",
       "        vertical-align: top;\n",
       "    }\n",
       "\n",
       "    .dataframe thead th {\n",
       "        text-align: right;\n",
       "    }\n",
       "</style>\n",
       "<table border=\"1\" class=\"dataframe\">\n",
       "  <thead>\n",
       "    <tr style=\"text-align: right;\">\n",
       "      <th></th>\n",
       "      <th>id</th>\n",
       "      <th>url</th>\n",
       "      <th>region</th>\n",
       "      <th>region_url</th>\n",
       "      <th>price</th>\n",
       "      <th>year</th>\n",
       "      <th>manufacturer</th>\n",
       "      <th>model</th>\n",
       "      <th>fuel</th>\n",
       "      <th>odometer</th>\n",
       "      <th>title_status</th>\n",
       "      <th>transmission</th>\n",
       "      <th>image_url</th>\n",
       "      <th>description</th>\n",
       "      <th>state</th>\n",
       "      <th>lat</th>\n",
       "      <th>long</th>\n",
       "      <th>posting_date</th>\n",
       "      <th>price_category</th>\n",
       "      <th>date</th>\n",
       "    </tr>\n",
       "  </thead>\n",
       "  <tbody>\n",
       "    <tr>\n",
       "      <th>67</th>\n",
       "      <td>7316913641</td>\n",
       "      <td>https://ventura.craigslist.org/cto/d/camarillo...</td>\n",
       "      <td>ventura county</td>\n",
       "      <td>https://ventura.craigslist.org</td>\n",
       "      <td>3000</td>\n",
       "      <td>2005.0</td>\n",
       "      <td>rover</td>\n",
       "      <td>NaN</td>\n",
       "      <td>gas</td>\n",
       "      <td>165206</td>\n",
       "      <td>clean</td>\n",
       "      <td>automatic</td>\n",
       "      <td>https://images.craigslist.org/00S0S_b3yx6L4N2S...</td>\n",
       "      <td>2005 Range Rover HSE  Changed Oil and now engi...</td>\n",
       "      <td>ca</td>\n",
       "      <td>34.219565</td>\n",
       "      <td>-119.001986</td>\n",
       "      <td>2021-05-04T13:11:15-0700</td>\n",
       "      <td>low</td>\n",
       "      <td>2021-05-04 20:11:15+00:00</td>\n",
       "    </tr>\n",
       "    <tr>\n",
       "      <th>140</th>\n",
       "      <td>7316550853</td>\n",
       "      <td>https://chicago.craigslist.org/chc/cto/d/midlo...</td>\n",
       "      <td>chicago</td>\n",
       "      <td>https://chicago.craigslist.org</td>\n",
       "      <td>3000</td>\n",
       "      <td>2006.0</td>\n",
       "      <td>jeep</td>\n",
       "      <td>NaN</td>\n",
       "      <td>gas</td>\n",
       "      <td>132000</td>\n",
       "      <td>clean</td>\n",
       "      <td>automatic</td>\n",
       "      <td>https://images.craigslist.org/01111_kNv3EKjH4H...</td>\n",
       "      <td>SUPER CLEAN 2006 JEEP LIBEERY RANAGADE  4X4  O...</td>\n",
       "      <td>il</td>\n",
       "      <td>41.618957</td>\n",
       "      <td>-87.726334</td>\n",
       "      <td>2021-05-03T20:33:40-0500</td>\n",
       "      <td>low</td>\n",
       "      <td>2021-05-04 01:33:40+00:00</td>\n",
       "    </tr>\n",
       "    <tr>\n",
       "      <th>149</th>\n",
       "      <td>7303575863</td>\n",
       "      <td>https://worcester.craigslist.org/ctd/d/fitchbu...</td>\n",
       "      <td>worcester / central MA</td>\n",
       "      <td>https://worcester.craigslist.org</td>\n",
       "      <td>7800</td>\n",
       "      <td>2007.0</td>\n",
       "      <td>gmc</td>\n",
       "      <td>NaN</td>\n",
       "      <td>gas</td>\n",
       "      <td>190000</td>\n",
       "      <td>clean</td>\n",
       "      <td>automatic</td>\n",
       "      <td>https://images.craigslist.org/00f0f_iWjiToqea2...</td>\n",
       "      <td>2007 gmc with plow leather loaded nice truck r...</td>\n",
       "      <td>ma</td>\n",
       "      <td>42.579600</td>\n",
       "      <td>-71.803100</td>\n",
       "      <td>2021-04-08T09:10:07-0400</td>\n",
       "      <td>low</td>\n",
       "      <td>2021-04-08 13:10:07+00:00</td>\n",
       "    </tr>\n",
       "    <tr>\n",
       "      <th>198</th>\n",
       "      <td>7315267860</td>\n",
       "      <td>https://gainesville.craigslist.org/ctd/d/kissi...</td>\n",
       "      <td>gainesville</td>\n",
       "      <td>https://gainesville.craigslist.org</td>\n",
       "      <td>19200</td>\n",
       "      <td>2012.0</td>\n",
       "      <td>ram</td>\n",
       "      <td>NaN</td>\n",
       "      <td>gas</td>\n",
       "      <td>121371</td>\n",
       "      <td>clean</td>\n",
       "      <td>automatic</td>\n",
       "      <td>https://images.craigslist.org/00W0W_hHV4D0Po0G...</td>\n",
       "      <td>2012 RAM 1500 Laramie Crew Cab 2WD     Offered...</td>\n",
       "      <td>fl</td>\n",
       "      <td>28.329026</td>\n",
       "      <td>-81.404237</td>\n",
       "      <td>2021-05-01T10:05:17-0400</td>\n",
       "      <td>medium</td>\n",
       "      <td>2021-05-01 14:05:17+00:00</td>\n",
       "    </tr>\n",
       "    <tr>\n",
       "      <th>249</th>\n",
       "      <td>7316024407</td>\n",
       "      <td>https://reading.craigslist.org/ctd/d/paterson-...</td>\n",
       "      <td>reading</td>\n",
       "      <td>https://reading.craigslist.org</td>\n",
       "      <td>18695</td>\n",
       "      <td>2007.0</td>\n",
       "      <td>ram</td>\n",
       "      <td>NaN</td>\n",
       "      <td>diesel</td>\n",
       "      <td>220019</td>\n",
       "      <td>clean</td>\n",
       "      <td>automatic</td>\n",
       "      <td>https://images.craigslist.org/00n0n_jgq4eOvH7I...</td>\n",
       "      <td>2007 Dodge Ram 2500 SLT 4x4 Quad Cab Cummins D...</td>\n",
       "      <td>pa</td>\n",
       "      <td>40.894535</td>\n",
       "      <td>-74.152367</td>\n",
       "      <td>2021-05-02T21:06:09-0400</td>\n",
       "      <td>medium</td>\n",
       "      <td>2021-05-03 01:06:09+00:00</td>\n",
       "    </tr>\n",
       "    <tr>\n",
       "      <th>...</th>\n",
       "      <td>...</td>\n",
       "      <td>...</td>\n",
       "      <td>...</td>\n",
       "      <td>...</td>\n",
       "      <td>...</td>\n",
       "      <td>...</td>\n",
       "      <td>...</td>\n",
       "      <td>...</td>\n",
       "      <td>...</td>\n",
       "      <td>...</td>\n",
       "      <td>...</td>\n",
       "      <td>...</td>\n",
       "      <td>...</td>\n",
       "      <td>...</td>\n",
       "      <td>...</td>\n",
       "      <td>...</td>\n",
       "      <td>...</td>\n",
       "      <td>...</td>\n",
       "      <td>...</td>\n",
       "      <td>...</td>\n",
       "    </tr>\n",
       "    <tr>\n",
       "      <th>9469</th>\n",
       "      <td>7314341390</td>\n",
       "      <td>https://desmoines.craigslist.org/cto/d/urbanda...</td>\n",
       "      <td>des moines</td>\n",
       "      <td>https://desmoines.craigslist.org</td>\n",
       "      <td>8000</td>\n",
       "      <td>2007.0</td>\n",
       "      <td>toyota</td>\n",
       "      <td>NaN</td>\n",
       "      <td>gas</td>\n",
       "      <td>85285</td>\n",
       "      <td>clean</td>\n",
       "      <td>automatic</td>\n",
       "      <td>https://images.craigslist.org/00K0K_aMoJgOIueB...</td>\n",
       "      <td>Toyota has been owned by non smoker with no pe...</td>\n",
       "      <td>ia</td>\n",
       "      <td>41.629500</td>\n",
       "      <td>-93.723000</td>\n",
       "      <td>2021-04-29T10:50:54-0500</td>\n",
       "      <td>low</td>\n",
       "      <td>2021-04-29 15:50:54+00:00</td>\n",
       "    </tr>\n",
       "    <tr>\n",
       "      <th>9521</th>\n",
       "      <td>7304358131</td>\n",
       "      <td>https://vermont.craigslist.org/ctd/d/salem-201...</td>\n",
       "      <td>vermont</td>\n",
       "      <td>https://vermont.craigslist.org</td>\n",
       "      <td>19944</td>\n",
       "      <td>2012.0</td>\n",
       "      <td>ram</td>\n",
       "      <td>NaN</td>\n",
       "      <td>gas</td>\n",
       "      <td>73082</td>\n",
       "      <td>clean</td>\n",
       "      <td>automatic</td>\n",
       "      <td>https://images.craigslist.org/00A0A_bfCaGJ20IX...</td>\n",
       "      <td>2012 RAM 1500 4WD REGULAR CAB SHORT BED 5.7 HE...</td>\n",
       "      <td>vt</td>\n",
       "      <td>42.788204</td>\n",
       "      <td>-71.233728</td>\n",
       "      <td>2021-04-09T16:24:23-0400</td>\n",
       "      <td>medium</td>\n",
       "      <td>2021-04-09 20:24:23+00:00</td>\n",
       "    </tr>\n",
       "    <tr>\n",
       "      <th>9573</th>\n",
       "      <td>7309686008</td>\n",
       "      <td>https://louisville.craigslist.org/cto/d/radcli...</td>\n",
       "      <td>louisville</td>\n",
       "      <td>https://louisville.craigslist.org</td>\n",
       "      <td>1600</td>\n",
       "      <td>2005.0</td>\n",
       "      <td>gmc</td>\n",
       "      <td>NaN</td>\n",
       "      <td>gas</td>\n",
       "      <td>52536</td>\n",
       "      <td>clean</td>\n",
       "      <td>automatic</td>\n",
       "      <td>https://images.craigslist.org/01111_99unV6cYER...</td>\n",
       "      <td>GMC Savana PRO AWD cargo van has been driven l...</td>\n",
       "      <td>ky</td>\n",
       "      <td>37.858900</td>\n",
       "      <td>-86.006900</td>\n",
       "      <td>2021-04-20T04:48:30-0400</td>\n",
       "      <td>low</td>\n",
       "      <td>2021-04-20 08:48:30+00:00</td>\n",
       "    </tr>\n",
       "    <tr>\n",
       "      <th>9828</th>\n",
       "      <td>7316447901</td>\n",
       "      <td>https://tulsa.craigslist.org/cto/d/tulsa-2017-...</td>\n",
       "      <td>tulsa</td>\n",
       "      <td>https://tulsa.craigslist.org</td>\n",
       "      <td>65000</td>\n",
       "      <td>2017.0</td>\n",
       "      <td>rover</td>\n",
       "      <td>NaN</td>\n",
       "      <td>gas</td>\n",
       "      <td>47000</td>\n",
       "      <td>clean</td>\n",
       "      <td>automatic</td>\n",
       "      <td>https://images.craigslist.org/00s0s_iGpmplDL99...</td>\n",
       "      <td>2017 Range Rover HSE, supercharged V8, silver ...</td>\n",
       "      <td>ok</td>\n",
       "      <td>36.126200</td>\n",
       "      <td>-95.940800</td>\n",
       "      <td>2021-05-03T16:37:36-0500</td>\n",
       "      <td>high</td>\n",
       "      <td>2021-05-03 21:37:36+00:00</td>\n",
       "    </tr>\n",
       "    <tr>\n",
       "      <th>9874</th>\n",
       "      <td>7316458200</td>\n",
       "      <td>https://portland.craigslist.org/mlt/cto/d/port...</td>\n",
       "      <td>portland</td>\n",
       "      <td>https://portland.craigslist.org</td>\n",
       "      <td>18500</td>\n",
       "      <td>1972.0</td>\n",
       "      <td>chevrolet</td>\n",
       "      <td>NaN</td>\n",
       "      <td>gas</td>\n",
       "      <td>75000</td>\n",
       "      <td>clean</td>\n",
       "      <td>automatic</td>\n",
       "      <td>https://images.craigslist.org/00x0x_7FqS8iHJst...</td>\n",
       "      <td>1972 classic Chevrolet pick up custom  deluxe ...</td>\n",
       "      <td>or</td>\n",
       "      <td>45.494960</td>\n",
       "      <td>-122.666988</td>\n",
       "      <td>2021-05-03T14:58:34-0700</td>\n",
       "      <td>medium</td>\n",
       "      <td>2021-05-03 21:58:34+00:00</td>\n",
       "    </tr>\n",
       "  </tbody>\n",
       "</table>\n",
       "<p>126 rows × 20 columns</p>\n",
       "</div>"
      ],
      "text/plain": [
       "              id                                                url  \\\n",
       "67    7316913641  https://ventura.craigslist.org/cto/d/camarillo...   \n",
       "140   7316550853  https://chicago.craigslist.org/chc/cto/d/midlo...   \n",
       "149   7303575863  https://worcester.craigslist.org/ctd/d/fitchbu...   \n",
       "198   7315267860  https://gainesville.craigslist.org/ctd/d/kissi...   \n",
       "249   7316024407  https://reading.craigslist.org/ctd/d/paterson-...   \n",
       "...          ...                                                ...   \n",
       "9469  7314341390  https://desmoines.craigslist.org/cto/d/urbanda...   \n",
       "9521  7304358131  https://vermont.craigslist.org/ctd/d/salem-201...   \n",
       "9573  7309686008  https://louisville.craigslist.org/cto/d/radcli...   \n",
       "9828  7316447901  https://tulsa.craigslist.org/cto/d/tulsa-2017-...   \n",
       "9874  7316458200  https://portland.craigslist.org/mlt/cto/d/port...   \n",
       "\n",
       "                      region                          region_url  price  \\\n",
       "67            ventura county      https://ventura.craigslist.org   3000   \n",
       "140                  chicago      https://chicago.craigslist.org   3000   \n",
       "149   worcester / central MA    https://worcester.craigslist.org   7800   \n",
       "198              gainesville  https://gainesville.craigslist.org  19200   \n",
       "249                  reading      https://reading.craigslist.org  18695   \n",
       "...                      ...                                 ...    ...   \n",
       "9469              des moines    https://desmoines.craigslist.org   8000   \n",
       "9521                 vermont      https://vermont.craigslist.org  19944   \n",
       "9573              louisville   https://louisville.craigslist.org   1600   \n",
       "9828                   tulsa        https://tulsa.craigslist.org  65000   \n",
       "9874                portland     https://portland.craigslist.org  18500   \n",
       "\n",
       "        year manufacturer model    fuel  odometer title_status transmission  \\\n",
       "67    2005.0        rover   NaN     gas    165206        clean    automatic   \n",
       "140   2006.0         jeep   NaN     gas    132000        clean    automatic   \n",
       "149   2007.0          gmc   NaN     gas    190000        clean    automatic   \n",
       "198   2012.0          ram   NaN     gas    121371        clean    automatic   \n",
       "249   2007.0          ram   NaN  diesel    220019        clean    automatic   \n",
       "...      ...          ...   ...     ...       ...          ...          ...   \n",
       "9469  2007.0       toyota   NaN     gas     85285        clean    automatic   \n",
       "9521  2012.0          ram   NaN     gas     73082        clean    automatic   \n",
       "9573  2005.0          gmc   NaN     gas     52536        clean    automatic   \n",
       "9828  2017.0        rover   NaN     gas     47000        clean    automatic   \n",
       "9874  1972.0    chevrolet   NaN     gas     75000        clean    automatic   \n",
       "\n",
       "                                              image_url  \\\n",
       "67    https://images.craigslist.org/00S0S_b3yx6L4N2S...   \n",
       "140   https://images.craigslist.org/01111_kNv3EKjH4H...   \n",
       "149   https://images.craigslist.org/00f0f_iWjiToqea2...   \n",
       "198   https://images.craigslist.org/00W0W_hHV4D0Po0G...   \n",
       "249   https://images.craigslist.org/00n0n_jgq4eOvH7I...   \n",
       "...                                                 ...   \n",
       "9469  https://images.craigslist.org/00K0K_aMoJgOIueB...   \n",
       "9521  https://images.craigslist.org/00A0A_bfCaGJ20IX...   \n",
       "9573  https://images.craigslist.org/01111_99unV6cYER...   \n",
       "9828  https://images.craigslist.org/00s0s_iGpmplDL99...   \n",
       "9874  https://images.craigslist.org/00x0x_7FqS8iHJst...   \n",
       "\n",
       "                                            description state        lat  \\\n",
       "67    2005 Range Rover HSE  Changed Oil and now engi...    ca  34.219565   \n",
       "140   SUPER CLEAN 2006 JEEP LIBEERY RANAGADE  4X4  O...    il  41.618957   \n",
       "149   2007 gmc with plow leather loaded nice truck r...    ma  42.579600   \n",
       "198   2012 RAM 1500 Laramie Crew Cab 2WD     Offered...    fl  28.329026   \n",
       "249   2007 Dodge Ram 2500 SLT 4x4 Quad Cab Cummins D...    pa  40.894535   \n",
       "...                                                 ...   ...        ...   \n",
       "9469  Toyota has been owned by non smoker with no pe...    ia  41.629500   \n",
       "9521  2012 RAM 1500 4WD REGULAR CAB SHORT BED 5.7 HE...    vt  42.788204   \n",
       "9573  GMC Savana PRO AWD cargo van has been driven l...    ky  37.858900   \n",
       "9828  2017 Range Rover HSE, supercharged V8, silver ...    ok  36.126200   \n",
       "9874  1972 classic Chevrolet pick up custom  deluxe ...    or  45.494960   \n",
       "\n",
       "            long              posting_date price_category  \\\n",
       "67   -119.001986  2021-05-04T13:11:15-0700            low   \n",
       "140   -87.726334  2021-05-03T20:33:40-0500            low   \n",
       "149   -71.803100  2021-04-08T09:10:07-0400            low   \n",
       "198   -81.404237  2021-05-01T10:05:17-0400         medium   \n",
       "249   -74.152367  2021-05-02T21:06:09-0400         medium   \n",
       "...          ...                       ...            ...   \n",
       "9469  -93.723000  2021-04-29T10:50:54-0500            low   \n",
       "9521  -71.233728  2021-04-09T16:24:23-0400         medium   \n",
       "9573  -86.006900  2021-04-20T04:48:30-0400            low   \n",
       "9828  -95.940800  2021-05-03T16:37:36-0500           high   \n",
       "9874 -122.666988  2021-05-03T14:58:34-0700         medium   \n",
       "\n",
       "                           date  \n",
       "67    2021-05-04 20:11:15+00:00  \n",
       "140   2021-05-04 01:33:40+00:00  \n",
       "149   2021-04-08 13:10:07+00:00  \n",
       "198   2021-05-01 14:05:17+00:00  \n",
       "249   2021-05-03 01:06:09+00:00  \n",
       "...                         ...  \n",
       "9469  2021-04-29 15:50:54+00:00  \n",
       "9521  2021-04-09 20:24:23+00:00  \n",
       "9573  2021-04-20 08:48:30+00:00  \n",
       "9828  2021-05-03 21:37:36+00:00  \n",
       "9874  2021-05-03 21:58:34+00:00  \n",
       "\n",
       "[126 rows x 20 columns]"
      ]
     },
     "execution_count": 257,
     "metadata": {},
     "output_type": "execute_result"
    }
   ],
   "source": [
    "df[df.model.isna()]\n",
    "#Недостающие данные есть в описании"
   ]
  },
  {
   "cell_type": "markdown",
   "id": "c74dbec2",
   "metadata": {
    "id": "c74dbec2"
   },
   "source": [
    "4. Если подробнее изучить значения описания автомобиля, то, возможно, модель автомобиля получится восстановить из описания. Сейчас обработайте пропуски, заполнив незаполненные значения модели автомобиля значением `other`, и сохраните изменения. Обратите внимание, что мы в очередной раз заполняем пропуски не самым популярным значением в выборке.\n"
   ]
  },
  {
   "cell_type": "code",
   "execution_count": 258,
   "id": "4f910cd1",
   "metadata": {
    "id": "4f910cd1"
   },
   "outputs": [],
   "source": [
    "df_clean.model = df_clean.model.fillna('other')"
   ]
  },
  {
   "cell_type": "markdown",
   "id": "ca268e24",
   "metadata": {
    "id": "ca268e24"
   },
   "source": [
    "5. Выведите для обновлённого датафрейма количество пропущенных значений для модели автомобиля."
   ]
  },
  {
   "cell_type": "code",
   "execution_count": 259,
   "id": "2ca76c69",
   "metadata": {
    "id": "2ca76c69"
   },
   "outputs": [
    {
     "name": "stdout",
     "output_type": "stream",
     "text": [
      "Количество пропущенных значений в model: 0\n"
     ]
    }
   ],
   "source": [
    "print(\"Количество пропущенных значений в model:\", df_clean.model.isna().sum())  # Допишите код"
   ]
  },
  {
   "cell_type": "markdown",
   "id": "7b18d51a",
   "metadata": {
    "ExecuteTime": {
     "end_time": "2022-01-29T23:59:37.851299Z",
     "start_time": "2022-01-29T23:59:37.835225Z"
    },
    "id": "7b18d51a"
   },
   "source": [
    "### Задача 5. Обработка пропусков в статусе автомобиля\n",
    "\n",
    "1. Выведите количество значений для статуса автомобиля, включая пропущенные значения. Обратите внимание на количество пропущенных значений.\n"
   ]
  },
  {
   "cell_type": "code",
   "execution_count": 260,
   "id": "0e35ec5d",
   "metadata": {
    "id": "0e35ec5d"
   },
   "outputs": [
    {
     "data": {
      "text/plain": [
       "title_status\n",
       "clean         9423\n",
       "rebuilt        171\n",
       "NaN            164\n",
       "salvage         91\n",
       "lien            35\n",
       "missing         16\n",
       "parts only       2\n",
       "Name: count, dtype: int64"
      ]
     },
     "execution_count": 260,
     "metadata": {},
     "output_type": "execute_result"
    }
   ],
   "source": [
    "df.title_status.value_counts(dropna=False)"
   ]
  },
  {
   "cell_type": "markdown",
   "id": "cb04e35d",
   "metadata": {
    "id": "cb04e35d"
   },
   "source": [
    "2. Выведите описательные статистики для модели автомобиля.\n",
    "\n"
   ]
  },
  {
   "cell_type": "code",
   "execution_count": 261,
   "id": "f1b5bdaf",
   "metadata": {
    "id": "f1b5bdaf"
   },
   "outputs": [
    {
     "data": {
      "text/plain": [
       "count      9738\n",
       "unique        6\n",
       "top       clean\n",
       "freq       9423\n",
       "Name: title_status, dtype: object"
      ]
     },
     "execution_count": 261,
     "metadata": {},
     "output_type": "execute_result"
    }
   ],
   "source": [
    "df.title_status.describe()"
   ]
  },
  {
   "cell_type": "markdown",
   "id": "ae924298",
   "metadata": {
    "id": "ae924298"
   },
   "source": [
    "3. Выведите записи, в которых статус автомобиля не заполнен. Посмотрите на данные и подумайте, какую стратегию обработки значений можно применить.\n"
   ]
  },
  {
   "cell_type": "code",
   "execution_count": 262,
   "id": "45d70a32",
   "metadata": {
    "ExecuteTime": {
     "end_time": "2022-01-30T00:01:43.737968Z",
     "start_time": "2022-01-30T00:01:43.735051Z"
    },
    "id": "45d70a32"
   },
   "outputs": [
    {
     "data": {
      "text/html": [
       "<div>\n",
       "<style scoped>\n",
       "    .dataframe tbody tr th:only-of-type {\n",
       "        vertical-align: middle;\n",
       "    }\n",
       "\n",
       "    .dataframe tbody tr th {\n",
       "        vertical-align: top;\n",
       "    }\n",
       "\n",
       "    .dataframe thead th {\n",
       "        text-align: right;\n",
       "    }\n",
       "</style>\n",
       "<table border=\"1\" class=\"dataframe\">\n",
       "  <thead>\n",
       "    <tr style=\"text-align: right;\">\n",
       "      <th></th>\n",
       "      <th>id</th>\n",
       "      <th>url</th>\n",
       "      <th>region</th>\n",
       "      <th>region_url</th>\n",
       "      <th>price</th>\n",
       "      <th>year</th>\n",
       "      <th>manufacturer</th>\n",
       "      <th>model</th>\n",
       "      <th>fuel</th>\n",
       "      <th>odometer</th>\n",
       "      <th>title_status</th>\n",
       "      <th>transmission</th>\n",
       "      <th>image_url</th>\n",
       "      <th>description</th>\n",
       "      <th>state</th>\n",
       "      <th>lat</th>\n",
       "      <th>long</th>\n",
       "      <th>posting_date</th>\n",
       "      <th>price_category</th>\n",
       "      <th>date</th>\n",
       "    </tr>\n",
       "  </thead>\n",
       "  <tbody>\n",
       "    <tr>\n",
       "      <th>11</th>\n",
       "      <td>7316540706</td>\n",
       "      <td>https://cincinnati.craigslist.org/ctd/d/fairfi...</td>\n",
       "      <td>cincinnati</td>\n",
       "      <td>https://cincinnati.craigslist.org</td>\n",
       "      <td>4995</td>\n",
       "      <td>2012.0</td>\n",
       "      <td>fiat</td>\n",
       "      <td>500 pop</td>\n",
       "      <td>gas</td>\n",
       "      <td>59242</td>\n",
       "      <td>NaN</td>\n",
       "      <td>manual</td>\n",
       "      <td>https://images.craigslist.org/00Z0Z_jbUmVcYlwR...</td>\n",
       "      <td>2012 Fiat 500 Pop FOR ONLY $102/mo!59,242 mi. ...</td>\n",
       "      <td>oh</td>\n",
       "      <td>39.297045</td>\n",
       "      <td>-84.563243</td>\n",
       "      <td>2021-05-03T21:03:32-0400</td>\n",
       "      <td>low</td>\n",
       "      <td>2021-05-04 01:03:32+00:00</td>\n",
       "    </tr>\n",
       "    <tr>\n",
       "      <th>185</th>\n",
       "      <td>7313570594</td>\n",
       "      <td>https://orangecounty.craigslist.org/ctd/d/coro...</td>\n",
       "      <td>orange county</td>\n",
       "      <td>https://orangecounty.craigslist.org</td>\n",
       "      <td>17900</td>\n",
       "      <td>2013.0</td>\n",
       "      <td>ram</td>\n",
       "      <td>1500 tradesman quad cab</td>\n",
       "      <td>gas</td>\n",
       "      <td>145499</td>\n",
       "      <td>NaN</td>\n",
       "      <td>automatic</td>\n",
       "      <td>https://images.craigslist.org/00H0H_1JFMPCYyW8...</td>\n",
       "      <td>2013 Ram 1500 Tradesman Quad Cab PRICED TO SEL...</td>\n",
       "      <td>ca</td>\n",
       "      <td>33.873436</td>\n",
       "      <td>-117.542806</td>\n",
       "      <td>2021-04-27T15:03:47-0700</td>\n",
       "      <td>medium</td>\n",
       "      <td>2021-04-27 22:03:47+00:00</td>\n",
       "    </tr>\n",
       "    <tr>\n",
       "      <th>243</th>\n",
       "      <td>7315211652</td>\n",
       "      <td>https://ocala.craigslist.org/ctd/d/riverview-2...</td>\n",
       "      <td>ocala</td>\n",
       "      <td>https://ocala.craigslist.org</td>\n",
       "      <td>40990</td>\n",
       "      <td>2019.0</td>\n",
       "      <td>toyota</td>\n",
       "      <td>sienna xle</td>\n",
       "      <td>gas</td>\n",
       "      <td>3700</td>\n",
       "      <td>NaN</td>\n",
       "      <td>automatic</td>\n",
       "      <td>https://images.craigslist.org/01111_grKNF8GrXz...</td>\n",
       "      <td>2019 Toyota Sienna - Wheelchair Accessible Han...</td>\n",
       "      <td>fl</td>\n",
       "      <td>27.849760</td>\n",
       "      <td>-82.364950</td>\n",
       "      <td>2021-05-01T06:35:56-0400</td>\n",
       "      <td>high</td>\n",
       "      <td>2021-05-01 10:35:56+00:00</td>\n",
       "    </tr>\n",
       "    <tr>\n",
       "      <th>284</th>\n",
       "      <td>7306702976</td>\n",
       "      <td>https://toledo.craigslist.org/ctd/d/chelsea-73...</td>\n",
       "      <td>toledo</td>\n",
       "      <td>https://toledo.craigslist.org</td>\n",
       "      <td>4592</td>\n",
       "      <td>2003.0</td>\n",
       "      <td>chevrolet</td>\n",
       "      <td>avalanche 1500</td>\n",
       "      <td>gas</td>\n",
       "      <td>268691</td>\n",
       "      <td>NaN</td>\n",
       "      <td>automatic</td>\n",
       "      <td>https://images.craigslist.org/00808_1IOMJuA4GL...</td>\n",
       "      <td>$73/mo - 2003 Chevrolet Avalanche 1500 BaseCre...</td>\n",
       "      <td>oh</td>\n",
       "      <td>42.300673</td>\n",
       "      <td>-84.024108</td>\n",
       "      <td>2021-04-14T12:03:01-0400</td>\n",
       "      <td>low</td>\n",
       "      <td>2021-04-14 16:03:01+00:00</td>\n",
       "    </tr>\n",
       "    <tr>\n",
       "      <th>310</th>\n",
       "      <td>7307609203</td>\n",
       "      <td>https://roseburg.craigslist.org/ctd/d/eugene-2...</td>\n",
       "      <td>roseburg</td>\n",
       "      <td>https://roseburg.craigslist.org</td>\n",
       "      <td>18450</td>\n",
       "      <td>2017.0</td>\n",
       "      <td>ford</td>\n",
       "      <td>mustang</td>\n",
       "      <td>gas</td>\n",
       "      <td>66049</td>\n",
       "      <td>NaN</td>\n",
       "      <td>automatic</td>\n",
       "      <td>https://images.craigslist.org/00505_4apF36sLbP...</td>\n",
       "      <td>2017 Ford MUSTANG - $18,450 \\tMayberry Motors ...</td>\n",
       "      <td>or</td>\n",
       "      <td>44.058499</td>\n",
       "      <td>-123.106176</td>\n",
       "      <td>2021-04-16T04:06:29-0700</td>\n",
       "      <td>medium</td>\n",
       "      <td>2021-04-16 11:06:29+00:00</td>\n",
       "    </tr>\n",
       "    <tr>\n",
       "      <th>...</th>\n",
       "      <td>...</td>\n",
       "      <td>...</td>\n",
       "      <td>...</td>\n",
       "      <td>...</td>\n",
       "      <td>...</td>\n",
       "      <td>...</td>\n",
       "      <td>...</td>\n",
       "      <td>...</td>\n",
       "      <td>...</td>\n",
       "      <td>...</td>\n",
       "      <td>...</td>\n",
       "      <td>...</td>\n",
       "      <td>...</td>\n",
       "      <td>...</td>\n",
       "      <td>...</td>\n",
       "      <td>...</td>\n",
       "      <td>...</td>\n",
       "      <td>...</td>\n",
       "      <td>...</td>\n",
       "      <td>...</td>\n",
       "    </tr>\n",
       "    <tr>\n",
       "      <th>9643</th>\n",
       "      <td>7301707830</td>\n",
       "      <td>https://tricities.craigslist.org/ctd/d/bristol...</td>\n",
       "      <td>tri-cities</td>\n",
       "      <td>https://tricities.craigslist.org</td>\n",
       "      <td>8995</td>\n",
       "      <td>2013.0</td>\n",
       "      <td>honda</td>\n",
       "      <td>odyssey</td>\n",
       "      <td>gas</td>\n",
       "      <td>203112</td>\n",
       "      <td>NaN</td>\n",
       "      <td>automatic</td>\n",
       "      <td>https://images.craigslist.org/00u0u_bawW7HN8xW...</td>\n",
       "      <td>2013 *Honda* *Odyssey* 5dr EX Van FWD - $8,995...</td>\n",
       "      <td>tn</td>\n",
       "      <td>36.541821</td>\n",
       "      <td>-82.234645</td>\n",
       "      <td>2021-04-04T13:12:27-0400</td>\n",
       "      <td>low</td>\n",
       "      <td>2021-04-04 17:12:27+00:00</td>\n",
       "    </tr>\n",
       "    <tr>\n",
       "      <th>9708</th>\n",
       "      <td>7313949726</td>\n",
       "      <td>https://harrisburg.craigslist.org/ctd/d/brockp...</td>\n",
       "      <td>harrisburg</td>\n",
       "      <td>https://harrisburg.craigslist.org</td>\n",
       "      <td>8900</td>\n",
       "      <td>2012.0</td>\n",
       "      <td>honda</td>\n",
       "      <td>accord</td>\n",
       "      <td>NaN</td>\n",
       "      <td>95674</td>\n",
       "      <td>NaN</td>\n",
       "      <td>other</td>\n",
       "      <td>https://images.craigslist.org/01212_dsfYRNhxfd...</td>\n",
       "      <td>Car Starz Call Sales at 717-401-4221 2012 Hond...</td>\n",
       "      <td>pa</td>\n",
       "      <td>41.261540</td>\n",
       "      <td>-78.704520</td>\n",
       "      <td>2021-04-28T14:25:32-0400</td>\n",
       "      <td>low</td>\n",
       "      <td>2021-04-28 18:25:32+00:00</td>\n",
       "    </tr>\n",
       "    <tr>\n",
       "      <th>9743</th>\n",
       "      <td>7314987181</td>\n",
       "      <td>https://nashville.craigslist.org/ctd/d/nashvil...</td>\n",
       "      <td>nashville</td>\n",
       "      <td>https://nashville.craigslist.org</td>\n",
       "      <td>20900</td>\n",
       "      <td>2014.0</td>\n",
       "      <td>lexus</td>\n",
       "      <td>rx 350</td>\n",
       "      <td>gas</td>\n",
       "      <td>70800</td>\n",
       "      <td>NaN</td>\n",
       "      <td>automatic</td>\n",
       "      <td>https://images.craigslist.org/00Q0Q_cGablAkoYV...</td>\n",
       "      <td>2014 *Lexus* *RX 350* 2014 LEXUS RX 350 SUV 1-...</td>\n",
       "      <td>tn</td>\n",
       "      <td>36.138022</td>\n",
       "      <td>-86.732261</td>\n",
       "      <td>2021-04-30T15:00:48-0500</td>\n",
       "      <td>medium</td>\n",
       "      <td>2021-04-30 20:00:48+00:00</td>\n",
       "    </tr>\n",
       "    <tr>\n",
       "      <th>9759</th>\n",
       "      <td>7309717260</td>\n",
       "      <td>https://savannah.craigslist.org/ctd/d/jacksonv...</td>\n",
       "      <td>savannah / hinesville</td>\n",
       "      <td>https://savannah.craigslist.org</td>\n",
       "      <td>11495</td>\n",
       "      <td>2006.0</td>\n",
       "      <td>lexus</td>\n",
       "      <td>gx 470</td>\n",
       "      <td>gas</td>\n",
       "      <td>242000</td>\n",
       "      <td>NaN</td>\n",
       "      <td>automatic</td>\n",
       "      <td>https://images.craigslist.org/00s0s_8xg4gw6aAg...</td>\n",
       "      <td>2006 *Lexus* *GX 470* 4dr SUV 4WD - $11,495By ...</td>\n",
       "      <td>ga</td>\n",
       "      <td>30.513566</td>\n",
       "      <td>-81.621875</td>\n",
       "      <td>2021-04-20T08:01:49-0400</td>\n",
       "      <td>medium</td>\n",
       "      <td>2021-04-20 12:01:49+00:00</td>\n",
       "    </tr>\n",
       "    <tr>\n",
       "      <th>9883</th>\n",
       "      <td>7315557731</td>\n",
       "      <td>https://minneapolis.craigslist.org/csw/ctd/d/d...</td>\n",
       "      <td>minneapolis / st paul</td>\n",
       "      <td>https://minneapolis.craigslist.org</td>\n",
       "      <td>38943</td>\n",
       "      <td>2008.0</td>\n",
       "      <td>ford</td>\n",
       "      <td>f750 super duty - 55ft</td>\n",
       "      <td>diesel</td>\n",
       "      <td>81214</td>\n",
       "      <td>NaN</td>\n",
       "      <td>automatic</td>\n",
       "      <td>https://images.craigslist.org/00y0y_5jr8fQlu7e...</td>\n",
       "      <td>2008 Ford F750 F 750 F-750 Super Duty 55ft 55 ...</td>\n",
       "      <td>mn</td>\n",
       "      <td>45.082884</td>\n",
       "      <td>-94.334760</td>\n",
       "      <td>2021-05-01T18:03:06-0500</td>\n",
       "      <td>high</td>\n",
       "      <td>2021-05-01 23:03:06+00:00</td>\n",
       "    </tr>\n",
       "  </tbody>\n",
       "</table>\n",
       "<p>164 rows × 20 columns</p>\n",
       "</div>"
      ],
      "text/plain": [
       "              id                                                url  \\\n",
       "11    7316540706  https://cincinnati.craigslist.org/ctd/d/fairfi...   \n",
       "185   7313570594  https://orangecounty.craigslist.org/ctd/d/coro...   \n",
       "243   7315211652  https://ocala.craigslist.org/ctd/d/riverview-2...   \n",
       "284   7306702976  https://toledo.craigslist.org/ctd/d/chelsea-73...   \n",
       "310   7307609203  https://roseburg.craigslist.org/ctd/d/eugene-2...   \n",
       "...          ...                                                ...   \n",
       "9643  7301707830  https://tricities.craigslist.org/ctd/d/bristol...   \n",
       "9708  7313949726  https://harrisburg.craigslist.org/ctd/d/brockp...   \n",
       "9743  7314987181  https://nashville.craigslist.org/ctd/d/nashvil...   \n",
       "9759  7309717260  https://savannah.craigslist.org/ctd/d/jacksonv...   \n",
       "9883  7315557731  https://minneapolis.craigslist.org/csw/ctd/d/d...   \n",
       "\n",
       "                     region                           region_url  price  \\\n",
       "11               cincinnati    https://cincinnati.craigslist.org   4995   \n",
       "185           orange county  https://orangecounty.craigslist.org  17900   \n",
       "243                   ocala         https://ocala.craigslist.org  40990   \n",
       "284                  toledo        https://toledo.craigslist.org   4592   \n",
       "310                roseburg      https://roseburg.craigslist.org  18450   \n",
       "...                     ...                                  ...    ...   \n",
       "9643             tri-cities     https://tricities.craigslist.org   8995   \n",
       "9708             harrisburg    https://harrisburg.craigslist.org   8900   \n",
       "9743              nashville     https://nashville.craigslist.org  20900   \n",
       "9759  savannah / hinesville      https://savannah.craigslist.org  11495   \n",
       "9883  minneapolis / st paul   https://minneapolis.craigslist.org  38943   \n",
       "\n",
       "        year manufacturer                    model    fuel  odometer  \\\n",
       "11    2012.0         fiat                  500 pop     gas     59242   \n",
       "185   2013.0          ram  1500 tradesman quad cab     gas    145499   \n",
       "243   2019.0       toyota               sienna xle     gas      3700   \n",
       "284   2003.0    chevrolet           avalanche 1500     gas    268691   \n",
       "310   2017.0         ford                  mustang     gas     66049   \n",
       "...      ...          ...                      ...     ...       ...   \n",
       "9643  2013.0        honda                  odyssey     gas    203112   \n",
       "9708  2012.0        honda                   accord     NaN     95674   \n",
       "9743  2014.0        lexus                   rx 350     gas     70800   \n",
       "9759  2006.0        lexus                   gx 470     gas    242000   \n",
       "9883  2008.0         ford   f750 super duty - 55ft  diesel     81214   \n",
       "\n",
       "     title_status transmission  \\\n",
       "11            NaN       manual   \n",
       "185           NaN    automatic   \n",
       "243           NaN    automatic   \n",
       "284           NaN    automatic   \n",
       "310           NaN    automatic   \n",
       "...           ...          ...   \n",
       "9643          NaN    automatic   \n",
       "9708          NaN        other   \n",
       "9743          NaN    automatic   \n",
       "9759          NaN    automatic   \n",
       "9883          NaN    automatic   \n",
       "\n",
       "                                              image_url  \\\n",
       "11    https://images.craigslist.org/00Z0Z_jbUmVcYlwR...   \n",
       "185   https://images.craigslist.org/00H0H_1JFMPCYyW8...   \n",
       "243   https://images.craigslist.org/01111_grKNF8GrXz...   \n",
       "284   https://images.craigslist.org/00808_1IOMJuA4GL...   \n",
       "310   https://images.craigslist.org/00505_4apF36sLbP...   \n",
       "...                                                 ...   \n",
       "9643  https://images.craigslist.org/00u0u_bawW7HN8xW...   \n",
       "9708  https://images.craigslist.org/01212_dsfYRNhxfd...   \n",
       "9743  https://images.craigslist.org/00Q0Q_cGablAkoYV...   \n",
       "9759  https://images.craigslist.org/00s0s_8xg4gw6aAg...   \n",
       "9883  https://images.craigslist.org/00y0y_5jr8fQlu7e...   \n",
       "\n",
       "                                            description state        lat  \\\n",
       "11    2012 Fiat 500 Pop FOR ONLY $102/mo!59,242 mi. ...    oh  39.297045   \n",
       "185   2013 Ram 1500 Tradesman Quad Cab PRICED TO SEL...    ca  33.873436   \n",
       "243   2019 Toyota Sienna - Wheelchair Accessible Han...    fl  27.849760   \n",
       "284   $73/mo - 2003 Chevrolet Avalanche 1500 BaseCre...    oh  42.300673   \n",
       "310   2017 Ford MUSTANG - $18,450 \\tMayberry Motors ...    or  44.058499   \n",
       "...                                                 ...   ...        ...   \n",
       "9643  2013 *Honda* *Odyssey* 5dr EX Van FWD - $8,995...    tn  36.541821   \n",
       "9708  Car Starz Call Sales at 717-401-4221 2012 Hond...    pa  41.261540   \n",
       "9743  2014 *Lexus* *RX 350* 2014 LEXUS RX 350 SUV 1-...    tn  36.138022   \n",
       "9759  2006 *Lexus* *GX 470* 4dr SUV 4WD - $11,495By ...    ga  30.513566   \n",
       "9883  2008 Ford F750 F 750 F-750 Super Duty 55ft 55 ...    mn  45.082884   \n",
       "\n",
       "            long              posting_date price_category  \\\n",
       "11    -84.563243  2021-05-03T21:03:32-0400            low   \n",
       "185  -117.542806  2021-04-27T15:03:47-0700         medium   \n",
       "243   -82.364950  2021-05-01T06:35:56-0400           high   \n",
       "284   -84.024108  2021-04-14T12:03:01-0400            low   \n",
       "310  -123.106176  2021-04-16T04:06:29-0700         medium   \n",
       "...          ...                       ...            ...   \n",
       "9643  -82.234645  2021-04-04T13:12:27-0400            low   \n",
       "9708  -78.704520  2021-04-28T14:25:32-0400            low   \n",
       "9743  -86.732261  2021-04-30T15:00:48-0500         medium   \n",
       "9759  -81.621875  2021-04-20T08:01:49-0400         medium   \n",
       "9883  -94.334760  2021-05-01T18:03:06-0500           high   \n",
       "\n",
       "                           date  \n",
       "11    2021-05-04 01:03:32+00:00  \n",
       "185   2021-04-27 22:03:47+00:00  \n",
       "243   2021-05-01 10:35:56+00:00  \n",
       "284   2021-04-14 16:03:01+00:00  \n",
       "310   2021-04-16 11:06:29+00:00  \n",
       "...                         ...  \n",
       "9643  2021-04-04 17:12:27+00:00  \n",
       "9708  2021-04-28 18:25:32+00:00  \n",
       "9743  2021-04-30 20:00:48+00:00  \n",
       "9759  2021-04-20 12:01:49+00:00  \n",
       "9883  2021-05-01 23:03:06+00:00  \n",
       "\n",
       "[164 rows x 20 columns]"
      ]
     },
     "execution_count": 262,
     "metadata": {},
     "output_type": "execute_result"
    }
   ],
   "source": [
    "df[df.title_status.isna()]"
   ]
  },
  {
   "cell_type": "markdown",
   "id": "d36289b1",
   "metadata": {
    "id": "d36289b1"
   },
   "source": [
    "4. Обработайте пропуски, заполнив незаполненные значения статуса автомобиля самым популярным значением, и сохраните изменения. Самое популярное значение передайте не в виде строки, а получите моду.\n"
   ]
  },
  {
   "cell_type": "code",
   "execution_count": 263,
   "id": "10883943",
   "metadata": {
    "id": "10883943"
   },
   "outputs": [],
   "source": [
    "df_clean.title_status = df_clean.title_status.fillna(df_clean.title_status.mode()[0])"
   ]
  },
  {
   "cell_type": "markdown",
   "id": "939969e6",
   "metadata": {
    "id": "939969e6"
   },
   "source": [
    "5. Выведите для обновлённого датафрейма количество пропущенных значений для статуса автомобиля.\n"
   ]
  },
  {
   "cell_type": "code",
   "execution_count": 264,
   "id": "c3139354",
   "metadata": {
    "id": "c3139354"
   },
   "outputs": [
    {
     "name": "stdout",
     "output_type": "stream",
     "text": [
      "Количество пропущенных значений в title_status: 0\n"
     ]
    }
   ],
   "source": [
    "print(\"Количество пропущенных значений в title_status:\", df_clean.title_status.isna().sum())  # Допишите код"
   ]
  },
  {
   "cell_type": "markdown",
   "id": "b9ed8462",
   "metadata": {
    "id": "b9ed8462"
   },
   "source": [
    "6. Ещё раз выведите количество полностью заполненных объектов и их процент из всей выборки. После обработки всех пропусков можно переходить к следующему этапу."
   ]
  },
  {
   "cell_type": "code",
   "execution_count": 265,
   "id": "6fedeb3c",
   "metadata": {
    "id": "6fedeb3c"
   },
   "outputs": [
    {
     "name": "stdout",
     "output_type": "stream",
     "text": [
      "Количество полностью заполненных объектов из всей выборки: 9868\n",
      "Процент полностью заполненных объектов из всей выборки: 100.0\n"
     ]
    }
   ],
   "source": [
    "print_useful_rows_info(df_clean)"
   ]
  },
  {
   "cell_type": "markdown",
   "id": "407df76a",
   "metadata": {
    "ExecuteTime": {
     "end_time": "2022-01-30T00:13:50.405251Z",
     "start_time": "2022-01-30T00:13:50.398978Z"
    },
    "id": "407df76a"
   },
   "source": [
    "### Задача 6. Преобразование типа данных в годе выпуска автомобиля\n",
    "1.  Выведите информацию о датафрейме и обратите внимание на типы данных.\n"
   ]
  },
  {
   "cell_type": "code",
   "execution_count": 266,
   "id": "f3d4d751",
   "metadata": {
    "id": "f3d4d751"
   },
   "outputs": [
    {
     "name": "stdout",
     "output_type": "stream",
     "text": [
      "<class 'pandas.core.frame.DataFrame'>\n",
      "Index: 9868 entries, 0 to 9901\n",
      "Data columns (total 20 columns):\n",
      " #   Column          Non-Null Count  Dtype  \n",
      "---  ------          --------------  -----  \n",
      " 0   id              9868 non-null   int64  \n",
      " 1   url             9868 non-null   object \n",
      " 2   region          9868 non-null   object \n",
      " 3   region_url      9868 non-null   object \n",
      " 4   price           9868 non-null   int64  \n",
      " 5   year            9868 non-null   float64\n",
      " 6   manufacturer    9868 non-null   object \n",
      " 7   model           9868 non-null   object \n",
      " 8   fuel            9868 non-null   object \n",
      " 9   odometer        9868 non-null   int64  \n",
      " 10  title_status    9868 non-null   object \n",
      " 11  transmission    9868 non-null   object \n",
      " 12  image_url       9868 non-null   object \n",
      " 13  description     9868 non-null   object \n",
      " 14  state           9868 non-null   object \n",
      " 15  lat             9868 non-null   float64\n",
      " 16  long            9868 non-null   float64\n",
      " 17  posting_date    9868 non-null   object \n",
      " 18  price_category  9868 non-null   object \n",
      " 19  date            9868 non-null   object \n",
      "dtypes: float64(3), int64(3), object(14)\n",
      "memory usage: 1.6+ MB\n"
     ]
    }
   ],
   "source": [
    "df_clean.info()"
   ]
  },
  {
   "cell_type": "markdown",
   "id": "71561e8d",
   "metadata": {
    "id": "71561e8d"
   },
   "source": [
    "2. Выведите описательные статистики для года выпуска автомобиля. Обратите внимание на тип данных.\n",
    "\n"
   ]
  },
  {
   "cell_type": "code",
   "execution_count": 267,
   "id": "29919539",
   "metadata": {
    "id": "29919539"
   },
   "outputs": [
    {
     "data": {
      "text/plain": [
       "count    9868.000000\n",
       "mean     2010.909708\n",
       "std         9.705988\n",
       "min      1915.000000\n",
       "25%      2008.000000\n",
       "50%      2013.000000\n",
       "75%      2017.000000\n",
       "max      2022.000000\n",
       "Name: year, dtype: float64"
      ]
     },
     "execution_count": 267,
     "metadata": {},
     "output_type": "execute_result"
    }
   ],
   "source": [
    "df_clean.year.describe()"
   ]
  },
  {
   "cell_type": "markdown",
   "id": "1efd4a88",
   "metadata": {
    "id": "1efd4a88"
   },
   "source": [
    "3. Измените тип данных для года выпуска на более подходящий целочисленный тип и выведите получившийся тип данных только для года выпуска."
   ]
  },
  {
   "cell_type": "code",
   "execution_count": 268,
   "id": "edf757e9",
   "metadata": {
    "id": "edf757e9"
   },
   "outputs": [
    {
     "data": {
      "text/plain": [
       "dtype('int32')"
      ]
     },
     "execution_count": 268,
     "metadata": {},
     "output_type": "execute_result"
    }
   ],
   "source": [
    "df_clean.year = df_clean.year.astype('int')\n",
    "df_clean.year.dtype"
   ]
  },
  {
   "cell_type": "markdown",
   "id": "7c27a6d1",
   "metadata": {
    "id": "7c27a6d1"
   },
   "source": [
    "### Задача 7. Преобразование типа данных в категориальных переменных\n",
    "\n",
    "1. Выведите тип данных для типа топлива автомобиля.\n"
   ]
  },
  {
   "cell_type": "code",
   "execution_count": 269,
   "id": "1eb44d15",
   "metadata": {
    "id": "1eb44d15"
   },
   "outputs": [
    {
     "data": {
      "text/plain": [
       "dtype('O')"
      ]
     },
     "execution_count": 269,
     "metadata": {},
     "output_type": "execute_result"
    }
   ],
   "source": [
    "df_clean.fuel.dtype"
   ]
  },
  {
   "cell_type": "markdown",
   "id": "a6b63b6b",
   "metadata": {
    "id": "a6b63b6b"
   },
   "source": [
    "2. Категориальным переменным можно задавать специальный тип данных `category`. Подробнее об этом можно прочитать в [документации](https://pandas.pydata.org/pandas-docs/stable/user_guide/categorical.html). Укажите для типа топлива тип данных `category`, сохраните изменения в переменную `series` и выведите её.\n"
   ]
  },
  {
   "cell_type": "code",
   "execution_count": 270,
   "id": "c5d4ba82",
   "metadata": {
    "id": "c5d4ba82"
   },
   "outputs": [
    {
     "data": {
      "text/plain": [
       "0       diesel\n",
       "1          NaN\n",
       "2          gas\n",
       "3          gas\n",
       "4          gas\n",
       "         ...  \n",
       "9897       gas\n",
       "9898       gas\n",
       "9899       gas\n",
       "9900    hybrid\n",
       "9901       gas\n",
       "Name: fuel, Length: 9902, dtype: category\n",
       "Categories (5, object): ['diesel', 'electric', 'gas', 'hybrid', 'other']"
      ]
     },
     "execution_count": 270,
     "metadata": {},
     "output_type": "execute_result"
    }
   ],
   "source": [
    "fuel = df.fuel.astype(\"category\")\n",
    "fuel"
   ]
  },
  {
   "cell_type": "markdown",
   "id": "18649b60",
   "metadata": {
    "id": "18649b60"
   },
   "source": [
    "3. Выведите тип данных для серии. Обратите внимание на структуру вывода."
   ]
  },
  {
   "cell_type": "code",
   "execution_count": 271,
   "id": "2c6ccc89",
   "metadata": {
    "id": "2c6ccc89"
   },
   "outputs": [
    {
     "data": {
      "text/plain": [
       "CategoricalDtype(categories=['diesel', 'electric', 'gas', 'hybrid', 'other'], ordered=False, categories_dtype=object)"
      ]
     },
     "execution_count": 271,
     "metadata": {},
     "output_type": "execute_result"
    }
   ],
   "source": [
    "fuel.dtype\n"
   ]
  },
  {
   "cell_type": "markdown",
   "id": "7785ab5a",
   "metadata": {
    "id": "7785ab5a"
   },
   "source": [
    "4. Выведите первые две категории, используя вывод типа данных выше."
   ]
  },
  {
   "cell_type": "code",
   "execution_count": 272,
   "id": "1dbe47fa",
   "metadata": {
    "ExecuteTime": {
     "end_time": "2022-01-30T00:38:20.120004Z",
     "start_time": "2022-01-30T00:38:20.116934Z"
    },
    "id": "1dbe47fa"
   },
   "outputs": [
    {
     "data": {
      "text/plain": [
       "0    diesel\n",
       "1       NaN\n",
       "Name: fuel, dtype: category\n",
       "Categories (5, object): ['diesel', 'electric', 'gas', 'hybrid', 'other']"
      ]
     },
     "execution_count": 272,
     "metadata": {},
     "output_type": "execute_result"
    }
   ],
   "source": [
    "fuel[:2]"
   ]
  },
  {
   "cell_type": "markdown",
   "id": "7ca0b6ac",
   "metadata": {
    "ExecuteTime": {
     "end_time": "2022-01-30T00:39:15.501238Z",
     "start_time": "2022-01-30T00:39:15.492712Z"
    },
    "id": "7ca0b6ac"
   },
   "source": [
    "### Задача 8. Выбросы в годе выпуска\n",
    "\n",
    "1. Выведите описательные статистики для года выпуска автомобиля. Обратите внимание на пограничные значения, на квартили.\n",
    "\n"
   ]
  },
  {
   "cell_type": "code",
   "execution_count": 273,
   "id": "4eb87cc4",
   "metadata": {
    "id": "4eb87cc4"
   },
   "outputs": [
    {
     "data": {
      "text/plain": [
       "count    9868.000000\n",
       "mean     2010.909708\n",
       "std         9.705988\n",
       "min      1915.000000\n",
       "25%      2008.000000\n",
       "50%      2013.000000\n",
       "75%      2017.000000\n",
       "max      2022.000000\n",
       "Name: year, dtype: float64"
      ]
     },
     "execution_count": 273,
     "metadata": {},
     "output_type": "execute_result"
    }
   ],
   "source": [
    "df.year.describe()"
   ]
  },
  {
   "cell_type": "markdown",
   "id": "ea7d4621",
   "metadata": {
    "id": "ea7d4621"
   },
   "source": [
    "2. Выведите границы для нормальных значений года выпуска, используя интерквартильный размах. Воспользуйтесь материалами из видео. Посмотрите, входят ли минимальное и максимальное значения в интервал между полученными границами.\n"
   ]
  },
  {
   "cell_type": "code",
   "execution_count": 274,
   "id": "5332e1b7",
   "metadata": {
    "ExecuteTime": {
     "end_time": "2022-01-30T19:40:37.156318Z",
     "start_time": "2022-01-30T19:40:37.148044Z"
    },
    "id": "5332e1b7"
   },
   "outputs": [
    {
     "data": {
      "text/plain": [
       "(1994.5, 2030.5)"
      ]
     },
     "execution_count": 274,
     "metadata": {},
     "output_type": "execute_result"
    }
   ],
   "source": [
    "def calculate_outliers(data):\n",
    "    q25 = data.quantile(0.25)\n",
    "    q75 = data.quantile(0.75)\n",
    "    iqr = q75 - q25\n",
    "    boundaries = (q25 - 1.5 * iqr, q75 + 1.5 * iqr)\n",
    "    return boundaries\n",
    "boundaries=calculate_outliers(df.year)\n",
    "boundaries"
   ]
  },
  {
   "cell_type": "markdown",
   "id": "35061225",
   "metadata": {
    "id": "35061225"
   },
   "source": [
    "3. Посчитайте и выведите количество выбросов в годе выпуска автомобиля.\n"
   ]
  },
  {
   "cell_type": "code",
   "execution_count": 275,
   "id": "0e994229",
   "metadata": {
    "ExecuteTime": {
     "end_time": "2022-01-30T19:49:50.433110Z",
     "start_time": "2022-01-30T19:49:50.429087Z"
    },
    "id": "0e994229"
   },
   "outputs": [
    {
     "data": {
      "text/plain": [
       "394"
      ]
     },
     "execution_count": 275,
     "metadata": {},
     "output_type": "execute_result"
    }
   ],
   "source": [
    "is_outlier = (df.year<boundaries[0]) | (df.year>boundaries[1])\n",
    "is_outlier.sum()"
   ]
  },
  {
   "cell_type": "markdown",
   "id": "bdd795fd",
   "metadata": {
    "id": "bdd795fd"
   },
   "source": [
    "4. Посчитайте и выведите долю выбросов в годе выпуска автомобиля.\n"
   ]
  },
  {
   "cell_type": "code",
   "execution_count": 276,
   "id": "88ed9939",
   "metadata": {
    "ExecuteTime": {
     "end_time": "2022-01-30T19:53:31.931143Z",
     "start_time": "2022-01-30T19:53:31.919541Z"
    },
    "id": "88ed9939"
   },
   "outputs": [
    {
     "data": {
      "text/plain": [
       "0.0019855211163950274"
      ]
     },
     "execution_count": 276,
     "metadata": {},
     "output_type": "execute_result"
    }
   ],
   "source": [
    "is_outlier.sum() / df.year.sum() * 100"
   ]
  },
  {
   "cell_type": "markdown",
   "id": "766d5606",
   "metadata": {
    "id": "766d5606"
   },
   "source": [
    "5. Выведите записи, в которых год выпуска попадает в выбросы. Посмотрите на данные и подумайте, могут ли эти выбросы описывать особые значения категории цены или других признаков или действительно являются выбросами.\n"
   ]
  },
  {
   "cell_type": "code",
   "execution_count": 277,
   "id": "f4c0956d",
   "metadata": {
    "ExecuteTime": {
     "end_time": "2022-01-30T20:02:12.952212Z",
     "start_time": "2022-01-30T20:02:12.947496Z"
    },
    "id": "f4c0956d"
   },
   "outputs": [
    {
     "data": {
      "text/html": [
       "<div>\n",
       "<style scoped>\n",
       "    .dataframe tbody tr th:only-of-type {\n",
       "        vertical-align: middle;\n",
       "    }\n",
       "\n",
       "    .dataframe tbody tr th {\n",
       "        vertical-align: top;\n",
       "    }\n",
       "\n",
       "    .dataframe thead th {\n",
       "        text-align: right;\n",
       "    }\n",
       "</style>\n",
       "<table border=\"1\" class=\"dataframe\">\n",
       "  <thead>\n",
       "    <tr style=\"text-align: right;\">\n",
       "      <th></th>\n",
       "      <th>id</th>\n",
       "      <th>url</th>\n",
       "      <th>region</th>\n",
       "      <th>region_url</th>\n",
       "      <th>price</th>\n",
       "      <th>year</th>\n",
       "      <th>manufacturer</th>\n",
       "      <th>model</th>\n",
       "      <th>fuel</th>\n",
       "      <th>odometer</th>\n",
       "      <th>title_status</th>\n",
       "      <th>transmission</th>\n",
       "      <th>image_url</th>\n",
       "      <th>description</th>\n",
       "      <th>state</th>\n",
       "      <th>lat</th>\n",
       "      <th>long</th>\n",
       "      <th>posting_date</th>\n",
       "      <th>price_category</th>\n",
       "      <th>date</th>\n",
       "    </tr>\n",
       "  </thead>\n",
       "  <tbody>\n",
       "    <tr>\n",
       "      <th>13</th>\n",
       "      <td>7317089086</td>\n",
       "      <td>https://seattle.craigslist.org/see/ctd/d/portl...</td>\n",
       "      <td>seattle-tacoma</td>\n",
       "      <td>https://seattle.craigslist.org</td>\n",
       "      <td>14995</td>\n",
       "      <td>1994.0</td>\n",
       "      <td>ford</td>\n",
       "      <td>e-series van universal by glaval designer luxu...</td>\n",
       "      <td>gas</td>\n",
       "      <td>156925</td>\n",
       "      <td>clean</td>\n",
       "      <td>automatic</td>\n",
       "      <td>https://images.craigslist.org/00r0r_13JUlXZOMl...</td>\n",
       "      <td>Priced to Sell: $14,9951994 Ford E-Series Van ...</td>\n",
       "      <td>wa</td>\n",
       "      <td>45.391373</td>\n",
       "      <td>-122.613533</td>\n",
       "      <td>2021-05-04T20:22:11-0700</td>\n",
       "      <td>medium</td>\n",
       "      <td>2021-05-05 03:22:11+00:00</td>\n",
       "    </tr>\n",
       "    <tr>\n",
       "      <th>21</th>\n",
       "      <td>7312327909</td>\n",
       "      <td>https://madison.craigslist.org/cto/d/madison-1...</td>\n",
       "      <td>madison</td>\n",
       "      <td>https://madison.craigslist.org</td>\n",
       "      <td>89995</td>\n",
       "      <td>1970.0</td>\n",
       "      <td>other</td>\n",
       "      <td>oldsmobile 442</td>\n",
       "      <td>gas</td>\n",
       "      <td>111111</td>\n",
       "      <td>clean</td>\n",
       "      <td>automatic</td>\n",
       "      <td>https://images.craigslist.org/00S0S_agk7Nol4CO...</td>\n",
       "      <td>1970 Oldsmobile 442 Convertible 442 Indy Pace ...</td>\n",
       "      <td>wi</td>\n",
       "      <td>43.098400</td>\n",
       "      <td>-89.273400</td>\n",
       "      <td>2021-04-25T10:10:43-0500</td>\n",
       "      <td>high</td>\n",
       "      <td>2021-04-25 15:10:43+00:00</td>\n",
       "    </tr>\n",
       "    <tr>\n",
       "      <th>57</th>\n",
       "      <td>7314413105</td>\n",
       "      <td>https://inlandempire.craigslist.org/ctd/d/cost...</td>\n",
       "      <td>inland empire</td>\n",
       "      <td>https://inlandempire.craigslist.org</td>\n",
       "      <td>69888</td>\n",
       "      <td>1948.0</td>\n",
       "      <td>ford</td>\n",
       "      <td>coe</td>\n",
       "      <td>gas</td>\n",
       "      <td>1</td>\n",
       "      <td>clean</td>\n",
       "      <td>automatic</td>\n",
       "      <td>https://images.craigslist.org/00M0M_8jgBCZZuG6...</td>\n",
       "      <td>Awesome Resto-Mod COE Ford Car Hauler. Equippe...</td>\n",
       "      <td>ca</td>\n",
       "      <td>33.680100</td>\n",
       "      <td>-117.908500</td>\n",
       "      <td>2021-04-29T10:49:29-0700</td>\n",
       "      <td>high</td>\n",
       "      <td>2021-04-29 17:49:29+00:00</td>\n",
       "    </tr>\n",
       "    <tr>\n",
       "      <th>66</th>\n",
       "      <td>7310077530</td>\n",
       "      <td>https://hudsonvalley.craigslist.org/cto/d/bloo...</td>\n",
       "      <td>hudson valley</td>\n",
       "      <td>https://hudsonvalley.craigslist.org</td>\n",
       "      <td>5500</td>\n",
       "      <td>1990.0</td>\n",
       "      <td>other</td>\n",
       "      <td>Diahatsu</td>\n",
       "      <td>gas</td>\n",
       "      <td>30000</td>\n",
       "      <td>clean</td>\n",
       "      <td>manual</td>\n",
       "      <td>https://images.craigslist.org/00T0T_a4VRbx40ea...</td>\n",
       "      <td>1991 Daihatsu hijet 5 speed extended cab....im...</td>\n",
       "      <td>ny</td>\n",
       "      <td>41.564400</td>\n",
       "      <td>-74.430400</td>\n",
       "      <td>2021-04-20T18:30:18-0400</td>\n",
       "      <td>low</td>\n",
       "      <td>2021-04-20 22:30:18+00:00</td>\n",
       "    </tr>\n",
       "    <tr>\n",
       "      <th>106</th>\n",
       "      <td>7314527175</td>\n",
       "      <td>https://rapidcity.craigslist.org/ctd/d/sherman...</td>\n",
       "      <td>rapid city / west SD</td>\n",
       "      <td>https://rapidcity.craigslist.org</td>\n",
       "      <td>43500</td>\n",
       "      <td>1968.0</td>\n",
       "      <td>chevrolet</td>\n",
       "      <td>camaro</td>\n",
       "      <td>gas</td>\n",
       "      <td>43320</td>\n",
       "      <td>clean</td>\n",
       "      <td>manual</td>\n",
       "      <td>https://images.craigslist.org/00h0h_2N66LMJBAI...</td>\n",
       "      <td>1968 Chevrolet Camaro Convertible. VIN:124678N...</td>\n",
       "      <td>sd</td>\n",
       "      <td>33.637200</td>\n",
       "      <td>-96.618400</td>\n",
       "      <td>2021-04-29T15:11:01-0600</td>\n",
       "      <td>high</td>\n",
       "      <td>2021-04-29 21:11:01+00:00</td>\n",
       "    </tr>\n",
       "    <tr>\n",
       "      <th>...</th>\n",
       "      <td>...</td>\n",
       "      <td>...</td>\n",
       "      <td>...</td>\n",
       "      <td>...</td>\n",
       "      <td>...</td>\n",
       "      <td>...</td>\n",
       "      <td>...</td>\n",
       "      <td>...</td>\n",
       "      <td>...</td>\n",
       "      <td>...</td>\n",
       "      <td>...</td>\n",
       "      <td>...</td>\n",
       "      <td>...</td>\n",
       "      <td>...</td>\n",
       "      <td>...</td>\n",
       "      <td>...</td>\n",
       "      <td>...</td>\n",
       "      <td>...</td>\n",
       "      <td>...</td>\n",
       "      <td>...</td>\n",
       "    </tr>\n",
       "    <tr>\n",
       "      <th>9789</th>\n",
       "      <td>7313487583</td>\n",
       "      <td>https://springfield.craigslist.org/cto/d/mount...</td>\n",
       "      <td>springfield</td>\n",
       "      <td>https://springfield.craigslist.org</td>\n",
       "      <td>3500</td>\n",
       "      <td>1974.0</td>\n",
       "      <td>jeep</td>\n",
       "      <td>cj5</td>\n",
       "      <td>gas</td>\n",
       "      <td>10000</td>\n",
       "      <td>clean</td>\n",
       "      <td>manual</td>\n",
       "      <td>https://images.craigslist.org/00G0G_cdxzaTaVqa...</td>\n",
       "      <td>1974 Jeep cj5  304 v8  4speed manual trans  Da...</td>\n",
       "      <td>mo</td>\n",
       "      <td>36.331200</td>\n",
       "      <td>-92.375300</td>\n",
       "      <td>2021-04-27T14:30:28-0500</td>\n",
       "      <td>low</td>\n",
       "      <td>2021-04-27 19:30:28+00:00</td>\n",
       "    </tr>\n",
       "    <tr>\n",
       "      <th>9823</th>\n",
       "      <td>7311566144</td>\n",
       "      <td>https://chico.craigslist.org/cto/d/chico-1994-...</td>\n",
       "      <td>chico</td>\n",
       "      <td>https://chico.craigslist.org</td>\n",
       "      <td>16000</td>\n",
       "      <td>1994.0</td>\n",
       "      <td>ford</td>\n",
       "      <td>f250</td>\n",
       "      <td>gas</td>\n",
       "      <td>32500</td>\n",
       "      <td>clean</td>\n",
       "      <td>automatic</td>\n",
       "      <td>https://images.craigslist.org/01010_343KkgTaHo...</td>\n",
       "      <td>Up for sale is this 32,000 original mile Ford ...</td>\n",
       "      <td>ca</td>\n",
       "      <td>39.745800</td>\n",
       "      <td>-121.844400</td>\n",
       "      <td>2021-04-23T13:51:20-0700</td>\n",
       "      <td>medium</td>\n",
       "      <td>2021-04-23 20:51:20+00:00</td>\n",
       "    </tr>\n",
       "    <tr>\n",
       "      <th>9846</th>\n",
       "      <td>7313676859</td>\n",
       "      <td>https://reno.craigslist.org/ctd/d/sherman-1984...</td>\n",
       "      <td>reno / tahoe</td>\n",
       "      <td>https://reno.craigslist.org</td>\n",
       "      <td>26500</td>\n",
       "      <td>1984.0</td>\n",
       "      <td>chevrolet</td>\n",
       "      <td>silverado</td>\n",
       "      <td>gas</td>\n",
       "      <td>38751</td>\n",
       "      <td>clean</td>\n",
       "      <td>automatic</td>\n",
       "      <td>https://images.craigslist.org/00r0r_czXfi4UeJF...</td>\n",
       "      <td>1984 Chevrolet C10 Silverado, short wheelbase ...</td>\n",
       "      <td>ca</td>\n",
       "      <td>33.637200</td>\n",
       "      <td>-96.618400</td>\n",
       "      <td>2021-04-27T19:44:27-0700</td>\n",
       "      <td>high</td>\n",
       "      <td>2021-04-28 02:44:27+00:00</td>\n",
       "    </tr>\n",
       "    <tr>\n",
       "      <th>9874</th>\n",
       "      <td>7316458200</td>\n",
       "      <td>https://portland.craigslist.org/mlt/cto/d/port...</td>\n",
       "      <td>portland</td>\n",
       "      <td>https://portland.craigslist.org</td>\n",
       "      <td>18500</td>\n",
       "      <td>1972.0</td>\n",
       "      <td>chevrolet</td>\n",
       "      <td>NaN</td>\n",
       "      <td>gas</td>\n",
       "      <td>75000</td>\n",
       "      <td>clean</td>\n",
       "      <td>automatic</td>\n",
       "      <td>https://images.craigslist.org/00x0x_7FqS8iHJst...</td>\n",
       "      <td>1972 classic Chevrolet pick up custom  deluxe ...</td>\n",
       "      <td>or</td>\n",
       "      <td>45.494960</td>\n",
       "      <td>-122.666988</td>\n",
       "      <td>2021-05-03T14:58:34-0700</td>\n",
       "      <td>medium</td>\n",
       "      <td>2021-05-03 21:58:34+00:00</td>\n",
       "    </tr>\n",
       "    <tr>\n",
       "      <th>9892</th>\n",
       "      <td>7316175335</td>\n",
       "      <td>https://orangecounty.craigslist.org/cto/d/hunt...</td>\n",
       "      <td>orange county</td>\n",
       "      <td>https://orangecounty.craigslist.org</td>\n",
       "      <td>1575</td>\n",
       "      <td>1988.0</td>\n",
       "      <td>other</td>\n",
       "      <td>1988 Nisan</td>\n",
       "      <td>gas</td>\n",
       "      <td>120000</td>\n",
       "      <td>clean</td>\n",
       "      <td>manual</td>\n",
       "      <td>https://images.craigslist.org/00B0B_5t6BpiGoz9...</td>\n",
       "      <td>Really good running 88 Nissan. Has Sun roof. B...</td>\n",
       "      <td>ca</td>\n",
       "      <td>33.654019</td>\n",
       "      <td>-117.980606</td>\n",
       "      <td>2021-05-03T07:19:18-0700</td>\n",
       "      <td>low</td>\n",
       "      <td>2021-05-03 14:19:18+00:00</td>\n",
       "    </tr>\n",
       "  </tbody>\n",
       "</table>\n",
       "<p>394 rows × 20 columns</p>\n",
       "</div>"
      ],
      "text/plain": [
       "              id                                                url  \\\n",
       "13    7317089086  https://seattle.craigslist.org/see/ctd/d/portl...   \n",
       "21    7312327909  https://madison.craigslist.org/cto/d/madison-1...   \n",
       "57    7314413105  https://inlandempire.craigslist.org/ctd/d/cost...   \n",
       "66    7310077530  https://hudsonvalley.craigslist.org/cto/d/bloo...   \n",
       "106   7314527175  https://rapidcity.craigslist.org/ctd/d/sherman...   \n",
       "...          ...                                                ...   \n",
       "9789  7313487583  https://springfield.craigslist.org/cto/d/mount...   \n",
       "9823  7311566144  https://chico.craigslist.org/cto/d/chico-1994-...   \n",
       "9846  7313676859  https://reno.craigslist.org/ctd/d/sherman-1984...   \n",
       "9874  7316458200  https://portland.craigslist.org/mlt/cto/d/port...   \n",
       "9892  7316175335  https://orangecounty.craigslist.org/cto/d/hunt...   \n",
       "\n",
       "                    region                           region_url  price  \\\n",
       "13          seattle-tacoma       https://seattle.craigslist.org  14995   \n",
       "21                 madison       https://madison.craigslist.org  89995   \n",
       "57           inland empire  https://inlandempire.craigslist.org  69888   \n",
       "66           hudson valley  https://hudsonvalley.craigslist.org   5500   \n",
       "106   rapid city / west SD     https://rapidcity.craigslist.org  43500   \n",
       "...                    ...                                  ...    ...   \n",
       "9789           springfield   https://springfield.craigslist.org   3500   \n",
       "9823                 chico         https://chico.craigslist.org  16000   \n",
       "9846          reno / tahoe          https://reno.craigslist.org  26500   \n",
       "9874              portland      https://portland.craigslist.org  18500   \n",
       "9892         orange county  https://orangecounty.craigslist.org   1575   \n",
       "\n",
       "        year manufacturer                                              model  \\\n",
       "13    1994.0         ford  e-series van universal by glaval designer luxu...   \n",
       "21    1970.0        other                                     oldsmobile 442   \n",
       "57    1948.0         ford                                                coe   \n",
       "66    1990.0        other                                           Diahatsu   \n",
       "106   1968.0    chevrolet                                             camaro   \n",
       "...      ...          ...                                                ...   \n",
       "9789  1974.0         jeep                                                cj5   \n",
       "9823  1994.0         ford                                               f250   \n",
       "9846  1984.0    chevrolet                                          silverado   \n",
       "9874  1972.0    chevrolet                                                NaN   \n",
       "9892  1988.0        other                                         1988 Nisan   \n",
       "\n",
       "     fuel  odometer title_status transmission  \\\n",
       "13    gas    156925        clean    automatic   \n",
       "21    gas    111111        clean    automatic   \n",
       "57    gas         1        clean    automatic   \n",
       "66    gas     30000        clean       manual   \n",
       "106   gas     43320        clean       manual   \n",
       "...   ...       ...          ...          ...   \n",
       "9789  gas     10000        clean       manual   \n",
       "9823  gas     32500        clean    automatic   \n",
       "9846  gas     38751        clean    automatic   \n",
       "9874  gas     75000        clean    automatic   \n",
       "9892  gas    120000        clean       manual   \n",
       "\n",
       "                                              image_url  \\\n",
       "13    https://images.craigslist.org/00r0r_13JUlXZOMl...   \n",
       "21    https://images.craigslist.org/00S0S_agk7Nol4CO...   \n",
       "57    https://images.craigslist.org/00M0M_8jgBCZZuG6...   \n",
       "66    https://images.craigslist.org/00T0T_a4VRbx40ea...   \n",
       "106   https://images.craigslist.org/00h0h_2N66LMJBAI...   \n",
       "...                                                 ...   \n",
       "9789  https://images.craigslist.org/00G0G_cdxzaTaVqa...   \n",
       "9823  https://images.craigslist.org/01010_343KkgTaHo...   \n",
       "9846  https://images.craigslist.org/00r0r_czXfi4UeJF...   \n",
       "9874  https://images.craigslist.org/00x0x_7FqS8iHJst...   \n",
       "9892  https://images.craigslist.org/00B0B_5t6BpiGoz9...   \n",
       "\n",
       "                                            description state        lat  \\\n",
       "13    Priced to Sell: $14,9951994 Ford E-Series Van ...    wa  45.391373   \n",
       "21    1970 Oldsmobile 442 Convertible 442 Indy Pace ...    wi  43.098400   \n",
       "57    Awesome Resto-Mod COE Ford Car Hauler. Equippe...    ca  33.680100   \n",
       "66    1991 Daihatsu hijet 5 speed extended cab....im...    ny  41.564400   \n",
       "106   1968 Chevrolet Camaro Convertible. VIN:124678N...    sd  33.637200   \n",
       "...                                                 ...   ...        ...   \n",
       "9789  1974 Jeep cj5  304 v8  4speed manual trans  Da...    mo  36.331200   \n",
       "9823  Up for sale is this 32,000 original mile Ford ...    ca  39.745800   \n",
       "9846  1984 Chevrolet C10 Silverado, short wheelbase ...    ca  33.637200   \n",
       "9874  1972 classic Chevrolet pick up custom  deluxe ...    or  45.494960   \n",
       "9892  Really good running 88 Nissan. Has Sun roof. B...    ca  33.654019   \n",
       "\n",
       "            long              posting_date price_category  \\\n",
       "13   -122.613533  2021-05-04T20:22:11-0700         medium   \n",
       "21    -89.273400  2021-04-25T10:10:43-0500           high   \n",
       "57   -117.908500  2021-04-29T10:49:29-0700           high   \n",
       "66    -74.430400  2021-04-20T18:30:18-0400            low   \n",
       "106   -96.618400  2021-04-29T15:11:01-0600           high   \n",
       "...          ...                       ...            ...   \n",
       "9789  -92.375300  2021-04-27T14:30:28-0500            low   \n",
       "9823 -121.844400  2021-04-23T13:51:20-0700         medium   \n",
       "9846  -96.618400  2021-04-27T19:44:27-0700           high   \n",
       "9874 -122.666988  2021-05-03T14:58:34-0700         medium   \n",
       "9892 -117.980606  2021-05-03T07:19:18-0700            low   \n",
       "\n",
       "                           date  \n",
       "13    2021-05-05 03:22:11+00:00  \n",
       "21    2021-04-25 15:10:43+00:00  \n",
       "57    2021-04-29 17:49:29+00:00  \n",
       "66    2021-04-20 22:30:18+00:00  \n",
       "106   2021-04-29 21:11:01+00:00  \n",
       "...                         ...  \n",
       "9789  2021-04-27 19:30:28+00:00  \n",
       "9823  2021-04-23 20:51:20+00:00  \n",
       "9846  2021-04-28 02:44:27+00:00  \n",
       "9874  2021-05-03 21:58:34+00:00  \n",
       "9892  2021-05-03 14:19:18+00:00  \n",
       "\n",
       "[394 rows x 20 columns]"
      ]
     },
     "execution_count": 277,
     "metadata": {},
     "output_type": "execute_result"
    }
   ],
   "source": [
    "df[is_outlier]"
   ]
  },
  {
   "cell_type": "markdown",
   "id": "0ba3cb06",
   "metadata": {
    "id": "0ba3cb06"
   },
   "source": [
    "6. Выведите количество значений для категории цены для записей, в которых год выпуска автомобиля является выбросом. Описывают ли аномальные значения года выпуска какое-либо из значений цены автомобиля лучше, чем остальные?\n"
   ]
  },
  {
   "cell_type": "code",
   "execution_count": 278,
   "id": "b08f5fbf",
   "metadata": {
    "id": "b08f5fbf"
   },
   "outputs": [
    {
     "data": {
      "text/plain": [
       "price_category\n",
       "low       181\n",
       "medium    135\n",
       "high       78\n",
       "Name: count, dtype: int64"
      ]
     },
     "execution_count": 278,
     "metadata": {},
     "output_type": "execute_result"
    }
   ],
   "source": [
    "df[is_outlier].price_category.value_counts()"
   ]
  },
  {
   "cell_type": "markdown",
   "id": "d8ff39fb",
   "metadata": {
    "id": "d8ff39fb"
   },
   "source": [
    "7. Так как выбросы в годе выпуска находятся среди минимальных значений, заполните те значения, которые являются выбросами, значением нижней границы. Не забудьте учесть, что год должен быть целочисленным значением, входящим в границы нормальных значений.\n"
   ]
  },
  {
   "cell_type": "code",
   "execution_count": 279,
   "id": "ee5b1f54",
   "metadata": {
    "id": "ee5b1f54"
   },
   "outputs": [],
   "source": [
    "df.loc[is_outlier, 'year'] = int(boundaries[0])"
   ]
  },
  {
   "cell_type": "markdown",
   "id": "37f3e174",
   "metadata": {
    "id": "37f3e174"
   },
   "source": [
    "8. Выведите ещё раз описательные статистики для года выпуска автомобиля, чтобы проверить, что теперь все значения года входят в границы нормальных значений."
   ]
  },
  {
   "cell_type": "code",
   "execution_count": 280,
   "id": "8298942d",
   "metadata": {
    "id": "8298942d"
   },
   "outputs": [
    {
     "data": {
      "text/plain": [
       "count    9868.000000\n",
       "mean     2011.658391\n",
       "std         6.530991\n",
       "min      1994.000000\n",
       "25%      2008.000000\n",
       "50%      2013.000000\n",
       "75%      2017.000000\n",
       "max      2022.000000\n",
       "Name: year, dtype: float64"
      ]
     },
     "execution_count": 280,
     "metadata": {},
     "output_type": "execute_result"
    }
   ],
   "source": [
    "df.year.describe()"
   ]
  },
  {
   "cell_type": "markdown",
   "id": "bc20060a",
   "metadata": {
    "id": "bc20060a"
   },
   "source": [
    "## Дополнительные задачи"
   ]
  },
  {
   "cell_type": "markdown",
   "id": "c487f4c6",
   "metadata": {
    "id": "c487f4c6"
   },
   "source": [
    "### Задача 9. Загрузка датафрейма с параметрами преобразования\n",
    "\n",
    "Некоторые преобразования признаков можно сделать ещё в момент загрузки датафрейма из файла.\n",
    "\n",
    "1. Прочитайте в новый датафрейм файл `data/vehicles_dataset.csv`, выбрав только нужные колонки и применив приведение типов данных. Обратитесь к [документации](https://pandas.pydata.org/docs/reference/api/pandas.read_csv.html), чтобы узнать, за что отвечают параметры `usecols`,  `parse_dates` и `dtype`.\n",
    "\n",
    "\n",
    "Датафрейм должен содержать:\n",
    "- колонки `price`, `year`, `posting_date`;\n",
    "- `posting_date` в datatime-формате;\n",
    "- `price` в вещественном формате;\n",
    "- `year` в целочисленном формате.\n",
    "\n",
    "Возможно, вы столкнётесь с ошибкой при считывании года в виде целого числа. Подробнее о том, как бороться с этой ошибкой, можно узнать в документации по `обнуляемому целочисленному типу данных`:\n",
    "- https://pandas.pydata.org/pandas-docs/stable/user_guide/integer_na.html\n",
    "\n",
    "*Подсказка:* Pandas может представлять целочисленные данные с возможными отсутствующими значениями, используя [arrays.IntegerArray](https://pandas.pydata.org/pandas-docs/stable/reference/api/pandas.arrays.IntegerArray.html#pandas.arrays.IntegerArray) или его псевдонимы, которые вы сможете найти в документации."
   ]
  },
  {
   "cell_type": "code",
   "execution_count": 281,
   "id": "82f71c41",
   "metadata": {
    "id": "82f71c41"
   },
   "outputs": [],
   "source": [
    "# Ваш код здесь"
   ]
  },
  {
   "cell_type": "markdown",
   "id": "505694a3",
   "metadata": {
    "ExecuteTime": {
     "end_time": "2022-01-30T21:11:12.586710Z",
     "start_time": "2022-01-30T21:11:12.579544Z"
    },
    "id": "505694a3"
   },
   "source": [
    "2. Выведите информацию о датафрейме, чтобы убедиться, что признаки при загрузке преобразовались верно.\n"
   ]
  },
  {
   "cell_type": "code",
   "execution_count": 282,
   "id": "e7c59b87",
   "metadata": {
    "id": "e7c59b87"
   },
   "outputs": [],
   "source": [
    "# Ваш код здесь"
   ]
  },
  {
   "cell_type": "markdown",
   "id": "2e41b4f8",
   "metadata": {
    "id": "2e41b4f8"
   },
   "source": [
    "3. Для первой записи в датафрейме извлеките из `posting_date` и выведите номер месяца.\n"
   ]
  },
  {
   "cell_type": "code",
   "execution_count": 283,
   "id": "17ea2615",
   "metadata": {
    "id": "17ea2615"
   },
   "outputs": [],
   "source": [
    "# Ваш код здесь"
   ]
  },
  {
   "cell_type": "code",
   "execution_count": null,
   "id": "889c037e-3f3e-4f07-969f-18f57aaee9b2",
   "metadata": {},
   "outputs": [],
   "source": []
  },
  {
   "cell_type": "code",
   "execution_count": null,
   "id": "d9df816c-3b9b-410a-b887-71456b115ff6",
   "metadata": {},
   "outputs": [],
   "source": []
  },
  {
   "cell_type": "code",
   "execution_count": null,
   "id": "ab134afd-ee97-4733-b534-994e6e8e80ac",
   "metadata": {},
   "outputs": [],
   "source": []
  },
  {
   "cell_type": "code",
   "execution_count": null,
   "id": "daded335-41cf-4de2-acda-97597efec725",
   "metadata": {},
   "outputs": [],
   "source": []
  },
  {
   "cell_type": "code",
   "execution_count": null,
   "id": "ac5ad2d5-dd5c-4f02-a2d7-592976d4a94a",
   "metadata": {},
   "outputs": [],
   "source": []
  },
  {
   "cell_type": "code",
   "execution_count": null,
   "id": "3d1acac4-eb01-43e8-8c97-95222d2d4d81",
   "metadata": {},
   "outputs": [],
   "source": []
  },
  {
   "cell_type": "code",
   "execution_count": null,
   "id": "edb62c61-7d5e-402a-b280-dd049c692b42",
   "metadata": {},
   "outputs": [],
   "source": []
  },
  {
   "cell_type": "code",
   "execution_count": null,
   "id": "d1a633ee-1f6c-4e9a-a9a7-dfc986196c24",
   "metadata": {},
   "outputs": [],
   "source": []
  },
  {
   "cell_type": "code",
   "execution_count": null,
   "id": "01b5d952-ee6e-42ea-9d0a-acda249c99d8",
   "metadata": {},
   "outputs": [],
   "source": []
  },
  {
   "cell_type": "code",
   "execution_count": null,
   "id": "61fecd34-7e7b-4acd-88d7-51c037bc0759",
   "metadata": {},
   "outputs": [],
   "source": []
  },
  {
   "cell_type": "code",
   "execution_count": null,
   "id": "a9b94dc6-e9a5-401c-9b99-6ede8918cf0d",
   "metadata": {},
   "outputs": [],
   "source": []
  }
 ],
 "metadata": {
  "colab": {
   "collapsed_sections": [],
   "provenance": []
  },
  "kernelspec": {
   "display_name": "Python 3 (ipykernel)",
   "language": "python",
   "name": "python3"
  },
  "language_info": {
   "codemirror_mode": {
    "name": "ipython",
    "version": 3
   },
   "file_extension": ".py",
   "mimetype": "text/x-python",
   "name": "python",
   "nbconvert_exporter": "python",
   "pygments_lexer": "ipython3",
   "version": "3.12.4"
  },
  "toc": {
   "base_numbering": 1,
   "nav_menu": {},
   "number_sections": true,
   "sideBar": true,
   "skip_h1_title": false,
   "title_cell": "Table of Contents",
   "title_sidebar": "Contents",
   "toc_cell": false,
   "toc_position": {},
   "toc_section_display": true,
   "toc_window_display": false
  }
 },
 "nbformat": 4,
 "nbformat_minor": 5
}
